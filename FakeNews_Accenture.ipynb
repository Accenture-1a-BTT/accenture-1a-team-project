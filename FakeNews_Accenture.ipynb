{
  "cells": [
    {
      "cell_type": "markdown",
      "metadata": {
        "id": "view-in-github",
        "colab_type": "text"
      },
      "source": [
        "<a href=\"https://colab.research.google.com/github/Accenture-1a-BTT/accenture-1a-team-project/blob/test-koshish/FakeNews_Accenture.ipynb\" target=\"_parent\"><img src=\"https://colab.research.google.com/assets/colab-badge.svg\" alt=\"Open In Colab\"/></a>"
      ]
    },
    {
      "cell_type": "markdown",
      "metadata": {
        "id": "boAZzI5mQd3E"
      },
      "source": [
        "# Import Library"
      ]
    },
    {
      "cell_type": "code",
      "execution_count": 2,
      "metadata": {
        "colab": {
          "base_uri": "https://localhost:8080/"
        },
        "collapsed": true,
        "id": "NEivgZd_D95d",
        "outputId": "30741564-020a-489d-d07e-794c5dab6b7e"
      },
      "outputs": [
        {
          "output_type": "stream",
          "name": "stdout",
          "text": [
            "Requirement already satisfied: spacy in /usr/local/lib/python3.12/dist-packages (3.8.7)\n",
            "Requirement already satisfied: spacy-legacy<3.1.0,>=3.0.11 in /usr/local/lib/python3.12/dist-packages (from spacy) (3.0.12)\n",
            "Requirement already satisfied: spacy-loggers<2.0.0,>=1.0.0 in /usr/local/lib/python3.12/dist-packages (from spacy) (1.0.5)\n",
            "Requirement already satisfied: murmurhash<1.1.0,>=0.28.0 in /usr/local/lib/python3.12/dist-packages (from spacy) (1.0.13)\n",
            "Requirement already satisfied: cymem<2.1.0,>=2.0.2 in /usr/local/lib/python3.12/dist-packages (from spacy) (2.0.11)\n",
            "Requirement already satisfied: preshed<3.1.0,>=3.0.2 in /usr/local/lib/python3.12/dist-packages (from spacy) (3.0.10)\n",
            "Requirement already satisfied: thinc<8.4.0,>=8.3.4 in /usr/local/lib/python3.12/dist-packages (from spacy) (8.3.6)\n",
            "Requirement already satisfied: wasabi<1.2.0,>=0.9.1 in /usr/local/lib/python3.12/dist-packages (from spacy) (1.1.3)\n",
            "Requirement already satisfied: srsly<3.0.0,>=2.4.3 in /usr/local/lib/python3.12/dist-packages (from spacy) (2.5.1)\n",
            "Requirement already satisfied: catalogue<2.1.0,>=2.0.6 in /usr/local/lib/python3.12/dist-packages (from spacy) (2.0.10)\n",
            "Requirement already satisfied: weasel<0.5.0,>=0.1.0 in /usr/local/lib/python3.12/dist-packages (from spacy) (0.4.1)\n",
            "Requirement already satisfied: typer<1.0.0,>=0.3.0 in /usr/local/lib/python3.12/dist-packages (from spacy) (0.17.4)\n",
            "Requirement already satisfied: tqdm<5.0.0,>=4.38.0 in /usr/local/lib/python3.12/dist-packages (from spacy) (4.67.1)\n",
            "Requirement already satisfied: numpy>=1.19.0 in /usr/local/lib/python3.12/dist-packages (from spacy) (2.0.2)\n",
            "Requirement already satisfied: requests<3.0.0,>=2.13.0 in /usr/local/lib/python3.12/dist-packages (from spacy) (2.32.4)\n",
            "Requirement already satisfied: pydantic!=1.8,!=1.8.1,<3.0.0,>=1.7.4 in /usr/local/lib/python3.12/dist-packages (from spacy) (2.11.9)\n",
            "Requirement already satisfied: jinja2 in /usr/local/lib/python3.12/dist-packages (from spacy) (3.1.6)\n",
            "Requirement already satisfied: setuptools in /usr/local/lib/python3.12/dist-packages (from spacy) (75.2.0)\n",
            "Requirement already satisfied: packaging>=20.0 in /usr/local/lib/python3.12/dist-packages (from spacy) (25.0)\n",
            "Requirement already satisfied: langcodes<4.0.0,>=3.2.0 in /usr/local/lib/python3.12/dist-packages (from spacy) (3.5.0)\n",
            "Requirement already satisfied: language-data>=1.2 in /usr/local/lib/python3.12/dist-packages (from langcodes<4.0.0,>=3.2.0->spacy) (1.3.0)\n",
            "Requirement already satisfied: annotated-types>=0.6.0 in /usr/local/lib/python3.12/dist-packages (from pydantic!=1.8,!=1.8.1,<3.0.0,>=1.7.4->spacy) (0.7.0)\n",
            "Requirement already satisfied: pydantic-core==2.33.2 in /usr/local/lib/python3.12/dist-packages (from pydantic!=1.8,!=1.8.1,<3.0.0,>=1.7.4->spacy) (2.33.2)\n",
            "Requirement already satisfied: typing-extensions>=4.12.2 in /usr/local/lib/python3.12/dist-packages (from pydantic!=1.8,!=1.8.1,<3.0.0,>=1.7.4->spacy) (4.15.0)\n",
            "Requirement already satisfied: typing-inspection>=0.4.0 in /usr/local/lib/python3.12/dist-packages (from pydantic!=1.8,!=1.8.1,<3.0.0,>=1.7.4->spacy) (0.4.1)\n",
            "Requirement already satisfied: charset_normalizer<4,>=2 in /usr/local/lib/python3.12/dist-packages (from requests<3.0.0,>=2.13.0->spacy) (3.4.3)\n",
            "Requirement already satisfied: idna<4,>=2.5 in /usr/local/lib/python3.12/dist-packages (from requests<3.0.0,>=2.13.0->spacy) (3.10)\n",
            "Requirement already satisfied: urllib3<3,>=1.21.1 in /usr/local/lib/python3.12/dist-packages (from requests<3.0.0,>=2.13.0->spacy) (2.5.0)\n",
            "Requirement already satisfied: certifi>=2017.4.17 in /usr/local/lib/python3.12/dist-packages (from requests<3.0.0,>=2.13.0->spacy) (2025.8.3)\n",
            "Requirement already satisfied: blis<1.4.0,>=1.3.0 in /usr/local/lib/python3.12/dist-packages (from thinc<8.4.0,>=8.3.4->spacy) (1.3.0)\n",
            "Requirement already satisfied: confection<1.0.0,>=0.0.1 in /usr/local/lib/python3.12/dist-packages (from thinc<8.4.0,>=8.3.4->spacy) (0.1.5)\n",
            "Requirement already satisfied: click>=8.0.0 in /usr/local/lib/python3.12/dist-packages (from typer<1.0.0,>=0.3.0->spacy) (8.2.1)\n",
            "Requirement already satisfied: shellingham>=1.3.0 in /usr/local/lib/python3.12/dist-packages (from typer<1.0.0,>=0.3.0->spacy) (1.5.4)\n",
            "Requirement already satisfied: rich>=10.11.0 in /usr/local/lib/python3.12/dist-packages (from typer<1.0.0,>=0.3.0->spacy) (13.9.4)\n",
            "Requirement already satisfied: cloudpathlib<1.0.0,>=0.7.0 in /usr/local/lib/python3.12/dist-packages (from weasel<0.5.0,>=0.1.0->spacy) (0.22.0)\n",
            "Requirement already satisfied: smart-open<8.0.0,>=5.2.1 in /usr/local/lib/python3.12/dist-packages (from weasel<0.5.0,>=0.1.0->spacy) (7.3.1)\n",
            "Requirement already satisfied: MarkupSafe>=2.0 in /usr/local/lib/python3.12/dist-packages (from jinja2->spacy) (3.0.2)\n",
            "Requirement already satisfied: marisa-trie>=1.1.0 in /usr/local/lib/python3.12/dist-packages (from language-data>=1.2->langcodes<4.0.0,>=3.2.0->spacy) (1.3.1)\n",
            "Requirement already satisfied: markdown-it-py>=2.2.0 in /usr/local/lib/python3.12/dist-packages (from rich>=10.11.0->typer<1.0.0,>=0.3.0->spacy) (4.0.0)\n",
            "Requirement already satisfied: pygments<3.0.0,>=2.13.0 in /usr/local/lib/python3.12/dist-packages (from rich>=10.11.0->typer<1.0.0,>=0.3.0->spacy) (2.19.2)\n",
            "Requirement already satisfied: wrapt in /usr/local/lib/python3.12/dist-packages (from smart-open<8.0.0,>=5.2.1->weasel<0.5.0,>=0.1.0->spacy) (1.17.3)\n",
            "Requirement already satisfied: mdurl~=0.1 in /usr/local/lib/python3.12/dist-packages (from markdown-it-py>=2.2.0->rich>=10.11.0->typer<1.0.0,>=0.3.0->spacy) (0.1.2)\n",
            "Collecting en-core-web-sm==3.8.0\n",
            "  Downloading https://github.com/explosion/spacy-models/releases/download/en_core_web_sm-3.8.0/en_core_web_sm-3.8.0-py3-none-any.whl (12.8 MB)\n",
            "\u001b[2K     \u001b[90m━━━━━━━━━━━━━━━━━━━━━━━━━━━━━━━━━━━━━━━━\u001b[0m \u001b[32m12.8/12.8 MB\u001b[0m \u001b[31m76.9 MB/s\u001b[0m eta \u001b[36m0:00:00\u001b[0m\n",
            "\u001b[?25h\u001b[38;5;2m✔ Download and installation successful\u001b[0m\n",
            "You can now load the package via spacy.load('en_core_web_sm')\n",
            "\u001b[38;5;3m⚠ Restart to reload dependencies\u001b[0m\n",
            "If you are in a Jupyter or Colab notebook, you may need to restart Python in\n",
            "order to load all the package's dependencies. You can do this by selecting the\n",
            "'Restart kernel' or 'Restart runtime' option.\n",
            "Collecting en-core-web-md==3.8.0\n",
            "  Downloading https://github.com/explosion/spacy-models/releases/download/en_core_web_md-3.8.0/en_core_web_md-3.8.0-py3-none-any.whl (33.5 MB)\n",
            "\u001b[2K     \u001b[90m━━━━━━━━━━━━━━━━━━━━━━━━━━━━━━━━━━━━━━━━\u001b[0m \u001b[32m33.5/33.5 MB\u001b[0m \u001b[31m54.0 MB/s\u001b[0m eta \u001b[36m0:00:00\u001b[0m\n",
            "\u001b[?25hInstalling collected packages: en-core-web-md\n",
            "Successfully installed en-core-web-md-3.8.0\n",
            "\u001b[38;5;2m✔ Download and installation successful\u001b[0m\n",
            "You can now load the package via spacy.load('en_core_web_md')\n",
            "\u001b[38;5;3m⚠ Restart to reload dependencies\u001b[0m\n",
            "If you are in a Jupyter or Colab notebook, you may need to restart Python in\n",
            "order to load all the package's dependencies. You can do this by selecting the\n",
            "'Restart kernel' or 'Restart runtime' option.\n"
          ]
        }
      ],
      "source": [
        "import pandas as pd\n",
        "import numpy as np\n",
        "import matplotlib.pyplot as plt\n",
        "import seaborn as sns\n",
        "import re\n",
        "import os\n",
        "%matplotlib inline\n",
        "!pip install spacy\n",
        "!python -m spacy download en_core_web_sm\n",
        "!python -m spacy download en_core_web_md\n",
        "import spacy\n",
        "from collections import Counter\n",
        "import nltk"
      ]
    },
    {
      "cell_type": "markdown",
      "metadata": {
        "id": "0Ry_XiW4Roja"
      },
      "source": [
        "# Exploratory Data Analysis Data Cleaning"
      ]
    },
    {
      "cell_type": "markdown",
      "metadata": {
        "id": "7toAyrz9SS1t"
      },
      "source": [
        "## Single Dataset Inspection and Cleaning"
      ]
    },
    {
      "cell_type": "markdown",
      "metadata": {
        "id": "5LGSGDtDSEN5"
      },
      "source": [
        "Load Data Sets and Save it as a Pandas DataFrame"
      ]
    },
    {
      "cell_type": "code",
      "execution_count": 3,
      "metadata": {
        "colab": {
          "base_uri": "https://localhost:8080/"
        },
        "id": "M9ggm4_aIjFP",
        "outputId": "4c76fc3a-ad71-4440-fe38-7831641b54d4"
      },
      "outputs": [
        {
          "output_type": "stream",
          "name": "stdout",
          "text": [
            "Mounted at /content/drive\n"
          ]
        }
      ],
      "source": [
        "from google.colab import drive\n",
        "drive.mount('/content/drive')"
      ]
    },
    {
      "cell_type": "code",
      "execution_count": 4,
      "metadata": {
        "id": "EyQKhtdUIyMK"
      },
      "outputs": [],
      "source": [
        "folder_path = '/content/drive/My Drive/Break Through Tech/AI Studio/Google Colab/Data Set/'\n",
        "#folder_path = \"/content/drive/My Drive/BTT/Break Through Tech/AI Studio/Google Colab/Data Set/\"\n",
        "true_file = os.path.join(folder_path, 'True.csv')\n",
        "fake_file = os.path.join(folder_path, 'Fake.csv')\n",
        "true_df = pd.read_csv(true_file,header=0)\n",
        "fake_df = pd.read_csv(fake_file,header=0)"
      ]
    },
    {
      "cell_type": "markdown",
      "metadata": {
        "id": "CNwaG6WdYfSc"
      },
      "source": [
        "Basic Inspection"
      ]
    },
    {
      "cell_type": "code",
      "execution_count": 5,
      "metadata": {
        "colab": {
          "base_uri": "https://localhost:8080/"
        },
        "id": "9-xr5OAvJllz",
        "outputId": "b7196477-7853-4902-81f5-7019d1401a4c"
      },
      "outputs": [
        {
          "output_type": "stream",
          "name": "stdout",
          "text": [
            "True news data set size:  85668\n",
            "Fake news data set size:  93924\n"
          ]
        }
      ],
      "source": [
        "# Check the data set size\n",
        "print(\"True news data set size: \", true_df.size)\n",
        "print(\"Fake news data set size: \", fake_df.size)"
      ]
    },
    {
      "cell_type": "code",
      "execution_count": 6,
      "metadata": {
        "colab": {
          "base_uri": "https://localhost:8080/"
        },
        "id": "O5k5YTGgFRJM",
        "outputId": "0527c92e-6cbe-4b43-b136-13d617ba3a61"
      },
      "outputs": [
        {
          "output_type": "stream",
          "name": "stdout",
          "text": [
            "Columns of true news data set:  ['title', 'text', 'subject', 'date']\n",
            "Columns of fake news data set:  ['title', 'text', 'subject', 'date']\n"
          ]
        }
      ],
      "source": [
        "# Check Columns of Data Set\n",
        "print(\"Columns of true news data set: \", list(true_df.columns))\n",
        "print(\"Columns of fake news data set: \", list(fake_df.columns))"
      ]
    },
    {
      "cell_type": "code",
      "execution_count": 7,
      "metadata": {
        "colab": {
          "base_uri": "https://localhost:8080/"
        },
        "id": "LAsfVe08F6Df",
        "outputId": "b93ae9b0-6566-4be6-921d-831df60f9075"
      },
      "outputs": [
        {
          "output_type": "stream",
          "name": "stdout",
          "text": [
            "Data types of true news data set: \n",
            "title      object\n",
            "text       object\n",
            "subject    object\n",
            "date       object\n",
            "dtype: object\n",
            "Data types of fake news data set: \n",
            "title      object\n",
            "text       object\n",
            "subject    object\n",
            "date       object\n",
            "dtype: object\n"
          ]
        }
      ],
      "source": [
        "# Check Data Types\n",
        "print(\"Data types of true news data set: \")\n",
        "print(true_df.dtypes)\n",
        "print(\"Data types of fake news data set: \")\n",
        "print(fake_df.dtypes)"
      ]
    },
    {
      "cell_type": "code",
      "execution_count": 8,
      "metadata": {
        "colab": {
          "base_uri": "https://localhost:8080/",
          "height": 380
        },
        "id": "7MTCRN5KLBBi",
        "outputId": "e8f9d06d-6dc7-4364-a274-e501e0253af8"
      },
      "outputs": [
        {
          "output_type": "stream",
          "name": "stdout",
          "text": [
            "First 10 rows of True News DataFrame: \n"
          ]
        },
        {
          "output_type": "execute_result",
          "data": {
            "text/plain": [
              "                                               title  \\\n",
              "0  As U.S. budget fight looms, Republicans flip t...   \n",
              "1  U.S. military to accept transgender recruits o...   \n",
              "2  Senior U.S. Republican senator: 'Let Mr. Muell...   \n",
              "3  FBI Russia probe helped by Australian diplomat...   \n",
              "4  Trump wants Postal Service to charge 'much mor...   \n",
              "5  White House, Congress prepare for talks on spe...   \n",
              "6  Trump says Russia probe will be fair, but time...   \n",
              "7  Factbox: Trump on Twitter (Dec 29) - Approval ...   \n",
              "8         Trump on Twitter (Dec 28) - Global Warming   \n",
              "9  Alabama official to certify Senator-elect Jone...   \n",
              "\n",
              "                                                text       subject  \\\n",
              "0  WASHINGTON (Reuters) - The head of a conservat...  politicsNews   \n",
              "1  WASHINGTON (Reuters) - Transgender people will...  politicsNews   \n",
              "2  WASHINGTON (Reuters) - The special counsel inv...  politicsNews   \n",
              "3  WASHINGTON (Reuters) - Trump campaign adviser ...  politicsNews   \n",
              "4  SEATTLE/WASHINGTON (Reuters) - President Donal...  politicsNews   \n",
              "5  WEST PALM BEACH, Fla./WASHINGTON (Reuters) - T...  politicsNews   \n",
              "6  WEST PALM BEACH, Fla (Reuters) - President Don...  politicsNews   \n",
              "7  The following statements were posted to the ve...  politicsNews   \n",
              "8  The following statements were posted to the ve...  politicsNews   \n",
              "9  WASHINGTON (Reuters) - Alabama Secretary of St...  politicsNews   \n",
              "\n",
              "                 date  \n",
              "0  December 31, 2017   \n",
              "1  December 29, 2017   \n",
              "2  December 31, 2017   \n",
              "3  December 30, 2017   \n",
              "4  December 29, 2017   \n",
              "5  December 29, 2017   \n",
              "6  December 29, 2017   \n",
              "7  December 29, 2017   \n",
              "8  December 29, 2017   \n",
              "9  December 28, 2017   "
            ],
            "text/html": [
              "\n",
              "  <div id=\"df-47d29420-c175-44fd-9e06-698dd42ae148\" class=\"colab-df-container\">\n",
              "    <div>\n",
              "<style scoped>\n",
              "    .dataframe tbody tr th:only-of-type {\n",
              "        vertical-align: middle;\n",
              "    }\n",
              "\n",
              "    .dataframe tbody tr th {\n",
              "        vertical-align: top;\n",
              "    }\n",
              "\n",
              "    .dataframe thead th {\n",
              "        text-align: right;\n",
              "    }\n",
              "</style>\n",
              "<table border=\"1\" class=\"dataframe\">\n",
              "  <thead>\n",
              "    <tr style=\"text-align: right;\">\n",
              "      <th></th>\n",
              "      <th>title</th>\n",
              "      <th>text</th>\n",
              "      <th>subject</th>\n",
              "      <th>date</th>\n",
              "    </tr>\n",
              "  </thead>\n",
              "  <tbody>\n",
              "    <tr>\n",
              "      <th>0</th>\n",
              "      <td>As U.S. budget fight looms, Republicans flip t...</td>\n",
              "      <td>WASHINGTON (Reuters) - The head of a conservat...</td>\n",
              "      <td>politicsNews</td>\n",
              "      <td>December 31, 2017</td>\n",
              "    </tr>\n",
              "    <tr>\n",
              "      <th>1</th>\n",
              "      <td>U.S. military to accept transgender recruits o...</td>\n",
              "      <td>WASHINGTON (Reuters) - Transgender people will...</td>\n",
              "      <td>politicsNews</td>\n",
              "      <td>December 29, 2017</td>\n",
              "    </tr>\n",
              "    <tr>\n",
              "      <th>2</th>\n",
              "      <td>Senior U.S. Republican senator: 'Let Mr. Muell...</td>\n",
              "      <td>WASHINGTON (Reuters) - The special counsel inv...</td>\n",
              "      <td>politicsNews</td>\n",
              "      <td>December 31, 2017</td>\n",
              "    </tr>\n",
              "    <tr>\n",
              "      <th>3</th>\n",
              "      <td>FBI Russia probe helped by Australian diplomat...</td>\n",
              "      <td>WASHINGTON (Reuters) - Trump campaign adviser ...</td>\n",
              "      <td>politicsNews</td>\n",
              "      <td>December 30, 2017</td>\n",
              "    </tr>\n",
              "    <tr>\n",
              "      <th>4</th>\n",
              "      <td>Trump wants Postal Service to charge 'much mor...</td>\n",
              "      <td>SEATTLE/WASHINGTON (Reuters) - President Donal...</td>\n",
              "      <td>politicsNews</td>\n",
              "      <td>December 29, 2017</td>\n",
              "    </tr>\n",
              "    <tr>\n",
              "      <th>5</th>\n",
              "      <td>White House, Congress prepare for talks on spe...</td>\n",
              "      <td>WEST PALM BEACH, Fla./WASHINGTON (Reuters) - T...</td>\n",
              "      <td>politicsNews</td>\n",
              "      <td>December 29, 2017</td>\n",
              "    </tr>\n",
              "    <tr>\n",
              "      <th>6</th>\n",
              "      <td>Trump says Russia probe will be fair, but time...</td>\n",
              "      <td>WEST PALM BEACH, Fla (Reuters) - President Don...</td>\n",
              "      <td>politicsNews</td>\n",
              "      <td>December 29, 2017</td>\n",
              "    </tr>\n",
              "    <tr>\n",
              "      <th>7</th>\n",
              "      <td>Factbox: Trump on Twitter (Dec 29) - Approval ...</td>\n",
              "      <td>The following statements were posted to the ve...</td>\n",
              "      <td>politicsNews</td>\n",
              "      <td>December 29, 2017</td>\n",
              "    </tr>\n",
              "    <tr>\n",
              "      <th>8</th>\n",
              "      <td>Trump on Twitter (Dec 28) - Global Warming</td>\n",
              "      <td>The following statements were posted to the ve...</td>\n",
              "      <td>politicsNews</td>\n",
              "      <td>December 29, 2017</td>\n",
              "    </tr>\n",
              "    <tr>\n",
              "      <th>9</th>\n",
              "      <td>Alabama official to certify Senator-elect Jone...</td>\n",
              "      <td>WASHINGTON (Reuters) - Alabama Secretary of St...</td>\n",
              "      <td>politicsNews</td>\n",
              "      <td>December 28, 2017</td>\n",
              "    </tr>\n",
              "  </tbody>\n",
              "</table>\n",
              "</div>\n",
              "    <div class=\"colab-df-buttons\">\n",
              "\n",
              "  <div class=\"colab-df-container\">\n",
              "    <button class=\"colab-df-convert\" onclick=\"convertToInteractive('df-47d29420-c175-44fd-9e06-698dd42ae148')\"\n",
              "            title=\"Convert this dataframe to an interactive table.\"\n",
              "            style=\"display:none;\">\n",
              "\n",
              "  <svg xmlns=\"http://www.w3.org/2000/svg\" height=\"24px\" viewBox=\"0 -960 960 960\">\n",
              "    <path d=\"M120-120v-720h720v720H120Zm60-500h600v-160H180v160Zm220 220h160v-160H400v160Zm0 220h160v-160H400v160ZM180-400h160v-160H180v160Zm440 0h160v-160H620v160ZM180-180h160v-160H180v160Zm440 0h160v-160H620v160Z\"/>\n",
              "  </svg>\n",
              "    </button>\n",
              "\n",
              "  <style>\n",
              "    .colab-df-container {\n",
              "      display:flex;\n",
              "      gap: 12px;\n",
              "    }\n",
              "\n",
              "    .colab-df-convert {\n",
              "      background-color: #E8F0FE;\n",
              "      border: none;\n",
              "      border-radius: 50%;\n",
              "      cursor: pointer;\n",
              "      display: none;\n",
              "      fill: #1967D2;\n",
              "      height: 32px;\n",
              "      padding: 0 0 0 0;\n",
              "      width: 32px;\n",
              "    }\n",
              "\n",
              "    .colab-df-convert:hover {\n",
              "      background-color: #E2EBFA;\n",
              "      box-shadow: 0px 1px 2px rgba(60, 64, 67, 0.3), 0px 1px 3px 1px rgba(60, 64, 67, 0.15);\n",
              "      fill: #174EA6;\n",
              "    }\n",
              "\n",
              "    .colab-df-buttons div {\n",
              "      margin-bottom: 4px;\n",
              "    }\n",
              "\n",
              "    [theme=dark] .colab-df-convert {\n",
              "      background-color: #3B4455;\n",
              "      fill: #D2E3FC;\n",
              "    }\n",
              "\n",
              "    [theme=dark] .colab-df-convert:hover {\n",
              "      background-color: #434B5C;\n",
              "      box-shadow: 0px 1px 3px 1px rgba(0, 0, 0, 0.15);\n",
              "      filter: drop-shadow(0px 1px 2px rgba(0, 0, 0, 0.3));\n",
              "      fill: #FFFFFF;\n",
              "    }\n",
              "  </style>\n",
              "\n",
              "    <script>\n",
              "      const buttonEl =\n",
              "        document.querySelector('#df-47d29420-c175-44fd-9e06-698dd42ae148 button.colab-df-convert');\n",
              "      buttonEl.style.display =\n",
              "        google.colab.kernel.accessAllowed ? 'block' : 'none';\n",
              "\n",
              "      async function convertToInteractive(key) {\n",
              "        const element = document.querySelector('#df-47d29420-c175-44fd-9e06-698dd42ae148');\n",
              "        const dataTable =\n",
              "          await google.colab.kernel.invokeFunction('convertToInteractive',\n",
              "                                                    [key], {});\n",
              "        if (!dataTable) return;\n",
              "\n",
              "        const docLinkHtml = 'Like what you see? Visit the ' +\n",
              "          '<a target=\"_blank\" href=https://colab.research.google.com/notebooks/data_table.ipynb>data table notebook</a>'\n",
              "          + ' to learn more about interactive tables.';\n",
              "        element.innerHTML = '';\n",
              "        dataTable['output_type'] = 'display_data';\n",
              "        await google.colab.output.renderOutput(dataTable, element);\n",
              "        const docLink = document.createElement('div');\n",
              "        docLink.innerHTML = docLinkHtml;\n",
              "        element.appendChild(docLink);\n",
              "      }\n",
              "    </script>\n",
              "  </div>\n",
              "\n",
              "\n",
              "    <div id=\"df-0c2af5af-4110-46c1-80b9-4d5354f22ba5\">\n",
              "      <button class=\"colab-df-quickchart\" onclick=\"quickchart('df-0c2af5af-4110-46c1-80b9-4d5354f22ba5')\"\n",
              "                title=\"Suggest charts\"\n",
              "                style=\"display:none;\">\n",
              "\n",
              "<svg xmlns=\"http://www.w3.org/2000/svg\" height=\"24px\"viewBox=\"0 0 24 24\"\n",
              "     width=\"24px\">\n",
              "    <g>\n",
              "        <path d=\"M19 3H5c-1.1 0-2 .9-2 2v14c0 1.1.9 2 2 2h14c1.1 0 2-.9 2-2V5c0-1.1-.9-2-2-2zM9 17H7v-7h2v7zm4 0h-2V7h2v10zm4 0h-2v-4h2v4z\"/>\n",
              "    </g>\n",
              "</svg>\n",
              "      </button>\n",
              "\n",
              "<style>\n",
              "  .colab-df-quickchart {\n",
              "      --bg-color: #E8F0FE;\n",
              "      --fill-color: #1967D2;\n",
              "      --hover-bg-color: #E2EBFA;\n",
              "      --hover-fill-color: #174EA6;\n",
              "      --disabled-fill-color: #AAA;\n",
              "      --disabled-bg-color: #DDD;\n",
              "  }\n",
              "\n",
              "  [theme=dark] .colab-df-quickchart {\n",
              "      --bg-color: #3B4455;\n",
              "      --fill-color: #D2E3FC;\n",
              "      --hover-bg-color: #434B5C;\n",
              "      --hover-fill-color: #FFFFFF;\n",
              "      --disabled-bg-color: #3B4455;\n",
              "      --disabled-fill-color: #666;\n",
              "  }\n",
              "\n",
              "  .colab-df-quickchart {\n",
              "    background-color: var(--bg-color);\n",
              "    border: none;\n",
              "    border-radius: 50%;\n",
              "    cursor: pointer;\n",
              "    display: none;\n",
              "    fill: var(--fill-color);\n",
              "    height: 32px;\n",
              "    padding: 0;\n",
              "    width: 32px;\n",
              "  }\n",
              "\n",
              "  .colab-df-quickchart:hover {\n",
              "    background-color: var(--hover-bg-color);\n",
              "    box-shadow: 0 1px 2px rgba(60, 64, 67, 0.3), 0 1px 3px 1px rgba(60, 64, 67, 0.15);\n",
              "    fill: var(--button-hover-fill-color);\n",
              "  }\n",
              "\n",
              "  .colab-df-quickchart-complete:disabled,\n",
              "  .colab-df-quickchart-complete:disabled:hover {\n",
              "    background-color: var(--disabled-bg-color);\n",
              "    fill: var(--disabled-fill-color);\n",
              "    box-shadow: none;\n",
              "  }\n",
              "\n",
              "  .colab-df-spinner {\n",
              "    border: 2px solid var(--fill-color);\n",
              "    border-color: transparent;\n",
              "    border-bottom-color: var(--fill-color);\n",
              "    animation:\n",
              "      spin 1s steps(1) infinite;\n",
              "  }\n",
              "\n",
              "  @keyframes spin {\n",
              "    0% {\n",
              "      border-color: transparent;\n",
              "      border-bottom-color: var(--fill-color);\n",
              "      border-left-color: var(--fill-color);\n",
              "    }\n",
              "    20% {\n",
              "      border-color: transparent;\n",
              "      border-left-color: var(--fill-color);\n",
              "      border-top-color: var(--fill-color);\n",
              "    }\n",
              "    30% {\n",
              "      border-color: transparent;\n",
              "      border-left-color: var(--fill-color);\n",
              "      border-top-color: var(--fill-color);\n",
              "      border-right-color: var(--fill-color);\n",
              "    }\n",
              "    40% {\n",
              "      border-color: transparent;\n",
              "      border-right-color: var(--fill-color);\n",
              "      border-top-color: var(--fill-color);\n",
              "    }\n",
              "    60% {\n",
              "      border-color: transparent;\n",
              "      border-right-color: var(--fill-color);\n",
              "    }\n",
              "    80% {\n",
              "      border-color: transparent;\n",
              "      border-right-color: var(--fill-color);\n",
              "      border-bottom-color: var(--fill-color);\n",
              "    }\n",
              "    90% {\n",
              "      border-color: transparent;\n",
              "      border-bottom-color: var(--fill-color);\n",
              "    }\n",
              "  }\n",
              "</style>\n",
              "\n",
              "      <script>\n",
              "        async function quickchart(key) {\n",
              "          const quickchartButtonEl =\n",
              "            document.querySelector('#' + key + ' button');\n",
              "          quickchartButtonEl.disabled = true;  // To prevent multiple clicks.\n",
              "          quickchartButtonEl.classList.add('colab-df-spinner');\n",
              "          try {\n",
              "            const charts = await google.colab.kernel.invokeFunction(\n",
              "                'suggestCharts', [key], {});\n",
              "          } catch (error) {\n",
              "            console.error('Error during call to suggestCharts:', error);\n",
              "          }\n",
              "          quickchartButtonEl.classList.remove('colab-df-spinner');\n",
              "          quickchartButtonEl.classList.add('colab-df-quickchart-complete');\n",
              "        }\n",
              "        (() => {\n",
              "          let quickchartButtonEl =\n",
              "            document.querySelector('#df-0c2af5af-4110-46c1-80b9-4d5354f22ba5 button');\n",
              "          quickchartButtonEl.style.display =\n",
              "            google.colab.kernel.accessAllowed ? 'block' : 'none';\n",
              "        })();\n",
              "      </script>\n",
              "    </div>\n",
              "\n",
              "    </div>\n",
              "  </div>\n"
            ],
            "application/vnd.google.colaboratory.intrinsic+json": {
              "type": "dataframe",
              "variable_name": "true_df",
              "summary": "{\n  \"name\": \"true_df\",\n  \"rows\": 21417,\n  \"fields\": [\n    {\n      \"column\": \"title\",\n      \"properties\": {\n        \"dtype\": \"string\",\n        \"num_unique_values\": 20826,\n        \"samples\": [\n          \"German, Turkish foreign ministers meet after detainee released\",\n          \"Kremlin calls North Korea's latest missile launch another 'provocation'\",\n          \"Transgender soldiers, veterans shaken by Trump's ban on their service\"\n        ],\n        \"semantic_type\": \"\",\n        \"description\": \"\"\n      }\n    },\n    {\n      \"column\": \"text\",\n      \"properties\": {\n        \"dtype\": \"string\",\n        \"num_unique_values\": 21192,\n        \"samples\": [\n          \"WASHINGTON (Reuters) - A majority of the U.S. Senate on Tuesday backed a new round of disaster aid to help Puerto Rico and several states recover from damage from hurricanes and wildfires. The legislation would provide $36.5 billion in emergency relief as Puerto Rico in particular struggles to regain electricity and other basic services following destructive hurricanes. The House of Representatives approved the bill earlier this month. The Trump administration already has indicated it will seek another round of emergency relief from Congress. \",\n          \"BUDAPEST (Reuters) - About a thousand Hungarians protested on Friday against a crackdown on the main opposition party Jobbik which has been  threatened by a record political campaign fine that the party leader describes as a  death sentence  for democracy. Despite the gloomy rhetoric and Jobbik saying it was fighting for survival, support for the demonstration was well down on other similar rallies over the past year. Hungarians will vote for a new parliament in April and Prime Minister Viktor Orban s conservative, anti-migrant Fidesz party is far ahead in the polls, with Jobbik its nearest rival. Jobbik, once on the far right, has turned toward the center in a bid to attract more support and is now campaigning nationwide against Orban, depicting him as the leader of a criminal gang. Orban, rejecting the charges, says his financial standing is  an open book . Last week the state audit office (ASZ) ruled Jobbik had bought political posters far below market prices, breaching rules on political funding, then it slapped a 663 million forint ($2.5 million) penalty on the party. The protesters, waving Jobbik flags and posters deriding the ruling elite, gathered outside the headquarters of Orban s Fidesz party.  What we see unfolding is not an audit office investigation. It is not an official penalty. This is a death sentence with Jobbik s name on it. But in reality, it is a death sentence for Hungarian democracy,  Jobbiik leader Gabor Vona told the crowd. A government spokesman could not comment immediately on his remarks. ASZ chairman Laszlo Domokos is a former Fidesz lawmaker, whom Jobbik and other critics accuse of making decisions in favor of Orban. The audit office denies that. On Friday, ASZ again called on Jobbik to submit information that would challenge its findings, saying it acted fully within its rights throughout the probe. The ruling Fidesz party and the government have denied any involvement in the ASZ probe.  This case has nothing to do with the election campaign,  Orban aide Janos Lazar said on Thursday. For over a year Fidesz has targeted Jobbik, whose move to the center could upend the longstanding status quo of a dominant Fidesz with weaker opponents to its left and its right, said analyst Zoltan Novak at the Centre for Fair Political Analysis. Gyorgy Illes, a 67-year-old pensioner attending the rally, said he used to be a Socialist supporter but got disillusioned as the party struggled to overcome its internal divisions.  This ASZ probe is a clear sign that Orban is way past any remedy. It is a ruthless attack on everything we hold dear. Democracy, the rule of law, equality, you name it,  he said. \",\n          \"BEIJING/TAIPEI (Reuters) - China accused the United States on Thursday of interfering in its internal affairs and said it had lodged a complaint after U.S. President Donald Trump signed into law an act laying the groundwork for possible U.S. navy visits to self-ruled Taiwan. Tensions have risen in recent days after a senior Chinese diplomat threatened China would invade Taiwan if any U.S. warships made port visits to the island which China claims as its own territory. On Monday, Chinese jets carried out  island encirclement patrols  around Taiwan, with state media showing pictures of bombers with cruise missiles slung under their wings as they carried out the exercise. On Tuesday, Trump signed into law the National Defense Authorization Act for the 2018 fiscal year, which authorizes the possibility of mutual visits by navy vessels between Taiwan and the United States. Such visits would be the first since the United States ended formal diplomatic relations with Taiwan in 1979 and established ties with Beijing. Chinese Foreign Ministry spokesman Lu Kang said while the Taiwan sections of the law were not legally binding, they seriously violate the  One China  policy and  constitute an interference in China s internal affairs .   China is resolutely opposed to this, and we have already lodged stern representations with the U.S. government,  Lu told a daily news briefing. China is firmly opposed to any official exchanges, military contact, or arms sales between Taiwan and the United States, he added.  Proudly democratic Taiwan has become increasingly concerned with the ramped up Chinese military presence, that has included several rounds of Chinese air force drills around the island in recent months.  Taiwan is confident of its defenses and responded quickly to the Chinese air force drills this week, its government said, denouncing the rise in China s military deployments as irresponsible. Taiwan presidential spokesman Alex Huang, speaking to Taiwan media in comments reported late on Wednesday, said the defense ministry had kept a close watch on the patrols and responded immediately and properly. Taiwan  can ensure there are no concerns at all about national security, and people can rest assured , Huang said. Both sides of the narrow Taiwan Strait, which separates Taiwan from its giant neighbor, have a responsibility to protect peace and stability, he added.  Such a raised military posture that may impact upon and harm regional peace and stability and cross-strait ties does not give a feeling of responsibility, and the international community does not look favorably upon this,  Huang was quoted as saying. Relations have soured considerably since Tsai Ing-wen, who leads Taiwan s independence-leaning Democratic Progressive Party, won presidential elections last year. China suspects Tsai wants to declare the island s formal independence, a red line for Beijing. Tsai says she wants to maintain peace with China but will defend Taiwan s security. Taiwan is well equipped with mostly U.S. weapons but has been pressing for more advanced equipment to deal with what it sees as a rising threat from China. The United States is bound by law to provide the island with the means to defend itself. China has never renounced the use of force to bring Taiwan under its control. \"\n        ],\n        \"semantic_type\": \"\",\n        \"description\": \"\"\n      }\n    },\n    {\n      \"column\": \"subject\",\n      \"properties\": {\n        \"dtype\": \"category\",\n        \"num_unique_values\": 2,\n        \"samples\": [\n          \"worldnews\",\n          \"politicsNews\"\n        ],\n        \"semantic_type\": \"\",\n        \"description\": \"\"\n      }\n    },\n    {\n      \"column\": \"date\",\n      \"properties\": {\n        \"dtype\": \"object\",\n        \"num_unique_values\": 716,\n        \"samples\": [\n          \"September 2, 2017 \",\n          \"February 2, 2017 \"\n        ],\n        \"semantic_type\": \"\",\n        \"description\": \"\"\n      }\n    }\n  ]\n}"
            }
          },
          "metadata": {},
          "execution_count": 8
        }
      ],
      "source": [
        "print(\"First 10 rows of True News DataFrame: \")\n",
        "true_df.head(10)"
      ]
    },
    {
      "cell_type": "code",
      "execution_count": 9,
      "metadata": {
        "colab": {
          "base_uri": "https://localhost:8080/",
          "height": 380
        },
        "id": "wH8ibLP8TU0a",
        "outputId": "8ec25628-c6ad-4b31-917e-6479a8e09e53"
      },
      "outputs": [
        {
          "output_type": "stream",
          "name": "stdout",
          "text": [
            "First 10 rows of Fake News DataFrame: \n"
          ]
        },
        {
          "output_type": "execute_result",
          "data": {
            "text/plain": [
              "                                               title  \\\n",
              "0   Donald Trump Sends Out Embarrassing New Year’...   \n",
              "1   Drunk Bragging Trump Staffer Started Russian ...   \n",
              "2   Sheriff David Clarke Becomes An Internet Joke...   \n",
              "3   Trump Is So Obsessed He Even Has Obama’s Name...   \n",
              "4   Pope Francis Just Called Out Donald Trump Dur...   \n",
              "5   Racist Alabama Cops Brutalize Black Boy While...   \n",
              "6   Fresh Off The Golf Course, Trump Lashes Out A...   \n",
              "7   Trump Said Some INSANELY Racist Stuff Inside ...   \n",
              "8   Former CIA Director Slams Trump Over UN Bully...   \n",
              "9   WATCH: Brand-New Pro-Trump Ad Features So Muc...   \n",
              "\n",
              "                                                text subject  \\\n",
              "0  Donald Trump just couldn t wish all Americans ...    News   \n",
              "1  House Intelligence Committee Chairman Devin Nu...    News   \n",
              "2  On Friday, it was revealed that former Milwauk...    News   \n",
              "3  On Christmas day, Donald Trump announced that ...    News   \n",
              "4  Pope Francis used his annual Christmas Day mes...    News   \n",
              "5  The number of cases of cops brutalizing and ki...    News   \n",
              "6  Donald Trump spent a good portion of his day a...    News   \n",
              "7  In the wake of yet another court decision that...    News   \n",
              "8  Many people have raised the alarm regarding th...    News   \n",
              "9  Just when you might have thought we d get a br...    News   \n",
              "\n",
              "                date  \n",
              "0  December 31, 2017  \n",
              "1  December 31, 2017  \n",
              "2  December 30, 2017  \n",
              "3  December 29, 2017  \n",
              "4  December 25, 2017  \n",
              "5  December 25, 2017  \n",
              "6  December 23, 2017  \n",
              "7  December 23, 2017  \n",
              "8  December 22, 2017  \n",
              "9  December 21, 2017  "
            ],
            "text/html": [
              "\n",
              "  <div id=\"df-c36d7ce7-b96f-4cbc-bc12-c8dc502bbcec\" class=\"colab-df-container\">\n",
              "    <div>\n",
              "<style scoped>\n",
              "    .dataframe tbody tr th:only-of-type {\n",
              "        vertical-align: middle;\n",
              "    }\n",
              "\n",
              "    .dataframe tbody tr th {\n",
              "        vertical-align: top;\n",
              "    }\n",
              "\n",
              "    .dataframe thead th {\n",
              "        text-align: right;\n",
              "    }\n",
              "</style>\n",
              "<table border=\"1\" class=\"dataframe\">\n",
              "  <thead>\n",
              "    <tr style=\"text-align: right;\">\n",
              "      <th></th>\n",
              "      <th>title</th>\n",
              "      <th>text</th>\n",
              "      <th>subject</th>\n",
              "      <th>date</th>\n",
              "    </tr>\n",
              "  </thead>\n",
              "  <tbody>\n",
              "    <tr>\n",
              "      <th>0</th>\n",
              "      <td>Donald Trump Sends Out Embarrassing New Year’...</td>\n",
              "      <td>Donald Trump just couldn t wish all Americans ...</td>\n",
              "      <td>News</td>\n",
              "      <td>December 31, 2017</td>\n",
              "    </tr>\n",
              "    <tr>\n",
              "      <th>1</th>\n",
              "      <td>Drunk Bragging Trump Staffer Started Russian ...</td>\n",
              "      <td>House Intelligence Committee Chairman Devin Nu...</td>\n",
              "      <td>News</td>\n",
              "      <td>December 31, 2017</td>\n",
              "    </tr>\n",
              "    <tr>\n",
              "      <th>2</th>\n",
              "      <td>Sheriff David Clarke Becomes An Internet Joke...</td>\n",
              "      <td>On Friday, it was revealed that former Milwauk...</td>\n",
              "      <td>News</td>\n",
              "      <td>December 30, 2017</td>\n",
              "    </tr>\n",
              "    <tr>\n",
              "      <th>3</th>\n",
              "      <td>Trump Is So Obsessed He Even Has Obama’s Name...</td>\n",
              "      <td>On Christmas day, Donald Trump announced that ...</td>\n",
              "      <td>News</td>\n",
              "      <td>December 29, 2017</td>\n",
              "    </tr>\n",
              "    <tr>\n",
              "      <th>4</th>\n",
              "      <td>Pope Francis Just Called Out Donald Trump Dur...</td>\n",
              "      <td>Pope Francis used his annual Christmas Day mes...</td>\n",
              "      <td>News</td>\n",
              "      <td>December 25, 2017</td>\n",
              "    </tr>\n",
              "    <tr>\n",
              "      <th>5</th>\n",
              "      <td>Racist Alabama Cops Brutalize Black Boy While...</td>\n",
              "      <td>The number of cases of cops brutalizing and ki...</td>\n",
              "      <td>News</td>\n",
              "      <td>December 25, 2017</td>\n",
              "    </tr>\n",
              "    <tr>\n",
              "      <th>6</th>\n",
              "      <td>Fresh Off The Golf Course, Trump Lashes Out A...</td>\n",
              "      <td>Donald Trump spent a good portion of his day a...</td>\n",
              "      <td>News</td>\n",
              "      <td>December 23, 2017</td>\n",
              "    </tr>\n",
              "    <tr>\n",
              "      <th>7</th>\n",
              "      <td>Trump Said Some INSANELY Racist Stuff Inside ...</td>\n",
              "      <td>In the wake of yet another court decision that...</td>\n",
              "      <td>News</td>\n",
              "      <td>December 23, 2017</td>\n",
              "    </tr>\n",
              "    <tr>\n",
              "      <th>8</th>\n",
              "      <td>Former CIA Director Slams Trump Over UN Bully...</td>\n",
              "      <td>Many people have raised the alarm regarding th...</td>\n",
              "      <td>News</td>\n",
              "      <td>December 22, 2017</td>\n",
              "    </tr>\n",
              "    <tr>\n",
              "      <th>9</th>\n",
              "      <td>WATCH: Brand-New Pro-Trump Ad Features So Muc...</td>\n",
              "      <td>Just when you might have thought we d get a br...</td>\n",
              "      <td>News</td>\n",
              "      <td>December 21, 2017</td>\n",
              "    </tr>\n",
              "  </tbody>\n",
              "</table>\n",
              "</div>\n",
              "    <div class=\"colab-df-buttons\">\n",
              "\n",
              "  <div class=\"colab-df-container\">\n",
              "    <button class=\"colab-df-convert\" onclick=\"convertToInteractive('df-c36d7ce7-b96f-4cbc-bc12-c8dc502bbcec')\"\n",
              "            title=\"Convert this dataframe to an interactive table.\"\n",
              "            style=\"display:none;\">\n",
              "\n",
              "  <svg xmlns=\"http://www.w3.org/2000/svg\" height=\"24px\" viewBox=\"0 -960 960 960\">\n",
              "    <path d=\"M120-120v-720h720v720H120Zm60-500h600v-160H180v160Zm220 220h160v-160H400v160Zm0 220h160v-160H400v160ZM180-400h160v-160H180v160Zm440 0h160v-160H620v160ZM180-180h160v-160H180v160Zm440 0h160v-160H620v160Z\"/>\n",
              "  </svg>\n",
              "    </button>\n",
              "\n",
              "  <style>\n",
              "    .colab-df-container {\n",
              "      display:flex;\n",
              "      gap: 12px;\n",
              "    }\n",
              "\n",
              "    .colab-df-convert {\n",
              "      background-color: #E8F0FE;\n",
              "      border: none;\n",
              "      border-radius: 50%;\n",
              "      cursor: pointer;\n",
              "      display: none;\n",
              "      fill: #1967D2;\n",
              "      height: 32px;\n",
              "      padding: 0 0 0 0;\n",
              "      width: 32px;\n",
              "    }\n",
              "\n",
              "    .colab-df-convert:hover {\n",
              "      background-color: #E2EBFA;\n",
              "      box-shadow: 0px 1px 2px rgba(60, 64, 67, 0.3), 0px 1px 3px 1px rgba(60, 64, 67, 0.15);\n",
              "      fill: #174EA6;\n",
              "    }\n",
              "\n",
              "    .colab-df-buttons div {\n",
              "      margin-bottom: 4px;\n",
              "    }\n",
              "\n",
              "    [theme=dark] .colab-df-convert {\n",
              "      background-color: #3B4455;\n",
              "      fill: #D2E3FC;\n",
              "    }\n",
              "\n",
              "    [theme=dark] .colab-df-convert:hover {\n",
              "      background-color: #434B5C;\n",
              "      box-shadow: 0px 1px 3px 1px rgba(0, 0, 0, 0.15);\n",
              "      filter: drop-shadow(0px 1px 2px rgba(0, 0, 0, 0.3));\n",
              "      fill: #FFFFFF;\n",
              "    }\n",
              "  </style>\n",
              "\n",
              "    <script>\n",
              "      const buttonEl =\n",
              "        document.querySelector('#df-c36d7ce7-b96f-4cbc-bc12-c8dc502bbcec button.colab-df-convert');\n",
              "      buttonEl.style.display =\n",
              "        google.colab.kernel.accessAllowed ? 'block' : 'none';\n",
              "\n",
              "      async function convertToInteractive(key) {\n",
              "        const element = document.querySelector('#df-c36d7ce7-b96f-4cbc-bc12-c8dc502bbcec');\n",
              "        const dataTable =\n",
              "          await google.colab.kernel.invokeFunction('convertToInteractive',\n",
              "                                                    [key], {});\n",
              "        if (!dataTable) return;\n",
              "\n",
              "        const docLinkHtml = 'Like what you see? Visit the ' +\n",
              "          '<a target=\"_blank\" href=https://colab.research.google.com/notebooks/data_table.ipynb>data table notebook</a>'\n",
              "          + ' to learn more about interactive tables.';\n",
              "        element.innerHTML = '';\n",
              "        dataTable['output_type'] = 'display_data';\n",
              "        await google.colab.output.renderOutput(dataTable, element);\n",
              "        const docLink = document.createElement('div');\n",
              "        docLink.innerHTML = docLinkHtml;\n",
              "        element.appendChild(docLink);\n",
              "      }\n",
              "    </script>\n",
              "  </div>\n",
              "\n",
              "\n",
              "    <div id=\"df-858f03a4-8198-420b-b735-1bfd60312634\">\n",
              "      <button class=\"colab-df-quickchart\" onclick=\"quickchart('df-858f03a4-8198-420b-b735-1bfd60312634')\"\n",
              "                title=\"Suggest charts\"\n",
              "                style=\"display:none;\">\n",
              "\n",
              "<svg xmlns=\"http://www.w3.org/2000/svg\" height=\"24px\"viewBox=\"0 0 24 24\"\n",
              "     width=\"24px\">\n",
              "    <g>\n",
              "        <path d=\"M19 3H5c-1.1 0-2 .9-2 2v14c0 1.1.9 2 2 2h14c1.1 0 2-.9 2-2V5c0-1.1-.9-2-2-2zM9 17H7v-7h2v7zm4 0h-2V7h2v10zm4 0h-2v-4h2v4z\"/>\n",
              "    </g>\n",
              "</svg>\n",
              "      </button>\n",
              "\n",
              "<style>\n",
              "  .colab-df-quickchart {\n",
              "      --bg-color: #E8F0FE;\n",
              "      --fill-color: #1967D2;\n",
              "      --hover-bg-color: #E2EBFA;\n",
              "      --hover-fill-color: #174EA6;\n",
              "      --disabled-fill-color: #AAA;\n",
              "      --disabled-bg-color: #DDD;\n",
              "  }\n",
              "\n",
              "  [theme=dark] .colab-df-quickchart {\n",
              "      --bg-color: #3B4455;\n",
              "      --fill-color: #D2E3FC;\n",
              "      --hover-bg-color: #434B5C;\n",
              "      --hover-fill-color: #FFFFFF;\n",
              "      --disabled-bg-color: #3B4455;\n",
              "      --disabled-fill-color: #666;\n",
              "  }\n",
              "\n",
              "  .colab-df-quickchart {\n",
              "    background-color: var(--bg-color);\n",
              "    border: none;\n",
              "    border-radius: 50%;\n",
              "    cursor: pointer;\n",
              "    display: none;\n",
              "    fill: var(--fill-color);\n",
              "    height: 32px;\n",
              "    padding: 0;\n",
              "    width: 32px;\n",
              "  }\n",
              "\n",
              "  .colab-df-quickchart:hover {\n",
              "    background-color: var(--hover-bg-color);\n",
              "    box-shadow: 0 1px 2px rgba(60, 64, 67, 0.3), 0 1px 3px 1px rgba(60, 64, 67, 0.15);\n",
              "    fill: var(--button-hover-fill-color);\n",
              "  }\n",
              "\n",
              "  .colab-df-quickchart-complete:disabled,\n",
              "  .colab-df-quickchart-complete:disabled:hover {\n",
              "    background-color: var(--disabled-bg-color);\n",
              "    fill: var(--disabled-fill-color);\n",
              "    box-shadow: none;\n",
              "  }\n",
              "\n",
              "  .colab-df-spinner {\n",
              "    border: 2px solid var(--fill-color);\n",
              "    border-color: transparent;\n",
              "    border-bottom-color: var(--fill-color);\n",
              "    animation:\n",
              "      spin 1s steps(1) infinite;\n",
              "  }\n",
              "\n",
              "  @keyframes spin {\n",
              "    0% {\n",
              "      border-color: transparent;\n",
              "      border-bottom-color: var(--fill-color);\n",
              "      border-left-color: var(--fill-color);\n",
              "    }\n",
              "    20% {\n",
              "      border-color: transparent;\n",
              "      border-left-color: var(--fill-color);\n",
              "      border-top-color: var(--fill-color);\n",
              "    }\n",
              "    30% {\n",
              "      border-color: transparent;\n",
              "      border-left-color: var(--fill-color);\n",
              "      border-top-color: var(--fill-color);\n",
              "      border-right-color: var(--fill-color);\n",
              "    }\n",
              "    40% {\n",
              "      border-color: transparent;\n",
              "      border-right-color: var(--fill-color);\n",
              "      border-top-color: var(--fill-color);\n",
              "    }\n",
              "    60% {\n",
              "      border-color: transparent;\n",
              "      border-right-color: var(--fill-color);\n",
              "    }\n",
              "    80% {\n",
              "      border-color: transparent;\n",
              "      border-right-color: var(--fill-color);\n",
              "      border-bottom-color: var(--fill-color);\n",
              "    }\n",
              "    90% {\n",
              "      border-color: transparent;\n",
              "      border-bottom-color: var(--fill-color);\n",
              "    }\n",
              "  }\n",
              "</style>\n",
              "\n",
              "      <script>\n",
              "        async function quickchart(key) {\n",
              "          const quickchartButtonEl =\n",
              "            document.querySelector('#' + key + ' button');\n",
              "          quickchartButtonEl.disabled = true;  // To prevent multiple clicks.\n",
              "          quickchartButtonEl.classList.add('colab-df-spinner');\n",
              "          try {\n",
              "            const charts = await google.colab.kernel.invokeFunction(\n",
              "                'suggestCharts', [key], {});\n",
              "          } catch (error) {\n",
              "            console.error('Error during call to suggestCharts:', error);\n",
              "          }\n",
              "          quickchartButtonEl.classList.remove('colab-df-spinner');\n",
              "          quickchartButtonEl.classList.add('colab-df-quickchart-complete');\n",
              "        }\n",
              "        (() => {\n",
              "          let quickchartButtonEl =\n",
              "            document.querySelector('#df-858f03a4-8198-420b-b735-1bfd60312634 button');\n",
              "          quickchartButtonEl.style.display =\n",
              "            google.colab.kernel.accessAllowed ? 'block' : 'none';\n",
              "        })();\n",
              "      </script>\n",
              "    </div>\n",
              "\n",
              "    </div>\n",
              "  </div>\n"
            ],
            "application/vnd.google.colaboratory.intrinsic+json": {
              "type": "dataframe",
              "variable_name": "fake_df",
              "summary": "{\n  \"name\": \"fake_df\",\n  \"rows\": 23481,\n  \"fields\": [\n    {\n      \"column\": \"title\",\n      \"properties\": {\n        \"dtype\": \"string\",\n        \"num_unique_values\": 17903,\n        \"samples\": [\n          \" Fox News Mocked Into Oblivion After This F*cking STUPID Attempt To Make Steve Bannon Look Sane (TWEETS)\",\n          \"BREAKING: FL GOV RICK SCOTT Calls for FBI Director to Resign\",\n          \" WATCH: Mike Pence\\u2019s Photo Op With Puerto Rico Survivors Just Went TERRIBLY Wrong (VIDEO)\"\n        ],\n        \"semantic_type\": \"\",\n        \"description\": \"\"\n      }\n    },\n    {\n      \"column\": \"text\",\n      \"properties\": {\n        \"dtype\": \"string\",\n        \"num_unique_values\": 17455,\n        \"samples\": [\n          \"The moral decay continues The Kapiolani Medical Center for Women and Children at the University of Hawaii is currently recruiting pregnant girls and women to participate in second-trimester abortions to measure their bleeding during the operation, with and without antihemorrhagic drugs. According to the Clinical Trials website, run by the National Institutes of Health, participants must be at least 14 years old and 18-24 weeks pregnant.The controversial study, led by Bliss Kaneshiro, MD and Kate Whitehouse, DO, will monitor bleeding during D&E abortions to determine the effects of the drug oxytocin, commonly used to minimize blood loss and decrease the risk of hemorrhage.The clinical trial, called  Effects of Oxytocin on Bleeding Outcomes during Dilation and Evacuation  began in October 2014 and is a collaboration between UH, Society of Family Planning and the University of Washington.The Society of Family Planning funds a number of similar research projects, such as experimenting with the dosage of Misoprostol, a uterine contracting agent, prior to surgical abortions at 13-18 weeks and exploring umbilical cord injections to produce fetal death prior to late-term abortions.In the UH study, researchers will carry out a  randomized, double-blinded, placebo-controlled trials,  to determine the effect of oxytocin s use on uterine bleeding, meaning that they will either provide or deny intravenous oxytocin to the women.Reports suggest that some doctors are concerned that withholding oxytocin during surgery may put patients, especially teen girls, at risk. This study is reminiscent of Nazi concentration camp experiments. I pity the poor women who are being treated like lab rats, especially those who are denied the drug to reduce hemorrhaging,  said Troy Newman, President of Operation Rescue.Dilation and evacuation abortions are surgical procedures that involve dismembering the pre-born baby with forceps, scraping the inside of the uterus with a curette to remove any residuals and finally suctioning out the womb to make sure the contents are completely removed.After the abortion, the corpse of the fetus is reassembled and examined to ensure everything was successfully removed and that the abortion was complete.The study is hoping to attract up to 166 test subjects and is expected to conclude in July 2015.Via: Breitbart News\",\n          \"CNN was quick to scoop up Corey Lewandowski after Donald Trump kicked him out of his role as campaign manager, but his first week on the job is going pretty much exactly how you would expect it to go   terribly.Not only has Lewandowski proven himself to be pretty much like a paid spokesman for Trump, but his defense of the disgraced GOP candidate isn t being received well. Earlier this week, Lewandowski revealed that he was under contract and couldn t criticize The Donald, even after being fired from the campaign. Today, Lewandowski got called out by Hillary Clinton surrogate Christine Quinn for hyping Trump up to be an expert on the Brexit decision   a suggestion that was clearly false.On Monday s edition of CNN s New Day, Lewandowski made another pathetic defense of Trump by trying to reframe the candidate s disgusting reaction to Brexit, where he mostly spoke about how much the decision would be good for his Scotland golf resort. Lewandowski s defense was: Obviously the U.S. dollar has become much stronger now against the British pound. If you re going to spend money in Europe, now would actually be a good time to go with the fall of the pound.What you have is a world view, so what you have is someone who is saying,  Let s look at this from the U.S. perspective. If you want to go and travel overseas   just from a monetary perspective   now is the right time to do that because what you re getting is more for your dollar. Quinn wasn t having it. She ripped into Lewandowski, firing back, Donald Trump is not running to be travel agent of the world, he s running to be president of the United States.  She continued: What he said wasn t a commentary on international markets, it was,  When the pound goes down, more people will come to my golf course. Donald Trump s main concern isn t the international markets, it isn t the impact that Brexit will have on hard working Americans  401Ks, it s himself. How can he make more money, how can he put more money in his bank account? Lewandowski compared the Brexit decision to Trump s rise in the GOP, and Quinn once again called him out and put him back in his place. She said: Trump touted that he saw this coming. That s ridiculous because when he was first asked about Brexit by the press, he didn t appear to know what it was. Lewandowski tried to counter by insisting that People are too smart, they are tired of being told what to do.  He then tried to commend Trump for being a selfish moron: You know what Donald Trump said about Brexit? What he said was, you don t have to listen to me because it s not my decision. He didn t weigh in like Hillary Clinton did, like Barack Obama did, saying that you can t do this. Quinn fought back, Because he didn t know what it was. Lewandowski was fighting a losing battle. Trump s reaction to Brexit was just as terrifying as it was humorous   it truly proved that Trump knows nothing about foreign affairs, and hasn t spent any time educating himself since the beginning of his presidential candidacy. If only some of the hours he spent getting into fights on Twitter were being used for learning about how the world works. But instead, he once again exposed himself as an unfit choice for President. And when people like Lewandowski try to make sense of his idiocy, they only make themselves look equally foolish.You can watch the embarrassing video below:Featured image via screen capture\",\n          \"A Michigan woman decided to defend against tyranny? when she and another shopper couldn t agree over who got to buy the last notebook on the shelf at the Novi Towne Center store.According to ABC 13, the brawl   yes, brawl    involved two Farmington Hills residents, ages 46 and 32, and a mother and daughter from South Lyon, ages 51 and 20. In other words, these were all grown adults who should have known better but hey   there was only one notebook on the shelf, and we ve all seen what happens in those post-apocalyptic movies when a store is down to the last gallon of milk, right?Two of the women, one of whom was the unnamed 20-year-old, reached for the notebook at the same time. The 46 and 32-year-olds apparently decided that she wasn t getting their goddamn notebook and began pulling her hair.Then, because this had almost hit peak  trailer park,  the 20-year-old s mother decided to go for bonus points by pulling out her gun. Fortunately, someone pushed her aside before she could do any harm.This is one of the NRA s  responsible gun owners  (conservatives can t dismiss this one, as it is confirmed that she is a concealed carry permit holder)   ready to leap into action at the most minor sign of danger and make things worse by turning the situation potentially deadly.Watch it happen below:Featured image via screengrab\"\n        ],\n        \"semantic_type\": \"\",\n        \"description\": \"\"\n      }\n    },\n    {\n      \"column\": \"subject\",\n      \"properties\": {\n        \"dtype\": \"category\",\n        \"num_unique_values\": 6,\n        \"samples\": [\n          \"News\",\n          \"politics\",\n          \"Middle-east\"\n        ],\n        \"semantic_type\": \"\",\n        \"description\": \"\"\n      }\n    },\n    {\n      \"column\": \"date\",\n      \"properties\": {\n        \"dtype\": \"category\",\n        \"num_unique_values\": 1681,\n        \"samples\": [\n          \"Jun 5, 2015\",\n          \"August 28, 2016\",\n          \"June 3, 2017\"\n        ],\n        \"semantic_type\": \"\",\n        \"description\": \"\"\n      }\n    }\n  ]\n}"
            }
          },
          "metadata": {},
          "execution_count": 9
        }
      ],
      "source": [
        "print(\"First 10 rows of Fake News DataFrame: \")\n",
        "fake_df.head(10)"
      ]
    },
    {
      "cell_type": "markdown",
      "metadata": {
        "id": "qkPHnp--YjCt"
      },
      "source": [
        "Check missing values in each dataset"
      ]
    },
    {
      "cell_type": "code",
      "execution_count": 10,
      "metadata": {
        "colab": {
          "base_uri": "https://localhost:8080/"
        },
        "id": "-Dc8ZB9nYjm2",
        "outputId": "cefa1976-a157-4d29-e93b-e8a096bb5dd9"
      },
      "outputs": [
        {
          "output_type": "stream",
          "name": "stdout",
          "text": [
            "Null value on each data set: \n",
            "True news file:\n",
            " title      0\n",
            "text       0\n",
            "subject    0\n",
            "date       0\n",
            "dtype: int64\n",
            "Fake news file:\n",
            " title      0\n",
            "text       0\n",
            "subject    0\n",
            "date       0\n",
            "dtype: int64\n",
            "\n",
            "Empty strings check:\n",
            "True news empty text: 1\n",
            "Fake news empty text: 630\n",
            "\n",
            "Very short text:\n",
            "True news < 10 chars: 1\n",
            "Fake news < 10 chars: 651\n"
          ]
        }
      ],
      "source": [
        "print(\"Null value on each data set: \")\n",
        "print(\"True news file:\\n\", true_df.isnull().sum())\n",
        "print(\"Fake news file:\\n\", fake_df.isnull().sum())\n",
        "# Siying Comment:\n",
        "# We know from the inspection that there is no null value on the data set so we don't need to worry about the null value.\n",
        "\n",
        "print(\"\\nEmpty strings check:\")\n",
        "print(\"True news empty text:\", (true_df['text'].str.strip() == '').sum())\n",
        "print(\"Fake news empty text:\", (fake_df['text'].str.strip() == '').sum())\n",
        "# Siying Comment:\n",
        "# However, there is no null value in the dataset does not means there is no empty string on the data set.\n",
        "# And here we did find some rows with empty string in the 'text' feature.\n",
        "# My suggestion is we can simply delete the rows with empty string since it will not provide any useful information for the model.\n",
        "\n",
        "print(\"\\nVery short text:\")\n",
        "print(\"True news < 10 chars:\", (true_df['text'].str.len() < 10).sum())\n",
        "print(\"Fake news < 10 chars:\", (fake_df['text'].str.len() < 10).sum())\n",
        "# Siying Comment:\n",
        "# Also, I found some data set with very short string length, I'm quite worried about if it will provide us sufficient information to train the model.\n",
        "# Since Chinyere will be focus on punctuation and sentence length, I think I will leave this question to her that how should we handle this, keep them or drop them.\n",
        "# # For now, I will remove texts with less than 10 characters since they cannot provide meaningful features for us\n",
        "\n",
        "# Siying Summary:\n",
        "# Fake news dataset has 630 empty strings and 651 very short texts. These numbers are very close, which indicates that the most of short texts are actually empty strings.\n",
        "# Also, notice the disparity in terms of empty strings and short texts:\n",
        "# - True news: 1 empty string, 1 very short text\n",
        "#             (can indicates that the very short text is the empty string, which means that true news does not has short text problems)\n",
        "# - Fake news: 630 empty string, 651 very short text, which means 21 very short texts\n",
        "# It indicates an important differences between real and fake news sources, which could be a distinguishing feature that we can pay attention to."
      ]
    },
    {
      "cell_type": "markdown",
      "metadata": {
        "id": "rV21u_SGtKK4"
      },
      "source": [
        "Remove empty string and very short text from each dataset"
      ]
    },
    {
      "cell_type": "code",
      "execution_count": 11,
      "metadata": {
        "colab": {
          "base_uri": "https://localhost:8080/"
        },
        "id": "8XZpCCN0tJQj",
        "outputId": "3206407e-8196-4796-9de8-a7261eba1998"
      },
      "outputs": [
        {
          "output_type": "stream",
          "name": "stdout",
          "text": [
            "After removing empty string and very short text\n",
            "Ture news size: 21416(removed 1 rows)\n",
            "Fake news size: 22830(removed 651 rows)\n"
          ]
        }
      ],
      "source": [
        "# Remove empty string and very short text from true news data set\n",
        "true_nonempty_df = true_df[(true_df['text'].str.strip() != '') & (true_df['text'].str.len() >= 10)].copy()\n",
        "# Remove empty string and very short text from fake news data set\n",
        "fake_nonempty_df = fake_df[(fake_df['text'].str.strip() != '') & (fake_df['text'].str.len() >= 10)].copy()\n",
        "\n",
        "print(\"After removing empty string and very short text\")\n",
        "print(f\"Ture news size: {len(true_nonempty_df)}(removed {len(true_df) - len(true_nonempty_df)} rows)\")\n",
        "print(f\"Fake news size: {len(fake_nonempty_df)}(removed {len(fake_df) - len(fake_nonempty_df)} rows)\")"
      ]
    },
    {
      "cell_type": "markdown",
      "metadata": {
        "id": "nFYZhYgbYuNT"
      },
      "source": [
        "Check for completely duplicate rows in each dataset"
      ]
    },
    {
      "cell_type": "code",
      "execution_count": 12,
      "metadata": {
        "colab": {
          "base_uri": "https://localhost:8080/"
        },
        "id": "v-tGZuIZrykZ",
        "outputId": "ad689d2b-9805-44e1-cc7c-6f710e66913a"
      },
      "outputs": [
        {
          "output_type": "stream",
          "name": "stdout",
          "text": [
            "True Dataframe -- Number of duplicate rows:\n",
            "206\n",
            "Fake Dataframe -- Number of duplicate rows:\n",
            "3\n"
          ]
        }
      ],
      "source": [
        "# Check for completely duplicate articles (which means includes title, text, subject, and date)\n",
        "print(\"True Dataframe -- Number of duplicate rows:\")\n",
        "print(true_nonempty_df.duplicated().sum())\n",
        "print(\"Fake Dataframe -- Number of duplicate rows:\")\n",
        "print(fake_nonempty_df.duplicated().sum())\n",
        "\n",
        "# Siying Comment:\n",
        "# Found 206 duplicate rows in real news and 3 in fake news datasets. These are completely identical articles (same title, text, subject, and date).\n",
        "# Duplicate rows can lead to:\n",
        "# 1. overfitting,\n",
        "# 2. give undue weight to our model\n",
        "# 3. bias on our feature analysis\n",
        "# 4. more conputational cost\n",
        "# Thus, I suggest that we should remove the duplicate rows to ensure our data is clean and unbiasd."
      ]
    },
    {
      "cell_type": "markdown",
      "metadata": {
        "id": "qjrXavhmYv52"
      },
      "source": [
        "Remove completely duplicate rows from each dataset"
      ]
    },
    {
      "cell_type": "code",
      "execution_count": 13,
      "metadata": {
        "colab": {
          "base_uri": "https://localhost:8080/"
        },
        "id": "YMVaafxYs3Ro",
        "outputId": "cdfc0fe2-2436-44b6-a2a6-916d6e70df07"
      },
      "outputs": [
        {
          "output_type": "stream",
          "name": "stdout",
          "text": [
            "Remove 206 dulplicate rows\n",
            "Remove 3 dulplicate rows\n"
          ]
        }
      ],
      "source": [
        "# Remove completely duplicate articles\n",
        "true_no_duplicates_df = true_nonempty_df.drop_duplicates().copy()\n",
        "print(f\"Remove {len(true_nonempty_df) - len(true_no_duplicates_df)} dulplicate rows\")\n",
        "fake_no_duplicates_df = fake_nonempty_df.drop_duplicates().copy()\n",
        "print(f\"Remove {len(fake_nonempty_df) - len(fake_no_duplicates_df)} dulplicate rows\")"
      ]
    },
    {
      "cell_type": "markdown",
      "metadata": {
        "id": "ZiR7iTpW2fPZ"
      },
      "source": [
        "## Merge and cross-check"
      ]
    },
    {
      "cell_type": "markdown",
      "metadata": {
        "id": "3aYYbTfU3OMO"
      },
      "source": [
        "Add labels to each cleaned dataset"
      ]
    },
    {
      "cell_type": "code",
      "execution_count": 14,
      "metadata": {
        "id": "fybj8Vnj2hcC"
      },
      "outputs": [],
      "source": [
        "# Add labels before merging\n",
        "true_no_duplicates_df['label'] = 'TRUE'\n",
        "fake_no_duplicates_df['label'] = 'FAKE'"
      ]
    },
    {
      "cell_type": "markdown",
      "metadata": {
        "id": "eVJ83kEr3RnJ"
      },
      "source": [
        "Merge datasets into combined dataframe"
      ]
    },
    {
      "cell_type": "code",
      "execution_count": 15,
      "metadata": {
        "id": "bkQDJhi03Uvl"
      },
      "outputs": [],
      "source": [
        "# Merge the cleaned data sets\n",
        "merged_df = pd.concat([true_no_duplicates_df, fake_no_duplicates_df], ignore_index=True)"
      ]
    },
    {
      "cell_type": "markdown",
      "metadata": {
        "id": "UcPLUM0z3GVu"
      },
      "source": [
        "Merged Data Set Inspection"
      ]
    },
    {
      "cell_type": "code",
      "execution_count": 16,
      "metadata": {
        "colab": {
          "base_uri": "https://localhost:8080/",
          "height": 501
        },
        "id": "cvTBi1343FzH",
        "outputId": "3eca4016-90b2-4849-957f-2974f6278ecc"
      },
      "outputs": [
        {
          "output_type": "stream",
          "name": "stdout",
          "text": [
            "Combined dataset shape: (44037, 5)\n",
            "Label counts:\n",
            "label\n",
            "FAKE    22827\n",
            "TRUE    21210\n",
            "Name: count, dtype: int64\n",
            "\n",
            "Merge Data Set Preview: \n"
          ]
        },
        {
          "output_type": "execute_result",
          "data": {
            "text/plain": [
              "                                               title  \\\n",
              "0  As U.S. budget fight looms, Republicans flip t...   \n",
              "1  U.S. military to accept transgender recruits o...   \n",
              "2  Senior U.S. Republican senator: 'Let Mr. Muell...   \n",
              "3  FBI Russia probe helped by Australian diplomat...   \n",
              "4  Trump wants Postal Service to charge 'much mor...   \n",
              "5  White House, Congress prepare for talks on spe...   \n",
              "6  Trump says Russia probe will be fair, but time...   \n",
              "7  Factbox: Trump on Twitter (Dec 29) - Approval ...   \n",
              "8         Trump on Twitter (Dec 28) - Global Warming   \n",
              "9  Alabama official to certify Senator-elect Jone...   \n",
              "\n",
              "                                                text       subject  \\\n",
              "0  WASHINGTON (Reuters) - The head of a conservat...  politicsNews   \n",
              "1  WASHINGTON (Reuters) - Transgender people will...  politicsNews   \n",
              "2  WASHINGTON (Reuters) - The special counsel inv...  politicsNews   \n",
              "3  WASHINGTON (Reuters) - Trump campaign adviser ...  politicsNews   \n",
              "4  SEATTLE/WASHINGTON (Reuters) - President Donal...  politicsNews   \n",
              "5  WEST PALM BEACH, Fla./WASHINGTON (Reuters) - T...  politicsNews   \n",
              "6  WEST PALM BEACH, Fla (Reuters) - President Don...  politicsNews   \n",
              "7  The following statements were posted to the ve...  politicsNews   \n",
              "8  The following statements were posted to the ve...  politicsNews   \n",
              "9  WASHINGTON (Reuters) - Alabama Secretary of St...  politicsNews   \n",
              "\n",
              "                 date label  \n",
              "0  December 31, 2017   TRUE  \n",
              "1  December 29, 2017   TRUE  \n",
              "2  December 31, 2017   TRUE  \n",
              "3  December 30, 2017   TRUE  \n",
              "4  December 29, 2017   TRUE  \n",
              "5  December 29, 2017   TRUE  \n",
              "6  December 29, 2017   TRUE  \n",
              "7  December 29, 2017   TRUE  \n",
              "8  December 29, 2017   TRUE  \n",
              "9  December 28, 2017   TRUE  "
            ],
            "text/html": [
              "\n",
              "  <div id=\"df-8083f971-92da-4dbe-bf99-b1985fe50ff0\" class=\"colab-df-container\">\n",
              "    <div>\n",
              "<style scoped>\n",
              "    .dataframe tbody tr th:only-of-type {\n",
              "        vertical-align: middle;\n",
              "    }\n",
              "\n",
              "    .dataframe tbody tr th {\n",
              "        vertical-align: top;\n",
              "    }\n",
              "\n",
              "    .dataframe thead th {\n",
              "        text-align: right;\n",
              "    }\n",
              "</style>\n",
              "<table border=\"1\" class=\"dataframe\">\n",
              "  <thead>\n",
              "    <tr style=\"text-align: right;\">\n",
              "      <th></th>\n",
              "      <th>title</th>\n",
              "      <th>text</th>\n",
              "      <th>subject</th>\n",
              "      <th>date</th>\n",
              "      <th>label</th>\n",
              "    </tr>\n",
              "  </thead>\n",
              "  <tbody>\n",
              "    <tr>\n",
              "      <th>0</th>\n",
              "      <td>As U.S. budget fight looms, Republicans flip t...</td>\n",
              "      <td>WASHINGTON (Reuters) - The head of a conservat...</td>\n",
              "      <td>politicsNews</td>\n",
              "      <td>December 31, 2017</td>\n",
              "      <td>TRUE</td>\n",
              "    </tr>\n",
              "    <tr>\n",
              "      <th>1</th>\n",
              "      <td>U.S. military to accept transgender recruits o...</td>\n",
              "      <td>WASHINGTON (Reuters) - Transgender people will...</td>\n",
              "      <td>politicsNews</td>\n",
              "      <td>December 29, 2017</td>\n",
              "      <td>TRUE</td>\n",
              "    </tr>\n",
              "    <tr>\n",
              "      <th>2</th>\n",
              "      <td>Senior U.S. Republican senator: 'Let Mr. Muell...</td>\n",
              "      <td>WASHINGTON (Reuters) - The special counsel inv...</td>\n",
              "      <td>politicsNews</td>\n",
              "      <td>December 31, 2017</td>\n",
              "      <td>TRUE</td>\n",
              "    </tr>\n",
              "    <tr>\n",
              "      <th>3</th>\n",
              "      <td>FBI Russia probe helped by Australian diplomat...</td>\n",
              "      <td>WASHINGTON (Reuters) - Trump campaign adviser ...</td>\n",
              "      <td>politicsNews</td>\n",
              "      <td>December 30, 2017</td>\n",
              "      <td>TRUE</td>\n",
              "    </tr>\n",
              "    <tr>\n",
              "      <th>4</th>\n",
              "      <td>Trump wants Postal Service to charge 'much mor...</td>\n",
              "      <td>SEATTLE/WASHINGTON (Reuters) - President Donal...</td>\n",
              "      <td>politicsNews</td>\n",
              "      <td>December 29, 2017</td>\n",
              "      <td>TRUE</td>\n",
              "    </tr>\n",
              "    <tr>\n",
              "      <th>5</th>\n",
              "      <td>White House, Congress prepare for talks on spe...</td>\n",
              "      <td>WEST PALM BEACH, Fla./WASHINGTON (Reuters) - T...</td>\n",
              "      <td>politicsNews</td>\n",
              "      <td>December 29, 2017</td>\n",
              "      <td>TRUE</td>\n",
              "    </tr>\n",
              "    <tr>\n",
              "      <th>6</th>\n",
              "      <td>Trump says Russia probe will be fair, but time...</td>\n",
              "      <td>WEST PALM BEACH, Fla (Reuters) - President Don...</td>\n",
              "      <td>politicsNews</td>\n",
              "      <td>December 29, 2017</td>\n",
              "      <td>TRUE</td>\n",
              "    </tr>\n",
              "    <tr>\n",
              "      <th>7</th>\n",
              "      <td>Factbox: Trump on Twitter (Dec 29) - Approval ...</td>\n",
              "      <td>The following statements were posted to the ve...</td>\n",
              "      <td>politicsNews</td>\n",
              "      <td>December 29, 2017</td>\n",
              "      <td>TRUE</td>\n",
              "    </tr>\n",
              "    <tr>\n",
              "      <th>8</th>\n",
              "      <td>Trump on Twitter (Dec 28) - Global Warming</td>\n",
              "      <td>The following statements were posted to the ve...</td>\n",
              "      <td>politicsNews</td>\n",
              "      <td>December 29, 2017</td>\n",
              "      <td>TRUE</td>\n",
              "    </tr>\n",
              "    <tr>\n",
              "      <th>9</th>\n",
              "      <td>Alabama official to certify Senator-elect Jone...</td>\n",
              "      <td>WASHINGTON (Reuters) - Alabama Secretary of St...</td>\n",
              "      <td>politicsNews</td>\n",
              "      <td>December 28, 2017</td>\n",
              "      <td>TRUE</td>\n",
              "    </tr>\n",
              "  </tbody>\n",
              "</table>\n",
              "</div>\n",
              "    <div class=\"colab-df-buttons\">\n",
              "\n",
              "  <div class=\"colab-df-container\">\n",
              "    <button class=\"colab-df-convert\" onclick=\"convertToInteractive('df-8083f971-92da-4dbe-bf99-b1985fe50ff0')\"\n",
              "            title=\"Convert this dataframe to an interactive table.\"\n",
              "            style=\"display:none;\">\n",
              "\n",
              "  <svg xmlns=\"http://www.w3.org/2000/svg\" height=\"24px\" viewBox=\"0 -960 960 960\">\n",
              "    <path d=\"M120-120v-720h720v720H120Zm60-500h600v-160H180v160Zm220 220h160v-160H400v160Zm0 220h160v-160H400v160ZM180-400h160v-160H180v160Zm440 0h160v-160H620v160ZM180-180h160v-160H180v160Zm440 0h160v-160H620v160Z\"/>\n",
              "  </svg>\n",
              "    </button>\n",
              "\n",
              "  <style>\n",
              "    .colab-df-container {\n",
              "      display:flex;\n",
              "      gap: 12px;\n",
              "    }\n",
              "\n",
              "    .colab-df-convert {\n",
              "      background-color: #E8F0FE;\n",
              "      border: none;\n",
              "      border-radius: 50%;\n",
              "      cursor: pointer;\n",
              "      display: none;\n",
              "      fill: #1967D2;\n",
              "      height: 32px;\n",
              "      padding: 0 0 0 0;\n",
              "      width: 32px;\n",
              "    }\n",
              "\n",
              "    .colab-df-convert:hover {\n",
              "      background-color: #E2EBFA;\n",
              "      box-shadow: 0px 1px 2px rgba(60, 64, 67, 0.3), 0px 1px 3px 1px rgba(60, 64, 67, 0.15);\n",
              "      fill: #174EA6;\n",
              "    }\n",
              "\n",
              "    .colab-df-buttons div {\n",
              "      margin-bottom: 4px;\n",
              "    }\n",
              "\n",
              "    [theme=dark] .colab-df-convert {\n",
              "      background-color: #3B4455;\n",
              "      fill: #D2E3FC;\n",
              "    }\n",
              "\n",
              "    [theme=dark] .colab-df-convert:hover {\n",
              "      background-color: #434B5C;\n",
              "      box-shadow: 0px 1px 3px 1px rgba(0, 0, 0, 0.15);\n",
              "      filter: drop-shadow(0px 1px 2px rgba(0, 0, 0, 0.3));\n",
              "      fill: #FFFFFF;\n",
              "    }\n",
              "  </style>\n",
              "\n",
              "    <script>\n",
              "      const buttonEl =\n",
              "        document.querySelector('#df-8083f971-92da-4dbe-bf99-b1985fe50ff0 button.colab-df-convert');\n",
              "      buttonEl.style.display =\n",
              "        google.colab.kernel.accessAllowed ? 'block' : 'none';\n",
              "\n",
              "      async function convertToInteractive(key) {\n",
              "        const element = document.querySelector('#df-8083f971-92da-4dbe-bf99-b1985fe50ff0');\n",
              "        const dataTable =\n",
              "          await google.colab.kernel.invokeFunction('convertToInteractive',\n",
              "                                                    [key], {});\n",
              "        if (!dataTable) return;\n",
              "\n",
              "        const docLinkHtml = 'Like what you see? Visit the ' +\n",
              "          '<a target=\"_blank\" href=https://colab.research.google.com/notebooks/data_table.ipynb>data table notebook</a>'\n",
              "          + ' to learn more about interactive tables.';\n",
              "        element.innerHTML = '';\n",
              "        dataTable['output_type'] = 'display_data';\n",
              "        await google.colab.output.renderOutput(dataTable, element);\n",
              "        const docLink = document.createElement('div');\n",
              "        docLink.innerHTML = docLinkHtml;\n",
              "        element.appendChild(docLink);\n",
              "      }\n",
              "    </script>\n",
              "  </div>\n",
              "\n",
              "\n",
              "    <div id=\"df-6e4869d8-4cf0-4afe-8525-435b2a5ede5a\">\n",
              "      <button class=\"colab-df-quickchart\" onclick=\"quickchart('df-6e4869d8-4cf0-4afe-8525-435b2a5ede5a')\"\n",
              "                title=\"Suggest charts\"\n",
              "                style=\"display:none;\">\n",
              "\n",
              "<svg xmlns=\"http://www.w3.org/2000/svg\" height=\"24px\"viewBox=\"0 0 24 24\"\n",
              "     width=\"24px\">\n",
              "    <g>\n",
              "        <path d=\"M19 3H5c-1.1 0-2 .9-2 2v14c0 1.1.9 2 2 2h14c1.1 0 2-.9 2-2V5c0-1.1-.9-2-2-2zM9 17H7v-7h2v7zm4 0h-2V7h2v10zm4 0h-2v-4h2v4z\"/>\n",
              "    </g>\n",
              "</svg>\n",
              "      </button>\n",
              "\n",
              "<style>\n",
              "  .colab-df-quickchart {\n",
              "      --bg-color: #E8F0FE;\n",
              "      --fill-color: #1967D2;\n",
              "      --hover-bg-color: #E2EBFA;\n",
              "      --hover-fill-color: #174EA6;\n",
              "      --disabled-fill-color: #AAA;\n",
              "      --disabled-bg-color: #DDD;\n",
              "  }\n",
              "\n",
              "  [theme=dark] .colab-df-quickchart {\n",
              "      --bg-color: #3B4455;\n",
              "      --fill-color: #D2E3FC;\n",
              "      --hover-bg-color: #434B5C;\n",
              "      --hover-fill-color: #FFFFFF;\n",
              "      --disabled-bg-color: #3B4455;\n",
              "      --disabled-fill-color: #666;\n",
              "  }\n",
              "\n",
              "  .colab-df-quickchart {\n",
              "    background-color: var(--bg-color);\n",
              "    border: none;\n",
              "    border-radius: 50%;\n",
              "    cursor: pointer;\n",
              "    display: none;\n",
              "    fill: var(--fill-color);\n",
              "    height: 32px;\n",
              "    padding: 0;\n",
              "    width: 32px;\n",
              "  }\n",
              "\n",
              "  .colab-df-quickchart:hover {\n",
              "    background-color: var(--hover-bg-color);\n",
              "    box-shadow: 0 1px 2px rgba(60, 64, 67, 0.3), 0 1px 3px 1px rgba(60, 64, 67, 0.15);\n",
              "    fill: var(--button-hover-fill-color);\n",
              "  }\n",
              "\n",
              "  .colab-df-quickchart-complete:disabled,\n",
              "  .colab-df-quickchart-complete:disabled:hover {\n",
              "    background-color: var(--disabled-bg-color);\n",
              "    fill: var(--disabled-fill-color);\n",
              "    box-shadow: none;\n",
              "  }\n",
              "\n",
              "  .colab-df-spinner {\n",
              "    border: 2px solid var(--fill-color);\n",
              "    border-color: transparent;\n",
              "    border-bottom-color: var(--fill-color);\n",
              "    animation:\n",
              "      spin 1s steps(1) infinite;\n",
              "  }\n",
              "\n",
              "  @keyframes spin {\n",
              "    0% {\n",
              "      border-color: transparent;\n",
              "      border-bottom-color: var(--fill-color);\n",
              "      border-left-color: var(--fill-color);\n",
              "    }\n",
              "    20% {\n",
              "      border-color: transparent;\n",
              "      border-left-color: var(--fill-color);\n",
              "      border-top-color: var(--fill-color);\n",
              "    }\n",
              "    30% {\n",
              "      border-color: transparent;\n",
              "      border-left-color: var(--fill-color);\n",
              "      border-top-color: var(--fill-color);\n",
              "      border-right-color: var(--fill-color);\n",
              "    }\n",
              "    40% {\n",
              "      border-color: transparent;\n",
              "      border-right-color: var(--fill-color);\n",
              "      border-top-color: var(--fill-color);\n",
              "    }\n",
              "    60% {\n",
              "      border-color: transparent;\n",
              "      border-right-color: var(--fill-color);\n",
              "    }\n",
              "    80% {\n",
              "      border-color: transparent;\n",
              "      border-right-color: var(--fill-color);\n",
              "      border-bottom-color: var(--fill-color);\n",
              "    }\n",
              "    90% {\n",
              "      border-color: transparent;\n",
              "      border-bottom-color: var(--fill-color);\n",
              "    }\n",
              "  }\n",
              "</style>\n",
              "\n",
              "      <script>\n",
              "        async function quickchart(key) {\n",
              "          const quickchartButtonEl =\n",
              "            document.querySelector('#' + key + ' button');\n",
              "          quickchartButtonEl.disabled = true;  // To prevent multiple clicks.\n",
              "          quickchartButtonEl.classList.add('colab-df-spinner');\n",
              "          try {\n",
              "            const charts = await google.colab.kernel.invokeFunction(\n",
              "                'suggestCharts', [key], {});\n",
              "          } catch (error) {\n",
              "            console.error('Error during call to suggestCharts:', error);\n",
              "          }\n",
              "          quickchartButtonEl.classList.remove('colab-df-spinner');\n",
              "          quickchartButtonEl.classList.add('colab-df-quickchart-complete');\n",
              "        }\n",
              "        (() => {\n",
              "          let quickchartButtonEl =\n",
              "            document.querySelector('#df-6e4869d8-4cf0-4afe-8525-435b2a5ede5a button');\n",
              "          quickchartButtonEl.style.display =\n",
              "            google.colab.kernel.accessAllowed ? 'block' : 'none';\n",
              "        })();\n",
              "      </script>\n",
              "    </div>\n",
              "\n",
              "    </div>\n",
              "  </div>\n"
            ],
            "application/vnd.google.colaboratory.intrinsic+json": {
              "type": "dataframe",
              "variable_name": "merged_df",
              "summary": "{\n  \"name\": \"merged_df\",\n  \"rows\": 44037,\n  \"fields\": [\n    {\n      \"column\": \"title\",\n      \"properties\": {\n        \"dtype\": \"string\",\n        \"num_unique_values\": 38270,\n        \"samples\": [\n          \"Russia to amend law to classify U.S. media 'foreign agents'\",\n          \"Mali president wants U.S. to reverse Chad travel ban\",\n          \" Sorry, Donald Trump, Ted Cruz\\u2019s Dad Probably Didn\\u2019t Kill John F. Kennedy (VIDEO)\"\n        ],\n        \"semantic_type\": \"\",\n        \"description\": \"\"\n      }\n    },\n    {\n      \"column\": \"text\",\n      \"properties\": {\n        \"dtype\": \"string\",\n        \"num_unique_values\": 38635,\n        \"samples\": [\n          \"WASHINGTON (Reuters) - Republican presidential candidate Ted Cruz vowed to deport immigrants living illegally in the United States and build a wall to keep others out, sharpening his stance on the issue a week before presidential contests in several southern states. Cruz\\u2019s comments on the eve of Tuesday\\u2019s Nevada caucuses came hours after the public firing of his main spokesman over misleading social media postings involving rival Marco Rubio. Rubio won endorsements on Monday from prominent Republicans as he sought to become the party\\u2019s mainstream alternative to front-runner Donald Trump after Jeb Bush dropped out of the race for the 2016 Republican presidential nomination. Cruz was asked on Fox News\\u2019 \\u201cO\\u2019Reilly Factor\\u201d if he would round up the 12 million illegal aliens in the country, and how. \\u201cListen, we should enforce the law. How do we enforce the law?\\u00a0Yes, we should deport them.\\u00a0We should build a wall. We should triple the Border Patrol,\\u201d Cruz said. \\u201cAnd federal law requires that anyone here illegally that\\u2019s apprehended should be deported.\\u201d\\u00a0 Asked if he, like real estate tycoon Trump, would go out and look for them, Cruz replied, \\u201cOf course you would.\\u00a0That\\u2019s what ICE (Immigration and Customs Enforcement) exists for. We have law enforcement that looks for people who are violating the laws.\\u201d\\u00a0 The comments marked a shift from last month, when Cruz rejected sending authorities to find immigrants as \\u201cpolice state\\u201d tactics. \\u201cI don\\u2019t intend to send jackboots to knock on your door and every door in America. That\\u2019s not how we enforce the law for any crime,\\u201d Mr. Cruz told CNN in an interview on Jan. 10. Cruz has repeatedly criticized Rubio for having embraced a sweeping immigration reform bill he characterizes as amnesty.  Cruz and other Republican candidates vying to represent their party in the Nov. 8 presidential election have been under pressure to toughen their stance on immigration by Trump\\u2019s ferocious rhetoric on the issue. Trump responded to Cruz\\u2019s comments with a trademark Twitter taunt on Tuesday, referring the U.S. senator from Texas\\u2019 third-place finish in South Carolina\\u2019s primary on Saturday. \\u201cTed Cruz only talks tough on immigration now because he did so badly in S.C. He is in favor of amnesty and weak on illegal immigration,\\u201d Trump said. The New York billionaire has said he would deport all undocumented immigrants, build a wall and rescind U.S. President Barack Obama\\u2019s executive orders on immigration. \",\n          \"The following statements were posted to the verified Twitter accounts of U.S. President Donald Trump, @realDonaldTrump and @POTUS.  The opinions expressed are his own. Reuters has not edited the statements or confirmed their accuracy.  @realDonaldTrump : - Based on the fact that the very unfair and unpopular Individual Mandate has been terminated as part of our Tax Cut Bill, which essentially Repeals (over time) ObamaCare, the Democrats & Republicans will eventually come together and develop a great new HealthCare plan! [0658 EST] - WOW, @foxandfrlends  Dossier is bogus. Clinton Campaign, DNC funded Dossier. FBI CANNOT (after all of this time) VERIFY CLAIMS IN DOSSIER OF RUSSIA/TRUMP COLLUSION. FBI TAINTED.  And they used this Crooked Hillary pile of garbage as the basis for going after the Trump Campaign! [0824 EST] - All signs are that business is looking really good for next year, only to be helped further by our Tax Cut Bill. Will be a great year for Companies and JOBS! Stock Market is poised for another year of SUCCESS! [17:17 EST] -- Source link: (bit.ly/2jBh4LU) (bit.ly/2jpEXYR) \",\n          \"Tune in to the Alternate Current Radio Network (ACR) for another LIVE broadcast of  The Boiler Room tonight 6:00 PM PST | 8:00 PM CST | 9:00 PM EST for this special broadcast. Join us for uncensored, uninterruptible talk radio, custom-made for bar fly philosophers, misguided moralists, masochists, street corner evangelists, media-maniacs, savants, political animals and otherwise lovable rascals.Join ACR hosts Hesher and (Virtual) Spore along side Daniel Spaulding from Soul of the East, Andy Nowicki (the Alt Right Novelist) and FunkSoul & Randy J (21WIRE & ACR contributors), for the hundred and twenty first episode of BOILER ROOM. Turn it up, tune in and hang with the ACR Brain-Trust for this weeks boil downs and analysis and the usual gnashing of the teeth of the political animals in the social reject club.This week on the show the ACR Brain-Trust is back with another meeting of the Social Reject Club in the No Friends Left Zone and the gang is discussing a future dystopia full of sex robots that come complete with  shy  mode artificial intelligence aspects, Daniel Spaulding joins for an update on American swamp politics and to scoff away the  North Korea is a nuclear threat  propaganda. FunkSoul and Andy Nowicki bring their brands of analysis to the James Damore story and more.Direct Download Episode #121Please like and share the program and visit our donate page to get involved! Reference Links, for your consideration and research:\"\n        ],\n        \"semantic_type\": \"\",\n        \"description\": \"\"\n      }\n    },\n    {\n      \"column\": \"subject\",\n      \"properties\": {\n        \"dtype\": \"category\",\n        \"num_unique_values\": 8,\n        \"samples\": [\n          \"worldnews\",\n          \"left-news\",\n          \"politicsNews\"\n        ],\n        \"semantic_type\": \"\",\n        \"description\": \"\"\n      }\n    },\n    {\n      \"column\": \"date\",\n      \"properties\": {\n        \"dtype\": \"category\",\n        \"num_unique_values\": 2397,\n        \"samples\": [\n          \"October 12, 2016 \",\n          \"June 16, 2017 \",\n          \"Oct 30, 2017\"\n        ],\n        \"semantic_type\": \"\",\n        \"description\": \"\"\n      }\n    },\n    {\n      \"column\": \"label\",\n      \"properties\": {\n        \"dtype\": \"category\",\n        \"num_unique_values\": 2,\n        \"samples\": [\n          \"FAKE\",\n          \"TRUE\"\n        ],\n        \"semantic_type\": \"\",\n        \"description\": \"\"\n      }\n    }\n  ]\n}"
            }
          },
          "metadata": {},
          "execution_count": 16
        }
      ],
      "source": [
        "# Check Merged Data Sets\n",
        "print(\"Combined dataset shape:\", merged_df.shape)\n",
        "print(\"Label counts:\")\n",
        "print(merged_df['label'].value_counts())\n",
        "\n",
        "print(\"\\nMerge Data Set Preview: \")\n",
        "merged_df.head(10)"
      ]
    },
    {
      "cell_type": "markdown",
      "metadata": {
        "id": "i39DLQwi33V8"
      },
      "source": [
        "Check for conflicting labels (same text, different labels)"
      ]
    },
    {
      "cell_type": "code",
      "execution_count": 17,
      "metadata": {
        "colab": {
          "base_uri": "https://localhost:8080/"
        },
        "id": "gS-7gPnk34UJ",
        "outputId": "92f87278-4a5b-4015-cf8a-0be04c13c56a"
      },
      "outputs": [
        {
          "output_type": "stream",
          "name": "stdout",
          "text": [
            "No conflict labels found!\n"
          ]
        }
      ],
      "source": [
        "# Check if same text has conflict labels\n",
        "# Groups all rows that have identical text content together, for each group, look at the 'label' column, count how many unique labels exist in each group\n",
        "text_label_counts = merged_df.groupby('text')['label'].nunique()\n",
        "# Only look at the groups that has more than 1 label\n",
        "conflicting_texts = text_label_counts[text_label_counts > 1]\n",
        "\n",
        "# If any conflict label found:\n",
        "if len(conflicting_texts) > 0:\n",
        "  for i, text in enumerate(conflicting_texts.index):\n",
        "    print(f\"\\n--- CONFLICT {i+1} ---\")\n",
        "    conflicting_rows = merged_df[merged_df['text'] == text]\n",
        "\n",
        "    print(\"Label counts for this article: \")\n",
        "    print(conflicting_rows['label'].value_counts())\n",
        "\n",
        "    print(f\"Text: {text}\")\n",
        "else:\n",
        "  print(\"No conflict labels found!\")\n",
        "\n",
        "# Siying Comment:\n",
        "# Found no conflicting labels, which means there are no articles with the same text but got different label. It's nice that we don't need to worry about it."
      ]
    },
    {
      "cell_type": "markdown",
      "metadata": {
        "id": "aBTPWVPM4kZx"
      },
      "source": [
        "Check for duplicate text content (same text)"
      ]
    },
    {
      "cell_type": "code",
      "execution_count": 18,
      "metadata": {
        "colab": {
          "base_uri": "https://localhost:8080/"
        },
        "id": "ZQV4sDR-4rEM",
        "outputId": "501e927b-1056-4494-ae14-6beeab7bb089"
      },
      "outputs": [
        {
          "output_type": "stream",
          "name": "stdout",
          "text": [
            "Number of articles with duplicate text content in data frame:\n",
            "5402\n"
          ]
        }
      ],
      "source": [
        "print(\"Number of articles with duplicate text content in data frame:\")\n",
        "print(merged_df['text'].duplicated().sum())\n",
        "\n",
        "# Siying Comment:\n",
        "# Found 5402 duplicated text on the data frame.\n",
        "# These are identical text but with different title, text, subject, and date. They might be the articles that reposted by other media.\n",
        "# Since keep these duplicated text might also cause bias and overfitting, Thus, I suggest remove these rows with duplicated text as well."
      ]
    },
    {
      "cell_type": "markdown",
      "metadata": {
        "id": "hT9i-NTeCipq"
      },
      "source": [
        "Remove duplicate text content"
      ]
    },
    {
      "cell_type": "code",
      "execution_count": 19,
      "metadata": {
        "colab": {
          "base_uri": "https://localhost:8080/"
        },
        "id": "MvkfvQTBCiG_",
        "outputId": "8d7e44ca-d692-4382-ee0a-732f8867c238"
      },
      "outputs": [
        {
          "output_type": "stream",
          "name": "stdout",
          "text": [
            "Remove 5402 dulplicate rows\n",
            "Clean data overview: \n",
            "Total articles: 38635\n"
          ]
        }
      ],
      "source": [
        "#THE FINAL DF IS CALLED merged_no_duplicates\n",
        "merged_no_duplicates_df = merged_df.drop_duplicates(subset=['text'], keep='first').copy()\n",
        "print(f\"Remove {len(merged_df) - len(merged_no_duplicates_df)} dulplicate rows\")\n",
        "print(\"Clean data overview: \")\n",
        "print(f\"Total articles: {len(merged_no_duplicates_df)}\")"
      ]
    },
    {
      "cell_type": "markdown",
      "metadata": {
        "id": "nCMTHQHgP-8r"
      },
      "source": [
        "\n",
        "**Check for Reuters Tag and Location Header in the Data Set.**\n",
        "\n",
        "\n"
      ]
    },
    {
      "cell_type": "code",
      "execution_count": 20,
      "metadata": {
        "colab": {
          "base_uri": "https://localhost:8080/"
        },
        "id": "gW8tt428QAa9",
        "outputId": "2943b56e-df2f-4071-c656-cd31d1609aa9"
      },
      "outputs": [
        {
          "output_type": "stream",
          "name": "stdout",
          "text": [
            "Number of articles containing 'Reuters':\n",
            "label\n",
            "FAKE      220\n",
            "TRUE    21154\n",
            "Name: contains_reuters, dtype: int64\n",
            "\n",
            "Percentage with 'Reuters' in each label:\n",
            "label\n",
            "FAKE    0.012612\n",
            "TRUE    0.998254\n",
            "Name: contains_reuters, dtype: float64\n",
            "\n",
            "Sample TRUE news with 'Reuters':\n",
            "['WASHINGTON (Reuters) - The head of a conservative Republican faction in the U.S. Congress, who voted this month for a huge expansion of the national debt to pay for tax cuts, called himself a “fiscal conservative” on Sunday and urged budget restraint in 2018. In keeping with a sharp pivot under way among Republicans, U.S. Representative Mark Meadows, speaking on CBS’ “Face the Nation,” drew a hard line on federal spending, which lawmakers are bracing to do battle over in January. When they return from the holidays on Wednesday, lawmakers will begin trying to pass a federal budget in a fight likely to be linked to other issues, such as immigration policy, even as the November congressional election campaigns approach in which Republicans will seek to keep control of Congress. President Donald Trump and his Republicans want a big budget increase in military spending, while Democrats also want proportional increases for non-defense “discretionary” spending on programs that support education, scientific research, infrastructure, public health and environmental protection. “The (Trump) administration has already been willing to say: ‘We’re going to increase non-defense discretionary spending ... by about 7 percent,’” Meadows, chairman of the small but influential House Freedom Caucus, said on the program. “Now, Democrats are saying that’s not enough, we need to give the government a pay raise of 10 to 11 percent. For a fiscal conservative, I don’t see where the rationale is. ... Eventually you run out of other people’s money,” he said. Meadows was among Republicans who voted in late December for their party’s debt-financed tax overhaul, which is expected to balloon the federal budget deficit and add about $1.5 trillion over 10 years to the $20 trillion national debt. “It’s interesting to hear Mark talk about fiscal responsibility,” Democratic U.S. Representative Joseph Crowley said on CBS. Crowley said the Republican tax bill would require the  United States to borrow $1.5 trillion, to be paid off by future generations, to finance tax cuts for corporations and the rich. “This is one of the least ... fiscally responsible bills we’ve ever seen passed in the history of the House of Representatives. I think we’re going to be paying for this for many, many years to come,” Crowley said. Republicans insist the tax package, the biggest U.S. tax overhaul in more than 30 years,  will boost the economy and job growth. House Speaker Paul Ryan, who also supported the tax bill, recently went further than Meadows, making clear in a radio interview that welfare or “entitlement reform,” as the party often calls it, would be a top Republican priority in 2018. In Republican parlance, “entitlement” programs mean food stamps, housing assistance, Medicare and Medicaid health insurance for the elderly, poor and disabled, as well as other programs created by Washington to assist the needy. Democrats seized on Ryan’s early December remarks, saying they showed Republicans would try to pay for their tax overhaul by seeking spending cuts for social programs. But the goals of House Republicans may have to take a back seat to the Senate, where the votes of some Democrats will be needed to approve a budget and prevent a government shutdown. Democrats will use their leverage in the Senate, which Republicans narrowly control, to defend both discretionary non-defense programs and social spending, while tackling the issue of the “Dreamers,” people brought illegally to the country as children. Trump in September put a March 2018 expiration date on the Deferred Action for Childhood Arrivals, or DACA, program, which protects the young immigrants from deportation and provides them with work permits. The president has said in recent Twitter messages he wants funding for his proposed Mexican border wall and other immigration law changes in exchange for agreeing to help the Dreamers. Representative Debbie Dingell told CBS she did not favor linking that issue to other policy objectives, such as wall funding. “We need to do DACA clean,” she said.  On Wednesday, Trump aides will meet with congressional leaders to discuss those issues. That will be followed by a weekend of strategy sessions for Trump and Republican leaders on Jan. 6 and 7, the White House said. Trump was also scheduled to meet on Sunday with Florida Republican Governor Rick Scott, who wants more emergency aid. The House has passed an $81 billion aid package after hurricanes in Florida, Texas and Puerto Rico, and wildfires in California. The package far exceeded the $44 billion requested by the Trump administration. The Senate has not yet voted on the aid. '\n",
            " 'WASHINGTON (Reuters) - Transgender people will be allowed for the first time to enlist in the U.S. military starting on Monday as ordered by federal courts, the Pentagon said on Friday, after President Donald Trump’s administration decided not to appeal rulings that blocked his transgender ban. Two federal appeals courts, one in Washington and one in Virginia, last week rejected the administration’s request to put on hold orders by lower court judges requiring the military to begin accepting transgender recruits on Jan. 1. A Justice Department official said the administration will not challenge those rulings. “The Department of Defense has announced that it will be releasing an independent study of these issues in the coming weeks. So rather than litigate this interim appeal before that occurs, the administration has decided to wait for DOD’s study and will continue to defend the president’s lawful authority in District Court in the meantime,” the official said, speaking on condition of anonymity. In September, the Pentagon said it had created a panel of senior officials to study how to implement a directive by Trump to prohibit transgender individuals from serving. The Defense Department has until Feb. 21 to submit a plan to Trump. Lawyers representing currently-serving transgender service members and aspiring recruits said they had expected the administration to appeal the rulings to the conservative-majority Supreme Court, but were hoping that would not happen. Pentagon spokeswoman Heather Babb said in a statement: “As mandated by court order, the Department of Defense is prepared to begin accessing transgender applicants for military service Jan. 1. All applicants must meet all accession standards.” Jennifer Levi, a lawyer with gay, lesbian and transgender advocacy group GLAD, called the decision not to appeal “great news.” “I’m hoping it means the government has come to see that there is no way to justify a ban and that it’s not good for the military or our country,” Levi said. Both GLAD and the American Civil Liberties Union represent plaintiffs in the lawsuits filed against the administration. In a move that appealed to his hard-line conservative supporters, Trump announced in July that he would prohibit transgender people from serving in the military, reversing Democratic President Barack Obama’s policy of accepting them. Trump said on Twitter at the time that the military “cannot be burdened with the tremendous medical costs and disruption that transgender in the military would entail.” Four federal judges - in Baltimore, Washington, D.C., Seattle and Riverside, California - have issued rulings blocking Trump’s ban while legal challenges to the Republican president’s policy proceed. The judges said the ban would likely violate the right under the U.S. Constitution to equal protection under the law. The Pentagon on Dec. 8 issued guidelines to recruitment personnel in order to enlist transgender applicants by Jan. 1. The memo outlined medical requirements and specified how the applicants’ sex would be identified and even which undergarments they would wear. The Trump administration previously said in legal papers that the armed forces were not prepared to train thousands of personnel on the medical standards needed to process transgender applicants and might have to accept “some individuals who are not medically fit for service.” The Obama administration had set a deadline of July 1, 2017, to begin accepting transgender recruits. But Trump’s defense secretary, James Mattis, postponed that date to Jan. 1, 2018, which the president’s ban then put off indefinitely. Trump has taken other steps aimed at rolling back transgender rights. In October, his administration said a federal law banning gender-based workplace discrimination does not protect transgender employees, reversing another Obama-era position. In February, Trump rescinded guidance issued by the Obama administration saying that public schools should allow transgender students to use the restroom that corresponds to their gender identity. '\n",
            " 'WASHINGTON (Reuters) - The special counsel investigation of links between Russia and President Trump’s 2016 election campaign should continue without interference in 2018, despite calls from some Trump administration allies and Republican lawmakers to shut it down, a prominent Republican senator said on Sunday. Lindsey Graham, who serves on the Senate armed forces and judiciary committees, said Department of Justice Special Counsel Robert Mueller needs to carry on with his Russia investigation without political interference. “This investigation will go forward. It will be an investigation conducted without political influence,” Graham said on CBS’s Face the Nation news program. “And we all need to let Mr. Mueller do his job. I think he’s the right guy at the right time.”  The question of how Russia may have interfered in the election, and how Trump’s campaign may have had links with or co-ordinated any such effort, has loomed over the White House since Trump took office in January. It shows no sign of receding as Trump prepares for his second year in power, despite intensified rhetoric from some Trump allies in recent weeks accusing Mueller’s team of bias against the Republican president. Trump himself seemed to undercut his supporters in an interview last week with the New York Times in which he said he expected Mueller was “going to be fair.”    Russia’s role in the election and the question of possible links to the Trump campaign are the focus of multiple inquiries in Washington. Three committees of the Senate and the House of Representatives are investigating, as well as Mueller, whose team in May took over an earlier probe launched by the U.S. Federal Bureau of Investigation (FBI). Several members of the Trump campaign and administration have been convicted or indicted in the investigation.  Trump and his allies deny any collusion with Russia during the campaign, and the Kremlin has denied meddling in the election. Graham said he still wants an examination of the FBI’s use of a dossier on links between Trump and Russia that was compiled by a former British spy, Christopher Steele, which prompted Trump allies and some Republicans to question Mueller’s inquiry.   On Saturday, the New York Times reported that it was not that dossier that triggered an early FBI probe, but a tip from former Trump campaign foreign policy adviser George Papadopoulos to an Australian diplomat that Russia had damaging information about former Trump rival Hillary Clinton.  “I want somebody to look at the way the Department of Justice used this dossier. It bothers me greatly the way they used it, and I want somebody to look at it,” Graham said. But he said the Russia investigation must continue. “As a matter of fact, it would hurt us if we ignored it,” he said. ']\n"
          ]
        }
      ],
      "source": [
        "\n",
        "# Add a boolean column for if 'Reuters' appears in the text (case-insensitive)\n",
        "merged_no_duplicates_df['contains_reuters'] = merged_no_duplicates_df['text'].str.contains('reuters', case=False, na=False)\n",
        "\n",
        "# Count and percentage by label\n",
        "print(\"Number of articles containing 'Reuters':\")\n",
        "print(merged_no_duplicates_df.groupby('label')['contains_reuters'].sum())\n",
        "\n",
        "print(\"\\nPercentage with 'Reuters' in each label:\")\n",
        "print(merged_no_duplicates_df.groupby('label')['contains_reuters'].mean())\n",
        "\n",
        "print(\"\\nSample TRUE news with 'Reuters':\")\n",
        "print(merged_no_duplicates_df[(merged_no_duplicates_df['label'] == 'TRUE') & (merged_no_duplicates_df['contains_reuters'])].head(3)['text'].values)\n"
      ]
    },
    {
      "cell_type": "markdown",
      "metadata": {
        "id": "aOreWb15QG8o"
      },
      "source": [
        "Nearly all of our TRUE news articles (99.8)% contain the word \"Reuters\" and 1.3% of Fake articles do. In other words, we could easily cheat just by picking anything with word \"Reuters\" as True News which makes it unfair and the\n",
        "model is not really detecting the fake news but instead looking at the source. Thus, we have decided to remove the Reuters word tag."
      ]
    },
    {
      "cell_type": "code",
      "execution_count": 21,
      "metadata": {
        "colab": {
          "base_uri": "https://localhost:8080/"
        },
        "id": "DaEgoX4gQHwf",
        "outputId": "04014153-7a2f-44a6-9810-b674dd730668"
      },
      "outputs": [
        {
          "output_type": "stream",
          "name": "stdout",
          "text": [
            "Articles with 'Reuters' after removal:\n",
            "0\n"
          ]
        }
      ],
      "source": [
        "merged_no_duplicates_df['text'] = merged_no_duplicates_df['text'].str.replace('reuters', '', case=False, regex=True)\n",
        "merged_no_duplicates_df['text'] = merged_no_duplicates_df['text'].str.replace(r'\\(\\s*\\)', '', regex=True)\n",
        "\n",
        "merged_no_duplicates_df['contains_reuters'] = merged_no_duplicates_df['text'].str.contains('reuters', case=False, na=False)\n",
        "print(\"Articles with 'Reuters' after removal:\")\n",
        "print(merged_no_duplicates_df['contains_reuters'].sum())"
      ]
    },
    {
      "cell_type": "markdown",
      "source": [
        "We are deliberately choosing to remove the 'Reuters' tag directly from the text data without creating a separate column. This decision is based on the principles of building simple but reliable machine learning pipeline.\n",
        "\n",
        "\n",
        "\n",
        "* The single greatest risk of creating a separate is_reuters_source column is that it might accidentally be included as a feature during model training. A model trained with this feature would learn to simply check the source instead of analyzing the text, making it useless on real-world data. The safest way to prevent this mistake is to ensure the feature never exists in the cleaned dataset in the first place.\n",
        "\n",
        "*   The purpose of identifying the Reuters tag was for Exploratory Data Analysis (EDA). We have already completed that analysis, and it successfully proved that the tag is a source of bias (99.8% of true news has it). Now that its analytical purpose is served, the tag (and any feature derived from it) should be completely removed to prevent it from influencing the model. There is no further value in keeping it.\n",
        "\n",
        "Our primary goal is to train a model that can distinguish fake from real news based on linguistic patterns, not data artifacts. Keeping the source tag in any form distracts from this goal and encourages focusing on a feature that we know is a \"cheat code.\" Removing it completely forces the model and the team to focus on meaningful features like sentiment, syntax, and entity recognition.\n"
      ],
      "metadata": {
        "id": "J3TihvBPDQ5G"
      }
    },
    {
      "cell_type": "code",
      "execution_count": 22,
      "metadata": {
        "colab": {
          "base_uri": "https://localhost:8080/"
        },
        "id": "WMvLnBbTQMjc",
        "outputId": "fbe9ed38-5062-41e0-d5a3-179f05e1ac5a"
      },
      "outputs": [
        {
          "output_type": "stream",
          "name": "stdout",
          "text": [
            "Sample TRUE news after 'Reuters' removal:\n",
            "['WASHINGTON  - The head of a conservative Republican faction in the U.S. Congress, who voted this month for a huge expansion of the national debt to pay for tax cuts, called himself a “fiscal conservative” on Sunday and urged budget restraint in 2018. In keeping with a sharp pivot under way among Republicans, U.S. Representative Mark Meadows, speaking on CBS’ “Face the Nation,” drew a hard line on federal spending, which lawmakers are bracing to do battle over in January. When they return from the holidays on Wednesday, lawmakers will begin trying to pass a federal budget in a fight likely to be linked to other issues, such as immigration policy, even as the November congressional election campaigns approach in which Republicans will seek to keep control of Congress. President Donald Trump and his Republicans want a big budget increase in military spending, while Democrats also want proportional increases for non-defense “discretionary” spending on programs that support education, scientific research, infrastructure, public health and environmental protection. “The (Trump) administration has already been willing to say: ‘We’re going to increase non-defense discretionary spending ... by about 7 percent,’” Meadows, chairman of the small but influential House Freedom Caucus, said on the program. “Now, Democrats are saying that’s not enough, we need to give the government a pay raise of 10 to 11 percent. For a fiscal conservative, I don’t see where the rationale is. ... Eventually you run out of other people’s money,” he said. Meadows was among Republicans who voted in late December for their party’s debt-financed tax overhaul, which is expected to balloon the federal budget deficit and add about $1.5 trillion over 10 years to the $20 trillion national debt. “It’s interesting to hear Mark talk about fiscal responsibility,” Democratic U.S. Representative Joseph Crowley said on CBS. Crowley said the Republican tax bill would require the  United States to borrow $1.5 trillion, to be paid off by future generations, to finance tax cuts for corporations and the rich. “This is one of the least ... fiscally responsible bills we’ve ever seen passed in the history of the House of Representatives. I think we’re going to be paying for this for many, many years to come,” Crowley said. Republicans insist the tax package, the biggest U.S. tax overhaul in more than 30 years,  will boost the economy and job growth. House Speaker Paul Ryan, who also supported the tax bill, recently went further than Meadows, making clear in a radio interview that welfare or “entitlement reform,” as the party often calls it, would be a top Republican priority in 2018. In Republican parlance, “entitlement” programs mean food stamps, housing assistance, Medicare and Medicaid health insurance for the elderly, poor and disabled, as well as other programs created by Washington to assist the needy. Democrats seized on Ryan’s early December remarks, saying they showed Republicans would try to pay for their tax overhaul by seeking spending cuts for social programs. But the goals of House Republicans may have to take a back seat to the Senate, where the votes of some Democrats will be needed to approve a budget and prevent a government shutdown. Democrats will use their leverage in the Senate, which Republicans narrowly control, to defend both discretionary non-defense programs and social spending, while tackling the issue of the “Dreamers,” people brought illegally to the country as children. Trump in September put a March 2018 expiration date on the Deferred Action for Childhood Arrivals, or DACA, program, which protects the young immigrants from deportation and provides them with work permits. The president has said in recent Twitter messages he wants funding for his proposed Mexican border wall and other immigration law changes in exchange for agreeing to help the Dreamers. Representative Debbie Dingell told CBS she did not favor linking that issue to other policy objectives, such as wall funding. “We need to do DACA clean,” she said.  On Wednesday, Trump aides will meet with congressional leaders to discuss those issues. That will be followed by a weekend of strategy sessions for Trump and Republican leaders on Jan. 6 and 7, the White House said. Trump was also scheduled to meet on Sunday with Florida Republican Governor Rick Scott, who wants more emergency aid. The House has passed an $81 billion aid package after hurricanes in Florida, Texas and Puerto Rico, and wildfires in California. The package far exceeded the $44 billion requested by the Trump administration. The Senate has not yet voted on the aid. '\n",
            " 'WASHINGTON  - Transgender people will be allowed for the first time to enlist in the U.S. military starting on Monday as ordered by federal courts, the Pentagon said on Friday, after President Donald Trump’s administration decided not to appeal rulings that blocked his transgender ban. Two federal appeals courts, one in Washington and one in Virginia, last week rejected the administration’s request to put on hold orders by lower court judges requiring the military to begin accepting transgender recruits on Jan. 1. A Justice Department official said the administration will not challenge those rulings. “The Department of Defense has announced that it will be releasing an independent study of these issues in the coming weeks. So rather than litigate this interim appeal before that occurs, the administration has decided to wait for DOD’s study and will continue to defend the president’s lawful authority in District Court in the meantime,” the official said, speaking on condition of anonymity. In September, the Pentagon said it had created a panel of senior officials to study how to implement a directive by Trump to prohibit transgender individuals from serving. The Defense Department has until Feb. 21 to submit a plan to Trump. Lawyers representing currently-serving transgender service members and aspiring recruits said they had expected the administration to appeal the rulings to the conservative-majority Supreme Court, but were hoping that would not happen. Pentagon spokeswoman Heather Babb said in a statement: “As mandated by court order, the Department of Defense is prepared to begin accessing transgender applicants for military service Jan. 1. All applicants must meet all accession standards.” Jennifer Levi, a lawyer with gay, lesbian and transgender advocacy group GLAD, called the decision not to appeal “great news.” “I’m hoping it means the government has come to see that there is no way to justify a ban and that it’s not good for the military or our country,” Levi said. Both GLAD and the American Civil Liberties Union represent plaintiffs in the lawsuits filed against the administration. In a move that appealed to his hard-line conservative supporters, Trump announced in July that he would prohibit transgender people from serving in the military, reversing Democratic President Barack Obama’s policy of accepting them. Trump said on Twitter at the time that the military “cannot be burdened with the tremendous medical costs and disruption that transgender in the military would entail.” Four federal judges - in Baltimore, Washington, D.C., Seattle and Riverside, California - have issued rulings blocking Trump’s ban while legal challenges to the Republican president’s policy proceed. The judges said the ban would likely violate the right under the U.S. Constitution to equal protection under the law. The Pentagon on Dec. 8 issued guidelines to recruitment personnel in order to enlist transgender applicants by Jan. 1. The memo outlined medical requirements and specified how the applicants’ sex would be identified and even which undergarments they would wear. The Trump administration previously said in legal papers that the armed forces were not prepared to train thousands of personnel on the medical standards needed to process transgender applicants and might have to accept “some individuals who are not medically fit for service.” The Obama administration had set a deadline of July 1, 2017, to begin accepting transgender recruits. But Trump’s defense secretary, James Mattis, postponed that date to Jan. 1, 2018, which the president’s ban then put off indefinitely. Trump has taken other steps aimed at rolling back transgender rights. In October, his administration said a federal law banning gender-based workplace discrimination does not protect transgender employees, reversing another Obama-era position. In February, Trump rescinded guidance issued by the Obama administration saying that public schools should allow transgender students to use the restroom that corresponds to their gender identity. '\n",
            " 'WASHINGTON  - The special counsel investigation of links between Russia and President Trump’s 2016 election campaign should continue without interference in 2018, despite calls from some Trump administration allies and Republican lawmakers to shut it down, a prominent Republican senator said on Sunday. Lindsey Graham, who serves on the Senate armed forces and judiciary committees, said Department of Justice Special Counsel Robert Mueller needs to carry on with his Russia investigation without political interference. “This investigation will go forward. It will be an investigation conducted without political influence,” Graham said on CBS’s Face the Nation news program. “And we all need to let Mr. Mueller do his job. I think he’s the right guy at the right time.”  The question of how Russia may have interfered in the election, and how Trump’s campaign may have had links with or co-ordinated any such effort, has loomed over the White House since Trump took office in January. It shows no sign of receding as Trump prepares for his second year in power, despite intensified rhetoric from some Trump allies in recent weeks accusing Mueller’s team of bias against the Republican president. Trump himself seemed to undercut his supporters in an interview last week with the New York Times in which he said he expected Mueller was “going to be fair.”    Russia’s role in the election and the question of possible links to the Trump campaign are the focus of multiple inquiries in Washington. Three committees of the Senate and the House of Representatives are investigating, as well as Mueller, whose team in May took over an earlier probe launched by the U.S. Federal Bureau of Investigation (FBI). Several members of the Trump campaign and administration have been convicted or indicted in the investigation.  Trump and his allies deny any collusion with Russia during the campaign, and the Kremlin has denied meddling in the election. Graham said he still wants an examination of the FBI’s use of a dossier on links between Trump and Russia that was compiled by a former British spy, Christopher Steele, which prompted Trump allies and some Republicans to question Mueller’s inquiry.   On Saturday, the New York Times reported that it was not that dossier that triggered an early FBI probe, but a tip from former Trump campaign foreign policy adviser George Papadopoulos to an Australian diplomat that Russia had damaging information about former Trump rival Hillary Clinton.  “I want somebody to look at the way the Department of Justice used this dossier. It bothers me greatly the way they used it, and I want somebody to look at it,” Graham said. But he said the Russia investigation must continue. “As a matter of fact, it would hurt us if we ignored it,” he said. '\n",
            " 'WASHINGTON  - Trump campaign adviser George Papadopoulos told an Australian diplomat in May 2016 that Russia had political dirt on Democratic presidential candidate Hillary Clinton, the New York Times reported on Saturday. The conversation between Papadopoulos and the diplomat, Alexander Downer, in London was a driving factor behind the FBI’s decision to open a counter-intelligence investigation of Moscow’s contacts with the Trump campaign, the Times reported. Two months after the meeting, Australian officials passed the information that came from Papadopoulos to their American counterparts when leaked Democratic emails began appearing online, according to the newspaper, which cited four current and former U.S. and foreign officials. Besides the information from the Australians, the probe by the Federal Bureau of Investigation was also propelled by intelligence from other friendly governments, including the British and Dutch, the Times said. Papadopoulos, a Chicago-based international energy lawyer, pleaded guilty on Oct. 30 to lying to FBI agents about contacts with people who claimed to have ties to top Russian officials. It was the first criminal charge alleging links between the Trump campaign and Russia. The White House has played down the former aide’s campaign role, saying it was “extremely limited” and that any actions he took would have been on his own. The New York Times, however, reported that Papadopoulos helped set up a meeting between then-candidate Donald Trump and Egyptian President Abdel Fattah al-Sisi and edited the outline of Trump’s first major foreign policy speech in April 2016. The federal investigation, which is now being led by Special Counsel Robert Mueller, has hung over Trump’s White House since he took office almost a year ago. Some Trump allies have recently accused Mueller’s team of being biased against the Republican president. Lawyers for Papadopoulos did not immediately respond to requests by  for comment. Mueller’s office declined to comment. Trump’s White House attorney, Ty Cobb, declined to comment on the New York Times report. “Out of respect for the special counsel and his process, we are not commenting on matters such as this,” he said in a statement. Mueller has charged four Trump associates, including Papadopoulos, in his investigation. Russia has denied interfering in the U.S. election and Trump has said there was no collusion between his campaign and Moscow. '\n",
            " 'SEATTLE/WASHINGTON  - President Donald Trump called on the U.S. Postal Service on Friday to charge “much more” to ship packages for Amazon (AMZN.O), picking another fight with an online retail giant he has criticized in the past.     “Why is the United States Post Office, which is losing many billions of dollars a year, while charging Amazon and others so little to deliver their packages, making Amazon richer and the Post Office dumber and poorer? Should be charging MUCH MORE!” Trump wrote on Twitter.  The president’s tweet drew fresh attention to the fragile finances of the Postal Service at a time when tens of millions of parcels have just been shipped all over the country for the holiday season.  The U.S. Postal Service, which runs at a big loss, is an independent agency within the federal government and does not receive tax dollars for operating expenses, according to its website.  Package delivery has become an increasingly important part of its business as the Internet has led to a sharp decline in the amount of first-class letters. The president does not determine postal rates. They are set by the Postal Regulatory Commission, an independent government agency with commissioners selected by the president from both political parties. That panel raised prices on packages by almost 2 percent in November.  Amazon was founded by Jeff Bezos, who remains the chief executive officer of the retail company and is the richest person in the world, according to Bloomberg News. Bezos also owns The Washington Post, a newspaper Trump has repeatedly railed against in his criticisms of the news media. In tweets over the past year, Trump has said the “Amazon Washington Post” fabricated stories. He has said Amazon does not pay sales tax, which is not true, and so hurts other retailers, part of a pattern by the former businessman and reality television host of periodically turning his ire on big American companies since he took office in January. Daniel Ives, a research analyst at GBH Insights, said Trump’s comment could be taken as a warning to the retail giant. However, he said he was not concerned for Amazon. “We do not see any price hikes in the future. However, that is a risk that Amazon is clearly aware of and (it) is building out its distribution (system) aggressively,” he said. Amazon has shown interest in the past in shifting into its own delivery service, including testing drones for deliveries. In 2015, the company spent $11.5 billion on shipping, 46 percent of its total operating expenses that year.  Amazon shares were down 0.86 percent to $1,175.90 by early afternoon. Overall, U.S. stock prices were down slightly on Friday.  Satish Jindel, president of ShipMatrix Inc, which analyzes shipping data, disputed the idea that the Postal Service charges less than United Parcel Service Inc (UPS.N) and FedEx Corp (FDX.N), the other biggest players in the parcel delivery business in the United States. Many customers get lower rates from UPS and FedEx than they would get from the post office for comparable services, he said. The Postal Service delivers about 62 percent of Amazon packages, for about 3.5 to 4 million a day during the current peak year-end holiday shipping season, Jindel said. The Seattle-based company and the post office have an agreement in which mail carriers take Amazon packages on the last leg of their journeys, from post offices to customers’ doorsteps. Amazon’s No. 2 carrier is UPS, at 21 percent, and FedEx is third, with 8 percent or so, according to Jindel. Trump’s comment tapped into a debate over whether Postal Service pricing has kept pace with the rise of e-commerce, which has flooded the mail with small packages.Private companies like UPS have long claimed the current system unfairly undercuts their business. Steve Gaut, a spokesman for UPS, noted that the company values its “productive relationship” with the postal service, but that it has filed with the Postal Regulatory Commission its concerns about the postal service’s methods for covering costs. Representatives for Amazon, the White House, the U.S. Postal Service and FedEx declined comment or were not immediately available for comment on Trump’s tweet. According to its annual report, the Postal Service lost $2.74 billion this year, and its deficit has ballooned to $61.86 billion.  While the Postal Service’s revenue for first class mail, marketing mail and periodicals is flat or declining, revenue from package delivery is up 44 percent since 2014 to $19.5 billion in the fiscal year ended Sept. 30, 2017. But it also lost about $2 billion in revenue when a temporary surcharge expired in April 2016. According to a Government Accountability Office report in February, the service is facing growing personnel expenses, particularly $73.4 billion in unfunded pension and benefits liabilities. The Postal Service has not announced any plans to cut costs. By law, the Postal Service has to set prices for package delivery to cover the costs attributable to that service. But the postal service allocates only 5.5 percent of its total costs to its business of shipping packages even though that line of business is 28 percent of its total revenue. '\n",
            " 'WEST PALM BEACH, Fla./WASHINGTON  - The White House said on Friday it was set to kick off talks next week with Republican and Democratic congressional leaders on immigration policy, government spending and other issues that need to be wrapped up early in the new year. The expected flurry of legislative activity comes as Republicans and Democrats begin to set the stage for midterm congressional elections in November. President Donald Trump’s Republican Party is eager to maintain control of Congress while Democrats look for openings to wrest seats away in the Senate and the House of Representatives. On Wednesday, Trump’s budget chief Mick Mulvaney and legislative affairs director Marc Short will meet with Senate Majority Leader Mitch McConnell and House Speaker Paul Ryan - both Republicans - and their Democratic counterparts, Senator Chuck Schumer and Representative Nancy Pelosi, the White House said. That will be followed up with a weekend of strategy sessions for Trump, McConnell and Ryan on Jan. 6 and 7 at the Camp David presidential retreat in Maryland, according to the White House. The Senate returns to work on Jan. 3 and the House on Jan. 8. Congress passed a short-term government funding bill last week before taking its Christmas break, but needs to come to an agreement on defense spending and various domestic programs by Jan. 19, or the government will shut down. Also on the agenda for lawmakers is disaster aid for people hit by hurricanes in Puerto Rico, Texas and Florida, and by wildfires in California. The House passed an $81 billion package in December, which the Senate did not take up. The White House has asked for a smaller figure, $44 billion. Deadlines also loom for soon-to-expire protections for young adult immigrants who entered the country illegally as children, known as “Dreamers.” In September, Trump ended Democratic former President Barack Obama’s Deferred Action for Childhood Arrivals (DACA) program, which protected Dreamers from deportation and provided work permits, effective in March, giving Congress until then to devise a long-term solution. Democrats, some Republicans and a number of large companies have pushed for DACA protections to continue. Trump and other Republicans have said that will not happen without Congress approving broader immigration policy changes and tougher border security. Democrats oppose funding for a wall promised by Trump along the U.S.-Mexican border.  “The Democrats have been told, and fully understand, that there can be no DACA without the desperately needed WALL at the Southern Border and an END to the horrible Chain Migration & ridiculous Lottery System of Immigration etc,” Trump said in a Twitter post on Friday. Trump wants to overhaul immigration rules for extended families and others seeking to live in the United States. Republican U.S. Senator Jeff Flake, a frequent critic of the president, said he would work with Trump to protect Dreamers. “We can fix DACA in a way that beefs up border security, stops chain migration for the DREAMers, and addresses the unfairness of the diversity lottery. If POTUS (Trump) wants to protect these kids, we want to help him keep that promise,” Flake wrote on Twitter. Congress in early 2018 also must raise the U.S. debt ceiling to avoid a government default. The U.S. Treasury would exhaust all of its borrowing options and run dry of cash to pay its bills by late March or early April if Congress does not raise the debt ceiling before then, according to the nonpartisan Congressional Budget Office. Trump, who won his first major legislative victory with the passage of a major tax overhaul this month, has also promised a major infrastructure plan. '\n",
            " 'WEST PALM BEACH, Fla  - President Donald Trump said on Thursday he believes he will be fairly treated in a special counsel investigation into Russian meddling in the U.S. presidential election, but said he did not know how long the probe would last. The federal investigation has hung over Trump’s White House since he took office almost a year ago, and some Trump allies have in recent weeks accused the team of Justice Department Special Counsel Robert Mueller of being biased against the Republican president. But in an interview with the New York Times, Trump appeared to shrug off concerns about the investigation, which was prompted by U.S. intelligence agencies’ conclusion that Russia tried to help Trump defeat Democrat Hillary Clinton by hacking and releasing embarrassing emails and disseminating propaganda. “There’s been no collusion. But I think he’s going to be fair,” Trump said in what the Times described as a 30-minute impromptu interview at his golf club in West Palm Beach, Florida. Mueller has charged four Trump associates in his investigation. Russia has denied interfering in the U.S. election. U.S. Deputy Attorney General Rod Rosenstein said this month that he was not aware of any impropriety by Mueller’s team. Trump’s lawyers have been saying for weeks that they had expected the Mueller investigation to wrap up quickly, possibly by the end of 2017. Mueller has not commented on how long it will last. Trump told the Times that he did not know how long the investigation would take. “Timing-wise, I can’t tell you. I just don’t know,” he said. Trump said he thought a prolonged probe “makes the country look bad” but said it has energized his core supporters. “What it’s done is, it’s really angered the base and made the base stronger. My base is strong than it’s ever been,” he said. The interview was a rare break in Trump’s Christmas vacation in Florida. He has golfed each day aside from Christmas Day, and mainly kept a low profile, apart from the occasional flurry of tweets. He spent one day golfing with Republican Senator David Perdue from Georgia, who has pushed legislation to cap immigration numbers, and had dinner on Thursday with Commerce Secretary Wilbur Ross, an international trade hawk. Trump told the Times he hoped to work with Democrats in the U.S. Congress on a spending plan to fix roads and other infrastructure, and on protections for a group of undocumented immigrants who were brought to the United States as children. Trump spoke about trade issues, saying he had backed off his hard line on Chinese trade practices in the hope that Beijing would do more to pressure North Korea to end its nuclear and missile testing program. He said he had been disappointed in the results. He also complained about the North American Free Trade Agreement (NAFTA), which his administration is attempting to renegotiate in talks with Mexico and Canada. Trump said Canadian Prime Minister Justin Trudeau had played down the importance of Canadian oil and lumber exports to the United States when looking at the balance of trade between the two countries. “If I don’t make the right deal, I’ll terminate NAFTA in two seconds. But we’re doing pretty good,” Trump said. '\n",
            " 'The following statements\\xa0were posted to the verified Twitter accounts of U.S. President Donald Trump, @realDonaldTrump and @POTUS.  The opinions expressed are his own.\\xa0 has not edited the statements or confirmed their accuracy.  @realDonaldTrump : - While the Fake News loves to talk about my so-called low approval rating, @foxandfriends just showed that my rating on Dec. 28, 2017, was approximately the same as President Obama on Dec. 28, 2009, which was 47%...and this despite massive negative Trump coverage & Russia hoax! [0746 EST] - Why is the United States Post Office, which is losing many billions of dollars a year, while charging Amazon and others so little to deliver their packages, making Amazon richer and the Post Office dumber and poorer? Should be charging MUCH MORE! [0804 EST] -- Source link: (bit.ly/2jBh4LU) (bit.ly/2jpEXYR) '\n",
            " 'The following statements\\xa0were posted to the verified Twitter accounts of U.S. President Donald Trump, @realDonaldTrump and @POTUS.  The opinions expressed are his own.\\xa0 has not edited the statements or confirmed their accuracy.  @realDonaldTrump : - Together, we are MAKING AMERICA GREAT AGAIN! bit.ly/2lnpKaq [1814 EST] - In the East, it could be the COLDEST New Year’s Eve on record. Perhaps we could use a little bit of that good old Global Warming that our Country, but not other countries, was going to pay TRILLIONS OF DOLLARS to protect against. Bundle up! [1901 EST] -- Source link: (bit.ly/2jBh4LU) (bit.ly/2jpEXYR) '\n",
            " 'WASHINGTON  - Alabama Secretary of State John Merrill said he will certify Democratic Senator-elect Doug Jones as winner on Thursday despite opponent Roy Moore’s challenge, in a phone call on CNN. Moore, a conservative who had faced allegations of groping teenage girls when he was in his 30s, filed a court challenge late on Wednesday to the outcome of a U.S. Senate election he unexpectedly lost. ']\n",
            "\n",
            "Sample FAKE news:\n",
            "['Donald Trump just couldn t wish all Americans a Happy New Year and leave it at that. Instead, he had to give a shout out to his enemies, haters and  the very dishonest fake news media.  The former reality show star had just one job to do and he couldn t do it. As our Country rapidly grows stronger and smarter, I want to wish all of my friends, supporters, enemies, haters, and even the very dishonest Fake News Media, a Happy and Healthy New Year,  President Angry Pants tweeted.  2018 will be a great year for America! As our Country rapidly grows stronger and smarter, I want to wish all of my friends, supporters, enemies, haters, and even the very dishonest Fake News Media, a Happy and Healthy New Year. 2018 will be a great year for America!  Donald J. Trump (@realDonaldTrump) December 31, 2017Trump s tweet went down about as welll as you d expect.What kind of president sends a New Year s greeting like this despicable, petty, infantile gibberish? Only Trump! His lack of decency won t even allow him to rise above the gutter long enough to wish the American citizens a happy new year!  Bishop Talbert Swan (@TalbertSwan) December 31, 2017no one likes you  Calvin (@calvinstowell) December 31, 2017Your impeachment would make 2018 a great year for America, but I ll also accept regaining control of Congress.  Miranda Yaver (@mirandayaver) December 31, 2017Do you hear yourself talk? When you have to include that many people that hate you you have to wonder? Why do the they all hate me?  Alan Sandoval (@AlanSandoval13) December 31, 2017Who uses the word Haters in a New Years wish??  Marlene (@marlene399) December 31, 2017You can t just say happy new year?  Koren pollitt (@Korencarpenter) December 31, 2017Here s Trump s New Year s Eve tweet from 2016.Happy New Year to all, including to my many enemies and those who have fought me and lost so badly they just don t know what to do. Love!  Donald J. Trump (@realDonaldTrump) December 31, 2016This is nothing new for Trump. He s been doing this for years.Trump has directed messages to his  enemies  and  haters  for New Year s, Easter, Thanksgiving, and the anniversary of 9/11. pic.twitter.com/4FPAe2KypA  Daniel Dale (@ddale8) December 31, 2017Trump s holiday tweets are clearly not presidential.How long did he work at Hallmark before becoming President?  Steven Goodine (@SGoodine) December 31, 2017He s always been like this . . . the only difference is that in the last few years, his filter has been breaking down.  Roy Schulze (@thbthttt) December 31, 2017Who, apart from a teenager uses the term haters?  Wendy (@WendyWhistles) December 31, 2017he s a fucking 5 year old  Who Knows (@rainyday80) December 31, 2017So, to all the people who voted for this a hole thinking he would change once he got into power, you were wrong! 70-year-old men don t change and now he s a year older.Photo by Andrew Burton/Getty Images.'\n",
            " 'House Intelligence Committee Chairman Devin Nunes is going to have a bad day. He s been under the assumption, like many of us, that the Christopher Steele-dossier was what prompted the Russia investigation so he s been lashing out at the Department of Justice and the FBI in order to protect Trump. As it happens, the dossier is not what started the investigation, according to documents obtained by the New York Times.Former Trump campaign adviser George Papadopoulos was drunk in a wine bar when he revealed knowledge of Russian opposition research on Hillary Clinton.On top of that, Papadopoulos wasn t just a covfefe boy for Trump, as his administration has alleged. He had a much larger role, but none so damning as being a drunken fool in a wine bar. Coffee boys  don t help to arrange a New York meeting between Trump and President Abdel Fattah el-Sisi of Egypt two months before the election. It was known before that the former aide set up meetings with world leaders for Trump, but team Trump ran with him being merely a coffee boy.In May 2016, Papadopoulos revealed to Australian diplomat Alexander Downer that Russian officials were shopping around possible dirt on then-Democratic presidential nominee Hillary Clinton. Exactly how much Mr. Papadopoulos said that night at the Kensington Wine Rooms with the Australian, Alexander Downer, is unclear,  the report states.  But two months later, when leaked Democratic emails began appearing online, Australian officials passed the information about Mr. Papadopoulos to their American counterparts, according to four current and former American and foreign officials with direct knowledge of the Australians  role. Papadopoulos pleaded guilty to lying to the F.B.I. and is now a cooperating witness with Special Counsel Robert Mueller s team.This isn t a presidency. It s a badly scripted reality TV show.Photo by Win McNamee/Getty Images.'\n",
            " 'On Friday, it was revealed that former Milwaukee Sheriff David Clarke, who was being considered for Homeland Security Secretary in Donald Trump s administration, has an email scandal of his own.In January, there was a brief run-in on a plane between Clarke and fellow passenger Dan Black, who he later had detained by the police for no reason whatsoever, except that maybe his feelings were hurt. Clarke messaged the police to stop Black after he deplaned, and now, a search warrant has been executed by the FBI to see the exchanges.Clarke is calling it fake news even though copies of the search warrant are on the Internet. I am UNINTIMIDATED by lib media attempts to smear and discredit me with their FAKE NEWS reports designed to silence me,  the former sheriff tweeted.  I will continue to poke them in the eye with a sharp stick and bitch slap these scum bags til they get it. I have been attacked by better people than them #MAGA I am UNINTIMIDATED by lib media attempts to smear and discredit me with their FAKE NEWS reports designed to silence me. I will continue to poke them in the eye with a sharp stick and bitch slap these scum bags til they get it. I have been attacked by better people than them #MAGA pic.twitter.com/XtZW5PdU2b  David A. Clarke, Jr. (@SheriffClarke) December 30, 2017He didn t stop there.BREAKING NEWS! When LYING LIB MEDIA makes up FAKE NEWS to smear me, the ANTIDOTE is go right at them. Punch them in the nose & MAKE THEM TASTE THEIR OWN BLOOD. Nothing gets a bully like LYING LIB MEDIA S attention better than to give them a taste of their own blood #neverbackdown pic.twitter.com/T2NY2psHCR  David A. Clarke, Jr. (@SheriffClarke) December 30, 2017The internet called him out.This is your local newspaper and that search warrant isn t fake, and just because the chose not to file charges at the time doesn t mean they won t! Especially if you continue to lie. Months after decision not to charge Clarke, email search warrant filed https://t.co/zcbyc4Wp5b  KeithLeBlanc (@KeithLeBlanc63) December 30, 2017I just hope the rest of the Village People aren t implicated.  Kirk Ketchum (@kirkketchum) December 30, 2017Slaw, baked potatoes, or French fries? pic.twitter.com/fWfXsZupxy  ALT- Immigration   (@ALT_uscis) December 30, 2017pic.twitter.com/ymsOBLjfxU  Pendulum Swinger (@PendulumSwngr) December 30, 2017you called your police friends to stand up for you when someone made fun of your hat  Chris Jackson (@ChrisCJackson) December 30, 2017Is it me, with this masterful pshop of your hat, which I seem to never tire of. I think it s the steely resolve in your one visible eye pic.twitter.com/dWr5k8ZEZV  Chris Mohney (@chrismohney) December 30, 2017Are you indicating with your fingers how many people died in your jail? I think you re a few fingers short, dipshit  Ike Barinholtz (@ikebarinholtz) December 30, 2017ROFL. Internet tough guy with fake flair. pic.twitter.com/ulCFddhkdy  KellMeCrazy (@Kel_MoonFace) December 30, 2017You re so edgy, buddy.  Mrs. SMH (@MRSSMH2) December 30, 2017Is his break over at Applebees?  Aaron (@feltrrr2) December 30, 2017Are you trying to earn your  still relevant  badge?  CircusRebel (@CircusDrew) December 30, 2017make sure to hydrate, drink lots of water. It s rumored that prisoners can be denied water by prison officials.  Robert Klinc (@RobertKlinc1) December 30, 2017Terrill Thomas, the 38-year-old black man who died of thirst in Clarke s Milwaukee County Jail cell this April, was a victim of homicide. We just thought we should point that out. It can t be repeated enough.Photo by Spencer Platt/Getty Images.'\n",
            " 'On Christmas day, Donald Trump announced that he would  be back to work  the following day, but he is golfing for the fourth day in a row. The former reality show star blasted former President Barack Obama for playing golf and now Trump is on track to outpace the number of golf games his predecessor played.Updated my tracker of Trump s appearances at Trump properties.71 rounds of golf including today s. At this pace, he ll pass Obama s first-term total by July 24 next year. https://t.co/Fg7VacxRtJ pic.twitter.com/5gEMcjQTbH  Philip Bump (@pbump) December 29, 2017 That makes what a Washington Post reporter discovered on Trump s website really weird, but everything about this administration is bizarre AF. The coding contained a reference to Obama and golf:  Unlike Obama, we are working to fix the problem   and not on the golf course.  However, the coding wasn t done correctly.The website of Donald Trump, who has spent several days in a row at the golf course, is coded to serve up the following message in the event of an internal server error: https://t.co/zrWpyMXRcz pic.twitter.com/wiQSQNNzw0  Christopher Ingraham (@_cingraham) December 28, 2017That snippet of code appears to be on all https://t.co/dkhw0AlHB4 pages, which the footer says is paid for by the RNC? pic.twitter.com/oaZDT126B3  Christopher Ingraham (@_cingraham) December 28, 2017It s also all over https://t.co/ayBlGmk65Z. As others have noted in this thread, this is weird code and it s not clear it would ever actually display, but who knows.  Christopher Ingraham (@_cingraham) December 28, 2017After the coding was called out, the reference to Obama was deleted.UPDATE: The golf error message has been removed from the Trump and GOP websites. They also fixed the javascript  =  vs  ==  problem. Still not clear when these messages would actually display, since the actual 404 (and presumably 500) page displays a different message pic.twitter.com/Z7dmyQ5smy  Christopher Ingraham (@_cingraham) December 29, 2017That suggests someone at either RNC or the Trump admin is sensitive enough to Trump s golf problem to make this issue go away quickly once people noticed. You have no idea how much I d love to see the email exchange that led us here.  Christopher Ingraham (@_cingraham) December 29, 2017 The code was f-cked up.The best part about this is that they are using the  =  (assignment) operator which means that bit of code will never get run. If you look a few lines up  errorCode  will always be  404          (@tw1trsux) December 28, 2017trump s coders can t code. Nobody is surprised.  Tim Peterson (@timrpeterson) December 28, 2017Donald Trump is obsessed with Obama that his name was even in the coding of his website while he played golf again.Photo by Joe Raedle/Getty Images.'\n",
            " 'Pope Francis used his annual Christmas Day message to rebuke Donald Trump without even mentioning his name. The Pope delivered his message just days after members of the United Nations condemned Trump s move to recognize Jerusalem as the capital of Israel. The Pontiff prayed on Monday for the  peaceful coexistence of two states within mutually agreed and internationally recognized borders. We see Jesus in the children of the Middle East who continue to suffer because of growing tensions between Israelis and Palestinians,  Francis said.  On this festive day, let us ask the Lord for peace for Jerusalem and for all the Holy Land. Let us pray that the will to resume dialogue may prevail between the parties and that a negotiated solution can finally be reached. The Pope went on to plead for acceptance of refugees who have been forced from their homes, and that is an issue Trump continues to fight against. Francis used Jesus for which there was  no place in the inn  as an analogy. Today, as the winds of war are blowing in our world and an outdated model of development continues to produce human, societal and environmental decline, Christmas invites us to focus on the sign of the Child and to recognize him in the faces of little children, especially those for whom, like Jesus,  there is no place in the inn,  he said. Jesus knows well the pain of not being welcomed and how hard it is not to have a place to lay one s head,  he added.  May our hearts not be closed as they were in the homes of Bethlehem. The Pope said that Mary and Joseph were immigrants who struggled to find a safe place to stay in Bethlehem. They had to leave their people, their home, and their land,  Francis said.  This was no comfortable or easy journey for a young couple about to have a child.   At heart, they were full of hope and expectation because of the child about to be born; yet their steps were weighed down by the uncertainties and dangers that attend those who have to leave their home behind. So many other footsteps are hidden in the footsteps of Joseph and Mary,  Francis said Sunday. We see the tracks of entire families forced to set out in our own day. We see the tracks of millions of persons who do not choose to go away, but driven from their land, leave behind their dear ones. Amen to that.Photo by Christopher Furlong/Getty Images.'\n",
            " 'The number of cases of cops brutalizing and killing people of color seems to see no end. Now, we have another case that needs to be shared far and wide. An Alabama woman by the name of Angela Williams shared a graphic photo of her son, lying in a hospital bed with a beaten and fractured face, on Facebook. It needs to be shared far and wide, because this is unacceptable.It is unclear why Williams  son was in police custody or what sort of altercation resulted in his arrest, but when you see the photo you will realize that these details matter not. Cops are not supposed to beat and brutalize those in their custody. In the post you are about to see, Ms. Williams expresses her hope that the cops had their body cameras on while they were beating her son, but I think we all know that there will be some kind of convenient  malfunction  to explain away the lack of existence of dash or body camera footage of what was clearly a brutal beating. Hell, it could even be described as attempted murder. Something tells me that this young man will never be the same. Without further ado, here is what Troy, Alabama s finest decided was appropriate treatment of Angela Williams  son:No matter what the perceived crime of this young man might be, this is completely unacceptable. The cops who did this need to rot in jail for a long, long time   but what you wanna bet they get a paid vacation while the force  investigates  itself, only to have the officers returned to duty posthaste?This, folks, is why we say BLACK LIVES MATTER. No way in hell would this have happened if Angela Williams  son had been white. Please share far and wide, and stay tuned to Addicting Info for further updates.Featured image via David McNew/Stringer/Getty Images'\n",
            " 'Donald Trump spent a good portion of his day at his golf club, marking the 84th day he s done so since taking the oath of office. It must have been a bad game because just after that, Trump lashed out at FBI Deputy Director Andrew McCabe on Twitter following a report saying McCabe plans to retire in a few months. The report follows McCabe s testimony in front of congressional committees this week, as well as mounting criticism from Republicans regarding the Russia probe.So, naturally, Trump attacked McCabe with a lie. How can FBI Deputy Director Andrew McCabe, the man in charge, along with leakin  James Comey, of the Phony Hillary Clinton investigation (including her 33,000 illegally deleted emails) be given $700,000 for wife s campaign by Clinton Puppets during investigation?  Trump tweeted.How can FBI Deputy Director Andrew McCabe, the man in charge, along with leakin  James Comey, of the Phony Hillary Clinton investigation (including her 33,000 illegally deleted emails) be given $700,000 for wife s campaign by Clinton Puppets during investigation?  Donald J. Trump (@realDonaldTrump) December 23, 2017He didn t stop there.FBI Deputy Director Andrew McCabe is racing the clock to retire with full benefits. 90 days to go?!!!  Donald J. Trump (@realDonaldTrump) December 23, 2017Wow,  FBI lawyer James Baker reassigned,  according to @FoxNews.  Donald J. Trump (@realDonaldTrump) December 23, 2017With all of the Intel at Trump s disposal, he s getting his information from Fox News. McCabe spent most of his career in the fight against terrorism and now he s being attacked by the so-called president. Trump has been fact-checked before on his claim of his wife receiving $700,000 for her campaign.Politifact noted in late July that Trump s  tweet about Andrew McCabe is a significant distortion of the facts. And the implication that McCabe got Clinton off as a political favor doesn t make much sense when we look at the evidence. His July tweet was rated  mostly false.  But Trump repeats these lies because he knows his supporters will believe them without bothering to Google. It s still a lie, though.Photo by Zach Gibson   Pool/Getty Images.'\n",
            " 'In the wake of yet another court decision that derailed Donald Trump s plan to bar Muslims from entering the United States, the New York Times published a report on Saturday morning detailing the president s frustration at not getting his way   and how far back that frustration goes.According to the article, back in June, Trump stomped into the Oval Office, furious about the state of the travel ban, which he thought would be implemented and fully in place by then. Instead, he fumed, visas had already been issued to immigrants at such a rate that his  friends were calling to say he looked like a fool  after making his broad pronouncements.It was then that Trump began reading from a document that a top advisor, noted white supremacist Stephen Miller, had handed him just before the meeting with his Cabinet. The page listed how many visas had been issued this year, and included 2,500 from Afghanistan (a country not on the travel ban), 15,000 from Haiti (also not included), and 40,000 from Nigeria (sensing a pattern yet?), and Trump expressed his dismay at each.According to witnesses in the room who spoke to the Times on condition of anonymity, and who were interviewed along with three dozen others for the article, Trump called out each country for its faults as he read: Afghanistan was a  terrorist haven,  the people of Nigeria would  never go back to their huts once they saw the glory of America, and immigrants from Haiti  all have AIDS. Despite the extensive research done by the newspaper, the White House of course denies that any such language was used.But given Trump s racist history and his advisor Stephen Miller s blatant white nationalism, it would be no surprise if a Freedom of Information Act request turned up that the document in question had the statements printed inline as commentary for the president to punctuate his anger with. It was Miller, after all, who was responsible for the  American Carnage  speech that Trump delivered at his inauguration.This racist is a menace to America, and he doesn t represent anything that this country stands for. Let s hope that more indictments from Robert Mueller are on their way as we speak.Featured image via Chris Kleponis/Pool/Getty Images'\n",
            " 'Many people have raised the alarm regarding the fact that Donald Trump is dangerously close to becoming an autocrat. The thing is, democracies become autocracies right under the people s noses, because they can often look like democracies in the beginning phases. This was explained by Republican David Frum just a couple of months into Donald Trump s presidency, in a piece in The Atlantic called  How to Build an Autocracy. In fact, if you really look critically at what is happening right now   the systematic discrediting of vital institutions such as the free press and the Federal Bureau of Investigation as well the direct weaponization of the Department of Justice in order to go after Trump s former political opponent, 2016 Democratic nominee Hillary Clinton, and you have the makings of an autocracy. We are more than well on our way. Further, one chamber of Congress, the House of Representatives, already has a rogue band of Republicans who are running a parallel investigation to the official Russian collusion investigation, with the explicit intent of undermining and discrediting the idea that Trump could have possibly done anything wrong with the Russians in order to swing the 2016 election in his favor.All of that is just for starters, too. Now, we have Trump making United Nations Ambassador Nikki Haley bully and threaten other countries in the United Nations who voted against Trump s decision to change U.S. policy when it comes to recognition of Jerusalem as the capital of the Jewish State. Well, one expert, who is usually quite measured, has had enough of Trump s autocratic antics: Former CIA Director John O. Brennan. The seasoned spy took to Trump s favorite platform, Twitter, and blasted the decision:Trump Admin threat to retaliate against nations that exercise sovereign right in UN to oppose US position on Jerusalem is beyond outrageous. Shows @realDonaldTrump expects blind loyalty and subservience from everyone qualities usually found in narcissistic, vengeful autocrats.  John O. Brennan (@JohnBrennan) December 21, 2017Director Brennan is correct, of course. Trump is behaving just like an autocrat, and so many people in the nation are asleep when it comes to this dangerous age, in which the greatest threat to democracy and the very fabric of the republic itself is the American president. Fellow Americans, we know the GOP-led Congress will not be the check on Trump that they are supposed to be. It s time to get out and flip the House and possibly the Senate in 2018, and resist in the meantime, if we want to save our country from devolving into something that looks more like Russia or North Korea than the America we have always know. We re already well on our way.Featured image via BRENDAN SMIALOWSKI/AFP/Getty Images'\n",
            " 'Just when you might have thought we d get a break from watching people kiss Donald Trump s ass and stroke his ego ad nauseam, a pro-Trump group creates an ad that s nothing but people doing even more of those exact things. America First Policies is set to release this ad, called  Thank You, President Trump,  on Christmas Day and, well, we threw up a little in our mouths trying to watch this.Basically, the spot is nothing but people fawning all over Trump for all the stuff he hasn t actually done. The ad includes a scene with a little girl thanking Trump for bringing back  Merry Christmas,  which never went away (there are even videos of President Obama saying  Merry Christmas  himself). A man thanks him for cutting his taxes. And America First says that everyday Americans everywhere are thanking Trump for being such a great and awesome president.The best president.Nobody s ever done what he s done. He s breaking all kinds of records every day.Believe us.Anyway, the word  propaganda  comes to mind when watching this. That s what it is   literal propaganda promoting someone who shouldn t need this kind of promotion anymore. Watch this ad bullshit below:The way the MAGAs are kowtowing to Orange Hitler is both disgusting and frightening. The man has done nothing, and his policies will harm the very same Americans who are thanking him. Unfortunately, it will take an obscene amount of pain before they ll open their eyes and see they ve been duped by a con man with a bad hairdo.And his ongoing need for this kind of adoration is, at best, unbecoming of his office. This ad is vile.Featured image via Al Drago-Pool/Getty Images']\n"
          ]
        }
      ],
      "source": [
        "# Sample TRUE news after removing 'Reuters'\n",
        "print(\"Sample TRUE news after 'Reuters' removal:\")\n",
        "print(merged_no_duplicates_df[merged_no_duplicates_df['label'] == 'TRUE']['text'].head(10).values)\n",
        "\n",
        "# Sample FAKE news\n",
        "print(\"\\nSample FAKE news:\")\n",
        "print(merged_no_duplicates_df[merged_no_duplicates_df['label'] == 'FAKE']['text'].head(10).values)"
      ]
    },
    {
      "cell_type": "markdown",
      "metadata": {
        "id": "iFAe1QhnQPKI"
      },
      "source": [
        "Checking for Location Headers in the Data Set"
      ]
    },
    {
      "cell_type": "code",
      "execution_count": 23,
      "metadata": {
        "colab": {
          "base_uri": "https://localhost:8080/"
        },
        "id": "gR2YNTc8QMaG",
        "outputId": "5540bc1b-ed1d-48bb-d348-6cdfaf350177"
      },
      "outputs": [
        {
          "output_type": "stream",
          "name": "stdout",
          "text": [
            "\n",
            "Proportion of articles starting with a location header (Accurate Count):\n",
            "label\n",
            "FAKE    0.000172\n",
            "TRUE    0.898778\n",
            "Name: has_location_header, dtype: float64\n",
            "\n",
            "Total count of articles starting with a location header (Accurate Count):\n",
            "label\n",
            "FAKE        3\n",
            "TRUE    19046\n",
            "Name: has_location_header, dtype: int64\n"
          ]
        }
      ],
      "source": [
        "\n",
        "nlp = spacy.load(\"en_core_web_md\")\n",
        "\n",
        "def has_dateline_spacy(text: str) -> bool:\n",
        "    if pd.isnull(text):\n",
        "        return False\n",
        "\n",
        "    match = re.match(r'^(.{3,100}?)\\s*-\\s+', text)\n",
        "\n",
        "    if match:\n",
        "        header_candidate = match.group(1).strip()\n",
        "        doc = nlp(header_candidate.title())\n",
        "        if any(ent.label_ in [\"GPE\", \"LOC\", \"ORG\", \"FAC\"] for ent in doc.ents):\n",
        "            return True\n",
        "    return False\n",
        "\n",
        "merged_no_duplicates_df['has_location_header'] = merged_no_duplicates_df['text'].apply(has_dateline_spacy)\n",
        "\n",
        "print(\"\\nProportion of articles starting with a location header (Accurate Count):\")\n",
        "print(merged_no_duplicates_df.groupby('label')['has_location_header'].mean())\n",
        "\n",
        "print(\"\\nTotal count of articles starting with a location header (Accurate Count):\")\n",
        "print(merged_no_duplicates_df.groupby('label')['has_location_header'].sum())"
      ]
    },
    {
      "cell_type": "markdown",
      "metadata": {
        "id": "m7V_vxKQQVgP"
      },
      "source": [
        "Again, we have seen that the location header also creates a shortcut to identify the TRUE News as we see from the percentage that Fake news do not contain any location header. If we feed this information our model will rely on this particular location format than to genuinely learn how to detect the fake news. So we have decided to strip the location header."
      ]
    },
    {
      "cell_type": "code",
      "execution_count": 24,
      "metadata": {
        "colab": {
          "base_uri": "https://localhost:8080/"
        },
        "id": "euh6py7bQTuT",
        "outputId": "fef57a42-a2a8-45b4-dbd2-2b407cc26091"
      },
      "outputs": [
        {
          "output_type": "stream",
          "name": "stdout",
          "text": [
            "Processing complete.\n",
            "\n",
            "Total headers removed with the new method: 19049\n",
            "Headers possibly still remaining: 419\n"
          ]
        }
      ],
      "source": [
        "try:\n",
        "    nlp = spacy.load(\"en_core_web_md\")\n",
        "except OSError:\n",
        "    print(\"\\nModel not found.\")\n",
        "\n",
        "def remove_dateline_robust(text: str):\n",
        "\n",
        "    match = re.match(r'^(.{3,100}?)\\s*-\\s+', text)\n",
        "\n",
        "    if match:\n",
        "        # If a pattern is found, extract the header text.\n",
        "        header_candidate = match.group(1).strip()\n",
        "\n",
        "        # Process the candidate with spaCy.\n",
        "        doc = nlp(header_candidate.title())\n",
        "        if any(ent.label_ in [\"GPE\", \"LOC\", \"ORG\", \"FAC\"] for ent in doc.ents):\n",
        "            return text[match.end():], header_candidate\n",
        "\n",
        "    return text, None\n",
        "\n",
        "\n",
        "results_robust = merged_no_duplicates_df['text'].apply(remove_dateline_robust)\n",
        "merged_no_duplicates_df['text_cleaned'] = results_robust.apply(lambda x: x[0])\n",
        "merged_no_duplicates_df['header_removed'] = results_robust.apply(lambda x: x[1])\n",
        "\n",
        "print(\"Processing complete.\")\n",
        "\n",
        "num_removed_total = merged_no_duplicates_df['header_removed'].notna().sum()\n",
        "print(f\"\\nTotal headers removed with the new method: {num_removed_total}\")\n",
        "\n",
        "remaining_mask = merged_no_duplicates_df['text_cleaned'].str.match(r'^[A-Z][A-Z\\s,/.]*\\s-\\s')\n",
        "num_remaining = remaining_mask.sum()\n",
        "print(f\"Headers possibly still remaining: {num_remaining}\")"
      ]
    },
    {
      "cell_type": "code",
      "execution_count": 25,
      "metadata": {
        "colab": {
          "base_uri": "https://localhost:8080/"
        },
        "id": "b8hLYb6tTOoa",
        "outputId": "2686937a-4395-491a-d66a-526c229f82a1"
      },
      "outputs": [
        {
          "output_type": "stream",
          "name": "stdout",
          "text": [
            "['ABOARD AIR FORCE ONE  - President Donald Trump will not announce a decision on Monday on whether he will again delay moving the U.S. embassy in Israel to Jerusalem, a White House spokesman said, despite Monday’s deadline for doing so. An announcement on the decision will be made “in coming days,” White House spokesman Hogan Gidley told reporters aboard Air Force One as Trump was returning from a trip to Utah. Trump had been due to decide whether to sign a waiver that would hold off relocating the embassy from Tel Aviv for another six months, as every U.S. president has done since Congress passed a law on the issue in 1995. Senior U.S. officials have said that Trump is expected to issue a temporary order, the second since he took office, to delay moving the embassy despite his campaign pledge to go ahead with the controversial action. But the officials have said Trump is likely to give a speech on Wednesday unilaterally recognizing Jerusalem as Israel’s capital, a step that would break with decades of U.S. policy and could fuel violence in the Middle East. They have said, however, that no final decisions have been made. “The president has been clear on this issue from the get-go; that it’s not a matter of if, but a matter of when,” Gidley said. The Palestinians want East Jerusalem as the capital of their future state, and the international community does not recognize Israel’s claim on all of the city, home to sites holy to the Jewish, Muslim and Christian religions.         '\n",
            " 'ABOARD AIR FORCE ONE  - The White House said on Wednesday that it does not expect the government to shut down next month, but has contingency plans in place if the U.S. Congress fails to reach a deal on funding the government by a Dec. 8 deadline. “We are not anticipating a shutdown. We think that we’ll be able to work together. But the developments of the last 24 hours are discouraging,” White House spokesman Raj Shah told reporters traveling with Trump. Republicans control both chambers of the U.S. Congress, but their leaders will likely need to rely on at least some Democratic votes to pass the funding measure. “There are always contingencies in place. We hope it doesn’t get to that,” Shah said. Democratic leaders in Congress skipped a meeting with President Donald Trump on Tuesday that was expected to have been focused on the budget, raising the risk of a government shutdown next month with both sides far apart on the terms of an agreement. Senate Democratic Leader Chuck Schumer and Nancy Pelosi, the top Democrat in the House of Representatives, pulled out of the White House meeting because of a tweet that Trump sent earlier in the day attacking them as weak on illegal immigration and bent on raising taxes. Democrats have said they will demand help for young people brought to the United States illegally as children as part of their price for providing votes on the budget measure. '\n",
            " 'JUBA  - The United States has lost trust in South Sudan’s government for fueling the country’s civil war and it must bring peace or risk losing support from Washington, U.S. Ambassador to the United Nations Nikki Haley told the nation’s President Salva Kiir.  Haley was the first senior member of President Donald Trump’s administration to visit South Sudan, which spiraled into civil war in 2013, just two years after gaining independence from Sudan. She met one on one with Kiir for some 45 minutes.  “I let him know that the United States was at a crossroads and that every decision going forward was going to be based on his actions,” Haley told reporters after the meeting in the capital Juba. The United Nations has warned that the violence in South Sudan, which has forced some 4 million people to flee their homes, was providing “fertile ground” for a genocide. Kiir’s government has denied U.N. allegations of ethnic cleansing. Haley had to cut short a visit to a camp for South Sudanese displaced by the violence amid rowdy anti-Kiir protests.  “He understood that Americans were disappointed in his leadership in South Sudan, I made that very clear. And he understood that all the aid or help that he hopes will go forward is not a given,” she said.  Haley did not elaborate on what further action Washington could take, but said that Kiir “got what I was trying to say.” On Monday she said Washington was considering how to pressure Kiir into peace, though noted that withdrawing aid may not work. The Trump administration last month imposed sanctions on two senior South Sudanese officials and the former army chief. “We have lost trust in the government and we now need to regain that trust and the only way to regain that trust is through the actions of taking care of all of the people,” Haley told South Sudan’s Eye Radio. She demanded that Kiir allow full and consistent humanitarian aid access and bring peace and stability to the country. She said she pushed a timeline for Kiir to act, but declined to elaborate.  Nhial Deng Nihal, a senior adviser to Kiir, said the president told Haley his government and a U.N. peacekeeping mission in South Sudan had established “mechanisms that work jointly to improve and address the humanitarian problems.” He also told reporters that Kiir said government troops “will also be observing a cessation of hostilities in order to create an atmosphere for dialogue.” The civil war was sparked by a feud between Kiir, a Dinka, and his former deputy Riek Machar, a Nuer. It has plunged parts of the world’s youngest nation into famine. A fragile peace deal broke down last year and Machar fled the country. He is being held in South Africa to stop him stirring up trouble, sources told  in December.  Haley had to cut short a visit to a camp in Juba, where U.N. peacekeepers are protecting some 30,000 displaced people, after hundreds of rowdy pro-Machar protesters blocked nearby roads, yelling “Salva Kiir is a killer” and “Welcome USA.” Protesters held a large sign that read “South Sudan IDPs (internally displaced people) and refugees love President Trump, the peacemaker and supporter of human rights.”  A spokeswoman for the U.N. mission said the protest “started to gain momentum after (Haley) left, IDPs became upset that she was not able to meet with them.” Haley was meeting with a displaced family when she had to leave early due to security concerns.  The previous U.S. administrations of President George W. Bush and President Barack Obama were heavily involved in the birth of South Sudan, which signed a peace accord with Sudan in 2005 and gained independence in 2011. '\n",
            " 'CAPE TOWN  - The United States discriminated against the nuclear and coal industries under the administration of former President Barack Obama, U.S. Secretary of Energy Rick Perry said on Wednesday. “Nuclear and coal ... Those two industries were discriminated against over the course of the last administration,” Perry told reporters at an oil conference in Cape Town, when asked about a U.S. government directive to support ageing coal and nuclear plants.  The directive would reward certain nuclear and coal-fired plants that store 90 days of fuel on site for contributing to the reliability of the national grid. U.S. industries that rarely agree, including gas drillers and renewable energy producers, oppose it on the grounds that it props up “uneconomic generation.” Asked about threats to U.S. energy supplies, Perry, a former governor of the oil hub of Texas, cited cyber security as the main concern followed by natural disasters such as hurricanes. '\n",
            " 'ABOARD THE PAPAL PLANE  - Pope Francis said he hoped U.S. President Donald Trump would re-think his decision to end a program protecting undocumented immigrant children, saying it was important for young people to have roots. “One hopes that it is re-thought somewhat,” Francis said on Sunday in answer to a question on the plane returning from Colombia about the program started by his predecessor and known as Deferred Action on Childhood Arrivals (DACA). He spoke about DACA and the problems of immigrant families in general, adding that he wanted to learn more about Trump’s decision. Trump’s move this month to end the five-year-old program instituted by former President Barack Obama plunged almost 800,000 young people, known as “Dreamers,” into uncertainty. It drew criticism from business and religious leaders, mayors, governors, Democratic lawmakers, unions and civil liberties advocates. Trump said during his election campaign he would end DACA if he became president. Last week, 15 states and the District of Columbia filed a lawsuit challenging Trump’s decision. It claims his decision was “motivated, at least in part, by a discriminatory motive” against Mexicans, who are the largest beneficiary of the program. It points to his statements from the 2016 presidential campaign.. “In the end, young people feel like they have no hope. And who robs them of hope? Drugs, other addictions, suicides - youth suicides are very high - and this happens when they are torn from their roots,” Francis said. “The relationship between a young person and his roots is very important. Young people who have been uprooted today are asking for help,” he said. He appeared to take a swipe at Trump when he said: “The president of the United States ... presents himself as a man who is pro-life. If he is a good pro-lifer, he understands that the family is the cradle of life and you have to defend its unity.” The pope has already clashed with Trump over immigration issues, such as the president’s intention to build a wall on the border with Mexico and deport undocumented aliens. Francis, the first Latin American pope, has made defense of immigrants a major plank of his papacy. The pontiff said during the presidential campaign that a man who thought about building walls and not bridges was “not Christian”. Trump, who grew up in a Presbyterian family, shot back saying it was “‘disgraceful” for the pope to question his faith. Trump met the pope at the Vatican during a tour of the Middle East and Europe last May. '\n",
            " 'ABOARD AIR FORCE ONE  - U.S. Treasury Secretary Steven Mnuchin said on Wednesday he expects President Donald Trump’s tax plan to be considered by congressional committees later this month. “We have a plan. The plan’s being socialized with members,” Mnuchin told reporters on Air Force One after Trump touted tax reform in a speech in North Dakota. “Our expectation is it will be in the committees later this month,” Mnuchin said. '\n",
            " 'ON BOARD AIR FORCE ONE  - The White House on Tuesday downplayed talk of division among President Donald Trump’s advisers after Secretary of State Tillerson and economic adviser Gary Cohn appeared to criticize Trump for his response to the violence in Charlottesville, Virginia. In an interview on Fox News Sunday over the weekend, Tillerson said “the president speaks for himself” when asked about Trump’s values. Cohn, who was standing near the president in Trump Tower this month when Trump said there were “very fine people” on both sides of the demonstration that was sponsored by neo-Nazis and white supremacists, told the Financial Times in an interview that citizens standing up for freedom could never be equated with such groups. White House spokeswoman Sarah Sanders said on Tuesday that senior administration officials were not distancing themselves from the president despite the comments from Tillerson and Cohn. She said Trump’s relationship with Tillerson was “very strong” and that Cohn was committed to working on tax reform. “I think that ... at moments you have people that disagree, I think that’s a healthy thing,” she told reporters on Air Force One.     '\n",
            " 'SANTIAGO  - U.S. Vice President Mike Pence said on Wednesday he was confident a renegotiation of the NAFTA trade pact between the United States, Mexico and Canada will be a “win win win.”  Speaking to business leaders in Santiago, Pence added it was important for Chile to comply with the intellectual property rights section of its free trade agreement with the United States and that he had urged President Michelle Bachelet to make TV piracy a criminal offense.  '\n",
            " 'SANTIAGO  - U.S. Vice President Mike Pence said on Wednesday he was confident a renegotiation of the NAFTA trade pact between the United States, Mexico and Canada will be a “win win win.”  Speaking to business leaders in Santiago, Pence added it was important for Chile to comply with the intellectual property rights section of its free trade agreement with the United States and that he had urged President Michelle Bachelet to make TV piracy a criminal offense. '\n",
            " 'ABOARD AIR FORCE ONE  - President Donald Trump will examine whether a bill toughening sanctions on Russia is offering the “best deal” for the American people, White House spokeswoman Sarah Sanders said on Monday. “He’s going to study that legislation and see what the final product looks like,” Sanders told reporters during a briefing on Air Force One, when asked whether Trump would support the legislation. '\n",
            " 'ABOARD AIR FORCE ONE  - U.S. Attorney General Jeff Sessions was at the White House on Monday but did not meet with President Donald Trump, who referred to him in a tweet as “beleaguered” earlier in the day, White House spokeswoman Sarah Sanders said. Sanders reiterated that Trump was frustrated with Sessions for recusing himself from the Justice Department’s Russia investigation. Sessions said last week he loved his job and planned to continue serving. '\n",
            " 'SANAA  - A Yemeni government official expressed disappointment over a decision by the U.S. Supreme Court on Monday to allow much of President Donald Trump’s ban on travelers from six Muslim-majority countries and all refugees to go back into effect. “We’re disappointed with this decision. We believe it will not help in confronting terrorism and extremism, but rather will increase feelings among the nationals of these countries that they are all being targeted,” said Ahmed al-Nasi, an official in Yemen’s Ministry of Expatriate Affairs. This was especially the case, he added, “given that Yemen is an active partner of the United States in the war on terrorism,” conducting joint operations against militants inside Yemen. '\n",
            " 'ABOARD AIR FORCE ONE  - President Donald Trump has the right to fire special counsel Robert Mueller, who is investigating alleged Russian meddling in the 2016 U.S. election and possible ties to the Trump campaign, but has no plans to do so, White House spokeswoman Sarah Sanders said on Tuesday. Christopher Ruddy, a Trump friend and chief executive of Newsmax Media, told PBS’ “NewsHour” program on Monday that Trump was considering firing Mueller. “While the president has the right to, he has no intention to do so,” Sanders said when asked whether Trump was considering the move. She spoke to reporters as Trump returned to Washington from an event in Wisconsin. '\n",
            " 'HELSINKI  - If the United States withdraws from the Paris climate deal, it would be a big setback, Finland’s Prime Minister Juha Sipila told parliament on Wednesday. “If this is true, it is a big setback. Then, we must find partners to continue, because this work must not stop,” Sipila said. Climate change was a priority for Finland in the Arctic Council as well as the European Union, he said.     U.S. President Donald Trump is expected to make an announcement on whether he will stay in the agreement this week, with media reports on Wednesday suggesting he had made up his mind to withdraw. '\n",
            " 'ABOARD AIR FORCE ONE  - U.S. President Donald Trump on Wednesday will interview four candidates for the position of director of the Federal Bureau of Investigation, White House spokesman Sean Spicer told reporters. Spicer, who was aboard Air Force One with Trump, said the president would meet with acting FBI Director Andrew McCabe, former Oklahoma Governor Frank Keating, former Connecticut Senator Joe Lieberman and former senior FBI official Richard McFeely. The position was left vacant after Trump fired James Comey. '\n",
            " 'ABOARD AIR FORCE ONE  - U.S. President Donald Trump said on Thursday he would be ready to act unilaterally to address North Korea’s nuclear program if China does not step up to help with the matter. “Certainly I would be,” Trump told reporters when asked whether he would be willing act alone on North Korea. “But I think China will want to be stepping up.” '\n",
            " 'SANTIAGO  - U.S. President Donald Trump expressed concern about the political and humanitarian situation in Venezuela in a call on Sunday with Chilean President Michelle Bachelet, the Chilean president told reporters on Monday. Bachelet said she talked with Trump about the actions regional leaders were taking with regard to Venezuela, which has been wracked by an economic crisis in the last three years and is facing external pressure to make political reforms. “(President Trump) presented to me his worries about the situation in Venezuela,” Bachelet told reporters at the La Moneda presidential palace in Chile’s capital, Santiago.  “I told him about the actions (Chile’s) foreign ministry is carrying out together with other foreign ministries, and we are staying in contact to see how we can help Venezuela have a peaceful exit from its domestic situation.” Venezuelans are suffering from severe shortages of basic goods, including food. The government of Nicolas Maduro blames private businesses for sabotaging the economy with price speculation and routinely denounces opposition activists as coup-plotters, intent on bringing down socialism in the country. Opposition leaders say the Maduro government has undermined democracy by canceling a key referendum and delaying local elections, among other measures. Last week, Luis Almagro, secretary general of the Organization of American States, said Venezuela should be suspended from the organization if it does not hold general elections as soon as possible. Relations between Venezuela and the United States have been rocky since former socialist president Hugo Chavez rose to power in 1999. The South American country has repeatedly criticized the United States for interfering in its domestic affairs.  The U.S. blacklisted Venezuela’s vice president as a drug trafficker in February, and Trump later that month called for the release of jailed opposition leader Leopoldo Lopez. '\n",
            " 'ABOARD AIR FORCE ONE  - President Donald Trump is working with Republican leaders in the House of Representatives to make changes to their healthcare overhaul plan to ensure it has enough support to be approved by lawmakers, a White House spokesman said on Wednesday. “We’re obviously in talks with Speaker (Paul) Ryan, the entire leadership team over there ... to get the best outcome based on feedback from members,” White House spokesman Sean Spicer told reporters during a briefing. '\n",
            " 'ABOARD AIR FORCE ONE  - The conversations U.S. Attorney General Jeff Sessions had last year with Russia’s ambassador were not related to his role advising the Trump campaign but solely to his work as a U.S. senator, the White House said on Thursday. “He was clearly conducting himself as a United States senator,” White House spokesman Sean Spicer told reporters aboard Air Force One. “This is what senators do.” '\n",
            " 'ON BOARD AIR FORCE ONE  - The White House is confident that it will prevail in a legal back-and-forth over President Donald Trump’s executive order to prevent travelers from seven countries entering the United States, spokesman Sean Spicer said on Monday. “Clearly the law is on the president’s side,” Spicer told reporters on Air Force One. “He has broad discretion to do what’s in the nation’s best interest to protect our people, and we feel very confident that we will prevail in this matter.” '\n",
            " 'VALLETTA  - “Our Donald”, or “the other Donald”? European Union leaders meeting in Malta found themselves taking sides, between their summit chairman, “our Donald” Tusk, and the new U.S. president, Donald Trump. But despite declarations of unity, EU states are split on how to respond to policies from a man who has reversed staunch postwar U.S. support for European integration and suggested others follow Britain out of a bloc he has called “a vehicle for Germany”. Tusk, a former Polish prime minister, said EU leaders gave him the “our Donald” nickname in Malta. He presented it as a sign of their support, saying before the summit that Trump posed a “threat” to the bloc, alongside Russia, China and violent Islam. “The mood in the room was ‘our Donald’ and ‘the other Donald’,” said one person present at the talks, where Tusk also felt confident enough in his support to confirm he wants a second term as president of the European Council. His political enemies in the Warsaw government publicly disavowed any sense of unanimity behind Tusk, however, calling his criticism of Trump a “gross abuse” and accusing him of “sowing fear” and “seeking confrontation”.  Others, less publicly, said there was wider disquiet that the EU could turn its back on its Transatlantic relationship. Such internal arguments pit historic unease, especially in France, over U.S. influence against fears of weakening a Western front against Russia and, increasingly, China. How they play out will help shape Trump’s hopes, for example, of saving U.S. money spent on NATO and shifting world trade in Americans’ favor. They will also flavor the EU’s Brexit talks with London - where Prime Minister Theresa May sees Britain being a bridge between Washington and Brussels - as well as efforts by some states to tighten cooperation on euro zone economic policies and other areas, notably an independent EU military capability. As a Pole well aware it is U.S. forces that underpin NATO’s security guarantees in eastern Europe, Tusk nuanced his call to Europeans to pull together to defend their independent interests against the “superpowers, the United States, Russia and China” with an appeal to Americans to preserve “the Transatlantic bond without which global order and peace cannot survive”. But some leaders worry Trump’s coolness toward NATO and the exit of well-armed Britain will fuel ambitions for Europeans to loosen that bond - notably in Paris, which has often chafed at “Anglo-American” influence and where officials say Trump shows France has been right to seek “strategic autonomy” for the EU. “The French ... are as usual saying ‘It’s just the European Union now; there’s no such thing as the West’,” said a senior eastern European diplomat, criticizing Paris’s view.  “The Germans are much more cautious. There is a clear issue to be decided on whether we should seek a common ground to engage with the United States, or turn our backs.” As EU leaders prepare to map out a post-Brexit strategy at a 60th anniversary summit in Rome next month, French President Francois Hollande criticized Trump and eastern European governments he accused of raking in EU subsidies but then breaking ranks and undermining the bloc by seeking special favor from Washington. Many in the east are especially alarmed by Trump’s warmer tone toward Russia but some back his entry ban on Muslims, which echoes their own criticisms of EU refugee policies. German Chancellor Angela Merkel took a less confrontational tone but stressed the need for “multilateralism” - a prod to Trump not to try and circumvent the EU by talking only to national leaders, and to Europeans to speak with a single voice. Whether “the other Donald” gets that message is another matter, given a seemingly hazy grasp on who is who in Brussels. The tycoon-turned-president told an interviewer last month he had spoken to “the head of the European Union” and named his interlocutor as Jean-Claude Juncker, the EU chief executive.  In fact, however, he had spoken to “our Donald”, Tusk.  “Sometimes I have an impression that the new administration does not know the EU in detail,” Juncker said drily on Friday. “But, in Europe, details matter.” '\n",
            " 'VALLETTA  - European Union leaders said they agreed to stick together in dealing with Donald Trump, but at their first summit since he took office they were at odds on how far to confront or engage with the new U.S. president. Trump and his policies, from questioning the value of NATO and free trade to banning Muslim refugees, came up repeatedly in discussions in Malta on external “challenges” facing the Union. British Prime Minister Theresa May, about to lead her country out of the EU, briefed peers on her visit to Washington last week and assured them Trump was committed to cooperating in their defense — just as Britain would also be after Brexit. Francois Hollande, the outgoing Socialist president of France, led criticism of Trump, calling it “unacceptable” for him to applaud Brexit and forecast the break-up of the EU. In thinly veiled rebukes to May and some eastern states, he warned of trying to cut their own transatlantic deals. “A lot of countries should think of their future first of all in the European Union rather than imagining I don’t what kind of bilateral relationship with the United States,” he said. Lithuanian President Dalia Grybauskaite, who like many in the east is alarmed by Trump’s conciliatory noises to Moscow, poured cold water on May’s suggestion Britain could be a link to Washington. Europe did not need a “bridge”, she was quoted as saying, because it could communicate with Trump on Twitter. But her Polish neighbor, Beata Szydlo, reserved her main  criticisms for her predecessor as prime minister, EU summit chair Donald Tusk, who described Trump this week as a “threat” to the EU, along with Russia, China and militant Islam.  “European politicians trying to build this sense of fear ... are making a mistake,” said Szydlo, whose government, like Trump, has spoken out against Muslim immigration. “One cannot be confrontational in our relations with the United States.” Stressing the need for unity, the bloc’s dominant leader, German Chancellor Angela Merkel, said Europeans still had common ground with the United States in many areas, while not sharing Trump’s scepticism about many international institutions. “We have again made very clear our common values and our faith in multilateralism,” she told a news conference.  The Union would, she said, push for free trade deals with more nations as Trump pulls back. But cooperation with the United States against militant threats would continue, she said. One EU diplomat said France was clearly pushing to use the Trump presidency to rally Europeans behind a policy of greater distance from Washington and turning to the EU, rather than NATO, for their security.  “The Germans are much more cautious,” the diplomat said. “There is a clear issue to be decided: whether we seek common ground to engage with the United States, or turn our backs.” Summit host Joseph Muscat, the Maltese prime minister, chose to emphasize balance in summing up the discussions, speaking of “concern” at Trump’s policy but “no sense of anti-Americanism”. “There was a sense that we need to engage with the U.S. just the same,” Muscat said. “But we need to show that we cannot stay silent where there are principles involved.” '\n",
            " 'ABOARD AIR FORCE ONE  - U.S. President Donald Trump is considering several more executive orders concerning national security that could be issued as early as Friday but has not yet made decisions on their scope or sequencing, the White House said on Thursday. Drafts of executive orders on a series of issues have leaked recently, but White House spokesman Sean Spicer declined to comment specifically on what was under consideration.’ “I think the president sometime later today will be presented with some options by his senior team and decide whether or not they meet his intent and whether or not all of them are ones that he wants to go either by the end of this week or into next week,” Spicer told reporters traveling with Trump to Philadelphia, where the president will meet with Republican lawmakers. Responding to questions about reports that Trump was looking at reducing the U.S. role in the United Nations and other international institutions, Spicer said Trump was reviewing all federal government spending, in the United States and abroad. “I’m not ready to make any announcements on funding or action on any of those institutions,” Spicer said. Asked whether Trump was considering executive action to bring back a program to hold terrorism suspects in secret overseas “black site” prisons, Spicer declined to comment. “There is a question of what he wants and whether or not those documents represent his current thinking, what his desires are. There’s inputs that can be shared with individuals or with the White House or with staff, it doesn’t necessarily reflect the president’s current thinking,” he said. Trump plans to sign an executive order later on Thursday ordering an investigation into U.S. voter fraud, which repeated studies have shown is rare and isolated. On Friday, he intends to visit the Pentagon where he will participate in a ceremonial swearing-in of new Defense Secretary James Mattis, and meet with the Joint Chiefs of Staff and others to get assessments on a broad range of national security issues. “There’s a lot of issues that he continues to be updated on on a daily basis, from a national security standpoint, from military hot spots, whether it’s Syria, our efforts there or our efforts to fight ISIS - other threats that we face, whether it’s the Middle East or South China Sea,” Spicer said. “But he’s going to continue to get briefed and have a discussion on their assessment of the current national security situation.”  Trump will also hold a press conference on Friday with British Prime Minister Theresa May, his first meeting with a foreign leader at the White House, Spicer said. The president had planned to meet with U.S. Senator Orrin Hatch and U.S. Representative Kevin Brady on trade issues later on Thursday, but that meeting was postponed, Spicer said. '\n",
            " 'SANTIAGO  - Chile will continue to pursue trade deals even though the Trans-Pacific Partnership (TPP) is off the table after U.S. President Donald Trump withdrew the United States from the pact, Foreign Minister Heraldo Munoz told journalists on Monday. Munoz said that while another regional trade deal without the United States might be possible, “it wouldn’t be the TPP.” The South American country has invited ministers from other TPP members as well as China and South Korea to a summit in Chile in March to discuss how to proceed, and has received positive responses at a high level, Munoz said. “The TPP as it was going forward is off the table. That doesn’t mean that Chile is going to change tack. We are going to persist in the opening up of the world ... as we did in the past, with bilateral deals, and regional deals,” he said. Top copper exporter Chile has a small but open economy, with existing free trade deals with all the other TPP members. Earlier on Monday, Trump fulfilled a campaign promise by formally withdrawing the United States from the TPP, a 12-nation project that had been negotiated by former Democratic President Barack Obama’s administration but never approved by Congress. Mexico said it would immediately seek bilateral deals with other countries that signed the TPP. '\n",
            " 'HO CHI MINH CITY  - Outgoing U.S. Secretary of State John Kerry said on Friday he was confident the next administration would stick to the same peaceful principles on Asian security as the current one, despite hawkish comments from President-elect Donald Trump’s cabinet picks. Referring to the disputed South China Sea, Kerry told a university audience in Ho Chi Minh City that countries, big or small, should refrain from provocation and any dispute should be resolved peacefully in accordance with international law. Kerry said he was “confident the next administration will continue to adhere to the same good faith with the policies that I just articulated.” His comments came after his nominated replacement, Rex Tillerson, said the United States must send a clear signal to China that its island-building in the South China Sea must stop and that its access to those islands must not be allowed. On Thursday, Trump’s pick to lead the Pentagon, retired Marine General James Mattis, said Russia, China and Islamist militants were presenting the biggest challenge to the U.S.-led world order since World War Two, and called for Congress to lift spending caps undermining military readiness. China claims most of the energy-rich South China Sea,  through which about $5 trillion in ship-borne trade passes every year. Neighbours Brunei, Malaysia, the Philippines, Taiwan and Vietnam also have claims. China has reclaimed seven reefs in the area, building man-made islands with anti-aircraft and anti-missile batteries, satellite images show. The United States would have to “wage a large-scale war” in the South China sea to prevent Chinese access to the islands, the influential state-run Chinese tabloid, the Global Times, said on Friday. “Tillerson had better bone up on nuclear power strategies if he wants to force a big nuclear power to withdraw from its own territories,” the paper said. The Philippines, which is seeking to improve ties with Beijing, said any U.S. action to drive China from the artificial islands would be its own prerogative, and in its own national interest. Foreign Secretary Perfecto Yasay was replying to a question during a television interview about Tillerson’s comments. “They said that they would prevent China from doing or undertaking these kind of activity. If it wants to do that, they have the force to do so, let them do it,” Yasay said. China has built several artificial islands in the exclusive economic zone of the Philippines, which an arbitration tribunal in The Hague last year ruled unlawful. Philippine President Rodrigo Duterte reiterated last month he wanted to avoid confrontation with China and saw no need to press Beijing to abide by the ruling. Yasay earlier said the Philippines wanted to strengthen ties with the United States and that Washington should be an “influential force” in Asia and help maintain balance there. He said he hoped the new government in Washington would refrain from criticising countries, as the Obama administration had over the Philippines’ deadly drugs war, and he welcomed Tillerson’s views that decisions and comments should be based on facts. '\n",
            " 'BUENOS AIRES  - The Trump Organization has no plans to build in Buenos Aires, a spokeswoman told  on Tuesday, ending speculation a new Trump office tower would soon appear near the landmark obelisk in the heart of Argentina’s capital.  The city government said in late November it had declined to authorize a permit to build an office tower linked to the U.S. president-elect, clarifying that developers would have to file new paperwork for it to be reconsidered. The “Trump Tower” project made international headlines after a local news report that Trump mentioned the proposed office complex when Argentine President Mauricio Macri put in a congratulatory call to him after his Nov. 8 election.  The Macri administration said the report was untrue and that the project was not mentioned during the call. Macri knew Trump from his days working as a businessman but had said before the election he preferred Democrat Hillary Clinton.   “There are no plans to build in Buenos Aires,” said the Trump Organization spokeswoman, who asked not to be named. Trump, a businessman who has never held public office, has real estate and leisure holdings all over the world, sparking concerns his investments could color his decision-making after he becomes president on Jan. 20.  He has said he will remove himself from day-to-day business operations before taking office, avoiding potential conflicts of interest by transferring control of his businesses to his three eldest children. His company pulled out of a hotel venture in Rio de Janeiro last month. Developers YY Development Group, which built a nearly completed Trump Tower at the Punta del Este resort in Uruguay, told the Argentine paper La Nacion this week that the Buenos Aires project had been called off for now. The Buenos Aires city government said in November the Trump project first surfaced in early 2007 when a firm identified as Kubic S.A. filed a building request for a plot of land now used as a downtown parking lot. The plan was approved, but expired when construction did not begin within a stipulated three-year period, the city’s statement said. Last August, the city said, a firm called Repetto Oeste SA sought to revive the 2007 plan, but the request was not authorized. '\n",
            " 'ABOARD AIR FORCE ONE  - The White House said on Tuesday it does not know where President-elect Donald Trump got his figure of more than $4 billion to replace the Air Force One plane that transports presidents, a spokesman said on Tuesday. Trump urged the federal government on Tuesday to cancel an order with Boeing Co to develop a new Air Force One, saying costs were more than $4 billion and “out of control.” “Some of the statistics that have been cited, shall we say, don’t appear to reflect the nature of the financial arrangement between Boeing and the Department of Defense,” White House spokesman Josh Earnest told reporters. '\n",
            " 'SANTIAGO  - Countries involved in the Trans-Pacific Partnership (TPP) trade pact will continue working to bring a deal to fruition despite a pledge by U.S. President-elect Donald Trump to withdraw from the accord, Chile’s foreign minister said on Tuesday. “Whether it be with the United States or without the United States, there’s a willingness among the countries that make up the TPP to move forward,” Heraldo Munoz told a news conference ahead of a visit by Chinese President Xi Jinping to the South American nation. “Whether it’s to be the same framework as the current TPP, that remains to be seen.” On Monday, Trump released a video pledging to withdraw from the TPP on his first day in office, calling it “a potential disaster” for the United States.  World leaders have had varying reactions to Trump’s comments, with Japanese Prime Minister Shinzo Abe saying during a visit to Buenos Aires that U.S. abandonment of the deal would render it “meaningless.” The future of the 12-nation deal, which does not include China, was one of the key themes of summit talks between leaders of Asia-Pacific Economic Cooperation (APEC) economies in Lima in recent days. There is debate over to what extent a U.S.-free TPP might  advance without a complete renegotiation. China has been pushing its own alternative trade pact, which excludes the Americas, although it has said other countries including Chile are interested in joining. The Chinese premier was due to arrive in Santiago on Tuesday, where he will meet with Chilean President Michelle Bachelet and speak at the United Nations’ Latin American arm, ECLAC. Munoz said China and Chile plan to sign an agreement to deepen bilateral trade ties during Xi’s visit. In a column in national newspaper El Mercurio published on Tuesday, Xi wrote that Chile and China should work together to facilitate free trade and business ties in areas such as mining, agriculture, infrastructure, telecommunications, clean energy and IT. '\n",
            " 'BUENOS AIRES  - Ivanka Trump, daughter of U.S. President-elect Donald Trump, briefly joined her father’s telephone call with Argentine President Mauricio Macri earlier this month, Macri’s spokesman said on Tuesday. The two men spoke on Nov. 14, making Macri one of few Latin American leaders who had spoken with Trump in the days following his surprise victory in the U.S. presidential election. The call was aimed at rekindling a relationship formed when they worked as businessmen before entering politics.     “At the end of the president’s call with Trump, the phone was passed to Ivanka so he could say hello. They have known each other since she was quite young,” the spokesman said in an emailed response to a question about the call from . The congratulatory call was aimed at re-establishing the “personal bond” that the two men formed while doing business together, Argentine Foreign Minister Susana Malcorra said, although Macri had publicly expressed his preference for Democrat Hillary Clinton in the Nov. 8 election. The Macri spokesman denied reports in the Argentine press on Monday that during the call Trump mentioned a pending office tower project that the real estate mogul has been trying to get approved by city regulators in Buenos Aires.  Photographs taken inside a meeting room at Trump Tower last week showed Trump was also accompanied by Ivanka and her husband Jared Kushner when he met with Japan’s Prime Minister Shinzo Abe. The son of one of the richest men in Argentina, Macri ended 12 years of leftist rule in Latin America’s third-largest economy when he took office last December. He was one of the regional presidents who have worked hardest to improve relations with the United States under President Barack Obama. Macri met Trump decades ago while working for his father, Francisco Macri. According to a book by the elder Macri, his son beat Trump in a golf game during a complicated real estate deal in New York in the 1980s, and Trump broke his clubs after the game in frustration. '\n",
            " 'BUENOS AIRES  - Donald Trump’s election as U.S. president raises concern that Washington may increase the intrusiveness of domestic intelligence gathering, former U.S. spy agency contractor Edward Snowden said on Monday, warning that democratic checks and balances were losing ground to authoritarianism. Snowden lives in Moscow under an asylum deal after he leaked classified information in 2013 that triggered an international furor over the reach of U.S. spy operations. He spoke at a teleconference hosted by Buenos Aires University’s law school. “We are starting to substitute open government for sheer authoritarianism, a government based not upon the principle of informed consent granted by people who understand its activities but rather a trust in personalities, a trust in claims, a trust in the hope that they will do the right thing,” Snowden said. Washington pledged not to engage in indiscriminate espionage following Snowden’s 2013 disclosures. But Snowden questioned if that policy could be modified by new officials “who have a very different set of values and can govern in the dark.” “If government does actually win our trust, because they go for some years and they do operate in a way that we should support, what happens when it changes?” he asked. “This is kind of the challenge that we’re facing today in the United States with the result of the last election.” Supporters see Snowden as a whistleblower who boldly exposed government excess. But the U.S. government has filed espionage charges against him for leaking intelligence information. Trump, who scored an upset win over Democrat Hillary Clinton in last Tuesday’s election, broke with many in his own Republican Party during the campaign and emphasized his success as a businessman and reality TV show star. He promised sweeping security measures to deal with the threat of attacks on the United States. His election was greeted with concern from the American Civil Liberties Union over statements he made during the campaign supporting increased surveillance of U.S. Muslims, mass deportation of illegal immigrants, reauthorization of waterboarding and changing libel laws to increase press restrictions.     Snowden, asked if he thought the election of Trump, who has praised Russian President Vladimir Putin as a strong leader, might increase chances of him being pardoned by the U.S. government, responded: “Who knows?” '\n",
            " 'ABOARD AIR FORCE ONE  - President Barack Obama remains confident in FBI Director James Comey’s ability to the lead the agency in the aftermath of the probe of Democrat Hillary Clinton’s use of a private email server, the White House said on Monday. “The president views Director Comey as a man of integrity, a man of principle,” White House spokesman Josh Earnest told reporters in a briefing. “The president’s views of him have not changed. ... He continues to have confidence in his ability to run the FBI.”  Comey has faced intense criticism for his decision to inform Congress days before Tuesday’s presidential election about newly discovered emails that might pertain to the investigation of Clinton’s use of a private server while secretary of state. He roiled the race again on Sunday when he told lawmakers that investigators had completed their review of the additional emails and there was no change to the Federal Bureau of Investigation’s July finding that there was no criminal wrongdoing in Clinton’s use of the server. The White House, which has attempted to remain neutral on Comey’s handling of the probe, said on Monday it had not been given any advance notice of the announcement on Sunday. “The president is entirely confident that Director Comey is not using his authority to advantage a particular political candidate or particular party,” Earnest said. '\n",
            " 'ABOARD AIR FORCE ONE  - The White House on Friday said it was not given any prior notice on the FBI’s announcement that it was investigating additional emails relating to Hillary Clinton’s use of a private email system. “We did not have advance warning,” White House spokesman Eric Schultz told reporters traveling with President Barack Obama to a campaign event for Clinton in Orlando, Florida. Schultz said news of the Federal Bureau of Investigation probe has not affected Obama’s support for Clinton. “I don’t think anything has surfaced to changed the president’s opinion and views of Secretary Clinton,” he said. '\n",
            " 'HELSINKI  - A former Miss Finland has accused U.S. presidential candidate Donald Trump of groping her in 2006 when she was representing the country in the Miss Universe beauty contest. Ninni Laaksonen told the Ilta-Sanomat newspaper that the  Republican presidential nominee had grabbed her behind before she appeared on a television show in New York with other contestants. “He really grabbed my butt. I don’t think anybody saw it but I flinched and thought: ‘What is happening?’,” Laaksonen was quoted as saying in the newspaper. The accusation follows a stream of allegations of inappropriate conduct by Trump from other women in the United States which have put pressure on his campaign as he trails in  opinion polls ahead of the Nov. 8 election. Trump has denied the accusations. Laaksonen could not be reached for comment on Friday. '\n",
            " 'KRASNAYA POLYANA  - Russian President Vladimir Putin said on Thursday that U.S. presidential candidate Donald Trump behaved extravagantly during his campaign because he represented ordinary voters and wanted to get his message across. “He has chosen a method to get through to voters’ hearts,” Putin told foreign policy experts in southern Russia. “He (Trump) behaves extravagantly of course, we see this, but I think there’s a reason for this.”  '\n",
            " 'ABOARD CLINTON CAMPAIGN PLANE  - Democratic presidential nominee Hillary Clinton said on Wednesday the proposed tie-up between AT&T Inc and Time Warner Inc raised concerns that needed study. “I think it raises questions and concerns, and they should be looked into,” she told reporters on her campaign plane. “If I’m fortunate enough to be president, I will expect the government to conduct a very thorough analysis before making a decision,” she said. '\n",
            " 'ABOARD AIR FORCE ONE  - U.S. President Barack Obama will consider a variety of responses to Russia’s hacking of political party organizations and it is possible that any action may not be announced publicly, the White House said on Tuesday. “There are a range of responses that are available to the president and he will consider a response that is proportional,” White House spokesman Josh Earnest told reporters on Air Force One. “It is certainly possible that the president can choose response options that we never announce,” he said.     '\n",
            " 'ABOARD THE PAPAL PLANE  - Pope Francis on Sunday advised U.S. Catholics who feel they are torn between two imperfect candidates for president to study and pray before they vote and to make sure to follow their conscience. During his traditional, freewheeling in-flight news conference with reporters on the plane returning from Azerbaijan, Francis was asked how he would counsel American faithful and what wisdom they should keep in mind. “You have asked me a question that describes a difficult choice because, according to you, there are difficulties with one and difficulties with the other,” the pope said, without naming Democrat Hillary Clinton or Republican Donald Trump. In posing the question, the reporter made allusions to Clinton’s support of abortion and Trump’s statements vilifying migrants and religious minorities. “During political campaigns, I never say a word,” the pope said. “The people are sovereign. I would only say, study the proposals well, pray and choose with your conscience.”  But in the rest of his response, while stressing that he wanted to talk about a “fictional situation,” Francis appeared to be saying that the United States was among the countries that had become so politicized that it had effectively lost what he called a culture of politics. “When in any country there are two, three or four candidates who don’t satisfy everyone, it means that perhaps the political life of that country has become too politicized and that it does not have much political culture,” he said. “People say ‘I’m from this party’ or ‘I’m from that party,’ but effectively, they don’t have clear thoughts about the basics, about proposals,” he said. Last February, while returning from Mexico, the pope was asked if U.S. Catholics could vote for someone with Trump’s views on immigration, particularly on the candidate’s promise to build a wall at the border with Mexico. He said a person with such views was “not Christian.” Trump struck back, calling the pope’s comments “disgraceful.”    '\n",
            " 'ABOARD AIR FORCE ONE  - The White House on Wednesday slammed the Senate’s nearly unanimous vote to reject President Barack Obama’s veto of legislation allowing relatives of the victims of the Sept. 11, 2001, attacks to sue Saudi Arabia’s government. “This is the single most embarrassing thing this United States’ Senate has done possibly since 1983,” White House spokesman Josh Earnest told reporters in a briefing, referring to the last time when the chamber so overwhelmingly overrode a president’s veto.  Earnest said some lawmakers had only recently been informed about potential drawbacks to approving the legislation. “For those senators to then move forward in overriding the president’s veto that would prevent those negative consequences is an abdication of their basic responsibilities as elected representatives of the American people,” he said. '\n",
            " 'MIDWAY ATOLL  - President Barack Obama snorkeled on Thursday in the electric-blue water off Midway Atoll, a remote coral reef that serves as a reminder of both modern global climate challenges and the United State’s dominance in the Pacific since its World War Two victory there. The journey was aimed at sending a message about the need to protect vulnerable species and spaces from the ravages of climate change. But it was also timed as Obama makes his way to meet Chinese President Xi Jinping and other world leaders in his last visit to Asia, having sought to refocus U.S. defense and trade policy on the region. “It’s a signal, it’s a message saying the United States is committed to staying in the Pacific, and not sort of backing away,” said naval historian Tom Hone, who has studied the Battle of Midway. Zipping around the island in an 18-golf-cart motorcade filled with Secret Service, aides and camera crews, Obama stopped to see several endangered green sea turtles lazily paddle in to bask on the white sand beach. “When I grew up, we’d see these turtles all the time. You almost never see them beaching like this, just basking in the sun,” said Obama, who grew up in Hawaii, more than 1,100 nautical miles to the southeast. Obama, whose presidency comes to an end in five months, has tried to use his time in office to make Americans more passionate about climate change. Less than 5 percent of American voters say the environment is the most important issue facing the country, according to /Ipsos polling between July 24 and Aug. 21, and 35 percent say climate change will not affect the way they vote in the Nov. 8 election to pick Obama’s successor. The island visit bookends Obama’s trip last year to Alaska, where he hiked on a shrinking glacier. “These aren’t ‘photo ops’ - I think these are real opportunities to help the American people understand,” said Carol Browner, a former head of the Environmental Protection Agency who advised Obama on climate issues in his first term. “He can get a level of attention that nobody else can get,” Browner said. Last week, Obama quadrupled the size of Papahānaumokuākea Marine National Monument to create the world’s largest marine monument, protecting the area off the coast of Hawaii from commercial fishing and drilling. “This is going to be a precious resource for generations to come,” said Obama, his dress shirt undone an extra button in the sauna-like heat. “This is hallowed ground,” he said near a beach where young soldiers hunkered down under pillboxes, awaiting Japanese fighter planes during the World War Two Battle of Midway, one of the most-studied battles in military history. “Had it not been for the courage and the bravery of those airmen, we might have not seen the tide turn in the battle of the Pacific,” he said. In June 1942, U.S. forces, tipped by code-breakers that the Japanese navy was planning an attack, sank four Japanese aircraft carriers and a heavy cruiser in a giant air and sea battle. Obama’s golf cart motorcade bumped over a tarmac pock-marked by shrapnel from the battle, passing old hangars and a “bone yard” of scrap metal, old office chairs, and broken appliances. Massive bags held some of the 20 tons of plastic ocean garbage that land on the island each year, 5 tons of which come from the bellies of albatrosses, which feed the plastic to their young, often fatally. Curious tern fledglings checked out his entourage, which tripled the island’s average population of about 35 humans. “Watch the burrow!” called Miel Corbett, a Fish and Wildlife Services spokeswoman, as a visitor narrowly avoided stomping the underground home of the bonin petrel. About a million of the birds swoop out of their nests each night at dusk. Vestiges of the island’s former life as a large naval base remain, although many have fallen into decay. Visitors have not been allowed since 2012 because of tight budgets. Reporters wrote their stories in a still-working 1970s bowling alley, just down the way from barber shop. '\n",
            " 'ABOARD AIR FORCE ONE  - Barack Obama starts his last trip to Asia on Saturday as U.S. president, aiming to put a final stamp on his signature policy shift toward the Pacific but distracted by crises ranging from Brexit to the battle against Islamic State. With the clock ticking down on his presidency, Obama will attend a G20 summit in China, a visit that will underscore the challenges he has faced with a rising world power that is both an economic partner and strategic rival. His final meetings in the region with Chinese President Xi Jinping could set the tone for his White House successor, who will be elected in November and take office in January. Obama will seek to highlight his legacy of stronger ties with Southeast Asia, particularly during the first-ever U.S. presidential visit to Laos, and his success in elevating the issue of climate change on the world stage. But there will be few bright spots in talks with fellow world leaders, who are grappling with the sagging global economy, fallout from Britain’s vote to leave the European Union, increasing suspicion of globalization, the fight against Islamic State militants and territorial disputes in East Asia. During his past nine trips to Asia, Obama has sometimes been distracted by other international developments from the emphasis he sought to place on boosting U.S. military and economic ties to the fast-growing region, leading critics to doubt whether the U.S. commitment will last.   The latest visit coincides with the race to succeed Obama in the Nov. 8 presidential election, where Democratic nominee Hillary Clinton, his former secretary of state and co-architect of his Asia strategy, has opposed his Trans-Pacific Partnership trade deal, raising concerns among the 12 nations in the pact. Republican nominee Donald Trump has alarmed allies like Japan and South Korea by suggesting they should pay more for their security and even develop their own nuclear weapons to protect against the threat posed by North Korea. Derek Chollet, a former defense adviser to Obama, said one of the challenges the United States faces is reassuring  governments in Asia that the United States means what it says when it comes to rebalancing towards the region. “Asia partners are suspicious that even if we really mean it, that we’re easily sidetracked,” said Chollet, author of “The Long Game,” a book about Obama’s foreign policy. LOW EXPECTATIONS FOR OBAMA-XI TALKS Obama will start his visit on Saturday with China’s Xi. The leaders have forged cooperation on combating climate change and curbing Iran’s nuclear drive but have failed to narrow their countries’ main differences.  Irritants include U.S. accusations of Chinese cyber hacking, disputes over trade and Beijing’s pursuit of contested claims in the South China Sea. Michael Green, a top Asia adviser to former Republican President George W. Bush, said he did not expect the Obama-Xi meeting to yield much. “No grand joint declaration as we saw early in the administration, no celebration - perhaps some agreements on climate change - but a pretty rough and scratchy relationship,” Green said. Obama faces another tricky meeting when he holds talks with NATO ally Turkish President Tayyip Erdogan, with relations strained over strategy on Syria’s civil war and concerns about Erdogan’s crackdown on opponents after July’s failed coup. White House aides have left open the prospect of an informal encounter with Russian President Vladimir Putin, which whom Obama is sharply at odds over Syria and Ukraine. China will closely watch Obama’s first meeting with brash new Philippines President Rodrigo Duterte, slated for Tuesday at an East Asia summit in Laos. In July, the Philippines, with U.S. backing, won a challenge against China’s South China Sea claims at an international arbitration court. Despite the longtime U.S.-Philippines alliance, Duterte recently insulted the U.S. ambassador, calling him a “gay son of a whore.” Evan Medeiros, Obama’s former top Asia adviser, said such comments plus Duterte’s skepticism about the U.S. relationship meant that trust needed to be rebuilt.  The White House has said Obama will not pull his punches over human rights concerns, which include thousands of extra-judicial killings since Duterte took office two months ago, according to date released this week.  Strains with Duterte could add to Obama’s difficulties in forging a united front on the South China Sea with Southeast Asian partners. China may see an opportunity to “drive a wedge” between the United States and Philippines as Beijing seeks a bilateral arrangement with Manila over the South China Sea, Medeiros said. Western diplomats in Beijing, however, said the Chinese government had its own difficulties reading Duterte. “He seems to change his mind every 24 hours,” said one senior Western envoy, referring to Duterte’s China policy. '\n",
            " 'ABOARD AIR FORCE ONE  - President Barack Obama will not speak with Hillary Clinton about the FBI’s investigation of Clinton’s use of private email servers while secretary of state, the White House said on Tuesday. “The president all along has believed that it is important for the Department of Justice to conduct their investigation free from any sort of perceived influence of the White House or anyone else in the federal government,” White House spokesman Josh Earnest said. Obama and Clinton, the presumptive Democratic presidential nominee, are traveling together on Air Force One to North Carolina on Tuesday for their first joint campaign rally for the 2016 election. '\n",
            " 'ABOARD AIR FORCE ONE  - The White House said on Thursday that President Barack Obama had been briefed about a masked man who took hostages at a cinema in western Germany and was later killed by police. White House spokesman Eric Schultz told reporters that U.S. officials were in contact with their German counterparts about the situation, but had no further details. '\n",
            " 'SANTO DOMINGO  - U.S. Secretary of State John Kerry announced high-level talks to ease tensions with Venezuela’s socialist government on Tuesday, just hours after he backed calls for a referendum that could force President Nicolas Maduro from office.   Kerry said the talks would start immediately in Caracas and be led by Thomas Shannon, a veteran of U.S. diplomacy in the region. Attempts last year at dialogue between the ideological foes were stalled by Venezuela’s deepening crisis. The two countries have been embroiled in diplomatic hostilities since the administrations of Venezuelan President Hugo Chavez and U.S. President George W. Bush. Kerry said the goal was to go beyond “the old rhetoric.” “I’ve committed to see if this can work so let’s see if we can improve the relationship,” he told reporters, after huddling with his Venezuelan counterpart on the sidelines of an Organization of American States (OAS) meeting in the Dominican Republic. The talks would also be aimed at fostering dialogue between Venezuela’s government and opposition, Kerry said. Maduro welcomed the proposed talks and repeated his suggestion that the two sides restore ambassadors in each other’s capitals after an eight-year hiatus that began when Chavez expelled the U.S. envoy to Venezuela. “I propose to John Kerry ‘let’s designate ambassadors’, I am ready. They have ambassadors in Beijing, Vietnam and Havana, and they don’t have one in Caracas,” he said in a speech to teachers. Maduro proposed an ambassador in 2014 but U.S. President Barack Obama has not yet accepted his credentials. Once one of Latin America’s most prosperous nations, Venezuela has plunged into unrest and a harsh economic slowdown. Long lines for food and medicines have led to protests and opposition calls for a recall referendum to remove Maduro.     That measure is allowed under the constitution, a point made by Kerry to reporters after he met Venezuelan Foreign Minister Delcy Rodriguez.  Earlier in the day, in a speech to OAS delegates, Kerry gave his backing to the referendum push and called on Chavez’s political heirs to release political prisoners and respect fundamental rights.      His comments to the 34 members of the main diplomatic body of the Americas marked the strongest show of support yet from the United States for the disputed referendum process. Venezuela’s opposition accuses the election council of stalling the recall at the behest of Maduro by arbitrarily changing criteria for requesting a recall vote. Maduro has said any recall against him would be in 2017 at the earliest, pushing back against opposition pressure. Several opposition politicians are in jail, notably hardline leader Leopoldo Lopez, who has a 14-year sentence for inciting 2014 anti-government protests that spiraled into violence killing more than 40 people. The government denies it holds political prisoners. Kerry’s comments drew a furious response from Rodriguez, who accused Washington and OAS chief Luis Almagro of “international bullying.”   “Every day we have evidence of the secretary general’s bias in favor of sectors of the opposition who are seeking a coup in Venezuela,” she said.  “I see now this is ordered by Washington. I know they are on Washington’s payroll to meddle in the domestic affairs of Venezuela,” she said, speaking through a translator.  Kerry was more conciliatory after his first ever bilateral meeting with Rodriguez, saying the United States did not support a push by Almagro to suspend Venezuela from the OAS for alleged violations of the regional group’s “democratic charter.” “The United States is not taking that position, we are not pushing for a suspension. I don’t think that would be constructive,” he said. At Almagro’s behest, the OAS will hold a meeting later this month to initiate the process that could end in Venezuela’s suspension. But the former Uruguayan foreign minister appears isolated in the group, with even right-wing governments opposed to Maduro in the region balking at throwing Venezuela out. Venezuela and the United States have repeatedly gone through periods of diplomatic fighting followed by generally short-lived eras of reconciliation.  Following Washington’s 2014 rapprochement with Cuba, Shannon met with a top Venezuelan Socialist Party official to improve ties with Caracas. The good mood soured within months when the United States criticized the sentence handed to opposition leader Lopez. '\n",
            " 'SANTO DOMINGO  - Venezuela and the United States will immediately start talks to ease tensions between the two countries and does not support its ouster from a regional diplomatic bloc, U.S. Secretary of State John Kerry said on Tuesday after meeting his counterpart from the OPEC nation. Venezuela is embroiled in an economic and political crisis that has led to social unrest in one of the world’s largest oil producers. The United States will send Under Secretary of State for Political Affairs Thomas Shannon, a veteran on Latin American diplomacy, as its representative to the talks, Kerry told reporters traveling with him after the bilateral meeting.   Kerry said that the United States did not support efforts by the head of the Organization of the American States to suspend Venezuela from the regional diplomatic bloc. '\n",
            " 'SANTO DOMINGO  - U.S. Secretary of State John Kerry on Tuesday called on Venezuela’s crisis-hit socialist government to release political prisoners, respect freedom of expression and freedom of assembly and alleviate shortages.  Speaking at a meeting of the Organization of American States (OAS) General Assembly in the Dominican Republic, Kerry said Washington was strongly committed to working with member states to address Venezuela’s “deeply troubling” situation. '\n",
            " 'ULAANBAATAR  - U.S. Secretary of State John Kerry hailed Mongolia as an “oasis of democracy” sitting in a tough location between Russia and China as he made a rare visit by a cabinet-level U.S. official on Sunday. Arriving from Paris, Kerry made the visit to Mongolia en route to Beijing to attend the eighth Strategic and Economic Dialogue, the high-level talks held between the United States and China each year. The Obama administration has sought to cultivate Mongolia as a partner, given its location between two increasingly assertive U.S. rivals – China and Russia, countries Mongolia relies on heavily for trade and energy imports. U.S. officials regularly tout Mongolia, a country of three million people, as an inspirational story of democratic transition since winning independence from the Soviet Union a quarter-century ago. “You really set a great example,” Kerry told Mongolian and American embassy staff at the U.S. ambassador’s residence. “You’ve got China on one side of you, and Russia on the other side of you, and there are always a lot of pressures, and here you are in this oasis of democracy fighting for your own identity.” But Mongolia’s democratic and human rights records have come under scrutiny. The 2015 State Department report on human rights in Mongolia noted “vague laws and a lack of transparency in legislative, executive, and judicial processes” that “undermined government efficiency and public confidence and invited corruption.” Parliamentary elections are to be held this month, and democracy advocates have criticized a rule change by parliament last month that is expected to disadvantage smaller parties. The lack of transparency in business regulations has hampered foreign investment, officials say, badly needed in an economy where growth has all but halted, far from a peak of 17.5 percent in 2011.  Falling prices for its chief exports, coal and copper, and weak demand from China, by far Mongolia’s biggest trading partner, are behind the slowdown. Kerry said it was important the Mongolian government implement a transparency agreement with the United States, which would provide greater business confidence to foreign investors.  The Mongolian and U.S. governments signed the agreement in 2013 after years of negotiations but its final implementation has been mired in red tape.  The agreement would commit Mongolia to publish in English an explanation for proposed regulations, and allow for public comments on those regulations, among other measures. “The implementation of this agreement is really key, a very important step to be able to attract foreign direct investment,” Kerry said. '\n",
            " 'BUENOS AIRES  - An Argentine TV station is lampooning U.S. presidential hopeful Donald Trump’s comments about illegal immigration from Latin America to promote next month’s regional Copa America soccer tournament in the United States. “Our country is in serious trouble!” Trump says to ominous music in the commercial made by TyC Sports channel, which will broadcast the June 3-26 centenary tournament in the soccer-obsessed South American country. “We are having people coming in through the border that are not people that we want,” the candidate adds, against images of Lionel Messi and other top Argentine players descending from a plane and fans massed in national blue-and-white colors. The comments used in the advertisement are taken from Trump’s speeches. His campaign did not immediately respond to a request for comment on the 71-second spot.  The billionaire real estate mogul has caused indignation south of the U.S. border with his views on immigration and promise to build a “great wall” along the Mexican border.   “They’re coming from South America,” Trump says in another clip from his speeches used by TyC, against a backdrop of Argentine stars from Sergio Aguero to Gonzalo Higuain pounding in goals against stumbling defenders. “These are total killers,” Trump says as the spot shows a close-up of Messi looking mean on the field. “These are not the nice, sweet little people that you think. We have no protection.”  Argentina, which has not won the Copa America since 1993, is among the teams favored to win the tournament, as are Brazil and Chile. “They’re unchecked, and then they’re being sent all over the United States,” Trump intones while the names of tournament host cities like Seattle and Houston flash on the screen.  At the end, the TyC ad shows a line of text, also in blue and white, that teasingly aligns itself with Trump: “It’s true. The best thing you can do is not let them in.” This is the first year the tournament, referred to in English as the 2016 Centennial Copa America, will be hosted outside of South America. It also marks the 100th anniversary of the world’s oldest international soccer competition. Former reality television star Trump won a commanding victory in Indiana’s Republican primary on Tuesday, forcing his main rival, Ted Cruz, to drop out of the race. The presidential election will be held in November. The spot can be seen here '\n",
            " 'ABOARD THE PAPAL PLANE  - Pope Francis said on Saturday that his meeting with Bernie Sanders, contesting the Democratic candidacy for the U.S. Presidency, was not meddling in politics and that anyone who thought otherwise should “look for a psychiatrist”. Sanders and the pope met briefly on Saturday morning at the Vatican guest house where Francis lives and where Sanders and his wife spent the night after he addressed a Vatican conference on social justice. “When I came down, I greeted him, I shook his hand and nothing more. This is called good manners and it is not getting involved in politics,” the pope told reporters in answer to a question aboard the plane returning from the Greek island of Lesbos, where he visited a refugee camp. [L5N17J063]. “If anyone thinks that greeting someone is getting involved in politics, I recommend that he look for a psychiatrist,” he said, laughing. In an interview with ABC News after the meeting, Sanders called the pope “a beautiful man”, adding “I am not a Catholic, but there is a radiance that comes from him.” “I just conveyed to him my admiration for the extraordinary work he is doing raising some of the most important issues facing our planet and the billions of people on the planet and injecting the need for morality in the global economy,” Sanders, a Brooklyn-born son of Polish Jewish immigrants, told ABC. The Democratic hopeful from Vermont has campaigned on a promise to rein in corporate power and level the economic playing field for working and lower-income Americans who he says have been left behind, a message echoing that of the pope. The meeting came just days before Tuesday’s Democratic party primary in New York, where polls say he is trailing Hillary Clinton. After he won seven of the last eight state contests, a loss in Sanders’ home state would give front-runner Clinton a boost toward the party’s presidential nomination. Sanders has said the trip was not a pitch for the Catholic vote but a testament to his admiration for the pontiff. '\n",
            " 'ABOARD AIR FORCE ONE  - U.S. President Barack Obama will convene a meeting of his National Security Council next week at the Central Intelligence Agency headquarters to review the fight against Islamic State militants, the White House said on Friday. The meeting, to be held on Wednesday, comes as the administration weighs a plan to increase the number of U.S. special operations forces deployed to Syria to try to advance recent gains against Islamic State. The top U.S. general, Joseph Dunford, chairman of the Joint Chiefs of Staff, has said he is working on options to present to Obama to increase U.S. forces in Iraq to bolster Iraqi forces preparing for a major offensive against the militant group in Mosul. Obama has held similar meetings, at the Pentagon and at the State Department, on fighting Islamic State, which holds areas of Syria and Iraq. “There’s no particular operational reason for him having it there,” White House spokeswoman Jen Friedman told reporters. “It’s just the next in a series of these meetings.”  '\n",
            " 'ABOARD AIR FORCE ONE  - The White House said on Thursday that the best way for the government to fight tax avoidance would be for Congress to take action after the U.S. Treasury Department issued major new rules on tax inversions on Monday. “I know that if they are working on any future actions the most impactful thing we could do is if Congress took some action here,” White House spokesman Eric Schultz told reporters when asked if the Treasury Department would issue more regulations on tax avoidance.  U.S. drug maker Pfizer Inc agreed on Tuesday to terminate its $160 billion agreement to acquire Allergan Plc in a victory for the Obama administration’s push to stop tax-dodging mergers. (Story corrects quote to reflect spokesman saying Congress would have most impact on countering tax avoidance, not that Treasury is working on more action.) ']\n"
          ]
        }
      ],
      "source": [
        "remaining_articles = merged_no_duplicates_df[remaining_mask]\n",
        "print(remaining_articles['text_cleaned'].head(50).values)\n"
      ]
    },
    {
      "cell_type": "markdown",
      "metadata": {
        "id": "ZzfguT70b-4a"
      },
      "source": [
        "After automated dateline removal using a spaCy model  cleaned over 98% of the headers, a final manual step was necessary to handle a small number of remaining edge cases. The headers were missed primarily because the AI model, while powerful, has limitations. Some cases involved complex prefixes where the main entity didn't appear at the start (e.g., \"ABOARD AIR FORCE ONE\"), while others were \"blind spots\"—unique phrases or locations not in the model's vocabulary (e.g., \"ABOARD THE PAPAL PLANE\"). Therefore, to achieve the highest level of data cleanliness, these known remaining patterns were compiled into an explicit list for targeted removal. This is a standard step in a data cleaning pipeline to ensure maximum accuracy and prepare the text for analysis."
      ]
    },
    {
      "cell_type": "code",
      "execution_count": 26,
      "metadata": {
        "colab": {
          "base_uri": "https://localhost:8080/"
        },
        "id": "R2-j7CuZaPEm",
        "outputId": "c9161f69-66d7-4011-a59b-8c1e216e60b7"
      },
      "outputs": [
        {
          "output_type": "stream",
          "name": "stdout",
          "text": [
            "\n",
            "Headers possibly still remaining after manual cleaning: 0\n",
            "\n",
            "All targeted location headers have been removed.\n"
          ]
        }
      ],
      "source": [
        "manual_headers_to_remove = [\n",
        "    \"ABOARD AIR FORCE ONE\",\n",
        "    \"ON BOARD AIR FORCE ONE\",\n",
        "    \"ABOARD THE PAPAL PLANE\",\n",
        "    \"JUBA\",\n",
        "    \"CAPE TOWN\",\n",
        "    \"SANTIAGO\",\n",
        "    \"SANAA\",\n",
        "    \"HELSINKI\",\n",
        "    \"VALLETTA\",\n",
        "    \"HO CHI MINH CITY\",\n",
        "    \"BUENOS AIRES\",\n",
        "    \"KRASNAYA POLYANA\",\n",
        "    \"MIDWAY ATOLL\",\n",
        "    \"ULAANBAATAR\",\n",
        "    \"SANTO DOMINGO\",\n",
        "    \"ABOARD CLINTON CAMPAIGN PLANE\",\n",
        "    \"ABUJA\",\n",
        "    \"TUNIS\",\n",
        "    \"BUCHAREST\",\n",
        "    \"YAOUNDE\",\n",
        "    \"SOFIA\",\n",
        "    \"DAKAR\",\n",
        "    \"RIO DE JANEIRO/SAO PAULO\",\n",
        "    \"RIO DE JANEIRO\",\n",
        "    \"YOKOSUKA\",\n",
        "    \"LA PAZ\",\n",
        "    \"NAYPYITAW\",\n",
        "    \"BRASÍLIA\",\n",
        "    \"MALE\",\n",
        "    \"COX'S BAZAR\",\n",
        "    \"COX S BAZAR\",\n",
        "    \"MONTERREY\",\n",
        "    \"MADRID\",\n",
        "    \"PIRAEUS\",\n",
        "    \"CONAKRY\",\n",
        "    \"BERN\",\n",
        "    \"BOSASSO\",\n",
        "    \"BRATISLAVA\",\n",
        "    \"BANGUI\",\n",
        "    \"YOKOSUKA\",\n",
        "    \"NOUAKCHOTT\",\n",
        "    \"COX'S BAZAR/YANGON\",\n",
        "    \"LILONGWE\",\n",
        "    \"LOME\",\n",
        "    \"BLANTYRE\",\n",
        "    \"DIYARBAKIR\",\n",
        "    \"GENEVA/YANGON\",\n",
        "    \"COX S BAZAR/YANGO\",\n",
        "    \"COX S BAZAR/YANGON\",\n",
        "    \"BRAS LIA\",\n",
        "    \"MONTEVIDEO\",\n",
        "    \"NMADRID\",\n",
        "    \"ABOARD SEEFUCHS RESCUE SHIP\",\n",
        "    \"VILLAVICENCIO\",\n",
        "    \"BANDAR SERI BEGAWAN\",\n",
        "    \"VLADIVOSTOK\",\n",
        "    \"ABOARD THE TCG ALEMDAR\",\n",
        "    \"ROME/TUNIS\",\n",
        "    \"DILI\",\n",
        "    \"BERNE\",\n",
        "    \"SIAULIAI AIR BASE\",\n",
        "    \"ABOARD AQUARIUS RESCUE SHIP\"\n",
        "]\n",
        "\n",
        "def remove_manual_headers(text: str):\n",
        "    if not isinstance(text, str):\n",
        "        return text\n",
        "\n",
        "    cleaned_text = text\n",
        "    for header in manual_headers_to_remove:\n",
        "        pattern = re.compile(r'^' + re.escape(header) + r'\\s*-\\s*')\n",
        "        cleaned_text = pattern.sub('', cleaned_text)\n",
        "    return cleaned_text\n",
        "\n",
        "merged_no_duplicates_df['text_final_cleaned'] = merged_no_duplicates_df['text_cleaned'].apply(remove_manual_headers)\n",
        "\n",
        "\n",
        "final_remaining_mask = merged_no_duplicates_df['text_final_cleaned'].str.match(r'^[A-Z][A-Z\\s,/.]*\\s-\\s')\n",
        "num_final_remaining = final_remaining_mask.sum()\n",
        "print(f\"\\nHeaders possibly still remaining after manual cleaning: {num_final_remaining}\")\n",
        "\n",
        "if num_final_remaining > 0:\n",
        "    print(\"\\nSample of any remaining headers:\")\n",
        "    print(merged_no_duplicates_df[final_remaining_mask]['text_final_cleaned'].head(30).values)\n",
        "else:\n",
        "    print(\"\\nAll targeted location headers have been removed.\")"
      ]
    },
    {
      "cell_type": "code",
      "execution_count": 27,
      "metadata": {
        "colab": {
          "base_uri": "https://localhost:8080/"
        },
        "id": "_UNVUfrYQav0",
        "outputId": "deef57a2-5bd0-4b97-df9a-4b0d70508213"
      },
      "outputs": [
        {
          "output_type": "stream",
          "name": "stdout",
          "text": [
            "Sample TRUE news after improved location header removal:\n",
            "['The head of a conservative Republican faction in the U.S. Congress, who voted this month for a huge expansion of the national debt to pay for tax cuts, called himself a “fiscal conservative” on Sunday and urged budget restraint in 2018. In keeping with a sharp pivot under way among Republicans, U.S. Representative Mark Meadows, speaking on CBS’ “Face the Nation,” drew a hard line on federal spending, which lawmakers are bracing to do battle over in January. When they return from the holidays on Wednesday, lawmakers will begin trying to pass a federal budget in a fight likely to be linked to other issues, such as immigration policy, even as the November congressional election campaigns approach in which Republicans will seek to keep control of Congress. President Donald Trump and his Republicans want a big budget increase in military spending, while Democrats also want proportional increases for non-defense “discretionary” spending on programs that support education, scientific research, infrastructure, public health and environmental protection. “The (Trump) administration has already been willing to say: ‘We’re going to increase non-defense discretionary spending ... by about 7 percent,’” Meadows, chairman of the small but influential House Freedom Caucus, said on the program. “Now, Democrats are saying that’s not enough, we need to give the government a pay raise of 10 to 11 percent. For a fiscal conservative, I don’t see where the rationale is. ... Eventually you run out of other people’s money,” he said. Meadows was among Republicans who voted in late December for their party’s debt-financed tax overhaul, which is expected to balloon the federal budget deficit and add about $1.5 trillion over 10 years to the $20 trillion national debt. “It’s interesting to hear Mark talk about fiscal responsibility,” Democratic U.S. Representative Joseph Crowley said on CBS. Crowley said the Republican tax bill would require the  United States to borrow $1.5 trillion, to be paid off by future generations, to finance tax cuts for corporations and the rich. “This is one of the least ... fiscally responsible bills we’ve ever seen passed in the history of the House of Representatives. I think we’re going to be paying for this for many, many years to come,” Crowley said. Republicans insist the tax package, the biggest U.S. tax overhaul in more than 30 years,  will boost the economy and job growth. House Speaker Paul Ryan, who also supported the tax bill, recently went further than Meadows, making clear in a radio interview that welfare or “entitlement reform,” as the party often calls it, would be a top Republican priority in 2018. In Republican parlance, “entitlement” programs mean food stamps, housing assistance, Medicare and Medicaid health insurance for the elderly, poor and disabled, as well as other programs created by Washington to assist the needy. Democrats seized on Ryan’s early December remarks, saying they showed Republicans would try to pay for their tax overhaul by seeking spending cuts for social programs. But the goals of House Republicans may have to take a back seat to the Senate, where the votes of some Democrats will be needed to approve a budget and prevent a government shutdown. Democrats will use their leverage in the Senate, which Republicans narrowly control, to defend both discretionary non-defense programs and social spending, while tackling the issue of the “Dreamers,” people brought illegally to the country as children. Trump in September put a March 2018 expiration date on the Deferred Action for Childhood Arrivals, or DACA, program, which protects the young immigrants from deportation and provides them with work permits. The president has said in recent Twitter messages he wants funding for his proposed Mexican border wall and other immigration law changes in exchange for agreeing to help the Dreamers. Representative Debbie Dingell told CBS she did not favor linking that issue to other policy objectives, such as wall funding. “We need to do DACA clean,” she said.  On Wednesday, Trump aides will meet with congressional leaders to discuss those issues. That will be followed by a weekend of strategy sessions for Trump and Republican leaders on Jan. 6 and 7, the White House said. Trump was also scheduled to meet on Sunday with Florida Republican Governor Rick Scott, who wants more emergency aid. The House has passed an $81 billion aid package after hurricanes in Florida, Texas and Puerto Rico, and wildfires in California. The package far exceeded the $44 billion requested by the Trump administration. The Senate has not yet voted on the aid. '\n",
            " 'Transgender people will be allowed for the first time to enlist in the U.S. military starting on Monday as ordered by federal courts, the Pentagon said on Friday, after President Donald Trump’s administration decided not to appeal rulings that blocked his transgender ban. Two federal appeals courts, one in Washington and one in Virginia, last week rejected the administration’s request to put on hold orders by lower court judges requiring the military to begin accepting transgender recruits on Jan. 1. A Justice Department official said the administration will not challenge those rulings. “The Department of Defense has announced that it will be releasing an independent study of these issues in the coming weeks. So rather than litigate this interim appeal before that occurs, the administration has decided to wait for DOD’s study and will continue to defend the president’s lawful authority in District Court in the meantime,” the official said, speaking on condition of anonymity. In September, the Pentagon said it had created a panel of senior officials to study how to implement a directive by Trump to prohibit transgender individuals from serving. The Defense Department has until Feb. 21 to submit a plan to Trump. Lawyers representing currently-serving transgender service members and aspiring recruits said they had expected the administration to appeal the rulings to the conservative-majority Supreme Court, but were hoping that would not happen. Pentagon spokeswoman Heather Babb said in a statement: “As mandated by court order, the Department of Defense is prepared to begin accessing transgender applicants for military service Jan. 1. All applicants must meet all accession standards.” Jennifer Levi, a lawyer with gay, lesbian and transgender advocacy group GLAD, called the decision not to appeal “great news.” “I’m hoping it means the government has come to see that there is no way to justify a ban and that it’s not good for the military or our country,” Levi said. Both GLAD and the American Civil Liberties Union represent plaintiffs in the lawsuits filed against the administration. In a move that appealed to his hard-line conservative supporters, Trump announced in July that he would prohibit transgender people from serving in the military, reversing Democratic President Barack Obama’s policy of accepting them. Trump said on Twitter at the time that the military “cannot be burdened with the tremendous medical costs and disruption that transgender in the military would entail.” Four federal judges - in Baltimore, Washington, D.C., Seattle and Riverside, California - have issued rulings blocking Trump’s ban while legal challenges to the Republican president’s policy proceed. The judges said the ban would likely violate the right under the U.S. Constitution to equal protection under the law. The Pentagon on Dec. 8 issued guidelines to recruitment personnel in order to enlist transgender applicants by Jan. 1. The memo outlined medical requirements and specified how the applicants’ sex would be identified and even which undergarments they would wear. The Trump administration previously said in legal papers that the armed forces were not prepared to train thousands of personnel on the medical standards needed to process transgender applicants and might have to accept “some individuals who are not medically fit for service.” The Obama administration had set a deadline of July 1, 2017, to begin accepting transgender recruits. But Trump’s defense secretary, James Mattis, postponed that date to Jan. 1, 2018, which the president’s ban then put off indefinitely. Trump has taken other steps aimed at rolling back transgender rights. In October, his administration said a federal law banning gender-based workplace discrimination does not protect transgender employees, reversing another Obama-era position. In February, Trump rescinded guidance issued by the Obama administration saying that public schools should allow transgender students to use the restroom that corresponds to their gender identity. '\n",
            " 'The special counsel investigation of links between Russia and President Trump’s 2016 election campaign should continue without interference in 2018, despite calls from some Trump administration allies and Republican lawmakers to shut it down, a prominent Republican senator said on Sunday. Lindsey Graham, who serves on the Senate armed forces and judiciary committees, said Department of Justice Special Counsel Robert Mueller needs to carry on with his Russia investigation without political interference. “This investigation will go forward. It will be an investigation conducted without political influence,” Graham said on CBS’s Face the Nation news program. “And we all need to let Mr. Mueller do his job. I think he’s the right guy at the right time.”  The question of how Russia may have interfered in the election, and how Trump’s campaign may have had links with or co-ordinated any such effort, has loomed over the White House since Trump took office in January. It shows no sign of receding as Trump prepares for his second year in power, despite intensified rhetoric from some Trump allies in recent weeks accusing Mueller’s team of bias against the Republican president. Trump himself seemed to undercut his supporters in an interview last week with the New York Times in which he said he expected Mueller was “going to be fair.”    Russia’s role in the election and the question of possible links to the Trump campaign are the focus of multiple inquiries in Washington. Three committees of the Senate and the House of Representatives are investigating, as well as Mueller, whose team in May took over an earlier probe launched by the U.S. Federal Bureau of Investigation (FBI). Several members of the Trump campaign and administration have been convicted or indicted in the investigation.  Trump and his allies deny any collusion with Russia during the campaign, and the Kremlin has denied meddling in the election. Graham said he still wants an examination of the FBI’s use of a dossier on links between Trump and Russia that was compiled by a former British spy, Christopher Steele, which prompted Trump allies and some Republicans to question Mueller’s inquiry.   On Saturday, the New York Times reported that it was not that dossier that triggered an early FBI probe, but a tip from former Trump campaign foreign policy adviser George Papadopoulos to an Australian diplomat that Russia had damaging information about former Trump rival Hillary Clinton.  “I want somebody to look at the way the Department of Justice used this dossier. It bothers me greatly the way they used it, and I want somebody to look at it,” Graham said. But he said the Russia investigation must continue. “As a matter of fact, it would hurt us if we ignored it,” he said. '\n",
            " 'Trump campaign adviser George Papadopoulos told an Australian diplomat in May 2016 that Russia had political dirt on Democratic presidential candidate Hillary Clinton, the New York Times reported on Saturday. The conversation between Papadopoulos and the diplomat, Alexander Downer, in London was a driving factor behind the FBI’s decision to open a counter-intelligence investigation of Moscow’s contacts with the Trump campaign, the Times reported. Two months after the meeting, Australian officials passed the information that came from Papadopoulos to their American counterparts when leaked Democratic emails began appearing online, according to the newspaper, which cited four current and former U.S. and foreign officials. Besides the information from the Australians, the probe by the Federal Bureau of Investigation was also propelled by intelligence from other friendly governments, including the British and Dutch, the Times said. Papadopoulos, a Chicago-based international energy lawyer, pleaded guilty on Oct. 30 to lying to FBI agents about contacts with people who claimed to have ties to top Russian officials. It was the first criminal charge alleging links between the Trump campaign and Russia. The White House has played down the former aide’s campaign role, saying it was “extremely limited” and that any actions he took would have been on his own. The New York Times, however, reported that Papadopoulos helped set up a meeting between then-candidate Donald Trump and Egyptian President Abdel Fattah al-Sisi and edited the outline of Trump’s first major foreign policy speech in April 2016. The federal investigation, which is now being led by Special Counsel Robert Mueller, has hung over Trump’s White House since he took office almost a year ago. Some Trump allies have recently accused Mueller’s team of being biased against the Republican president. Lawyers for Papadopoulos did not immediately respond to requests by  for comment. Mueller’s office declined to comment. Trump’s White House attorney, Ty Cobb, declined to comment on the New York Times report. “Out of respect for the special counsel and his process, we are not commenting on matters such as this,” he said in a statement. Mueller has charged four Trump associates, including Papadopoulos, in his investigation. Russia has denied interfering in the U.S. election and Trump has said there was no collusion between his campaign and Moscow. '\n",
            " 'President Donald Trump called on the U.S. Postal Service on Friday to charge “much more” to ship packages for Amazon (AMZN.O), picking another fight with an online retail giant he has criticized in the past.     “Why is the United States Post Office, which is losing many billions of dollars a year, while charging Amazon and others so little to deliver their packages, making Amazon richer and the Post Office dumber and poorer? Should be charging MUCH MORE!” Trump wrote on Twitter.  The president’s tweet drew fresh attention to the fragile finances of the Postal Service at a time when tens of millions of parcels have just been shipped all over the country for the holiday season.  The U.S. Postal Service, which runs at a big loss, is an independent agency within the federal government and does not receive tax dollars for operating expenses, according to its website.  Package delivery has become an increasingly important part of its business as the Internet has led to a sharp decline in the amount of first-class letters. The president does not determine postal rates. They are set by the Postal Regulatory Commission, an independent government agency with commissioners selected by the president from both political parties. That panel raised prices on packages by almost 2 percent in November.  Amazon was founded by Jeff Bezos, who remains the chief executive officer of the retail company and is the richest person in the world, according to Bloomberg News. Bezos also owns The Washington Post, a newspaper Trump has repeatedly railed against in his criticisms of the news media. In tweets over the past year, Trump has said the “Amazon Washington Post” fabricated stories. He has said Amazon does not pay sales tax, which is not true, and so hurts other retailers, part of a pattern by the former businessman and reality television host of periodically turning his ire on big American companies since he took office in January. Daniel Ives, a research analyst at GBH Insights, said Trump’s comment could be taken as a warning to the retail giant. However, he said he was not concerned for Amazon. “We do not see any price hikes in the future. However, that is a risk that Amazon is clearly aware of and (it) is building out its distribution (system) aggressively,” he said. Amazon has shown interest in the past in shifting into its own delivery service, including testing drones for deliveries. In 2015, the company spent $11.5 billion on shipping, 46 percent of its total operating expenses that year.  Amazon shares were down 0.86 percent to $1,175.90 by early afternoon. Overall, U.S. stock prices were down slightly on Friday.  Satish Jindel, president of ShipMatrix Inc, which analyzes shipping data, disputed the idea that the Postal Service charges less than United Parcel Service Inc (UPS.N) and FedEx Corp (FDX.N), the other biggest players in the parcel delivery business in the United States. Many customers get lower rates from UPS and FedEx than they would get from the post office for comparable services, he said. The Postal Service delivers about 62 percent of Amazon packages, for about 3.5 to 4 million a day during the current peak year-end holiday shipping season, Jindel said. The Seattle-based company and the post office have an agreement in which mail carriers take Amazon packages on the last leg of their journeys, from post offices to customers’ doorsteps. Amazon’s No. 2 carrier is UPS, at 21 percent, and FedEx is third, with 8 percent or so, according to Jindel. Trump’s comment tapped into a debate over whether Postal Service pricing has kept pace with the rise of e-commerce, which has flooded the mail with small packages.Private companies like UPS have long claimed the current system unfairly undercuts their business. Steve Gaut, a spokesman for UPS, noted that the company values its “productive relationship” with the postal service, but that it has filed with the Postal Regulatory Commission its concerns about the postal service’s methods for covering costs. Representatives for Amazon, the White House, the U.S. Postal Service and FedEx declined comment or were not immediately available for comment on Trump’s tweet. According to its annual report, the Postal Service lost $2.74 billion this year, and its deficit has ballooned to $61.86 billion.  While the Postal Service’s revenue for first class mail, marketing mail and periodicals is flat or declining, revenue from package delivery is up 44 percent since 2014 to $19.5 billion in the fiscal year ended Sept. 30, 2017. But it also lost about $2 billion in revenue when a temporary surcharge expired in April 2016. According to a Government Accountability Office report in February, the service is facing growing personnel expenses, particularly $73.4 billion in unfunded pension and benefits liabilities. The Postal Service has not announced any plans to cut costs. By law, the Postal Service has to set prices for package delivery to cover the costs attributable to that service. But the postal service allocates only 5.5 percent of its total costs to its business of shipping packages even though that line of business is 28 percent of its total revenue. '\n",
            " 'The White House said on Friday it was set to kick off talks next week with Republican and Democratic congressional leaders on immigration policy, government spending and other issues that need to be wrapped up early in the new year. The expected flurry of legislative activity comes as Republicans and Democrats begin to set the stage for midterm congressional elections in November. President Donald Trump’s Republican Party is eager to maintain control of Congress while Democrats look for openings to wrest seats away in the Senate and the House of Representatives. On Wednesday, Trump’s budget chief Mick Mulvaney and legislative affairs director Marc Short will meet with Senate Majority Leader Mitch McConnell and House Speaker Paul Ryan - both Republicans - and their Democratic counterparts, Senator Chuck Schumer and Representative Nancy Pelosi, the White House said. That will be followed up with a weekend of strategy sessions for Trump, McConnell and Ryan on Jan. 6 and 7 at the Camp David presidential retreat in Maryland, according to the White House. The Senate returns to work on Jan. 3 and the House on Jan. 8. Congress passed a short-term government funding bill last week before taking its Christmas break, but needs to come to an agreement on defense spending and various domestic programs by Jan. 19, or the government will shut down. Also on the agenda for lawmakers is disaster aid for people hit by hurricanes in Puerto Rico, Texas and Florida, and by wildfires in California. The House passed an $81 billion package in December, which the Senate did not take up. The White House has asked for a smaller figure, $44 billion. Deadlines also loom for soon-to-expire protections for young adult immigrants who entered the country illegally as children, known as “Dreamers.” In September, Trump ended Democratic former President Barack Obama’s Deferred Action for Childhood Arrivals (DACA) program, which protected Dreamers from deportation and provided work permits, effective in March, giving Congress until then to devise a long-term solution. Democrats, some Republicans and a number of large companies have pushed for DACA protections to continue. Trump and other Republicans have said that will not happen without Congress approving broader immigration policy changes and tougher border security. Democrats oppose funding for a wall promised by Trump along the U.S.-Mexican border.  “The Democrats have been told, and fully understand, that there can be no DACA without the desperately needed WALL at the Southern Border and an END to the horrible Chain Migration & ridiculous Lottery System of Immigration etc,” Trump said in a Twitter post on Friday. Trump wants to overhaul immigration rules for extended families and others seeking to live in the United States. Republican U.S. Senator Jeff Flake, a frequent critic of the president, said he would work with Trump to protect Dreamers. “We can fix DACA in a way that beefs up border security, stops chain migration for the DREAMers, and addresses the unfairness of the diversity lottery. If POTUS (Trump) wants to protect these kids, we want to help him keep that promise,” Flake wrote on Twitter. Congress in early 2018 also must raise the U.S. debt ceiling to avoid a government default. The U.S. Treasury would exhaust all of its borrowing options and run dry of cash to pay its bills by late March or early April if Congress does not raise the debt ceiling before then, according to the nonpartisan Congressional Budget Office. Trump, who won his first major legislative victory with the passage of a major tax overhaul this month, has also promised a major infrastructure plan. '\n",
            " 'President Donald Trump said on Thursday he believes he will be fairly treated in a special counsel investigation into Russian meddling in the U.S. presidential election, but said he did not know how long the probe would last. The federal investigation has hung over Trump’s White House since he took office almost a year ago, and some Trump allies have in recent weeks accused the team of Justice Department Special Counsel Robert Mueller of being biased against the Republican president. But in an interview with the New York Times, Trump appeared to shrug off concerns about the investigation, which was prompted by U.S. intelligence agencies’ conclusion that Russia tried to help Trump defeat Democrat Hillary Clinton by hacking and releasing embarrassing emails and disseminating propaganda. “There’s been no collusion. But I think he’s going to be fair,” Trump said in what the Times described as a 30-minute impromptu interview at his golf club in West Palm Beach, Florida. Mueller has charged four Trump associates in his investigation. Russia has denied interfering in the U.S. election. U.S. Deputy Attorney General Rod Rosenstein said this month that he was not aware of any impropriety by Mueller’s team. Trump’s lawyers have been saying for weeks that they had expected the Mueller investigation to wrap up quickly, possibly by the end of 2017. Mueller has not commented on how long it will last. Trump told the Times that he did not know how long the investigation would take. “Timing-wise, I can’t tell you. I just don’t know,” he said. Trump said he thought a prolonged probe “makes the country look bad” but said it has energized his core supporters. “What it’s done is, it’s really angered the base and made the base stronger. My base is strong than it’s ever been,” he said. The interview was a rare break in Trump’s Christmas vacation in Florida. He has golfed each day aside from Christmas Day, and mainly kept a low profile, apart from the occasional flurry of tweets. He spent one day golfing with Republican Senator David Perdue from Georgia, who has pushed legislation to cap immigration numbers, and had dinner on Thursday with Commerce Secretary Wilbur Ross, an international trade hawk. Trump told the Times he hoped to work with Democrats in the U.S. Congress on a spending plan to fix roads and other infrastructure, and on protections for a group of undocumented immigrants who were brought to the United States as children. Trump spoke about trade issues, saying he had backed off his hard line on Chinese trade practices in the hope that Beijing would do more to pressure North Korea to end its nuclear and missile testing program. He said he had been disappointed in the results. He also complained about the North American Free Trade Agreement (NAFTA), which his administration is attempting to renegotiate in talks with Mexico and Canada. Trump said Canadian Prime Minister Justin Trudeau had played down the importance of Canadian oil and lumber exports to the United States when looking at the balance of trade between the two countries. “If I don’t make the right deal, I’ll terminate NAFTA in two seconds. But we’re doing pretty good,” Trump said. '\n",
            " 'The following statements\\xa0were posted to the verified Twitter accounts of U.S. President Donald Trump, @realDonaldTrump and @POTUS.  The opinions expressed are his own.\\xa0 has not edited the statements or confirmed their accuracy.  @realDonaldTrump : - While the Fake News loves to talk about my so-called low approval rating, @foxandfriends just showed that my rating on Dec. 28, 2017, was approximately the same as President Obama on Dec. 28, 2009, which was 47%...and this despite massive negative Trump coverage & Russia hoax! [0746 EST] - Why is the United States Post Office, which is losing many billions of dollars a year, while charging Amazon and others so little to deliver their packages, making Amazon richer and the Post Office dumber and poorer? Should be charging MUCH MORE! [0804 EST] -- Source link: (bit.ly/2jBh4LU) (bit.ly/2jpEXYR) '\n",
            " 'The following statements\\xa0were posted to the verified Twitter accounts of U.S. President Donald Trump, @realDonaldTrump and @POTUS.  The opinions expressed are his own.\\xa0 has not edited the statements or confirmed their accuracy.  @realDonaldTrump : - Together, we are MAKING AMERICA GREAT AGAIN! bit.ly/2lnpKaq [1814 EST] - In the East, it could be the COLDEST New Year’s Eve on record. Perhaps we could use a little bit of that good old Global Warming that our Country, but not other countries, was going to pay TRILLIONS OF DOLLARS to protect against. Bundle up! [1901 EST] -- Source link: (bit.ly/2jBh4LU) (bit.ly/2jpEXYR) '\n",
            " 'Alabama Secretary of State John Merrill said he will certify Democratic Senator-elect Doug Jones as winner on Thursday despite opponent Roy Moore’s challenge, in a phone call on CNN. Moore, a conservative who had faced allegations of groping teenage girls when he was in his 30s, filed a court challenge late on Wednesday to the outcome of a U.S. Senate election he unexpectedly lost. ']\n",
            "\n",
            "Sample FAKE news:\n",
            "['Donald Trump just couldn t wish all Americans a Happy New Year and leave it at that. Instead, he had to give a shout out to his enemies, haters and  the very dishonest fake news media.  The former reality show star had just one job to do and he couldn t do it. As our Country rapidly grows stronger and smarter, I want to wish all of my friends, supporters, enemies, haters, and even the very dishonest Fake News Media, a Happy and Healthy New Year,  President Angry Pants tweeted.  2018 will be a great year for America! As our Country rapidly grows stronger and smarter, I want to wish all of my friends, supporters, enemies, haters, and even the very dishonest Fake News Media, a Happy and Healthy New Year. 2018 will be a great year for America!  Donald J. Trump (@realDonaldTrump) December 31, 2017Trump s tweet went down about as welll as you d expect.What kind of president sends a New Year s greeting like this despicable, petty, infantile gibberish? Only Trump! His lack of decency won t even allow him to rise above the gutter long enough to wish the American citizens a happy new year!  Bishop Talbert Swan (@TalbertSwan) December 31, 2017no one likes you  Calvin (@calvinstowell) December 31, 2017Your impeachment would make 2018 a great year for America, but I ll also accept regaining control of Congress.  Miranda Yaver (@mirandayaver) December 31, 2017Do you hear yourself talk? When you have to include that many people that hate you you have to wonder? Why do the they all hate me?  Alan Sandoval (@AlanSandoval13) December 31, 2017Who uses the word Haters in a New Years wish??  Marlene (@marlene399) December 31, 2017You can t just say happy new year?  Koren pollitt (@Korencarpenter) December 31, 2017Here s Trump s New Year s Eve tweet from 2016.Happy New Year to all, including to my many enemies and those who have fought me and lost so badly they just don t know what to do. Love!  Donald J. Trump (@realDonaldTrump) December 31, 2016This is nothing new for Trump. He s been doing this for years.Trump has directed messages to his  enemies  and  haters  for New Year s, Easter, Thanksgiving, and the anniversary of 9/11. pic.twitter.com/4FPAe2KypA  Daniel Dale (@ddale8) December 31, 2017Trump s holiday tweets are clearly not presidential.How long did he work at Hallmark before becoming President?  Steven Goodine (@SGoodine) December 31, 2017He s always been like this . . . the only difference is that in the last few years, his filter has been breaking down.  Roy Schulze (@thbthttt) December 31, 2017Who, apart from a teenager uses the term haters?  Wendy (@WendyWhistles) December 31, 2017he s a fucking 5 year old  Who Knows (@rainyday80) December 31, 2017So, to all the people who voted for this a hole thinking he would change once he got into power, you were wrong! 70-year-old men don t change and now he s a year older.Photo by Andrew Burton/Getty Images.'\n",
            " 'House Intelligence Committee Chairman Devin Nunes is going to have a bad day. He s been under the assumption, like many of us, that the Christopher Steele-dossier was what prompted the Russia investigation so he s been lashing out at the Department of Justice and the FBI in order to protect Trump. As it happens, the dossier is not what started the investigation, according to documents obtained by the New York Times.Former Trump campaign adviser George Papadopoulos was drunk in a wine bar when he revealed knowledge of Russian opposition research on Hillary Clinton.On top of that, Papadopoulos wasn t just a covfefe boy for Trump, as his administration has alleged. He had a much larger role, but none so damning as being a drunken fool in a wine bar. Coffee boys  don t help to arrange a New York meeting between Trump and President Abdel Fattah el-Sisi of Egypt two months before the election. It was known before that the former aide set up meetings with world leaders for Trump, but team Trump ran with him being merely a coffee boy.In May 2016, Papadopoulos revealed to Australian diplomat Alexander Downer that Russian officials were shopping around possible dirt on then-Democratic presidential nominee Hillary Clinton. Exactly how much Mr. Papadopoulos said that night at the Kensington Wine Rooms with the Australian, Alexander Downer, is unclear,  the report states.  But two months later, when leaked Democratic emails began appearing online, Australian officials passed the information about Mr. Papadopoulos to their American counterparts, according to four current and former American and foreign officials with direct knowledge of the Australians  role. Papadopoulos pleaded guilty to lying to the F.B.I. and is now a cooperating witness with Special Counsel Robert Mueller s team.This isn t a presidency. It s a badly scripted reality TV show.Photo by Win McNamee/Getty Images.'\n",
            " 'On Friday, it was revealed that former Milwaukee Sheriff David Clarke, who was being considered for Homeland Security Secretary in Donald Trump s administration, has an email scandal of his own.In January, there was a brief run-in on a plane between Clarke and fellow passenger Dan Black, who he later had detained by the police for no reason whatsoever, except that maybe his feelings were hurt. Clarke messaged the police to stop Black after he deplaned, and now, a search warrant has been executed by the FBI to see the exchanges.Clarke is calling it fake news even though copies of the search warrant are on the Internet. I am UNINTIMIDATED by lib media attempts to smear and discredit me with their FAKE NEWS reports designed to silence me,  the former sheriff tweeted.  I will continue to poke them in the eye with a sharp stick and bitch slap these scum bags til they get it. I have been attacked by better people than them #MAGA I am UNINTIMIDATED by lib media attempts to smear and discredit me with their FAKE NEWS reports designed to silence me. I will continue to poke them in the eye with a sharp stick and bitch slap these scum bags til they get it. I have been attacked by better people than them #MAGA pic.twitter.com/XtZW5PdU2b  David A. Clarke, Jr. (@SheriffClarke) December 30, 2017He didn t stop there.BREAKING NEWS! When LYING LIB MEDIA makes up FAKE NEWS to smear me, the ANTIDOTE is go right at them. Punch them in the nose & MAKE THEM TASTE THEIR OWN BLOOD. Nothing gets a bully like LYING LIB MEDIA S attention better than to give them a taste of their own blood #neverbackdown pic.twitter.com/T2NY2psHCR  David A. Clarke, Jr. (@SheriffClarke) December 30, 2017The internet called him out.This is your local newspaper and that search warrant isn t fake, and just because the chose not to file charges at the time doesn t mean they won t! Especially if you continue to lie. Months after decision not to charge Clarke, email search warrant filed https://t.co/zcbyc4Wp5b  KeithLeBlanc (@KeithLeBlanc63) December 30, 2017I just hope the rest of the Village People aren t implicated.  Kirk Ketchum (@kirkketchum) December 30, 2017Slaw, baked potatoes, or French fries? pic.twitter.com/fWfXsZupxy  ALT- Immigration   (@ALT_uscis) December 30, 2017pic.twitter.com/ymsOBLjfxU  Pendulum Swinger (@PendulumSwngr) December 30, 2017you called your police friends to stand up for you when someone made fun of your hat  Chris Jackson (@ChrisCJackson) December 30, 2017Is it me, with this masterful pshop of your hat, which I seem to never tire of. I think it s the steely resolve in your one visible eye pic.twitter.com/dWr5k8ZEZV  Chris Mohney (@chrismohney) December 30, 2017Are you indicating with your fingers how many people died in your jail? I think you re a few fingers short, dipshit  Ike Barinholtz (@ikebarinholtz) December 30, 2017ROFL. Internet tough guy with fake flair. pic.twitter.com/ulCFddhkdy  KellMeCrazy (@Kel_MoonFace) December 30, 2017You re so edgy, buddy.  Mrs. SMH (@MRSSMH2) December 30, 2017Is his break over at Applebees?  Aaron (@feltrrr2) December 30, 2017Are you trying to earn your  still relevant  badge?  CircusRebel (@CircusDrew) December 30, 2017make sure to hydrate, drink lots of water. It s rumored that prisoners can be denied water by prison officials.  Robert Klinc (@RobertKlinc1) December 30, 2017Terrill Thomas, the 38-year-old black man who died of thirst in Clarke s Milwaukee County Jail cell this April, was a victim of homicide. We just thought we should point that out. It can t be repeated enough.Photo by Spencer Platt/Getty Images.'\n",
            " 'On Christmas day, Donald Trump announced that he would  be back to work  the following day, but he is golfing for the fourth day in a row. The former reality show star blasted former President Barack Obama for playing golf and now Trump is on track to outpace the number of golf games his predecessor played.Updated my tracker of Trump s appearances at Trump properties.71 rounds of golf including today s. At this pace, he ll pass Obama s first-term total by July 24 next year. https://t.co/Fg7VacxRtJ pic.twitter.com/5gEMcjQTbH  Philip Bump (@pbump) December 29, 2017 That makes what a Washington Post reporter discovered on Trump s website really weird, but everything about this administration is bizarre AF. The coding contained a reference to Obama and golf:  Unlike Obama, we are working to fix the problem   and not on the golf course.  However, the coding wasn t done correctly.The website of Donald Trump, who has spent several days in a row at the golf course, is coded to serve up the following message in the event of an internal server error: https://t.co/zrWpyMXRcz pic.twitter.com/wiQSQNNzw0  Christopher Ingraham (@_cingraham) December 28, 2017That snippet of code appears to be on all https://t.co/dkhw0AlHB4 pages, which the footer says is paid for by the RNC? pic.twitter.com/oaZDT126B3  Christopher Ingraham (@_cingraham) December 28, 2017It s also all over https://t.co/ayBlGmk65Z. As others have noted in this thread, this is weird code and it s not clear it would ever actually display, but who knows.  Christopher Ingraham (@_cingraham) December 28, 2017After the coding was called out, the reference to Obama was deleted.UPDATE: The golf error message has been removed from the Trump and GOP websites. They also fixed the javascript  =  vs  ==  problem. Still not clear when these messages would actually display, since the actual 404 (and presumably 500) page displays a different message pic.twitter.com/Z7dmyQ5smy  Christopher Ingraham (@_cingraham) December 29, 2017That suggests someone at either RNC or the Trump admin is sensitive enough to Trump s golf problem to make this issue go away quickly once people noticed. You have no idea how much I d love to see the email exchange that led us here.  Christopher Ingraham (@_cingraham) December 29, 2017 The code was f-cked up.The best part about this is that they are using the  =  (assignment) operator which means that bit of code will never get run. If you look a few lines up  errorCode  will always be  404          (@tw1trsux) December 28, 2017trump s coders can t code. Nobody is surprised.  Tim Peterson (@timrpeterson) December 28, 2017Donald Trump is obsessed with Obama that his name was even in the coding of his website while he played golf again.Photo by Joe Raedle/Getty Images.'\n",
            " 'Pope Francis used his annual Christmas Day message to rebuke Donald Trump without even mentioning his name. The Pope delivered his message just days after members of the United Nations condemned Trump s move to recognize Jerusalem as the capital of Israel. The Pontiff prayed on Monday for the  peaceful coexistence of two states within mutually agreed and internationally recognized borders. We see Jesus in the children of the Middle East who continue to suffer because of growing tensions between Israelis and Palestinians,  Francis said.  On this festive day, let us ask the Lord for peace for Jerusalem and for all the Holy Land. Let us pray that the will to resume dialogue may prevail between the parties and that a negotiated solution can finally be reached. The Pope went on to plead for acceptance of refugees who have been forced from their homes, and that is an issue Trump continues to fight against. Francis used Jesus for which there was  no place in the inn  as an analogy. Today, as the winds of war are blowing in our world and an outdated model of development continues to produce human, societal and environmental decline, Christmas invites us to focus on the sign of the Child and to recognize him in the faces of little children, especially those for whom, like Jesus,  there is no place in the inn,  he said. Jesus knows well the pain of not being welcomed and how hard it is not to have a place to lay one s head,  he added.  May our hearts not be closed as they were in the homes of Bethlehem. The Pope said that Mary and Joseph were immigrants who struggled to find a safe place to stay in Bethlehem. They had to leave their people, their home, and their land,  Francis said.  This was no comfortable or easy journey for a young couple about to have a child.   At heart, they were full of hope and expectation because of the child about to be born; yet their steps were weighed down by the uncertainties and dangers that attend those who have to leave their home behind. So many other footsteps are hidden in the footsteps of Joseph and Mary,  Francis said Sunday. We see the tracks of entire families forced to set out in our own day. We see the tracks of millions of persons who do not choose to go away, but driven from their land, leave behind their dear ones. Amen to that.Photo by Christopher Furlong/Getty Images.'\n",
            " 'The number of cases of cops brutalizing and killing people of color seems to see no end. Now, we have another case that needs to be shared far and wide. An Alabama woman by the name of Angela Williams shared a graphic photo of her son, lying in a hospital bed with a beaten and fractured face, on Facebook. It needs to be shared far and wide, because this is unacceptable.It is unclear why Williams  son was in police custody or what sort of altercation resulted in his arrest, but when you see the photo you will realize that these details matter not. Cops are not supposed to beat and brutalize those in their custody. In the post you are about to see, Ms. Williams expresses her hope that the cops had their body cameras on while they were beating her son, but I think we all know that there will be some kind of convenient  malfunction  to explain away the lack of existence of dash or body camera footage of what was clearly a brutal beating. Hell, it could even be described as attempted murder. Something tells me that this young man will never be the same. Without further ado, here is what Troy, Alabama s finest decided was appropriate treatment of Angela Williams  son:No matter what the perceived crime of this young man might be, this is completely unacceptable. The cops who did this need to rot in jail for a long, long time   but what you wanna bet they get a paid vacation while the force  investigates  itself, only to have the officers returned to duty posthaste?This, folks, is why we say BLACK LIVES MATTER. No way in hell would this have happened if Angela Williams  son had been white. Please share far and wide, and stay tuned to Addicting Info for further updates.Featured image via David McNew/Stringer/Getty Images'\n",
            " 'Donald Trump spent a good portion of his day at his golf club, marking the 84th day he s done so since taking the oath of office. It must have been a bad game because just after that, Trump lashed out at FBI Deputy Director Andrew McCabe on Twitter following a report saying McCabe plans to retire in a few months. The report follows McCabe s testimony in front of congressional committees this week, as well as mounting criticism from Republicans regarding the Russia probe.So, naturally, Trump attacked McCabe with a lie. How can FBI Deputy Director Andrew McCabe, the man in charge, along with leakin  James Comey, of the Phony Hillary Clinton investigation (including her 33,000 illegally deleted emails) be given $700,000 for wife s campaign by Clinton Puppets during investigation?  Trump tweeted.How can FBI Deputy Director Andrew McCabe, the man in charge, along with leakin  James Comey, of the Phony Hillary Clinton investigation (including her 33,000 illegally deleted emails) be given $700,000 for wife s campaign by Clinton Puppets during investigation?  Donald J. Trump (@realDonaldTrump) December 23, 2017He didn t stop there.FBI Deputy Director Andrew McCabe is racing the clock to retire with full benefits. 90 days to go?!!!  Donald J. Trump (@realDonaldTrump) December 23, 2017Wow,  FBI lawyer James Baker reassigned,  according to @FoxNews.  Donald J. Trump (@realDonaldTrump) December 23, 2017With all of the Intel at Trump s disposal, he s getting his information from Fox News. McCabe spent most of his career in the fight against terrorism and now he s being attacked by the so-called president. Trump has been fact-checked before on his claim of his wife receiving $700,000 for her campaign.Politifact noted in late July that Trump s  tweet about Andrew McCabe is a significant distortion of the facts. And the implication that McCabe got Clinton off as a political favor doesn t make much sense when we look at the evidence. His July tweet was rated  mostly false.  But Trump repeats these lies because he knows his supporters will believe them without bothering to Google. It s still a lie, though.Photo by Zach Gibson   Pool/Getty Images.'\n",
            " 'In the wake of yet another court decision that derailed Donald Trump s plan to bar Muslims from entering the United States, the New York Times published a report on Saturday morning detailing the president s frustration at not getting his way   and how far back that frustration goes.According to the article, back in June, Trump stomped into the Oval Office, furious about the state of the travel ban, which he thought would be implemented and fully in place by then. Instead, he fumed, visas had already been issued to immigrants at such a rate that his  friends were calling to say he looked like a fool  after making his broad pronouncements.It was then that Trump began reading from a document that a top advisor, noted white supremacist Stephen Miller, had handed him just before the meeting with his Cabinet. The page listed how many visas had been issued this year, and included 2,500 from Afghanistan (a country not on the travel ban), 15,000 from Haiti (also not included), and 40,000 from Nigeria (sensing a pattern yet?), and Trump expressed his dismay at each.According to witnesses in the room who spoke to the Times on condition of anonymity, and who were interviewed along with three dozen others for the article, Trump called out each country for its faults as he read: Afghanistan was a  terrorist haven,  the people of Nigeria would  never go back to their huts once they saw the glory of America, and immigrants from Haiti  all have AIDS. Despite the extensive research done by the newspaper, the White House of course denies that any such language was used.But given Trump s racist history and his advisor Stephen Miller s blatant white nationalism, it would be no surprise if a Freedom of Information Act request turned up that the document in question had the statements printed inline as commentary for the president to punctuate his anger with. It was Miller, after all, who was responsible for the  American Carnage  speech that Trump delivered at his inauguration.This racist is a menace to America, and he doesn t represent anything that this country stands for. Let s hope that more indictments from Robert Mueller are on their way as we speak.Featured image via Chris Kleponis/Pool/Getty Images'\n",
            " 'Many people have raised the alarm regarding the fact that Donald Trump is dangerously close to becoming an autocrat. The thing is, democracies become autocracies right under the people s noses, because they can often look like democracies in the beginning phases. This was explained by Republican David Frum just a couple of months into Donald Trump s presidency, in a piece in The Atlantic called  How to Build an Autocracy. In fact, if you really look critically at what is happening right now   the systematic discrediting of vital institutions such as the free press and the Federal Bureau of Investigation as well the direct weaponization of the Department of Justice in order to go after Trump s former political opponent, 2016 Democratic nominee Hillary Clinton, and you have the makings of an autocracy. We are more than well on our way. Further, one chamber of Congress, the House of Representatives, already has a rogue band of Republicans who are running a parallel investigation to the official Russian collusion investigation, with the explicit intent of undermining and discrediting the idea that Trump could have possibly done anything wrong with the Russians in order to swing the 2016 election in his favor.All of that is just for starters, too. Now, we have Trump making United Nations Ambassador Nikki Haley bully and threaten other countries in the United Nations who voted against Trump s decision to change U.S. policy when it comes to recognition of Jerusalem as the capital of the Jewish State. Well, one expert, who is usually quite measured, has had enough of Trump s autocratic antics: Former CIA Director John O. Brennan. The seasoned spy took to Trump s favorite platform, Twitter, and blasted the decision:Trump Admin threat to retaliate against nations that exercise sovereign right in UN to oppose US position on Jerusalem is beyond outrageous. Shows @realDonaldTrump expects blind loyalty and subservience from everyone qualities usually found in narcissistic, vengeful autocrats.  John O. Brennan (@JohnBrennan) December 21, 2017Director Brennan is correct, of course. Trump is behaving just like an autocrat, and so many people in the nation are asleep when it comes to this dangerous age, in which the greatest threat to democracy and the very fabric of the republic itself is the American president. Fellow Americans, we know the GOP-led Congress will not be the check on Trump that they are supposed to be. It s time to get out and flip the House and possibly the Senate in 2018, and resist in the meantime, if we want to save our country from devolving into something that looks more like Russia or North Korea than the America we have always know. We re already well on our way.Featured image via BRENDAN SMIALOWSKI/AFP/Getty Images'\n",
            " 'Just when you might have thought we d get a break from watching people kiss Donald Trump s ass and stroke his ego ad nauseam, a pro-Trump group creates an ad that s nothing but people doing even more of those exact things. America First Policies is set to release this ad, called  Thank You, President Trump,  on Christmas Day and, well, we threw up a little in our mouths trying to watch this.Basically, the spot is nothing but people fawning all over Trump for all the stuff he hasn t actually done. The ad includes a scene with a little girl thanking Trump for bringing back  Merry Christmas,  which never went away (there are even videos of President Obama saying  Merry Christmas  himself). A man thanks him for cutting his taxes. And America First says that everyday Americans everywhere are thanking Trump for being such a great and awesome president.The best president.Nobody s ever done what he s done. He s breaking all kinds of records every day.Believe us.Anyway, the word  propaganda  comes to mind when watching this. That s what it is   literal propaganda promoting someone who shouldn t need this kind of promotion anymore. Watch this ad bullshit below:The way the MAGAs are kowtowing to Orange Hitler is both disgusting and frightening. The man has done nothing, and his policies will harm the very same Americans who are thanking him. Unfortunately, it will take an obscene amount of pain before they ll open their eyes and see they ve been duped by a con man with a bad hairdo.And his ongoing need for this kind of adoration is, at best, unbecoming of his office. This ad is vile.Featured image via Al Drago-Pool/Getty Images']\n"
          ]
        }
      ],
      "source": [
        "print(\"Sample TRUE news after improved location header removal:\")\n",
        "print(merged_no_duplicates_df[merged_no_duplicates_df['label'] == 'TRUE']['text_cleaned'].head(10).values)\n",
        "\n",
        "print(\"\\nSample FAKE news:\")\n",
        "print(merged_no_duplicates_df[merged_no_duplicates_df['label'] == 'FAKE']['text_cleaned'].head(10).values)"
      ]
    },
    {
      "cell_type": "markdown",
      "metadata": {
        "id": "yOyWRxKTSyi7"
      },
      "source": [
        "Looking at csv"
      ]
    },
    {
      "cell_type": "code",
      "execution_count": 28,
      "metadata": {
        "id": "3BYsafAfdNDy",
        "colab": {
          "base_uri": "https://localhost:8080/"
        },
        "outputId": "61f78843-d341-4c8f-8e94-5dc2ad7ad196"
      },
      "outputs": [
        {
          "output_type": "stream",
          "name": "stdout",
          "text": [
            "Saving the final, cleaned datasets...\n"
          ]
        }
      ],
      "source": [
        "#NOTE: THIS IS THE CLEANED VERSION WITH NO REUTERS TAG AND LOCATION HEADER. PLEASE USE THIS DATA SET FOR REST OF THE ANALYSIS.\n",
        "final_columns = [\n",
        "    'title',\n",
        "    'text_final_cleaned',\n",
        "    'subject',\n",
        "    'date',\n",
        "    'label'\n",
        "]\n",
        "\n",
        "df_true_final = merged_no_duplicates_df[merged_no_duplicates_df['label'] == 'TRUE'][final_columns]\n",
        "df_fake_final = merged_no_duplicates_df[merged_no_duplicates_df['label'] == 'FAKE'][final_columns]\n",
        "df_true_final = df_true_final.rename(columns={'text_final_cleaned': 'text'})\n",
        "df_fake_final = df_fake_final.rename(columns={'text_final_cleaned': 'text'})\n",
        "\n",
        "# Save the clean to CSV\n",
        "print(\"Saving the final, cleaned datasets...\")\n",
        "df_true_final.to_csv('final_cleaned_true.csv', index=False)\n",
        "df_fake_final.to_csv('final_cleaned_fake.csv', index=False)\n"
      ]
    },
    {
      "cell_type": "markdown",
      "metadata": {
        "id": "C5rmm8VSKfgI"
      },
      "source": [
        "Class Imbalance Visualization"
      ]
    },
    {
      "cell_type": "code",
      "execution_count": null,
      "metadata": {
        "colab": {
          "base_uri": "https://localhost:8080/",
          "height": 663
        },
        "id": "aFsFTcTcN8qk",
        "outputId": "c96dc730-00ea-4dcc-eb29-4c4f9a944c67"
      },
      "outputs": [
        {
          "name": "stdout",
          "output_type": "stream",
          "text": [
            "Class counts:\n",
            "label\n",
            "TRUE    21191\n",
            "FAKE    17444\n",
            "Name: count, dtype: int64\n",
            "\n",
            "Class percentage:\n",
            "label\n",
            "TRUE    54.84923\n",
            "FAKE    45.15077\n",
            "Name: proportion, dtype: float64\n"
          ]
        },
        {
          "data": {
            "image/png": "[encoded data removed]",
            "text/plain": [
              "<Figure size 640x480 with 1 Axes>"
            ]
          },
          "metadata": {},
          "output_type": "display_data"
        }
      ],
      "source": [
        "print(\"Class counts:\")\n",
        "print(merged_no_duplicates_df['label'].value_counts())\n",
        "\n",
        "print(\"\\nClass percentage:\")\n",
        "print(merged_no_duplicates_df['label'].value_counts(normalize=True) * 100)\n",
        "\n",
        "sns.countplot(x='label', hue='label', data=merged_no_duplicates_df, legend= False, palette={'TRUE':\"blue\",'FAKE':\"red\"})\n",
        "plt.title(\"Class Distribution (True, False)\")\n",
        "plt.xlabel(\"Label\")\n",
        "plt.ylabel(\"Count\")\n",
        "plt.show()\n",
        "#Xio: Even after removal of duplicates there is no major class imbalance in the data set that has to be fixed"
      ]
    },
    {
      "cell_type": "code",
      "execution_count": null,
      "metadata": {
        "id": "RLlOKDVK0AcO"
      },
      "outputs": [],
      "source": [
        "df_final_cleaned = merged_df"
      ]
    },
    {
      "cell_type": "markdown",
      "metadata": {
        "id": "-bx8WRcWL1YC"
      },
      "source": [
        "### Feature Extraction: Linguistic Features"
      ]
    },
    {
      "cell_type": "code",
      "execution_count": null,
      "metadata": {
        "colab": {
          "base_uri": "https://localhost:8080/",
          "height": 573
        },
        "id": "4UVDH7H1L15q",
        "outputId": "9ddffd8b-dffc-4d0e-aa2e-045917cfc0fd"
      },
      "outputs": [
        {
          "name": "stdout",
          "output_type": "stream",
          "text": [
            "DataFrame shape after adding linguistic features: (44037, 15)\n"
          ]
        },
        {
          "data": {
            "application/vnd.google.colaboratory.intrinsic+json": {
              "summary": "{\n  \"name\": \"display(df_final_cleaned\",\n  \"rows\": 5,\n  \"fields\": [\n    {\n      \"column\": \"title\",\n      \"properties\": {\n        \"dtype\": \"string\",\n        \"num_unique_values\": 5,\n        \"samples\": [\n          \"U.S. military to accept transgender recruits on Monday: Pentagon\",\n          \"Trump wants Postal Service to charge 'much more' for Amazon shipments\",\n          \"Senior U.S. Republican senator: 'Let Mr. Mueller do his job'\"\n        ],\n        \"semantic_type\": \"\",\n        \"description\": \"\"\n      }\n    },\n    {\n      \"column\": \"text\",\n      \"properties\": {\n        \"dtype\": \"string\",\n        \"num_unique_values\": 5,\n        \"samples\": [\n          \"WASHINGTON (Reuters) - Transgender people will be allowed for the first time to enlist in the U.S. military starting on Monday as ordered by federal courts, the Pentagon said on Friday, after President Donald Trump\\u2019s administration decided not to appeal rulings that blocked his transgender ban. Two federal appeals courts, one in Washington and one in Virginia, last week rejected the administration\\u2019s request to put on hold orders by lower court judges requiring the military to begin accepting transgender recruits on Jan. 1. A Justice Department official said the administration will not challenge those rulings. \\u201cThe Department of Defense has announced that it will be releasing an independent study of these issues in the coming weeks. So rather than litigate this interim appeal before that occurs, the administration has decided to wait for DOD\\u2019s study and will continue to defend the president\\u2019s lawful authority in District Court in the meantime,\\u201d the official said, speaking on condition of anonymity. In September, the Pentagon said it had created a panel of senior officials to study how to implement a directive by Trump to prohibit transgender individuals from serving. The Defense Department has until Feb. 21 to submit a plan to Trump. Lawyers representing currently-serving transgender service members and aspiring recruits said they had expected the administration to appeal the rulings to the conservative-majority Supreme Court, but were hoping that would not happen. Pentagon spokeswoman Heather Babb said in a statement: \\u201cAs mandated by court order, the Department of Defense is prepared to begin accessing transgender applicants for military service Jan. 1. All applicants must meet all accession standards.\\u201d Jennifer Levi, a lawyer with gay, lesbian and transgender advocacy group GLAD, called the decision not to appeal \\u201cgreat news.\\u201d \\u201cI\\u2019m hoping it means the government has come to see that there is no way to justify a ban and that it\\u2019s not good for the military or our country,\\u201d Levi said. Both GLAD and the American Civil Liberties Union represent plaintiffs in the lawsuits filed against the administration. In a move that appealed to his hard-line conservative supporters, Trump announced in July that he would prohibit transgender people from serving in the military, reversing Democratic President Barack Obama\\u2019s policy of accepting them. Trump said on Twitter at the time that the military \\u201ccannot be burdened with the tremendous medical costs and disruption that transgender in the military would entail.\\u201d Four federal judges - in Baltimore, Washington, D.C., Seattle and Riverside, California - have issued rulings blocking Trump\\u2019s ban while legal challenges to the Republican president\\u2019s policy proceed. The judges said the ban would likely violate the right under the U.S. Constitution to equal protection under the law. The Pentagon on Dec. 8 issued guidelines to recruitment personnel in order to enlist transgender applicants by Jan. 1. The memo outlined medical requirements and specified how the applicants\\u2019 sex would be identified and even which undergarments they would wear. The Trump administration previously said in legal papers that the armed forces were not prepared to train thousands of personnel on the medical standards needed to process transgender applicants and might have to accept \\u201csome individuals who are not medically fit for service.\\u201d The Obama administration had set a deadline of July 1, 2017, to begin accepting transgender recruits. But Trump\\u2019s defense secretary, James Mattis, postponed that date to Jan. 1, 2018, which the president\\u2019s ban then put off indefinitely. Trump has taken other steps aimed at rolling back transgender rights. In October, his administration said a federal law banning gender-based workplace discrimination does not protect transgender employees, reversing another Obama-era position. In February, Trump rescinded guidance issued by the Obama administration saying that public schools should allow transgender students to use the restroom that corresponds to their gender identity. \",\n          \"SEATTLE/WASHINGTON (Reuters) - President Donald Trump called on the U.S. Postal Service on Friday to charge \\u201cmuch more\\u201d to ship packages for Amazon (AMZN.O), picking another fight with an online retail giant he has criticized in the past.     \\u201cWhy is the United States Post Office, which is losing many billions of dollars a year, while charging Amazon and others so little to deliver their packages, making Amazon richer and the Post Office dumber and poorer? Should be charging MUCH MORE!\\u201d Trump wrote on Twitter.  The president\\u2019s tweet drew fresh attention to the fragile finances of the Postal Service at a time when tens of millions of parcels have just been shipped all over the country for the holiday season.  The U.S. Postal Service, which runs at a big loss, is an independent agency within the federal government and does not receive tax dollars for operating expenses, according to its website.  Package delivery has become an increasingly important part of its business as the Internet has led to a sharp decline in the amount of first-class letters. The president does not determine postal rates. They are set by the Postal Regulatory Commission, an independent government agency with commissioners selected by the president from both political parties. That panel raised prices on packages by almost 2 percent in November.  Amazon was founded by Jeff Bezos, who remains the chief executive officer of the retail company and is the richest person in the world, according to Bloomberg News. Bezos also owns The Washington Post, a newspaper Trump has repeatedly railed against in his criticisms of the news media. In tweets over the past year, Trump has said the \\u201cAmazon Washington Post\\u201d fabricated stories. He has said Amazon does not pay sales tax, which is not true, and so hurts other retailers, part of a pattern by the former businessman and reality television host of periodically turning his ire on big American companies since he took office in January. Daniel Ives, a research analyst at GBH Insights, said Trump\\u2019s comment could be taken as a warning to the retail giant. However, he said he was not concerned for Amazon. \\u201cWe do not see any price hikes in the future. However, that is a risk that Amazon is clearly aware of and (it) is building out its distribution (system) aggressively,\\u201d he said. Amazon has shown interest in the past in shifting into its own delivery service, including testing drones for deliveries. In 2015, the company spent $11.5 billion on shipping, 46 percent of its total operating expenses that year.  Amazon shares were down 0.86 percent to $1,175.90 by early afternoon. Overall, U.S. stock prices were down slightly on Friday.  Satish Jindel, president of ShipMatrix Inc, which analyzes shipping data, disputed the idea that the Postal Service charges less than United Parcel Service Inc (UPS.N) and FedEx Corp (FDX.N), the other biggest players in the parcel delivery business in the United States. Many customers get lower rates from UPS and FedEx than they would get from the post office for comparable services, he said. The Postal Service delivers about 62 percent of Amazon packages, for about 3.5 to 4 million a day during the current peak year-end holiday shipping season, Jindel said. The Seattle-based company and the post office have an agreement in which mail carriers take Amazon packages on the last leg of their journeys, from post offices to customers\\u2019 doorsteps. Amazon\\u2019s No. 2 carrier is UPS, at 21 percent, and FedEx is third, with 8 percent or so, according to Jindel. Trump\\u2019s comment tapped into a debate over whether Postal Service pricing has kept pace with the rise of e-commerce, which has flooded the mail with small packages.Private companies like UPS have long claimed the current system unfairly undercuts their business. Steve Gaut, a spokesman for UPS, noted that the company values its \\u201cproductive relationship\\u201d with the postal service, but that it has filed with the Postal Regulatory Commission its concerns about the postal service\\u2019s methods for covering costs. Representatives for Amazon, the White House, the U.S. Postal Service and FedEx declined comment or were not immediately available for comment on Trump\\u2019s tweet. According to its annual report, the Postal Service lost $2.74 billion this year, and its deficit has ballooned to $61.86 billion.  While the Postal Service\\u2019s revenue for first class mail, marketing mail and periodicals is flat or declining, revenue from package delivery is up 44 percent since 2014 to $19.5 billion in the fiscal year ended Sept. 30, 2017. But it also lost about $2 billion in revenue when a temporary surcharge expired in April 2016. According to a Government Accountability Office report in February, the service is facing growing personnel expenses, particularly $73.4 billion in unfunded pension and benefits liabilities. The Postal Service has not announced any plans to cut costs. By law, the Postal Service has to set prices for package delivery to cover the costs attributable to that service. But the postal service allocates only 5.5 percent of its total costs to its business of shipping packages even though that line of business is 28 percent of its total revenue. \",\n          \"WASHINGTON (Reuters) - The special counsel investigation of links between Russia and President Trump\\u2019s 2016 election campaign should continue without interference in 2018, despite calls from some Trump administration allies and Republican lawmakers to shut it down, a prominent Republican senator said on Sunday. Lindsey Graham, who serves on the Senate armed forces and judiciary committees, said Department of Justice Special Counsel Robert Mueller needs to carry on with his Russia investigation without political interference. \\u201cThis investigation will go forward. It will be an investigation conducted without political influence,\\u201d Graham said on CBS\\u2019s Face the Nation news program. \\u201cAnd we all need to let Mr. Mueller do his job. I think he\\u2019s the right guy at the right time.\\u201d  The question of how Russia may have interfered in the election, and how Trump\\u2019s campaign may have had links with or co-ordinated any such effort, has loomed over the White House since Trump took office in January. It shows no sign of receding as Trump prepares for his second year in power, despite intensified rhetoric from some Trump allies in recent weeks accusing Mueller\\u2019s team of bias against the Republican president. Trump himself seemed to undercut his supporters in an interview last week with the New York Times in which he said he expected Mueller was \\u201cgoing to be fair.\\u201d    Russia\\u2019s role in the election and the question of possible links to the Trump campaign are the focus of multiple inquiries in Washington. Three committees of the Senate and the House of Representatives are investigating, as well as Mueller, whose team in May took over an earlier probe launched by the U.S. Federal Bureau of Investigation (FBI). Several members of the Trump campaign and administration have been convicted or indicted in the investigation.  Trump and his allies deny any collusion with Russia during the campaign, and the Kremlin has denied meddling in the election. Graham said he still wants an examination of the FBI\\u2019s use of a dossier on links between Trump and Russia that was compiled by a former British spy, Christopher Steele, which prompted Trump allies and some Republicans to question Mueller\\u2019s inquiry.   On Saturday, the New York Times reported that it was not that dossier that triggered an early FBI probe, but a tip from former Trump campaign foreign policy adviser George Papadopoulos to an Australian diplomat that Russia had damaging information about former Trump rival Hillary Clinton.  \\u201cI want somebody to look at the way the Department of Justice used this dossier. It bothers me greatly the way they used it, and I want somebody to look at it,\\u201d Graham said. But he said the Russia investigation must continue. \\u201cAs a matter of fact, it would hurt us if we ignored it,\\u201d he said. \"\n        ],\n        \"semantic_type\": \"\",\n        \"description\": \"\"\n      }\n    },\n    {\n      \"column\": \"subject\",\n      \"properties\": {\n        \"dtype\": \"category\",\n        \"num_unique_values\": 1,\n        \"samples\": [\n          \"politicsNews\"\n        ],\n        \"semantic_type\": \"\",\n        \"description\": \"\"\n      }\n    },\n    {\n      \"column\": \"date\",\n      \"properties\": {\n        \"dtype\": \"object\",\n        \"num_unique_values\": 3,\n        \"samples\": [\n          \"December 31, 2017 \"\n        ],\n        \"semantic_type\": \"\",\n        \"description\": \"\"\n      }\n    },\n    {\n      \"column\": \"label\",\n      \"properties\": {\n        \"dtype\": \"category\",\n        \"num_unique_values\": 1,\n        \"samples\": [\n          \"TRUE\"\n        ],\n        \"semantic_type\": \"\",\n        \"description\": \"\"\n      }\n    },\n    {\n      \"column\": \"title_num_sentences\",\n      \"properties\": {\n        \"dtype\": \"number\",\n        \"std\": 1.3416407864998738,\n        \"min\": 1.0,\n        \"max\": 4.0,\n        \"num_unique_values\": 3,\n        \"samples\": [\n          3.0\n        ],\n        \"semantic_type\": \"\",\n        \"description\": \"\"\n      }\n    },\n    {\n      \"column\": \"title_num_words\",\n      \"properties\": {\n        \"dtype\": \"number\",\n        \"std\": 0.8366600265340756,\n        \"min\": 9.0,\n        \"max\": 11.0,\n        \"num_unique_values\": 3,\n        \"samples\": [\n          10.0\n        ],\n        \"semantic_type\": \"\",\n        \"description\": \"\"\n      }\n    },\n    {\n      \"column\": \"title_avg_sentence_length\",\n      \"properties\": {\n        \"dtype\": \"number\",\n        \"std\": 3.9398251512246354,\n        \"min\": 2.5,\n        \"max\": 11.0,\n        \"num_unique_values\": 5,\n        \"samples\": [\n          3.0\n        ],\n        \"semantic_type\": \"\",\n        \"description\": \"\"\n      }\n    },\n    {\n      \"column\": \"title_num_punctuation\",\n      \"properties\": {\n        \"dtype\": \"number\",\n        \"std\": 1.6431676725154984,\n        \"min\": 2.0,\n        \"max\": 6.0,\n        \"num_unique_values\": 3,\n        \"samples\": [\n          3.0\n        ],\n        \"semantic_type\": \"\",\n        \"description\": \"\"\n      }\n    },\n    {\n      \"column\": \"title_avg_word_length\",\n      \"properties\": {\n        \"dtype\": \"number\",\n        \"std\": 0.4192621335865245,\n        \"min\": 5.1,\n        \"max\": 6.222222222222222,\n        \"num_unique_values\": 5,\n        \"samples\": [\n          6.222222222222222\n        ],\n        \"semantic_type\": \"\",\n        \"description\": \"\"\n      }\n    },\n    {\n      \"column\": \"text_num_sentences\",\n      \"properties\": {\n        \"dtype\": \"number\",\n        \"std\": 16.16477652180815,\n        \"min\": 22.0,\n        \"max\": 61.0,\n        \"num_unique_values\": 5,\n        \"samples\": [\n          38.0\n        ],\n        \"semantic_type\": \"\",\n        \"description\": \"\"\n      }\n    },\n    {\n      \"column\": \"text_num_words\",\n      \"properties\": {\n        \"dtype\": \"number\",\n        \"std\": 197.63172822196339,\n        \"min\": 376.0,\n        \"max\": 852.0,\n        \"num_unique_values\": 5,\n        \"samples\": [\n          624.0\n        ],\n        \"semantic_type\": \"\",\n        \"description\": \"\"\n      }\n    },\n    {\n      \"column\": \"text_avg_sentence_length\",\n      \"properties\": {\n        \"dtype\": \"number\",\n        \"std\": 2.1033991068746154,\n        \"min\": 13.967213114754099,\n        \"max\": 19.869565217391305,\n        \"num_unique_values\": 5,\n        \"samples\": [\n          16.42105263157895\n        ],\n        \"semantic_type\": \"\",\n        \"description\": \"\"\n      }\n    },\n    {\n      \"column\": \"text_num_punctuation\",\n      \"properties\": {\n        \"dtype\": \"number\",\n        \"std\": 39.84595337044905,\n        \"min\": 47.0,\n        \"max\": 136.0,\n        \"num_unique_values\": 5,\n        \"samples\": [\n          77.0\n        ],\n        \"semantic_type\": \"\",\n        \"description\": \"\"\n      }\n    },\n    {\n      \"column\": \"text_avg_word_length\",\n      \"properties\": {\n        \"dtype\": \"number\",\n        \"std\": 0.2289579881809814,\n        \"min\": 5.085339168490153,\n        \"max\": 5.545212765957447,\n        \"num_unique_values\": 5,\n        \"samples\": [\n          5.533653846153846\n        ],\n        \"semantic_type\": \"\",\n        \"description\": \"\"\n      }\n    }\n  ]\n}",
              "type": "dataframe"
            },
            "text/html": [
              "\n",
              "  <div id=\"df-4756c7e8-d72a-4b5a-9007-9d7ecbc3991e\" class=\"colab-df-container\">\n",
              "    <div>\n",
              "<style scoped>\n",
              "    .dataframe tbody tr th:only-of-type {\n",
              "        vertical-align: middle;\n",
              "    }\n",
              "\n",
              "    .dataframe tbody tr th {\n",
              "        vertical-align: top;\n",
              "    }\n",
              "\n",
              "    .dataframe thead th {\n",
              "        text-align: right;\n",
              "    }\n",
              "</style>\n",
              "<table border=\"1\" class=\"dataframe\">\n",
              "  <thead>\n",
              "    <tr style=\"text-align: right;\">\n",
              "      <th></th>\n",
              "      <th>title</th>\n",
              "      <th>text</th>\n",
              "      <th>subject</th>\n",
              "      <th>date</th>\n",
              "      <th>label</th>\n",
              "      <th>title_num_sentences</th>\n",
              "      <th>title_num_words</th>\n",
              "      <th>title_avg_sentence_length</th>\n",
              "      <th>title_num_punctuation</th>\n",
              "      <th>title_avg_word_length</th>\n",
              "      <th>text_num_sentences</th>\n",
              "      <th>text_num_words</th>\n",
              "      <th>text_avg_sentence_length</th>\n",
              "      <th>text_num_punctuation</th>\n",
              "      <th>text_avg_word_length</th>\n",
              "    </tr>\n",
              "  </thead>\n",
              "  <tbody>\n",
              "    <tr>\n",
              "      <th>0</th>\n",
              "      <td>As U.S. budget fight looms, Republicans flip t...</td>\n",
              "      <td>WASHINGTON (Reuters) - The head of a conservat...</td>\n",
              "      <td>politicsNews</td>\n",
              "      <td>December 31, 2017</td>\n",
              "      <td>TRUE</td>\n",
              "      <td>3.0</td>\n",
              "      <td>10.0</td>\n",
              "      <td>3.333333</td>\n",
              "      <td>3.0</td>\n",
              "      <td>5.500000</td>\n",
              "      <td>44.0</td>\n",
              "      <td>749.0</td>\n",
              "      <td>17.022727</td>\n",
              "      <td>118.0</td>\n",
              "      <td>5.216288</td>\n",
              "    </tr>\n",
              "    <tr>\n",
              "      <th>1</th>\n",
              "      <td>U.S. military to accept transgender recruits o...</td>\n",
              "      <td>WASHINGTON (Reuters) - Transgender people will...</td>\n",
              "      <td>politicsNews</td>\n",
              "      <td>December 29, 2017</td>\n",
              "      <td>TRUE</td>\n",
              "      <td>3.0</td>\n",
              "      <td>9.0</td>\n",
              "      <td>3.000000</td>\n",
              "      <td>3.0</td>\n",
              "      <td>6.222222</td>\n",
              "      <td>38.0</td>\n",
              "      <td>624.0</td>\n",
              "      <td>16.421053</td>\n",
              "      <td>77.0</td>\n",
              "      <td>5.533654</td>\n",
              "    </tr>\n",
              "    <tr>\n",
              "      <th>2</th>\n",
              "      <td>Senior U.S. Republican senator: 'Let Mr. Muell...</td>\n",
              "      <td>WASHINGTON (Reuters) - The special counsel inv...</td>\n",
              "      <td>politicsNews</td>\n",
              "      <td>December 31, 2017</td>\n",
              "      <td>TRUE</td>\n",
              "      <td>4.0</td>\n",
              "      <td>10.0</td>\n",
              "      <td>2.500000</td>\n",
              "      <td>6.0</td>\n",
              "      <td>5.100000</td>\n",
              "      <td>23.0</td>\n",
              "      <td>457.0</td>\n",
              "      <td>19.869565</td>\n",
              "      <td>47.0</td>\n",
              "      <td>5.085339</td>\n",
              "    </tr>\n",
              "    <tr>\n",
              "      <th>3</th>\n",
              "      <td>FBI Russia probe helped by Australian diplomat...</td>\n",
              "      <td>WASHINGTON (Reuters) - Trump campaign adviser ...</td>\n",
              "      <td>politicsNews</td>\n",
              "      <td>December 30, 2017</td>\n",
              "      <td>TRUE</td>\n",
              "      <td>1.0</td>\n",
              "      <td>9.0</td>\n",
              "      <td>9.000000</td>\n",
              "      <td>2.0</td>\n",
              "      <td>5.666667</td>\n",
              "      <td>22.0</td>\n",
              "      <td>376.0</td>\n",
              "      <td>17.090909</td>\n",
              "      <td>51.0</td>\n",
              "      <td>5.545213</td>\n",
              "    </tr>\n",
              "    <tr>\n",
              "      <th>4</th>\n",
              "      <td>Trump wants Postal Service to charge 'much mor...</td>\n",
              "      <td>SEATTLE/WASHINGTON (Reuters) - President Donal...</td>\n",
              "      <td>politicsNews</td>\n",
              "      <td>December 29, 2017</td>\n",
              "      <td>TRUE</td>\n",
              "      <td>1.0</td>\n",
              "      <td>11.0</td>\n",
              "      <td>11.000000</td>\n",
              "      <td>2.0</td>\n",
              "      <td>5.363636</td>\n",
              "      <td>61.0</td>\n",
              "      <td>852.0</td>\n",
              "      <td>13.967213</td>\n",
              "      <td>136.0</td>\n",
              "      <td>5.095070</td>\n",
              "    </tr>\n",
              "  </tbody>\n",
              "</table>\n",
              "</div>\n",
              "    <div class=\"colab-df-buttons\">\n",
              "\n",
              "  <div class=\"colab-df-container\">\n",
              "    <button class=\"colab-df-convert\" onclick=\"convertToInteractive('df-4756c7e8-d72a-4b5a-9007-9d7ecbc3991e')\"\n",
              "            title=\"Convert this dataframe to an interactive table.\"\n",
              "            style=\"display:none;\">\n",
              "\n",
              "  <svg xmlns=\"http://www.w3.org/2000/svg\" height=\"24px\" viewBox=\"0 -960 960 960\">\n",
              "    <path d=\"M120-120v-720h720v720H120Zm60-500h600v-160H180v160Zm220 220h160v-160H400v160Zm0 220h160v-160H400v160ZM180-400h160v-160H180v160Zm440 0h160v-160H620v160ZM180-180h160v-160H180v160Zm440 0h160v-160H620v160Z\"/>\n",
              "  </svg>\n",
              "    </button>\n",
              "\n",
              "  <style>\n",
              "    .colab-df-container {\n",
              "      display:flex;\n",
              "      gap: 12px;\n",
              "    }\n",
              "\n",
              "    .colab-df-convert {\n",
              "      background-color: #E8F0FE;\n",
              "      border: none;\n",
              "      border-radius: 50%;\n",
              "      cursor: pointer;\n",
              "      display: none;\n",
              "      fill: #1967D2;\n",
              "      height: 32px;\n",
              "      padding: 0 0 0 0;\n",
              "      width: 32px;\n",
              "    }\n",
              "\n",
              "    .colab-df-convert:hover {\n",
              "      background-color: #E2EBFA;\n",
              "      box-shadow: 0px 1px 2px rgba(60, 64, 67, 0.3), 0px 1px 3px 1px rgba(60, 64, 67, 0.15);\n",
              "      fill: #174EA6;\n",
              "    }\n",
              "\n",
              "    .colab-df-buttons div {\n",
              "      margin-bottom: 4px;\n",
              "    }\n",
              "\n",
              "    [theme=dark] .colab-df-convert {\n",
              "      background-color: #3B4455;\n",
              "      fill: #D2E3FC;\n",
              "    }\n",
              "\n",
              "    [theme=dark] .colab-df-convert:hover {\n",
              "      background-color: #434B5C;\n",
              "      box-shadow: 0px 1px 3px 1px rgba(0, 0, 0, 0.15);\n",
              "      filter: drop-shadow(0px 1px 2px rgba(0, 0, 0, 0.3));\n",
              "      fill: #FFFFFF;\n",
              "    }\n",
              "  </style>\n",
              "\n",
              "    <script>\n",
              "      const buttonEl =\n",
              "        document.querySelector('#df-4756c7e8-d72a-4b5a-9007-9d7ecbc3991e button.colab-df-convert');\n",
              "      buttonEl.style.display =\n",
              "        google.colab.kernel.accessAllowed ? 'block' : 'none';\n",
              "\n",
              "      async function convertToInteractive(key) {\n",
              "        const element = document.querySelector('#df-4756c7e8-d72a-4b5a-9007-9d7ecbc3991e');\n",
              "        const dataTable =\n",
              "          await google.colab.kernel.invokeFunction('convertToInteractive',\n",
              "                                                    [key], {});\n",
              "        if (!dataTable) return;\n",
              "\n",
              "        const docLinkHtml = 'Like what you see? Visit the ' +\n",
              "          '<a target=\"_blank\" href=https://colab.research.google.com/notebooks/data_table.ipynb>data table notebook</a>'\n",
              "          + ' to learn more about interactive tables.';\n",
              "        element.innerHTML = '';\n",
              "        dataTable['output_type'] = 'display_data';\n",
              "        await google.colab.output.renderOutput(dataTable, element);\n",
              "        const docLink = document.createElement('div');\n",
              "        docLink.innerHTML = docLinkHtml;\n",
              "        element.appendChild(docLink);\n",
              "      }\n",
              "    </script>\n",
              "  </div>\n",
              "\n",
              "\n",
              "    <div id=\"df-baf5e41b-bb4a-4b04-881c-f45565292670\">\n",
              "      <button class=\"colab-df-quickchart\" onclick=\"quickchart('df-baf5e41b-bb4a-4b04-881c-f45565292670')\"\n",
              "                title=\"Suggest charts\"\n",
              "                style=\"display:none;\">\n",
              "\n",
              "<svg xmlns=\"http://www.w3.org/2000/svg\" height=\"24px\"viewBox=\"0 0 24 24\"\n",
              "     width=\"24px\">\n",
              "    <g>\n",
              "        <path d=\"M19 3H5c-1.1 0-2 .9-2 2v14c0 1.1.9 2 2 2h14c1.1 0 2-.9 2-2V5c0-1.1-.9-2-2-2zM9 17H7v-7h2v7zm4 0h-2V7h2v10zm4 0h-2v-4h2v4z\"/>\n",
              "    </g>\n",
              "</svg>\n",
              "      </button>\n",
              "\n",
              "<style>\n",
              "  .colab-df-quickchart {\n",
              "      --bg-color: #E8F0FE;\n",
              "      --fill-color: #1967D2;\n",
              "      --hover-bg-color: #E2EBFA;\n",
              "      --hover-fill-color: #174EA6;\n",
              "      --disabled-fill-color: #AAA;\n",
              "      --disabled-bg-color: #DDD;\n",
              "  }\n",
              "\n",
              "  [theme=dark] .colab-df-quickchart {\n",
              "      --bg-color: #3B4455;\n",
              "      --fill-color: #D2E3FC;\n",
              "      --hover-bg-color: #434B5C;\n",
              "      --hover-fill-color: #FFFFFF;\n",
              "      --disabled-bg-color: #3B4455;\n",
              "      --disabled-fill-color: #666;\n",
              "  }\n",
              "\n",
              "  .colab-df-quickchart {\n",
              "    background-color: var(--bg-color);\n",
              "    border: none;\n",
              "    border-radius: 50%;\n",
              "    cursor: pointer;\n",
              "    display: none;\n",
              "    fill: var(--fill-color);\n",
              "    height: 32px;\n",
              "    padding: 0;\n",
              "    width: 32px;\n",
              "  }\n",
              "\n",
              "  .colab-df-quickchart:hover {\n",
              "    background-color: var(--hover-bg-color);\n",
              "    box-shadow: 0 1px 2px rgba(60, 64, 67, 0.3), 0 1px 3px 1px rgba(60, 64, 67, 0.15);\n",
              "    fill: var(--button-hover-fill-color);\n",
              "  }\n",
              "\n",
              "  .colab-df-quickchart-complete:disabled,\n",
              "  .colab-df-quickchart-complete:disabled:hover {\n",
              "    background-color: var(--disabled-bg-color);\n",
              "    fill: var(--disabled-fill-color);\n",
              "    box-shadow: none;\n",
              "  }\n",
              "\n",
              "  .colab-df-spinner {\n",
              "    border: 2px solid var(--fill-color);\n",
              "    border-color: transparent;\n",
              "    border-bottom-color: var(--fill-color);\n",
              "    animation:\n",
              "      spin 1s steps(1) infinite;\n",
              "  }\n",
              "\n",
              "  @keyframes spin {\n",
              "    0% {\n",
              "      border-color: transparent;\n",
              "      border-bottom-color: var(--fill-color);\n",
              "      border-left-color: var(--fill-color);\n",
              "    }\n",
              "    20% {\n",
              "      border-color: transparent;\n",
              "      border-left-color: var(--fill-color);\n",
              "      border-top-color: var(--fill-color);\n",
              "    }\n",
              "    30% {\n",
              "      border-color: transparent;\n",
              "      border-left-color: var(--fill-color);\n",
              "      border-top-color: var(--fill-color);\n",
              "      border-right-color: var(--fill-color);\n",
              "    }\n",
              "    40% {\n",
              "      border-color: transparent;\n",
              "      border-right-color: var(--fill-color);\n",
              "      border-top-color: var(--fill-color);\n",
              "    }\n",
              "    60% {\n",
              "      border-color: transparent;\n",
              "      border-right-color: var(--fill-color);\n",
              "    }\n",
              "    80% {\n",
              "      border-color: transparent;\n",
              "      border-right-color: var(--fill-color);\n",
              "      border-bottom-color: var(--fill-color);\n",
              "    }\n",
              "    90% {\n",
              "      border-color: transparent;\n",
              "      border-bottom-color: var(--fill-color);\n",
              "    }\n",
              "  }\n",
              "</style>\n",
              "\n",
              "      <script>\n",
              "        async function quickchart(key) {\n",
              "          const quickchartButtonEl =\n",
              "            document.querySelector('#' + key + ' button');\n",
              "          quickchartButtonEl.disabled = true;  // To prevent multiple clicks.\n",
              "          quickchartButtonEl.classList.add('colab-df-spinner');\n",
              "          try {\n",
              "            const charts = await google.colab.kernel.invokeFunction(\n",
              "                'suggestCharts', [key], {});\n",
              "          } catch (error) {\n",
              "            console.error('Error during call to suggestCharts:', error);\n",
              "          }\n",
              "          quickchartButtonEl.classList.remove('colab-df-spinner');\n",
              "          quickchartButtonEl.classList.add('colab-df-quickchart-complete');\n",
              "        }\n",
              "        (() => {\n",
              "          let quickchartButtonEl =\n",
              "            document.querySelector('#df-baf5e41b-bb4a-4b04-881c-f45565292670 button');\n",
              "          quickchartButtonEl.style.display =\n",
              "            google.colab.kernel.accessAllowed ? 'block' : 'none';\n",
              "        })();\n",
              "      </script>\n",
              "    </div>\n",
              "\n",
              "    </div>\n",
              "  </div>\n"
            ],
            "text/plain": [
              "                                               title  \\\n",
              "0  As U.S. budget fight looms, Republicans flip t...   \n",
              "1  U.S. military to accept transgender recruits o...   \n",
              "2  Senior U.S. Republican senator: 'Let Mr. Muell...   \n",
              "3  FBI Russia probe helped by Australian diplomat...   \n",
              "4  Trump wants Postal Service to charge 'much mor...   \n",
              "\n",
              "                                                text       subject  \\\n",
              "0  WASHINGTON (Reuters) - The head of a conservat...  politicsNews   \n",
              "1  WASHINGTON (Reuters) - Transgender people will...  politicsNews   \n",
              "2  WASHINGTON (Reuters) - The special counsel inv...  politicsNews   \n",
              "3  WASHINGTON (Reuters) - Trump campaign adviser ...  politicsNews   \n",
              "4  SEATTLE/WASHINGTON (Reuters) - President Donal...  politicsNews   \n",
              "\n",
              "                 date label  title_num_sentences  title_num_words  \\\n",
              "0  December 31, 2017   TRUE                  3.0             10.0   \n",
              "1  December 29, 2017   TRUE                  3.0              9.0   \n",
              "2  December 31, 2017   TRUE                  4.0             10.0   \n",
              "3  December 30, 2017   TRUE                  1.0              9.0   \n",
              "4  December 29, 2017   TRUE                  1.0             11.0   \n",
              "\n",
              "   title_avg_sentence_length  title_num_punctuation  title_avg_word_length  \\\n",
              "0                   3.333333                    3.0               5.500000   \n",
              "1                   3.000000                    3.0               6.222222   \n",
              "2                   2.500000                    6.0               5.100000   \n",
              "3                   9.000000                    2.0               5.666667   \n",
              "4                  11.000000                    2.0               5.363636   \n",
              "\n",
              "   text_num_sentences  text_num_words  text_avg_sentence_length  \\\n",
              "0                44.0           749.0                 17.022727   \n",
              "1                38.0           624.0                 16.421053   \n",
              "2                23.0           457.0                 19.869565   \n",
              "3                22.0           376.0                 17.090909   \n",
              "4                61.0           852.0                 13.967213   \n",
              "\n",
              "   text_num_punctuation  text_avg_word_length  \n",
              "0                 118.0              5.216288  \n",
              "1                  77.0              5.533654  \n",
              "2                  47.0              5.085339  \n",
              "3                  51.0              5.545213  \n",
              "4                 136.0              5.095070  "
            ]
          },
          "metadata": {},
          "output_type": "display_data"
        }
      ],
      "source": [
        "import re\n",
        "import string\n",
        "\n",
        "#function to extract linguistic features\n",
        "def extract_linguistic_features(text):\n",
        "    if isinstance(text, str):\n",
        "        #number of sentences\n",
        "        sentences = re.split(r'[.!?]+', text)\n",
        "        num_sentences = len(sentences) if sentences and sentences[0] != '' else 0\n",
        "\n",
        "        #number of words\n",
        "        words = text.split()\n",
        "        num_words = len(words)\n",
        "\n",
        "        #average sentence length (in words)\n",
        "        avg_sentence_length = num_words / num_sentences if num_sentences > 0 else 0\n",
        "\n",
        "        #number of punctuation marks\n",
        "        num_punctuation = sum([1 for char in text if char in string.punctuation])\n",
        "\n",
        "        #average word length\n",
        "        avg_word_length = sum(len(word) for word in words) / num_words if num_words > 0 else 0\n",
        "\n",
        "        return pd.Series([num_sentences, num_words, avg_sentence_length, num_punctuation, avg_word_length])\n",
        "    else:\n",
        "        return pd.Series([0, 0, 0, 0, 0]) # Return 0 for non-string inputs\n",
        "\n",
        "\n",
        "#apply the function to extract features for 'title' and 'text'\n",
        "#create new columns for title features\n",
        "df_final_cleaned[['title_num_sentences', 'title_num_words', 'title_avg_sentence_length', 'title_num_punctuation', 'title_avg_word_length']] = df_final_cleaned['title'].apply(extract_linguistic_features)\n",
        "\n",
        "#create new columns for text features\n",
        "df_final_cleaned[['text_num_sentences', 'text_num_words', 'text_avg_sentence_length', 'text_num_punctuation', 'text_avg_word_length']] = df_final_cleaned['text'].apply(extract_linguistic_features)\n",
        "\n",
        "print(\"DataFrame shape after adding linguistic features:\", df_final_cleaned.shape)\n",
        "display(df_final_cleaned.head())"
      ]
    },
    {
      "cell_type": "markdown",
      "metadata": {
        "id": "1YZZ1e0OL62o"
      },
      "source": [
        "### Feature Analysis: Visualizing Linguistic Features"
      ]
    },
    {
      "cell_type": "code",
      "execution_count": null,
      "metadata": {
        "colab": {
          "base_uri": "https://localhost:8080/",
          "height": 1000
        },
        "id": "YNpy3virL8Uq",
        "outputId": "64f4b748-5e55-48e5-e505-90d0bcf91701"
      },
      "outputs": [
        {
          "data": {
            "image/png": "[encoded data removed]",
            "text/plain": [
              "<Figure size 1500x2000 with 5 Axes>"
            ]
          },
          "metadata": {},
          "output_type": "display_data"
        },
        {
          "data": {
            "image/png": "[encoded data removed]",
            "text/plain": [
              "<Figure size 1500x2000 with 5 Axes>"
            ]
          },
          "metadata": {},
          "output_type": "display_data"
        }
      ],
      "source": [
        "#visualize distributions of linguistic features for 'text'\n",
        "features_to_visualize = ['text_num_sentences', 'text_num_words', 'text_avg_sentence_length',\n",
        "                         'text_num_punctuation', 'text_avg_word_length',\n",
        "                         'text_num_exclamation_points', 'text_num_question_marks', 'text_num_quotes',\n",
        "                         'text_num_all_caps_words', 'text_percentage_capitalized_words', 'text_flesch_reading_ease',\n",
        "                         'text_dale_chall_readability_score', 'text_avg_sentence_length_chars']\n",
        "\n",
        "#filter features_to_visualize to only include columns present in df_final_cleaned\n",
        "available_text_features = [feature for feature in features_to_visualize if feature in df_final_cleaned.columns]\n",
        "\n",
        "plt.figure(figsize=(15, 20)) #figure height to accommodate more plots\n",
        "\n",
        "for i, feature in enumerate(available_text_features):\n",
        "    plt.subplot(5, 3, i + 1) #subplot grid 5x3\n",
        "    sns.histplot(data=df_final_cleaned, x=feature, hue='label', kde=True, palette='tab10')\n",
        "    plt.title(f'Distribution of {feature} by Label')\n",
        "    plt.xlabel(feature)\n",
        "    plt.ylabel('Number of Articles')\n",
        "\n",
        "plt.tight_layout()\n",
        "plt.show()\n",
        "\n",
        "#visualize features for 'title'\n",
        "features_to_visualize_title = ['title_num_sentences', 'title_num_words', 'title_avg_sentence_length',\n",
        "                               'title_num_punctuation', 'title_avg_word_length',\n",
        "                               'title_num_exclamation_points', 'title_num_question_marks', 'title_num_quotes',\n",
        "                               'title_num_all_caps_words', 'title_percentage_capitalized_words', 'title_flesch_reading_ease',\n",
        "                               'title_dale_chall_readability_score', 'title_avg_sentence_length_chars']\n",
        "\n",
        "#filter features_to_visualize_title to only include columns present in df_final_cleaned\n",
        "available_title_features = [feature for feature in features_to_visualize_title if feature in df_final_cleaned.columns]\n",
        "\n",
        "\n",
        "plt.figure(figsize=(15, 20)) #figure height\n",
        "\n",
        "for i, feature in enumerate(available_title_features):\n",
        "    plt.subplot(5, 3, i + 1) #subplot grid 5x3\n",
        "    sns.histplot(data=df_final_cleaned, x=feature, hue='label', kde=True, palette='tab10')\n",
        "    plt.title(f'Distribution of {feature} by Label')\n",
        "    plt.xlabel(feature)\n",
        "    plt.ylabel('Number of Articles')\n",
        "\n",
        "plt.tight_layout()\n",
        "plt.show()"
      ]
    },
    {
      "cell_type": "markdown",
      "metadata": {
        "id": "ul24GjjDMCBk"
      },
      "source": [
        "### Feature Analysis: Descriptive Statistics"
      ]
    },
    {
      "cell_type": "code",
      "execution_count": null,
      "metadata": {
        "colab": {
          "base_uri": "https://localhost:8080/",
          "height": 221
        },
        "id": "fMI7rxdvMDSz",
        "outputId": "ac9ca7f6-e90d-4ba0-9675-7301863ce0bf"
      },
      "outputs": [
        {
          "name": "stdout",
          "output_type": "stream",
          "text": [
            "Descriptive statistics of linguistic features by label (0: Fake, 1: True):\n"
          ]
        },
        {
          "data": {
            "application/vnd.google.colaboratory.intrinsic+json": {
              "type": "dataframe",
              "variable_name": "descriptive_stats"
            },
            "text/html": [
              "\n",
              "  <div id=\"df-8266df82-139d-4a1f-ade8-276e207dbf3d\" class=\"colab-df-container\">\n",
              "    <div>\n",
              "<style scoped>\n",
              "    .dataframe tbody tr th:only-of-type {\n",
              "        vertical-align: middle;\n",
              "    }\n",
              "\n",
              "    .dataframe tbody tr th {\n",
              "        vertical-align: top;\n",
              "    }\n",
              "\n",
              "    .dataframe thead tr th {\n",
              "        text-align: left;\n",
              "    }\n",
              "\n",
              "    .dataframe thead tr:last-of-type th {\n",
              "        text-align: right;\n",
              "    }\n",
              "</style>\n",
              "<table border=\"1\" class=\"dataframe\">\n",
              "  <thead>\n",
              "    <tr>\n",
              "      <th></th>\n",
              "      <th colspan=\"8\" halign=\"left\">title_num_sentences</th>\n",
              "      <th colspan=\"2\" halign=\"left\">title_num_words</th>\n",
              "      <th>...</th>\n",
              "      <th colspan=\"2\" halign=\"left\">text_num_punctuation</th>\n",
              "      <th colspan=\"8\" halign=\"left\">text_avg_word_length</th>\n",
              "    </tr>\n",
              "    <tr>\n",
              "      <th></th>\n",
              "      <th>count</th>\n",
              "      <th>mean</th>\n",
              "      <th>std</th>\n",
              "      <th>min</th>\n",
              "      <th>25%</th>\n",
              "      <th>50%</th>\n",
              "      <th>75%</th>\n",
              "      <th>max</th>\n",
              "      <th>count</th>\n",
              "      <th>mean</th>\n",
              "      <th>...</th>\n",
              "      <th>75%</th>\n",
              "      <th>max</th>\n",
              "      <th>count</th>\n",
              "      <th>mean</th>\n",
              "      <th>std</th>\n",
              "      <th>min</th>\n",
              "      <th>25%</th>\n",
              "      <th>50%</th>\n",
              "      <th>75%</th>\n",
              "      <th>max</th>\n",
              "    </tr>\n",
              "    <tr>\n",
              "      <th>label</th>\n",
              "      <th></th>\n",
              "      <th></th>\n",
              "      <th></th>\n",
              "      <th></th>\n",
              "      <th></th>\n",
              "      <th></th>\n",
              "      <th></th>\n",
              "      <th></th>\n",
              "      <th></th>\n",
              "      <th></th>\n",
              "      <th></th>\n",
              "      <th></th>\n",
              "      <th></th>\n",
              "      <th></th>\n",
              "      <th></th>\n",
              "      <th></th>\n",
              "      <th></th>\n",
              "      <th></th>\n",
              "      <th></th>\n",
              "      <th></th>\n",
              "      <th></th>\n",
              "    </tr>\n",
              "  </thead>\n",
              "  <tbody>\n",
              "    <tr>\n",
              "      <th>FAKE</th>\n",
              "      <td>22827.0</td>\n",
              "      <td>1.311561</td>\n",
              "      <td>0.627022</td>\n",
              "      <td>1.0</td>\n",
              "      <td>1.0</td>\n",
              "      <td>1.0</td>\n",
              "      <td>1.0</td>\n",
              "      <td>8.0</td>\n",
              "      <td>22827.0</td>\n",
              "      <td>14.732115</td>\n",
              "      <td>...</td>\n",
              "      <td>71.0</td>\n",
              "      <td>7295.0</td>\n",
              "      <td>22827.0</td>\n",
              "      <td>5.150957</td>\n",
              "      <td>2.918476</td>\n",
              "      <td>2.250000</td>\n",
              "      <td>4.745393</td>\n",
              "      <td>4.956522</td>\n",
              "      <td>5.186441</td>\n",
              "      <td>149.000000</td>\n",
              "    </tr>\n",
              "    <tr>\n",
              "      <th>TRUE</th>\n",
              "      <td>21210.0</td>\n",
              "      <td>1.471146</td>\n",
              "      <td>0.875719</td>\n",
              "      <td>1.0</td>\n",
              "      <td>1.0</td>\n",
              "      <td>1.0</td>\n",
              "      <td>1.0</td>\n",
              "      <td>7.0</td>\n",
              "      <td>21210.0</td>\n",
              "      <td>9.951862</td>\n",
              "      <td>...</td>\n",
              "      <td>68.0</td>\n",
              "      <td>595.0</td>\n",
              "      <td>21210.0</td>\n",
              "      <td>5.177879</td>\n",
              "      <td>0.259569</td>\n",
              "      <td>3.805405</td>\n",
              "      <td>5.010710</td>\n",
              "      <td>5.170634</td>\n",
              "      <td>5.336634</td>\n",
              "      <td>6.893939</td>\n",
              "    </tr>\n",
              "  </tbody>\n",
              "</table>\n",
              "<p>2 rows × 80 columns</p>\n",
              "</div>\n",
              "    <div class=\"colab-df-buttons\">\n",
              "\n",
              "  <div class=\"colab-df-container\">\n",
              "    <button class=\"colab-df-convert\" onclick=\"convertToInteractive('df-8266df82-139d-4a1f-ade8-276e207dbf3d')\"\n",
              "            title=\"Convert this dataframe to an interactive table.\"\n",
              "            style=\"display:none;\">\n",
              "\n",
              "  <svg xmlns=\"http://www.w3.org/2000/svg\" height=\"24px\" viewBox=\"0 -960 960 960\">\n",
              "    <path d=\"M120-120v-720h720v720H120Zm60-500h600v-160H180v160Zm220 220h160v-160H400v160Zm0 220h160v-160H400v160ZM180-400h160v-160H180v160Zm440 0h160v-160H620v160ZM180-180h160v-160H180v160Zm440 0h160v-160H620v160Z\"/>\n",
              "  </svg>\n",
              "    </button>\n",
              "\n",
              "  <style>\n",
              "    .colab-df-container {\n",
              "      display:flex;\n",
              "      gap: 12px;\n",
              "    }\n",
              "\n",
              "    .colab-df-convert {\n",
              "      background-color: #E8F0FE;\n",
              "      border: none;\n",
              "      border-radius: 50%;\n",
              "      cursor: pointer;\n",
              "      display: none;\n",
              "      fill: #1967D2;\n",
              "      height: 32px;\n",
              "      padding: 0 0 0 0;\n",
              "      width: 32px;\n",
              "    }\n",
              "\n",
              "    .colab-df-convert:hover {\n",
              "      background-color: #E2EBFA;\n",
              "      box-shadow: 0px 1px 2px rgba(60, 64, 67, 0.3), 0px 1px 3px 1px rgba(60, 64, 67, 0.15);\n",
              "      fill: #174EA6;\n",
              "    }\n",
              "\n",
              "    .colab-df-buttons div {\n",
              "      margin-bottom: 4px;\n",
              "    }\n",
              "\n",
              "    [theme=dark] .colab-df-convert {\n",
              "      background-color: #3B4455;\n",
              "      fill: #D2E3FC;\n",
              "    }\n",
              "\n",
              "    [theme=dark] .colab-df-convert:hover {\n",
              "      background-color: #434B5C;\n",
              "      box-shadow: 0px 1px 3px 1px rgba(0, 0, 0, 0.15);\n",
              "      filter: drop-shadow(0px 1px 2px rgba(0, 0, 0, 0.3));\n",
              "      fill: #FFFFFF;\n",
              "    }\n",
              "  </style>\n",
              "\n",
              "    <script>\n",
              "      const buttonEl =\n",
              "        document.querySelector('#df-8266df82-139d-4a1f-ade8-276e207dbf3d button.colab-df-convert');\n",
              "      buttonEl.style.display =\n",
              "        google.colab.kernel.accessAllowed ? 'block' : 'none';\n",
              "\n",
              "      async function convertToInteractive(key) {\n",
              "        const element = document.querySelector('#df-8266df82-139d-4a1f-ade8-276e207dbf3d');\n",
              "        const dataTable =\n",
              "          await google.colab.kernel.invokeFunction('convertToInteractive',\n",
              "                                                    [key], {});\n",
              "        if (!dataTable) return;\n",
              "\n",
              "        const docLinkHtml = 'Like what you see? Visit the ' +\n",
              "          '<a target=\"_blank\" href=https://colab.research.google.com/notebooks/data_table.ipynb>data table notebook</a>'\n",
              "          + ' to learn more about interactive tables.';\n",
              "        element.innerHTML = '';\n",
              "        dataTable['output_type'] = 'display_data';\n",
              "        await google.colab.output.renderOutput(dataTable, element);\n",
              "        const docLink = document.createElement('div');\n",
              "        docLink.innerHTML = docLinkHtml;\n",
              "        element.appendChild(docLink);\n",
              "      }\n",
              "    </script>\n",
              "  </div>\n",
              "\n",
              "\n",
              "    <div id=\"df-ce5ecd9b-cc32-4944-a95a-3d3fa3aa589b\">\n",
              "      <button class=\"colab-df-quickchart\" onclick=\"quickchart('df-ce5ecd9b-cc32-4944-a95a-3d3fa3aa589b')\"\n",
              "                title=\"Suggest charts\"\n",
              "                style=\"display:none;\">\n",
              "\n",
              "<svg xmlns=\"http://www.w3.org/2000/svg\" height=\"24px\"viewBox=\"0 0 24 24\"\n",
              "     width=\"24px\">\n",
              "    <g>\n",
              "        <path d=\"M19 3H5c-1.1 0-2 .9-2 2v14c0 1.1.9 2 2 2h14c1.1 0 2-.9 2-2V5c0-1.1-.9-2-2-2zM9 17H7v-7h2v7zm4 0h-2V7h2v10zm4 0h-2v-4h2v4z\"/>\n",
              "    </g>\n",
              "</svg>\n",
              "      </button>\n",
              "\n",
              "<style>\n",
              "  .colab-df-quickchart {\n",
              "      --bg-color: #E8F0FE;\n",
              "      --fill-color: #1967D2;\n",
              "      --hover-bg-color: #E2EBFA;\n",
              "      --hover-fill-color: #174EA6;\n",
              "      --disabled-fill-color: #AAA;\n",
              "      --disabled-bg-color: #DDD;\n",
              "  }\n",
              "\n",
              "  [theme=dark] .colab-df-quickchart {\n",
              "      --bg-color: #3B4455;\n",
              "      --fill-color: #D2E3FC;\n",
              "      --hover-bg-color: #434B5C;\n",
              "      --hover-fill-color: #FFFFFF;\n",
              "      --disabled-bg-color: #3B4455;\n",
              "      --disabled-fill-color: #666;\n",
              "  }\n",
              "\n",
              "  .colab-df-quickchart {\n",
              "    background-color: var(--bg-color);\n",
              "    border: none;\n",
              "    border-radius: 50%;\n",
              "    cursor: pointer;\n",
              "    display: none;\n",
              "    fill: var(--fill-color);\n",
              "    height: 32px;\n",
              "    padding: 0;\n",
              "    width: 32px;\n",
              "  }\n",
              "\n",
              "  .colab-df-quickchart:hover {\n",
              "    background-color: var(--hover-bg-color);\n",
              "    box-shadow: 0 1px 2px rgba(60, 64, 67, 0.3), 0 1px 3px 1px rgba(60, 64, 67, 0.15);\n",
              "    fill: var(--button-hover-fill-color);\n",
              "  }\n",
              "\n",
              "  .colab-df-quickchart-complete:disabled,\n",
              "  .colab-df-quickchart-complete:disabled:hover {\n",
              "    background-color: var(--disabled-bg-color);\n",
              "    fill: var(--disabled-fill-color);\n",
              "    box-shadow: none;\n",
              "  }\n",
              "\n",
              "  .colab-df-spinner {\n",
              "    border: 2px solid var(--fill-color);\n",
              "    border-color: transparent;\n",
              "    border-bottom-color: var(--fill-color);\n",
              "    animation:\n",
              "      spin 1s steps(1) infinite;\n",
              "  }\n",
              "\n",
              "  @keyframes spin {\n",
              "    0% {\n",
              "      border-color: transparent;\n",
              "      border-bottom-color: var(--fill-color);\n",
              "      border-left-color: var(--fill-color);\n",
              "    }\n",
              "    20% {\n",
              "      border-color: transparent;\n",
              "      border-left-color: var(--fill-color);\n",
              "      border-top-color: var(--fill-color);\n",
              "    }\n",
              "    30% {\n",
              "      border-color: transparent;\n",
              "      border-left-color: var(--fill-color);\n",
              "      border-top-color: var(--fill-color);\n",
              "      border-right-color: var(--fill-color);\n",
              "    }\n",
              "    40% {\n",
              "      border-color: transparent;\n",
              "      border-right-color: var(--fill-color);\n",
              "      border-top-color: var(--fill-color);\n",
              "    }\n",
              "    60% {\n",
              "      border-color: transparent;\n",
              "      border-right-color: var(--fill-color);\n",
              "    }\n",
              "    80% {\n",
              "      border-color: transparent;\n",
              "      border-right-color: var(--fill-color);\n",
              "      border-bottom-color: var(--fill-color);\n",
              "    }\n",
              "    90% {\n",
              "      border-color: transparent;\n",
              "      border-bottom-color: var(--fill-color);\n",
              "    }\n",
              "  }\n",
              "</style>\n",
              "\n",
              "      <script>\n",
              "        async function quickchart(key) {\n",
              "          const quickchartButtonEl =\n",
              "            document.querySelector('#' + key + ' button');\n",
              "          quickchartButtonEl.disabled = true;  // To prevent multiple clicks.\n",
              "          quickchartButtonEl.classList.add('colab-df-spinner');\n",
              "          try {\n",
              "            const charts = await google.colab.kernel.invokeFunction(\n",
              "                'suggestCharts', [key], {});\n",
              "          } catch (error) {\n",
              "            console.error('Error during call to suggestCharts:', error);\n",
              "          }\n",
              "          quickchartButtonEl.classList.remove('colab-df-spinner');\n",
              "          quickchartButtonEl.classList.add('colab-df-quickchart-complete');\n",
              "        }\n",
              "        (() => {\n",
              "          let quickchartButtonEl =\n",
              "            document.querySelector('#df-ce5ecd9b-cc32-4944-a95a-3d3fa3aa589b button');\n",
              "          quickchartButtonEl.style.display =\n",
              "            google.colab.kernel.accessAllowed ? 'block' : 'none';\n",
              "        })();\n",
              "      </script>\n",
              "    </div>\n",
              "\n",
              "  <div id=\"id_04350255-8e5b-420e-9e9e-6f0cd160df04\">\n",
              "    <style>\n",
              "      .colab-df-generate {\n",
              "        background-color: #E8F0FE;\n",
              "        border: none;\n",
              "        border-radius: 50%;\n",
              "        cursor: pointer;\n",
              "        display: none;\n",
              "        fill: #1967D2;\n",
              "        height: 32px;\n",
              "        padding: 0 0 0 0;\n",
              "        width: 32px;\n",
              "      }\n",
              "\n",
              "      .colab-df-generate:hover {\n",
              "        background-color: #E2EBFA;\n",
              "        box-shadow: 0px 1px 2px rgba(60, 64, 67, 0.3), 0px 1px 3px 1px rgba(60, 64, 67, 0.15);\n",
              "        fill: #174EA6;\n",
              "      }\n",
              "\n",
              "      [theme=dark] .colab-df-generate {\n",
              "        background-color: #3B4455;\n",
              "        fill: #D2E3FC;\n",
              "      }\n",
              "\n",
              "      [theme=dark] .colab-df-generate:hover {\n",
              "        background-color: #434B5C;\n",
              "        box-shadow: 0px 1px 3px 1px rgba(0, 0, 0, 0.15);\n",
              "        filter: drop-shadow(0px 1px 2px rgba(0, 0, 0, 0.3));\n",
              "        fill: #FFFFFF;\n",
              "      }\n",
              "    </style>\n",
              "    <button class=\"colab-df-generate\" onclick=\"generateWithVariable('descriptive_stats')\"\n",
              "            title=\"Generate code using this dataframe.\"\n",
              "            style=\"display:none;\">\n",
              "\n",
              "  <svg xmlns=\"http://www.w3.org/2000/svg\" height=\"24px\"viewBox=\"0 0 24 24\"\n",
              "       width=\"24px\">\n",
              "    <path d=\"M7,19H8.4L18.45,9,17,7.55,7,17.6ZM5,21V16.75L18.45,3.32a2,2,0,0,1,2.83,0l1.4,1.43a1.91,1.91,0,0,1,.58,1.4,1.91,1.91,0,0,1-.58,1.4L9.25,21ZM18.45,9,17,7.55Zm-12,3A5.31,5.31,0,0,0,4.9,8.1,5.31,5.31,0,0,0,1,6.5,5.31,5.31,0,0,0,4.9,4.9,5.31,5.31,0,0,0,6.5,1,5.31,5.31,0,0,0,8.1,4.9,5.31,5.31,0,0,0,12,6.5,5.46,5.46,0,0,0,6.5,12Z\"/>\n",
              "  </svg>\n",
              "    </button>\n",
              "    <script>\n",
              "      (() => {\n",
              "      const buttonEl =\n",
              "        document.querySelector('#id_04350255-8e5b-420e-9e9e-6f0cd160df04 button.colab-df-generate');\n",
              "      buttonEl.style.display =\n",
              "        google.colab.kernel.accessAllowed ? 'block' : 'none';\n",
              "\n",
              "      buttonEl.onclick = () => {\n",
              "        google.colab.notebook.generateWithVariable('descriptive_stats');\n",
              "      }\n",
              "      })();\n",
              "    </script>\n",
              "  </div>\n",
              "\n",
              "    </div>\n",
              "  </div>\n"
            ],
            "text/plain": [
              "      title_num_sentences                                               \\\n",
              "                    count      mean       std  min  25%  50%  75%  max   \n",
              "label                                                                    \n",
              "FAKE              22827.0  1.311561  0.627022  1.0  1.0  1.0  1.0  8.0   \n",
              "TRUE              21210.0  1.471146  0.875719  1.0  1.0  1.0  1.0  7.0   \n",
              "\n",
              "      title_num_words             ... text_num_punctuation          \\\n",
              "                count       mean  ...                  75%     max   \n",
              "label                             ...                                \n",
              "FAKE          22827.0  14.732115  ...                 71.0  7295.0   \n",
              "TRUE          21210.0   9.951862  ...                 68.0   595.0   \n",
              "\n",
              "      text_avg_word_length                                                    \\\n",
              "                     count      mean       std       min       25%       50%   \n",
              "label                                                                          \n",
              "FAKE               22827.0  5.150957  2.918476  2.250000  4.745393  4.956522   \n",
              "TRUE               21210.0  5.177879  0.259569  3.805405  5.010710  5.170634   \n",
              "\n",
              "                             \n",
              "            75%         max  \n",
              "label                        \n",
              "FAKE   5.186441  149.000000  \n",
              "TRUE   5.336634    6.893939  \n",
              "\n",
              "[2 rows x 80 columns]"
            ]
          },
          "metadata": {},
          "output_type": "display_data"
        }
      ],
      "source": [
        "#get descriptive statistics for linguistic features grouped by label\n",
        "linguistic_features = [\n",
        "    'title_num_sentences', 'title_num_words', 'title_avg_sentence_length', 'title_num_punctuation', 'title_avg_word_length',\n",
        "    'text_num_sentences', 'text_num_words', 'text_avg_sentence_length', 'text_num_punctuation', 'text_avg_word_length'\n",
        "]\n",
        "\n",
        "descriptive_stats = df_final_cleaned.groupby('label')[linguistic_features].describe()\n",
        "\n",
        "print(\"Descriptive statistics of linguistic features by label (0: Fake, 1: True):\")\n",
        "display(descriptive_stats)"
      ]
    },
    {
      "cell_type": "markdown",
      "metadata": {
        "id": "oePT-2iRPreX"
      },
      "source": [
        "#NER Analysis"
      ]
    },
    {
      "cell_type": "code",
      "execution_count": null,
      "metadata": {
        "id": "4XX8jegzP3OM"
      },
      "outputs": [],
      "source": [
        "#Loading small. Overall this cell takes 2-3min to load\n",
        "nlp = spacy.load(\"en_core_web_sm\")\n",
        "\n",
        "#Creating a sample size of the entire dataset\n",
        "df_sample = merged_no_duplicates_df.sample(2000, random_state=42)\n",
        "texts = df_sample[\"text\"].tolist()\n",
        "\n",
        "#Using pipelines to process batches of articles faster\n",
        "docs = list(nlp.pipe(texts, batch_size=100))\n",
        "\n",
        "#Extracting the person and organizations entities\n",
        "df_sample[\"persons\"] = [[ent.text for ent in doc.ents if ent.label_==\"PERSON\"] for doc in docs]\n",
        "df_sample[\"orgs\"] = [[ent.text for ent in doc.ents if ent.label_==\"ORG\"] for doc in docs]\n",
        "\n",
        "#Creating lists of just the person and organizations that appear in each fake and true article\n",
        "fake_persons = [p for persons in df_sample[df_sample[\"label\"]=='FAKE'][\"persons\"] for p in persons]\n",
        "true_persons = [p for persons in df_sample[df_sample[\"label\"]=='TRUE'][\"persons\"] for p in persons]\n",
        "fake_orgs = [o for orgs in df_sample[df_sample[\"label\"]=='FAKE'][\"orgs\"] for o in orgs]\n",
        "true_orgs = [o for orgs in df_sample[df_sample[\"label\"]=='TRUE'][\"orgs\"] for o in orgs]\n",
        "\n",
        "#Getting and Counting the top entities\n",
        "fake_counts = Counter(fake_persons).most_common(10)\n",
        "true_counts = Counter(true_persons).most_common(10)\n",
        "fake_org_counts = Counter(fake_orgs).most_common(10)\n",
        "true_org_counts = Counter(true_orgs).most_common(10)\n",
        "\n",
        "print(\"Fake News Top PERSONs:\", fake_counts)\n",
        "print(\"True News Top PERSONs:\", true_counts)\n",
        "print(\"Fake News Top ORGs:\", fake_org_counts)\n",
        "print(\"True News Top ORGs:\", true_org_counts)"
      ]
    },
    {
      "cell_type": "markdown",
      "metadata": {
        "id": "2XA-FJQ9R0Lu"
      },
      "source": [
        "NER Visualization"
      ]
    },
    {
      "cell_type": "code",
      "execution_count": null,
      "metadata": {
        "id": "3qRa3_YGR3Zy"
      },
      "outputs": [],
      "source": [
        "#Converting from lists to DF\n",
        "fake_person_df = pd.DataFrame(fake_counts, columns=[\"Entity\", \"Count\"])\n",
        "true_person_df = pd.DataFrame(true_counts, columns=[\"Entity\", \"Count\"])\n",
        "fake_org_df = pd.DataFrame(fake_org_counts, columns=[\"Entity\", \"Count\"])\n",
        "true_org_df = pd.DataFrame(true_org_counts, columns=[\"Entity\", \"Count\"])\n",
        "\n",
        "#Creating bar charts\n",
        "fig, axes = plt.subplots(2, 2, figsize=(14,10))\n",
        "fake_person_df.plot(kind=\"barh\", x=\"Entity\", y=\"Count\", ax=axes[0,0], title=\"Fake News: Top PERSONs\", legend=False)\n",
        "true_person_df.plot(kind=\"barh\", x=\"Entity\", y=\"Count\", ax=axes[0,1], title=\"True News: Top PERSONs\", legend=False)\n",
        "fake_org_df.plot(kind=\"barh\", x=\"Entity\", y=\"Count\", ax=axes[1,0], title=\"Fake News: Top ORGs\", legend=False)\n",
        "true_org_df.plot(kind=\"barh\", x=\"Entity\", y=\"Count\", ax=axes[1,1], title=\"True News: Top ORGs\", legend=False)\n",
        "\n",
        "plt.tight_layout()\n",
        "plt.show()\n",
        "#Shows that an organization feature is really important in telling the difference between fake and true as the entities and the frequency\n",
        "#of this entites are different but with the people entity both fake and true articles contain similar entities and similar counts.\n",
        "#Next steps: Now that article have numeric fetures on entity we can do TF-IDF and then combine that with these features to create our matrix"
      ]
    },
    {
      "cell_type": "markdown",
      "metadata": {
        "id": "bpUBsoijmG7R"
      },
      "source": [
        "# Emotional Words EDA"
      ]
    },
    {
      "cell_type": "markdown",
      "metadata": {
        "id": "BQ6xU9RSmZ2b"
      },
      "source": [
        "Sentiment Analysis Setup"
      ]
    },
    {
      "cell_type": "code",
      "execution_count": null,
      "metadata": {
        "id": "2LtKRfppmYrL"
      },
      "outputs": [],
      "source": [
        "# Install and import required libraries\n",
        "!pip install textblob\n",
        "\n",
        "import nltk\n",
        "from textblob import TextBlob\n",
        "\n",
        "# Download required NLTK data\n",
        "nltk.download('vader_lexicon')\n",
        "from nltk.sentiment import SentimentIntensityAnalyzer"
      ]
    },
    {
      "cell_type": "markdown",
      "metadata": {
        "id": "M3LCzM5mme-y"
      },
      "source": [
        "Create Emotional Features"
      ]
    },
    {
      "cell_type": "code",
      "execution_count": null,
      "metadata": {
        "id": "p1NuIAw-med_"
      },
      "outputs": [],
      "source": [
        "# The SentimentIntensityAnalyzer in NLTK is a powerful tool for performing sentiment analysis,\n",
        "# specifically utilizing the VADER (Valence Aware Dictionary and sEntiment Reasoner) lexicon and rule-based sentiment analysis model.\n",
        "\n",
        "# Initialize sentiment analyzers\n",
        "sia = SentimentIntensityAnalyzer()\n",
        "\n",
        "def analysis_emotions(text):\n",
        "  vader_score = sia.polarity_scores(text)\n",
        "  blob = TextBlob(text)\n",
        "\n",
        "  return{\n",
        "      'vader_compound': vader_score['compound'],            # A standardized score combining all emotions\n",
        "      'vader_positive': vader_score['pos'],                 # the percentage of positive sentiment words in the text\n",
        "      'vader_negative': vader_score['neg'],                 # the percentage of negative sentiment words in the text\n",
        "      'vader_neutral': vader_score['neu'],                  # the percentage of neutral words in the text\n",
        "      'textblob_polarity': blob.sentiment.polarity,         # shows if the text is positive, negative or neutral\n",
        "      'textblob_subjectivity': blob.sentiment.subjectivity  # shows whether the text is more opinion-based or factual\n",
        "  }"
      ]
    },
    {
      "cell_type": "markdown",
      "metadata": {
        "id": "XLjXWYKsmkBz"
      },
      "source": [
        "Apply to Data Set"
      ]
    },
    {
      "cell_type": "code",
      "execution_count": null,
      "metadata": {
        "colab": {
          "background_save": true
        },
        "id": "dEDWu-2emXJB"
      },
      "outputs": [],
      "source": [
        "# Create emotional features for clean dataset\n",
        "emotion_feature = []\n",
        "\n",
        "for text in merged_no_duplicates_df['text']:\n",
        "  emotion_feature.append(analysis_emotions(text))\n",
        "\n",
        "emotion_df = pd.DataFrame(emotion_feature)\n",
        "emotion_analysis_df = pd.concat([merged_no_duplicates_df.reset_index(drop=True), emotion_df],axis=1)"
      ]
    },
    {
      "cell_type": "markdown",
      "metadata": {
        "id": "dt_OZVN2moMQ"
      },
      "source": [
        "Emotional Words Exploratory Analysis"
      ]
    },
    {
      "cell_type": "code",
      "execution_count": null,
      "metadata": {
        "colab": {
          "background_save": true,
          "base_uri": "https://localhost:8080/"
        },
        "id": "5AVise9imqaz",
        "outputId": "0673f73e-5f85-4857-d99f-427e7ac4a947"
      },
      "outputs": [
        {
          "name": "stdout",
          "output_type": "stream",
          "text": [
            "Emotion analysis: \n",
            "\n",
            "vader_compound: \n",
            "True news mean: 0.06\n",
            "Fake news mean: -0.09\n",
            "\n",
            "vader_positive: \n",
            "True news mean: 0.08\n",
            "Fake news mean: 0.09\n",
            "\n",
            "vader_negative: \n",
            "True news mean: 0.08\n",
            "Fake news mean: 0.10\n",
            "\n",
            "vader_neutral: \n",
            "True news mean: 0.84\n",
            "Fake news mean: 0.81\n",
            "\n",
            "textblob_polarity: \n",
            "True news mean: 0.05\n",
            "Fake news mean: 0.06\n",
            "\n",
            "textblob_subjectivity: \n",
            "True news mean: 0.36\n",
            "Fake news mean: 0.45\n"
          ]
        }
      ],
      "source": [
        "# # Compare emotional patterns between real and fake news\n",
        "print(\"Emotion analysis: \")\n",
        "for feature in ['vader_compound', 'vader_positive', 'vader_negative','vader_neutral', 'textblob_polarity', 'textblob_subjectivity']:\n",
        "  print(f\"\\n{feature}: \")\n",
        "  print(f\"True news mean: {emotion_analysis_df[emotion_analysis_df['label'] == 'TRUE'][feature].mean():.2f}\")\n",
        "  print(f\"Fake news mean: {emotion_analysis_df[emotion_analysis_df['label'] == 'FAKE'][feature].mean():.2f}\")"
      ]
    },
    {
      "cell_type": "markdown",
      "metadata": {
        "id": "UGxmyhosrxBl"
      },
      "source": [
        "Emotion words correlation analysis (Need improved)"
      ]
    },
    {
      "cell_type": "code",
      "execution_count": null,
      "metadata": {
        "colab": {
          "background_save": true,
          "base_uri": "https://localhost:8080/"
        },
        "id": "rdpibnKDryii",
        "outputId": "ed51cc27-6943-49ae-bb41-00c0f2af6fd2"
      },
      "outputs": [
        {
          "name": "stdout",
          "output_type": "stream",
          "text": [
            "vader_compound: 0.09\n",
            "vader_positive: -0.12\n",
            "vader_negative: -0.19\n",
            "vader_neutral: 0.25\n",
            "textblob_polarity: -0.04\n",
            "textblob_subjectivity: -0.36\n",
            "Strong correlation features(> 0.3 ): {'textblob_subjectivity': np.float64(-0.363128291339648)}\n"
          ]
        }
      ],
      "source": [
        "# Label Ture News as 1, Fake news as 0\n",
        "emotion_analysis_df['label_num'] = (emotion_analysis_df['label'] == 'TRUE').astype(int)\n",
        "\n",
        "correlation = {}\n",
        "emotion_feature = ['vader_compound', 'vader_positive', 'vader_negative', 'vader_neutral', 'textblob_polarity', 'textblob_subjectivity']\n",
        "\n",
        "# Calculate the correlation of each feature\n",
        "for feature in emotion_feature:\n",
        "  corr = emotion_analysis_df[feature].corr(emotion_analysis_df['label_num'])\n",
        "  correlation[feature] = corr\n",
        "  print(f\"{feature}: {corr:.2f}\")\n",
        "\n",
        "# get the list of features that has a correlation > 0.3\n",
        "strong_features = {feature: corr for feature, corr in correlation.items() if abs(corr) > 0.3}\n",
        "print(f\"Strong correlation features(> 0.3 ): {strong_features}\")"
      ]
    },
    {
      "cell_type": "markdown",
      "metadata": {
        "id": "8ILzelFfr1TJ"
      },
      "source": [
        "Visual Analysis"
      ]
    },
    {
      "cell_type": "code",
      "execution_count": null,
      "metadata": {
        "colab": {
          "background_save": true,
          "base_uri": "https://localhost:8080/",
          "height": 492
        },
        "id": "22cYMtzYr2TT",
        "outputId": "1006dbea-b052-455a-c558-9aedd02d3994"
      },
      "outputs": [
        {
          "data": {
            "image/png": "[encoded data removed]",
            "text/plain": [
              "<Figure size 640x480 with 6 Axes>"
            ]
          },
          "metadata": {},
          "output_type": "display_data"
        }
      ],
      "source": [
        "# Set up the subplot grid, creates a 2x3 (6 features in total) grid of plots\n",
        "fig, axes = plt.subplots(nrows=2, ncols=3)\n",
        "fig.suptitle('Emotional Features: Real vs Fake News Comparison')\n",
        "\n",
        "# Create individual plots\n",
        "features_plot = emotion_feature\n",
        "for i, feature in enumerate(features_plot):\n",
        "  row = i // 3    # Set rows\n",
        "  col = i % 3     # Set cols\n",
        "\n",
        "  # Create boxplot each feature\n",
        "  sns.boxplot(data=emotion_analysis_df, x ='label', y=feature, ax=axes[row,col])\n",
        "  axes[row,col].set_title(f'{feature}')\n",
        "  axes[row,col].set_xlabel('News Type')\n",
        "\n",
        "plt.tight_layout()\n",
        "plt.show()\n",
        "\n",
        "# Siying Sumary:\n",
        "# There are 2 feature that we can kind of explore about\n",
        "# 1. Fake news tends to be more negative, but True news tend to be more in a positive tone.\n",
        "# This emotional EDA turn out to be that instead of being more \"emotional\", fake news tend to be more \"subjective\".\n",
        "# Real news tends to report facts objectively, while fake news contains more opinions and speculations."
      ]
    },
    {
      "cell_type": "markdown",
      "metadata": {
        "id": "Dv5_l0XnPuG_"
      },
      "source": [
        "# Source Attribution EDA - Focus on Named Entity Recognition (NER)"
      ]
    },
    {
      "cell_type": "code",
      "execution_count": null,
      "metadata": {
        "colab": {
          "background_save": true
        },
        "id": "W52QuTPT2e-u",
        "outputId": "06fe4e63-ce5d-4332-d4e5-1e51fba6cb52"
      },
      "outputs": [
        {
          "name": "stdout",
          "output_type": "stream",
          "text": [
            "Collecting en-core-web-lg==3.8.0\n",
            "  Downloading https://github.com/explosion/spacy-models/releases/download/en_core_web_lg-3.8.0/en_core_web_lg-3.8.0-py3-none-any.whl (400.7 MB)\n",
            "\u001b[2K     \u001b[90m━━━━━━━━━━━━━━━━━━━━━━━━━━━━━━━━━━━━━━━\u001b[0m \u001b[32m400.7/400.7 MB\u001b[0m \u001b[31m1.1 MB/s\u001b[0m eta \u001b[36m0:00:00\u001b[0m\n",
            "\u001b[?25hInstalling collected packages: en-core-web-lg\n",
            "Successfully installed en-core-web-lg-3.8.0\n",
            "\u001b[38;5;2m✔ Download and installation successful\u001b[0m\n",
            "You can now load the package via spacy.load('en_core_web_lg')\n",
            "\u001b[38;5;3m⚠ Restart to reload dependencies\u001b[0m\n",
            "If you are in a Jupyter or Colab notebook, you may need to restart Python in\n",
            "order to load all the package's dependencies. You can do this by selecting the\n",
            "'Restart kernel' or 'Restart runtime' option.\n"
          ]
        }
      ],
      "source": [
        "# https://spacy.io/usage\n",
        "# import library and english large model doenload\n",
        "import spacy\n",
        "!python -m spacy download en_core_web_lg"
      ]
    },
    {
      "cell_type": "markdown",
      "metadata": {
        "id": "fKUkIUfmPynd"
      },
      "source": [
        "Source Attribution Data exploration and Basic NER Analysis"
      ]
    },
    {
      "cell_type": "code",
      "execution_count": null,
      "metadata": {
        "colab": {
          "background_save": true
        },
        "id": "4XhKiKdiP0Zw"
      },
      "outputs": [],
      "source": [
        "# install default trained pipeline package for English & large model\n",
        "nlp = spacy.load(\"en_core_web_lg\")\n",
        "\n",
        "def extract_source_attribution_features(text):\n",
        "  doc = nlp(text)\n",
        "\n",
        "  # Named entity for sources\n",
        "  entities = {\n",
        "      'PERSON': [],       # Individual source\n",
        "      'ORG': [],          # Organizational sources\n",
        "      'GPE': []           # Government/political entities\n",
        "  }\n",
        "\n",
        "  for ent in doc.ents:\n",
        "    if ent.label_ in entities:\n",
        "      entities[ent.label_].append(ent.text)\n",
        "\n",
        "  # Attribution patterns using dependency parsing\n",
        "  attribution_patterns = {\n",
        "        'according_to': 0,\n",
        "        'said_patterns': 0,\n",
        "        'reported_patterns': 0,\n",
        "        'official_statements': 0\n",
        "  }\n",
        "\n",
        "  for token in doc:\n",
        "\n",
        "    # Detect Arrcoring-to pattern\n",
        "    if token.lemma_ == \"according\":\n",
        "        # Look for \"to\" in the next few tokens\n",
        "        for i in range(1, min(4, len(doc) - token.i)):\n",
        "            if doc[token.i + i].lemma_ == \"to\":\n",
        "                attribution_patterns['according_to'] += 1\n",
        "                break\n",
        "\n",
        "    # Detect speech pattern\n",
        "    if token.lemma_ in [\"say\", \"state\", \"announce\"] and token.pos_ == \"VERB\":\n",
        "      attribution_patterns['said_patterns'] += 1\n",
        "\n",
        "    # Detect report pattern\n",
        "    if token.lemma_ in [\"report\",\"indicate\", \"show\"] and token.pos_ == \"VERB\":\n",
        "      attribution_patterns['reported_patterns'] += 1\n",
        "\n",
        "    # Official language\n",
        "    if token.text.lower() in [\"official\", \"statement\", \"spokesperson\"]:\n",
        "      attribution_patterns['official_statements'] += 1\n",
        "\n",
        "  return {\n",
        "      'person_count': len(entities['PERSON']),\n",
        "      'org_count': len(entities['ORG']),\n",
        "      'gpe_count': len(entities['GPE']),\n",
        "      'total_named_sources':len(entities['PERSON'] + entities['ORG']),\n",
        "      'according_to_count': attribution_patterns['according_to'],\n",
        "      'said_patterns': attribution_patterns['said_patterns'],\n",
        "      'reported_patterns': attribution_patterns['reported_patterns'],\n",
        "      'official_statements': attribution_patterns['official_statements'],\n",
        "      'named_entities': entities\n",
        "  }"
      ]
    },
    {
      "cell_type": "markdown",
      "metadata": {
        "id": "rUXp3yls3Rxt"
      },
      "source": [
        " Apply to Dataset"
      ]
    },
    {
      "cell_type": "code",
      "execution_count": null,
      "metadata": {
        "colab": {
          "background_save": true
        },
        "id": "Q6ypNoVF3PdN"
      },
      "outputs": [],
      "source": [
        "spacy_features_list = []\n",
        "\n",
        "for text in merged_no_duplicates_df['text']:\n",
        "  features = extract_source_attribution_features(text)\n",
        "  spacy_features_list.append(features)\n",
        "\n",
        "# Convert to dataframe\n",
        "spacy_df = pd.DataFrame(spacy_features_list)\n",
        "\n",
        "# Add to merged dataset\n",
        "source_attribution_df = pd.concat([merged_no_duplicates_df.reset_index(drop=True), spacy_df],axis = 1)"
      ]
    },
    {
      "cell_type": "markdown",
      "metadata": {
        "id": "Qjf40oPYP674"
      },
      "source": [
        "EDA Analysis and Comparison"
      ]
    },
    {
      "cell_type": "code",
      "execution_count": null,
      "metadata": {
        "colab": {
          "background_save": true
        },
        "id": "Z65qJ4E7P7Zt",
        "outputId": "af6aecb3-9ef9-48bb-99f5-e0ab8aaf4eb2"
      },
      "outputs": [
        {
          "name": "stdout",
          "output_type": "stream",
          "text": [
            "SpaCy Source Attribution Analysis:\n",
            "person_count:\n",
            "  Real news mean: 8.734\n",
            "  Fake news mean: 11.887\n",
            "  Difference: -3.153\n",
            "\n",
            "org_count:\n",
            "  Real news mean: 10.285\n",
            "  Fake news mean: 10.222\n",
            "  Difference: 0.062\n",
            "\n",
            "gpe_count:\n",
            "  Real news mean: 10.029\n",
            "  Fake news mean: 4.744\n",
            "  Difference: 5.286\n",
            "\n",
            "total_named_sources:\n",
            "  Real news mean: 19.018\n",
            "  Fake news mean: 22.109\n",
            "  Difference: -3.091\n",
            "\n",
            "according_to_count:\n",
            "  Real news mean: 0.000\n",
            "  Fake news mean: 0.000\n",
            "  Difference: 0.000\n",
            "\n",
            "said_patterns:\n",
            "  Real news mean: 5.487\n",
            "  Fake news mean: 2.547\n",
            "  Difference: 2.940\n",
            "\n",
            "reported_patterns:\n",
            "  Real news mean: 0.470\n",
            "  Fake news mean: 0.616\n",
            "  Difference: -0.146\n",
            "\n",
            "official_statements:\n",
            "  Real news mean: 0.646\n",
            "  Fake news mean: 0.295\n",
            "  Difference: 0.351\n",
            "\n"
          ]
        }
      ],
      "source": [
        "# Compare SpaCy features between real and fake news\n",
        "feature_cols = ['person_count', 'org_count', 'gpe_count','total_named_sources',\n",
        "                'according_to_count', 'said_patterns', 'reported_patterns', 'official_statements']\n",
        "\n",
        "print(\"SpaCy Source Attribution Analysis:\")\n",
        "for feature in feature_cols:\n",
        "    real_mean = source_attribution_df[source_attribution_df['label'] == 'TRUE'][feature].mean()\n",
        "    fake_mean = source_attribution_df[source_attribution_df['label'] == 'FAKE'][feature].mean()\n",
        "\n",
        "    print(f\"{feature}:\")\n",
        "    print(f\"  Real news mean: {real_mean:.3f}\")\n",
        "    print(f\"  Fake news mean: {fake_mean:.3f}\")\n",
        "    print(f\"  Difference: {real_mean - fake_mean:.3f}\")\n",
        "    print()"
      ]
    },
    {
      "cell_type": "markdown",
      "metadata": {
        "id": "yMcrg9BVP_HP"
      },
      "source": [
        "Visualization"
      ]
    },
    {
      "cell_type": "code",
      "execution_count": null,
      "metadata": {
        "colab": {
          "background_save": true
        },
        "id": "2LgFHTjuQAy3",
        "outputId": "da110f79-1fc5-419c-c799-b9346a27a96b"
      },
      "outputs": [
        {
          "ename": "IndexError",
          "evalue": "index 2 is out of bounds for axis 1 with size 2",
          "output_type": "error",
          "traceback": [
            "\u001b[0;31m---------------------------------------------------------------------------\u001b[0m",
            "\u001b[0;31mIndexError\u001b[0m                                Traceback (most recent call last)",
            "\u001b[0;32m/tmp/ipython-input-1166795566.py\u001b[0m in \u001b[0;36m<cell line: 0>\u001b[0;34m()\u001b[0m\n\u001b[1;32m     10\u001b[0m     \u001b[0mcol\u001b[0m \u001b[0;34m=\u001b[0m \u001b[0mi\u001b[0m \u001b[0;34m%\u001b[0m \u001b[0;36m3\u001b[0m\u001b[0;34m\u001b[0m\u001b[0;34m\u001b[0m\u001b[0m\n\u001b[1;32m     11\u001b[0m \u001b[0;34m\u001b[0m\u001b[0m\n\u001b[0;32m---> 12\u001b[0;31m     \u001b[0msns\u001b[0m\u001b[0;34m.\u001b[0m\u001b[0mboxplot\u001b[0m\u001b[0;34m(\u001b[0m\u001b[0mdata\u001b[0m\u001b[0;34m=\u001b[0m\u001b[0msource_attribution_df\u001b[0m\u001b[0;34m,\u001b[0m \u001b[0mx\u001b[0m\u001b[0;34m=\u001b[0m\u001b[0;34m'label'\u001b[0m\u001b[0;34m,\u001b[0m \u001b[0my\u001b[0m\u001b[0;34m=\u001b[0m\u001b[0mfeature\u001b[0m\u001b[0;34m,\u001b[0m \u001b[0max\u001b[0m\u001b[0;34m=\u001b[0m\u001b[0maxes\u001b[0m\u001b[0;34m[\u001b[0m\u001b[0mrow\u001b[0m\u001b[0;34m,\u001b[0m \u001b[0mcol\u001b[0m\u001b[0;34m]\u001b[0m\u001b[0;34m)\u001b[0m\u001b[0;34m\u001b[0m\u001b[0;34m\u001b[0m\u001b[0m\n\u001b[0m\u001b[1;32m     13\u001b[0m     \u001b[0maxes\u001b[0m\u001b[0;34m[\u001b[0m\u001b[0mrow\u001b[0m\u001b[0;34m,\u001b[0m \u001b[0mcol\u001b[0m\u001b[0;34m]\u001b[0m\u001b[0;34m.\u001b[0m\u001b[0mset_title\u001b[0m\u001b[0;34m(\u001b[0m\u001b[0;34mf'{feature}'\u001b[0m\u001b[0;34m)\u001b[0m\u001b[0;34m\u001b[0m\u001b[0;34m\u001b[0m\u001b[0m\n\u001b[1;32m     14\u001b[0m     \u001b[0maxes\u001b[0m\u001b[0;34m[\u001b[0m\u001b[0mrow\u001b[0m\u001b[0;34m,\u001b[0m \u001b[0mcol\u001b[0m\u001b[0;34m]\u001b[0m\u001b[0;34m.\u001b[0m\u001b[0mset_xlabel\u001b[0m\u001b[0;34m(\u001b[0m\u001b[0;34m'News Type'\u001b[0m\u001b[0;34m)\u001b[0m\u001b[0;34m\u001b[0m\u001b[0;34m\u001b[0m\u001b[0m\n",
            "\u001b[0;31mIndexError\u001b[0m: index 2 is out of bounds for axis 1 with size 2"
          ]
        },
        {
          "data": {
            "image/png": "[encoded data removed]",
            "text/plain": [
              "<Figure size 1800x1200 with 8 Axes>"
            ]
          },
          "metadata": {},
          "output_type": "display_data"
        }
      ],
      "source": [
        "# Create visualizations for SpaCy features\n",
        "fig, axes = plt.subplots(4, 2, figsize=(18, 12))\n",
        "fig.suptitle('SpaCy Source Attribution Analysis: Real vs Fake News')\n",
        "\n",
        "features_to_plot = ['person_count', 'org_count', 'gpe_count','total_named_sources',\n",
        "                   'according_to_count', 'said_patterns', 'official_statements']\n",
        "\n",
        "for i, feature in enumerate(features_to_plot):\n",
        "    row = i // 3\n",
        "    col = i % 3\n",
        "\n",
        "    sns.boxplot(data=source_attribution_df, x='label', y=feature, ax=axes[row, col])\n",
        "    axes[row, col].set_title(f'{feature}')\n",
        "    axes[row, col].set_xlabel('News Type')\n",
        "\n",
        "plt.tight_layout()\n",
        "plt.show()"
      ]
    },
    {
      "cell_type": "markdown",
      "metadata": {
        "id": "h9-82m99QxJ-"
      },
      "source": [
        "# Social Media Citation EDA"
      ]
    },
    {
      "cell_type": "markdown",
      "metadata": {
        "id": "Vj6geH1XQ2f0"
      },
      "source": [
        "Social Media Ciatation Data Exploration"
      ]
    },
    {
      "cell_type": "code",
      "execution_count": null,
      "metadata": {
        "colab": {
          "background_save": true
        },
        "id": "-EZPdRNUQ4r6"
      },
      "outputs": [],
      "source": [
        "import re\n",
        "import nltk\n",
        "from textblob import TextBlob\n",
        "from collections import Counter\n",
        "nltk.download('punkt_tab')\n",
        "\n",
        "# Define social media related keywords\n",
        "SOCIAL_MEDIA_KEYWORDS = {\n",
        "    'platforms': ['twitter', 'facebook', 'instagram', 'youtube', 'tiktok', 'reddit',\n",
        "                  'linkedin', 'whatsapp', 'telegram', 'snapchat'],\n",
        "    'actions': ['tweet', 'retweet', 'like', 'share', 'follow', 'post', 'status',\n",
        "                'update', 'comment', 'message', 'dm', 'direct message', 'story'],\n",
        "    'elements': ['hashtag', 'mention', 'handle', 'feed', 'timeline', 'viral',\n",
        "                 'trending', 'influencer', 'follower', 'subscriber']\n",
        "}\n",
        "\n",
        "def analyze_social_media_presence(text):\n",
        "    if pd.isna(text) or text == '':\n",
        "        return {\n",
        "            'social_media_count': 0,\n",
        "            'platform_mentions': 0,\n",
        "            'social_actions': 0,\n",
        "            'social_elements': 0,\n",
        "            'hashtags': 0,\n",
        "            'mentions': 0,\n",
        "        }\n",
        "\n",
        "    blob = TextBlob(str(text))\n",
        "    text_lower = text.lower()\n",
        "\n",
        "    # Basic regex patterns\n",
        "    hashtags = re.findall(r'#\\w+', text)\n",
        "    mentions = re.findall(r'@\\w+', text)\n",
        "\n",
        "    # Count social media related terms\n",
        "    platform_mentions = sum(1 for platform in SOCIAL_MEDIA_KEYWORDS['platforms']\n",
        "                           if platform in text_lower)\n",
        "    social_actions = sum(1 for action in SOCIAL_MEDIA_KEYWORDS['actions']\n",
        "                        if action in text_lower)\n",
        "    social_elements = sum(1 for element in SOCIAL_MEDIA_KEYWORDS['elements']\n",
        "                         if element in text_lower)\n",
        "\n",
        "    # Find specific keywords present\n",
        "    found_keywords = []\n",
        "    for category in SOCIAL_MEDIA_KEYWORDS.values():\n",
        "        for keyword in category:\n",
        "            if keyword in text_lower:\n",
        "                found_keywords.append(keyword)\n",
        "\n",
        "    return {\n",
        "        'social_media_count': platform_mentions + social_actions + social_elements,\n",
        "        'platform_mentions': platform_mentions,\n",
        "        'social_actions': social_actions,\n",
        "        'social_elements': social_elements,\n",
        "        'hashtags': len(hashtags),\n",
        "        'mentions': len(mentions),\n",
        "        'social_keywords_found': found_keywords\n",
        "    }\n"
      ]
    },
    {
      "cell_type": "markdown",
      "metadata": {
        "id": "8znavXnTQ7e7"
      },
      "source": [
        "Apply to Dataset"
      ]
    },
    {
      "cell_type": "code",
      "execution_count": null,
      "metadata": {
        "colab": {
          "background_save": true
        },
        "id": "YsMdgItpQ9Xg"
      },
      "outputs": [],
      "source": [
        "# Apply your function to the dataset\n",
        "print(\"Analyzing social media citations with TextBlob...\")\n",
        "social_media_results = []\n",
        "\n",
        "for text in merged_no_duplicates_df['text']:\n",
        "    result = analyze_social_media_presence(text)\n",
        "    social_media_results.append(result)\n",
        "\n",
        "# Convert to DataFrame\n",
        "social_media_df = pd.DataFrame(social_media_results)\n",
        "\n",
        "# Add labels\n",
        "social_media_df['label'] = merged_no_duplicates_df['label'].values\n",
        "\n",
        "# Display results\n",
        "textblob_features = ['social_media_count', 'platform_mentions', 'social_actions',\n",
        "                     'social_elements', 'hashtags', 'mentions']\n",
        "\n",
        "print(\"TextBlob Social Media Analysis Results:\")\n",
        "for feature in textblob_features:\n",
        "    real_mean = social_media_df[social_media_df['label'] == 'TRUE'][feature].mean()\n",
        "    fake_mean = social_media_df[social_media_df['label'] == 'FAKE'][feature].mean()\n",
        "\n",
        "    print(f\"{feature}:\")\n",
        "    print(f\"  Real news: {real_mean:.3f}\")\n",
        "    print(f\"  Fake news: {fake_mean:.3f}\")\n",
        "    print(f\"  Difference: {fake_mean - real_mean:.3f}\")\n",
        "    print()"
      ]
    },
    {
      "cell_type": "markdown",
      "metadata": {
        "id": "uiSmA8xIQ_35"
      },
      "source": [
        "Visualization"
      ]
    },
    {
      "cell_type": "code",
      "execution_count": null,
      "metadata": {
        "colab": {
          "background_save": true
        },
        "id": "4Jucl4suRBVq"
      },
      "outputs": [],
      "source": [
        "# Simple visualization for TextBlob results\n",
        "plt.figure(figsize=(12, 8))\n",
        "\n",
        "textblob_features = ['social_media_count', 'platform_mentions', 'social_actions',\n",
        "                     'social_elements', 'hashtags', 'mentions']\n",
        "\n",
        "# Calculate means\n",
        "real_means = []\n",
        "fake_means = []\n",
        "for feature in textblob_features:\n",
        "    real_means.append(social_media_df[social_media_df['label'] == 'TRUE'][feature].mean())\n",
        "    fake_means.append(social_media_df[social_media_df['label'] == 'FAKE'][feature].mean())\n",
        "\n",
        "# Bar chart\n",
        "x = range(len(textblob_features))\n",
        "width = 0.35\n",
        "\n",
        "plt.bar(x, real_means, width, label='Real News', alpha=0.7)\n",
        "plt.bar([i + width for i in x], fake_means, width, label='Fake News', alpha=0.7)\n",
        "\n",
        "plt.xlabel('Features')\n",
        "plt.ylabel('Average Count')\n",
        "plt.title('Social Media Features: Real vs Fake News')\n",
        "plt.xticks([i + width/2 for i in x], [f.replace('_', '\\n') for f in textblob_features])\n",
        "plt.legend()\n",
        "plt.grid(True, alpha=0.3)\n",
        "\n",
        "plt.tight_layout()\n",
        "plt.show()"
      ]
    },
    {
      "cell_type": "markdown",
      "metadata": {
        "id": "Ni9gkAILLllO"
      },
      "source": [
        "# Casing/Stopwords EDA"
      ]
    },
    {
      "cell_type": "code",
      "execution_count": null,
      "metadata": {
        "colab": {
          "background_save": true
        },
        "id": "__gWFhyioObE"
      },
      "outputs": [],
      "source": [
        "nltk.download('stopwords')\n",
        "# Import NLTK's stopwords list\n",
        "from nltk.corpus import stopwords\n",
        "stop_words = set(stopwords.words('english'))\n",
        "\n",
        "# Print the list in a sorted order for readability\n",
        "print(\"Number of stopwords in NLTK's English list:\", len(stop_words))\n",
        "print(\"\\nFull list of English stopwords from NLTK:\")\n",
        "print(sorted(stop_words))"
      ]
    },
    {
      "cell_type": "markdown",
      "metadata": {
        "id": "ZHWXWuNsnsuQ"
      },
      "source": [
        "This shows the amount of words in each text that have 2 or more consecutive capital letters and also the ratio of stopwords in each of the texts."
      ]
    },
    {
      "cell_type": "code",
      "execution_count": null,
      "metadata": {
        "colab": {
          "background_save": true
        },
        "id": "YZsRocGcLoLm"
      },
      "outputs": [],
      "source": [
        "# 1. Define a function to count uppercase words\n",
        "def count_uppercase(text):\n",
        "    # Finds all words with 2 or more consecutive capital letters\n",
        "    return len(re.findall(r'\\b[A-Z]{2,}\\b', str(text)))\n",
        "\n",
        "# 2. Define a function to calculate stopword ratio\n",
        "def get_stopword_ratio(text):\n",
        "    words = str(text).split()\n",
        "    if len(words) == 0:\n",
        "        return 0\n",
        "    stopwords_in_text = [word for word in words if word.lower() in stop_words]\n",
        "    return len(stopwords_in_text) / len(words)\n",
        "\n",
        "# 3. Apply the functions to create new columns\n",
        "df_final_cleaned['uppercase_count'] = df_final_cleaned['text'].apply(count_uppercase)\n",
        "df_final_cleaned['stopword_ratio'] = df_final_cleaned['text'].apply(get_stopword_ratio)\n",
        "\n",
        "df_final_cleaned[['text', 'uppercase_count', 'stopword_ratio', 'label']].head(10)"
      ]
    },
    {
      "cell_type": "code",
      "execution_count": null,
      "metadata": {
        "colab": {
          "background_save": true
        },
        "id": "y_8clV7Xonmb"
      },
      "outputs": [],
      "source": [
        "# 1. Create a figure with two subplots side-by-side\n",
        "fig, axes = plt.subplots(1, 2, figsize=(15, 5))\n",
        "\n",
        "# 2. Plot Uppercase Count\n",
        "sns.boxplot(x='label', y='uppercase_count', data=df_final_cleaned, ax=axes[0])\n",
        "axes[0].set_title('Uppercase Words: Fake vs. Real News')\n",
        "axes[0].set_xticklabels(['Fake', 'Real'])\n",
        "\n",
        "# 3. Plot Stopword Ratio\n",
        "sns.boxplot(x='label', y='stopword_ratio', data=df_final_cleaned, ax=axes[1])\n",
        "axes[1].set_title('Stopword Ratio: Fake vs. Real News')\n",
        "axes[1].set_xticklabels(['Fake', 'Real'])\n",
        "plt.tight_layout()\n",
        "plt.show()\n",
        "\n",
        "\n",
        "print(\"Average uppercase_count for Fake news:\", df_final_cleaned[df_final_cleaned['label']=='FAKE']['uppercase_count'].mean())\n",
        "print(\"Average uppercase_count for Real news:\", df_final_cleaned[df_final_cleaned['label']=='TRUE']['uppercase_count'].mean())\n",
        "print(\"\\nAverage stopword_ratio for Fake news:\", df_final_cleaned[df_final_cleaned['label']=='FAKE']['stopword_ratio'].mean())\n",
        "print(\"Average stopword_ratio for Real news:\", df_final_cleaned[df_final_cleaned['label']=='TRUE']['stopword_ratio'].mean())"
      ]
    },
    {
      "cell_type": "code",
      "execution_count": null,
      "metadata": {
        "colab": {
          "background_save": true
        },
        "id": "N-D0ljUZsBDa"
      },
      "outputs": [],
      "source": [
        "import re\n",
        "from nltk.corpus import stopwords\n",
        "\n",
        "def clean_text(text):\n",
        "    \"\"\"\n",
        "    Clean text by converting to lowercase and removing stopwords\n",
        "    \"\"\"\n",
        "    # Convert to string and lowercase\n",
        "    text = str(text).lower()\n",
        "\n",
        "    # Remove stopwords\n",
        "    words = text.split()\n",
        "    filtered_words = [word for word in words if word.lower() not in stop_words]\n",
        "\n",
        "    # Join back into a single string\n",
        "    cleaned_text = ' '.join(filtered_words)\n",
        "\n",
        "    return cleaned_text\n",
        "\n",
        "# Apply cleaning\n",
        "df_final_cleaned['text_cleaned'] = df_final_cleaned['text'].apply(clean_text)"
      ]
    },
    {
      "cell_type": "code",
      "execution_count": null,
      "metadata": {
        "colab": {
          "background_save": true
        },
        "id": "QEklIo10seHm"
      },
      "outputs": [],
      "source": [
        "# Compare before and after cleaning\n",
        "print(\"Original text sample:\")\n",
        "print(df_final_cleaned['text'].iloc[0])\n",
        "print(\"\\nCleaned text sample:\")\n",
        "print(df_final_cleaned['text_cleaned'].iloc[0])\n",
        "print(f\"\\nOriginal length: {len(df_final_cleaned['text'].iloc[0].split())} words\")\n",
        "print(f\"Cleaned length: {len(df_final_cleaned['text_cleaned'].iloc[0].split())} words\")"
      ]
    },
    {
      "cell_type": "markdown",
      "metadata": {
        "id": "17VQAdG8soq_"
      },
      "source": [
        "For Feature Engineering don't run just yet."
      ]
    },
    {
      "cell_type": "code",
      "execution_count": null,
      "metadata": {
        "colab": {
          "background_save": true
        },
        "id": "J8M-tVfHsoOe"
      },
      "outputs": [],
      "source": [
        "# Recalculate features on cleaned text\n",
        "df_final_cleaned['uppercase_count_cleaned'] = df_final_cleaned['text_cleaned'].apply(count_uppercase)\n",
        "df_final_cleaned['stopword_ratio_cleaned'] = df_final_cleaned['text_cleaned'].apply(get_stopword_ratio)\n",
        "\n",
        "# The stopword ratio should now be very low since we removed stopwords\n",
        "print(\"Stopword ratio after cleaning:\")\n",
        "print(df_final_cleaned['stopword_ratio_cleaned'].describe())\n",
        "\n",
        "# Keep original text and add cleaned version\n",
        "df_final_cleaned['text_original'] = df_final_cleaned['text']  # backup original\n",
        "df_final_cleaned['text'] = df_final_cleaned['text'].apply(clean_text)  # replace with cleaned\n",
        "\n",
        "# Now your existing code will work with cleaned text\n",
        "df_final_cleaned['uppercase_count'] = df_final_cleaned['text'].apply(count_uppercase)\n",
        "df_final_cleaned['stopword_ratio'] = df_final_cleaned['text'].apply(get_stopword_ratio)"
      ]
    }
  ],
  "metadata": {
    "colab": {
      "provenance": [],
      "include_colab_link": true
    },
    "kernelspec": {
      "display_name": "Python 3",
      "name": "python3"
    },
    "language_info": {
      "name": "python"
    }
  },
  "nbformat": 4,
  "nbformat_minor": 0
}