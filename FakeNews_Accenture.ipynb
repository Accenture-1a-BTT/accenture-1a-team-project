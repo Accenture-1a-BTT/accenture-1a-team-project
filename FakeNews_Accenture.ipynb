{
  "nbformat": 4,
  "nbformat_minor": 0,
  "metadata": {
    "colab": {
      "provenance": [],
      "authorship_tag": "ABX9TyPEmtMPl7pP+AuAlK2loSbK",
      "include_colab_link": true
    },
    "kernelspec": {
      "name": "python3",
      "display_name": "Python 3"
    },
    "language_info": {
      "name": "python"
    }
  },
  "cells": [
    {
      "cell_type": "markdown",
      "metadata": {
        "id": "view-in-github",
        "colab_type": "text"
      },
      "source": [
        "<a href=\"https://colab.research.google.com/github/Accenture-1a-BTT/accenture-1a-team-project/blob/main/FakeNews_Accenture.ipynb\" target=\"_parent\"><img src=\"https://colab.research.google.com/assets/colab-badge.svg\" alt=\"Open In Colab\"/></a>"
      ]
    },
    {
      "cell_type": "code",
      "execution_count": 1,
      "metadata": {
        "id": "NEivgZd_D95d",
        "colab": {
          "base_uri": "https://localhost:8080/"
        },
        "outputId": "b5cc146f-7d6a-4e21-c94d-56328ff9e75a"
      },
      "outputs": [
        {
          "output_type": "stream",
          "name": "stdout",
          "text": [
            "Hello World! This is Workspace Test!\n"
          ]
        }
      ],
      "source": [
        "print(\"Hello World! This is Workspace Test!\")"
      ]
    },
    {
      "cell_type": "code",
      "source": [
        "print(\"This is Test 2 for Version Control\")"
      ],
      "metadata": {
        "colab": {
          "base_uri": "https://localhost:8080/"
        },
        "id": "O5k5YTGgFRJM",
        "outputId": "eddfe176-b19f-4b01-c2fa-2362aefe8896"
      },
      "execution_count": 2,
      "outputs": [
        {
          "output_type": "stream",
          "name": "stdout",
          "text": [
            "This is Test 2 for Version Control\n"
          ]
        }
      ]
    },
    {
      "cell_type": "code",
      "source": [],
      "metadata": {
        "id": "LAsfVe08F6Df"
      },
      "execution_count": null,
      "outputs": []
    }
  ]
}