{
  "nbformat": 4,
  "nbformat_minor": 0,
  "metadata": {
    "colab": {
      "provenance": [],
      "include_colab_link": true
    },
    "kernelspec": {
      "name": "python3",
      "display_name": "Python 3"
    },
    "language_info": {
      "name": "python"
    }
  },
  "cells": [
    {
      "cell_type": "markdown",
      "metadata": {
        "id": "view-in-github",
        "colab_type": "text"
      },
      "source": [
        "<a href=\"https://colab.research.google.com/github/Accenture-1a-BTT/accenture-1a-team-project/blob/test-koshish/FakeNews_Accenture.ipynb\" target=\"_parent\"><img src=\"https://colab.research.google.com/assets/colab-badge.svg\" alt=\"Open In Colab\"/></a>"
      ]
    },
    {
      "cell_type": "markdown",
      "source": [
        "# Import Library"
      ],
      "metadata": {
        "id": "boAZzI5mQd3E"
      }
    },
    {
      "cell_type": "code",
      "execution_count": 1,
      "metadata": {
        "id": "NEivgZd_D95d",
        "colab": {
          "base_uri": "https://localhost:8080/"
        },
        "collapsed": true,
        "outputId": "44d6dfc5-251e-4a08-924c-470fd0e79670"
      },
      "outputs": [
        {
          "output_type": "stream",
          "name": "stdout",
          "text": [
            "Requirement already satisfied: spacy in /usr/local/lib/python3.12/dist-packages (3.8.7)\n",
            "Requirement already satisfied: spacy-legacy<3.1.0,>=3.0.11 in /usr/local/lib/python3.12/dist-packages (from spacy) (3.0.12)\n",
            "Requirement already satisfied: spacy-loggers<2.0.0,>=1.0.0 in /usr/local/lib/python3.12/dist-packages (from spacy) (1.0.5)\n",
            "Requirement already satisfied: murmurhash<1.1.0,>=0.28.0 in /usr/local/lib/python3.12/dist-packages (from spacy) (1.0.13)\n",
            "Requirement already satisfied: cymem<2.1.0,>=2.0.2 in /usr/local/lib/python3.12/dist-packages (from spacy) (2.0.11)\n",
            "Requirement already satisfied: preshed<3.1.0,>=3.0.2 in /usr/local/lib/python3.12/dist-packages (from spacy) (3.0.10)\n",
            "Requirement already satisfied: thinc<8.4.0,>=8.3.4 in /usr/local/lib/python3.12/dist-packages (from spacy) (8.3.6)\n",
            "Requirement already satisfied: wasabi<1.2.0,>=0.9.1 in /usr/local/lib/python3.12/dist-packages (from spacy) (1.1.3)\n",
            "Requirement already satisfied: srsly<3.0.0,>=2.4.3 in /usr/local/lib/python3.12/dist-packages (from spacy) (2.5.1)\n",
            "Requirement already satisfied: catalogue<2.1.0,>=2.0.6 in /usr/local/lib/python3.12/dist-packages (from spacy) (2.0.10)\n",
            "Requirement already satisfied: weasel<0.5.0,>=0.1.0 in /usr/local/lib/python3.12/dist-packages (from spacy) (0.4.1)\n",
            "Requirement already satisfied: typer<1.0.0,>=0.3.0 in /usr/local/lib/python3.12/dist-packages (from spacy) (0.17.4)\n",
            "Requirement already satisfied: tqdm<5.0.0,>=4.38.0 in /usr/local/lib/python3.12/dist-packages (from spacy) (4.67.1)\n",
            "Requirement already satisfied: numpy>=1.19.0 in /usr/local/lib/python3.12/dist-packages (from spacy) (2.0.2)\n",
            "Requirement already satisfied: requests<3.0.0,>=2.13.0 in /usr/local/lib/python3.12/dist-packages (from spacy) (2.32.4)\n",
            "Requirement already satisfied: pydantic!=1.8,!=1.8.1,<3.0.0,>=1.7.4 in /usr/local/lib/python3.12/dist-packages (from spacy) (2.11.9)\n",
            "Requirement already satisfied: jinja2 in /usr/local/lib/python3.12/dist-packages (from spacy) (3.1.6)\n",
            "Requirement already satisfied: setuptools in /usr/local/lib/python3.12/dist-packages (from spacy) (75.2.0)\n",
            "Requirement already satisfied: packaging>=20.0 in /usr/local/lib/python3.12/dist-packages (from spacy) (25.0)\n",
            "Requirement already satisfied: langcodes<4.0.0,>=3.2.0 in /usr/local/lib/python3.12/dist-packages (from spacy) (3.5.0)\n",
            "Requirement already satisfied: language-data>=1.2 in /usr/local/lib/python3.12/dist-packages (from langcodes<4.0.0,>=3.2.0->spacy) (1.3.0)\n",
            "Requirement already satisfied: annotated-types>=0.6.0 in /usr/local/lib/python3.12/dist-packages (from pydantic!=1.8,!=1.8.1,<3.0.0,>=1.7.4->spacy) (0.7.0)\n",
            "Requirement already satisfied: pydantic-core==2.33.2 in /usr/local/lib/python3.12/dist-packages (from pydantic!=1.8,!=1.8.1,<3.0.0,>=1.7.4->spacy) (2.33.2)\n",
            "Requirement already satisfied: typing-extensions>=4.12.2 in /usr/local/lib/python3.12/dist-packages (from pydantic!=1.8,!=1.8.1,<3.0.0,>=1.7.4->spacy) (4.15.0)\n",
            "Requirement already satisfied: typing-inspection>=0.4.0 in /usr/local/lib/python3.12/dist-packages (from pydantic!=1.8,!=1.8.1,<3.0.0,>=1.7.4->spacy) (0.4.1)\n",
            "Requirement already satisfied: charset_normalizer<4,>=2 in /usr/local/lib/python3.12/dist-packages (from requests<3.0.0,>=2.13.0->spacy) (3.4.3)\n",
            "Requirement already satisfied: idna<4,>=2.5 in /usr/local/lib/python3.12/dist-packages (from requests<3.0.0,>=2.13.0->spacy) (3.10)\n",
            "Requirement already satisfied: urllib3<3,>=1.21.1 in /usr/local/lib/python3.12/dist-packages (from requests<3.0.0,>=2.13.0->spacy) (2.5.0)\n",
            "Requirement already satisfied: certifi>=2017.4.17 in /usr/local/lib/python3.12/dist-packages (from requests<3.0.0,>=2.13.0->spacy) (2025.8.3)\n",
            "Requirement already satisfied: blis<1.4.0,>=1.3.0 in /usr/local/lib/python3.12/dist-packages (from thinc<8.4.0,>=8.3.4->spacy) (1.3.0)\n",
            "Requirement already satisfied: confection<1.0.0,>=0.0.1 in /usr/local/lib/python3.12/dist-packages (from thinc<8.4.0,>=8.3.4->spacy) (0.1.5)\n",
            "Requirement already satisfied: click>=8.0.0 in /usr/local/lib/python3.12/dist-packages (from typer<1.0.0,>=0.3.0->spacy) (8.2.1)\n",
            "Requirement already satisfied: shellingham>=1.3.0 in /usr/local/lib/python3.12/dist-packages (from typer<1.0.0,>=0.3.0->spacy) (1.5.4)\n",
            "Requirement already satisfied: rich>=10.11.0 in /usr/local/lib/python3.12/dist-packages (from typer<1.0.0,>=0.3.0->spacy) (13.9.4)\n",
            "Requirement already satisfied: cloudpathlib<1.0.0,>=0.7.0 in /usr/local/lib/python3.12/dist-packages (from weasel<0.5.0,>=0.1.0->spacy) (0.22.0)\n",
            "Requirement already satisfied: smart-open<8.0.0,>=5.2.1 in /usr/local/lib/python3.12/dist-packages (from weasel<0.5.0,>=0.1.0->spacy) (7.3.1)\n",
            "Requirement already satisfied: MarkupSafe>=2.0 in /usr/local/lib/python3.12/dist-packages (from jinja2->spacy) (3.0.2)\n",
            "Requirement already satisfied: marisa-trie>=1.1.0 in /usr/local/lib/python3.12/dist-packages (from language-data>=1.2->langcodes<4.0.0,>=3.2.0->spacy) (1.3.1)\n",
            "Requirement already satisfied: markdown-it-py>=2.2.0 in /usr/local/lib/python3.12/dist-packages (from rich>=10.11.0->typer<1.0.0,>=0.3.0->spacy) (4.0.0)\n",
            "Requirement already satisfied: pygments<3.0.0,>=2.13.0 in /usr/local/lib/python3.12/dist-packages (from rich>=10.11.0->typer<1.0.0,>=0.3.0->spacy) (2.19.2)\n",
            "Requirement already satisfied: wrapt in /usr/local/lib/python3.12/dist-packages (from smart-open<8.0.0,>=5.2.1->weasel<0.5.0,>=0.1.0->spacy) (1.17.3)\n",
            "Requirement already satisfied: mdurl~=0.1 in /usr/local/lib/python3.12/dist-packages (from markdown-it-py>=2.2.0->rich>=10.11.0->typer<1.0.0,>=0.3.0->spacy) (0.1.2)\n",
            "Collecting en-core-web-sm==3.8.0\n",
            "  Downloading https://github.com/explosion/spacy-models/releases/download/en_core_web_sm-3.8.0/en_core_web_sm-3.8.0-py3-none-any.whl (12.8 MB)\n",
            "\u001b[2K     \u001b[90m━━━━━━━━━━━━━━━━━━━━━━━━━━━━━━━━━━━━━━━━\u001b[0m \u001b[32m12.8/12.8 MB\u001b[0m \u001b[31m61.1 MB/s\u001b[0m eta \u001b[36m0:00:00\u001b[0m\n",
            "\u001b[?25h\u001b[38;5;2m✔ Download and installation successful\u001b[0m\n",
            "You can now load the package via spacy.load('en_core_web_sm')\n",
            "\u001b[38;5;3m⚠ Restart to reload dependencies\u001b[0m\n",
            "If you are in a Jupyter or Colab notebook, you may need to restart Python in\n",
            "order to load all the package's dependencies. You can do this by selecting the\n",
            "'Restart kernel' or 'Restart runtime' option.\n"
          ]
        }
      ],
      "source": [
        "import pandas as pd\n",
        "import numpy as np\n",
        "import matplotlib.pyplot as plt\n",
        "import seaborn as sns\n",
        "import re\n",
        "import os\n",
        "%matplotlib inline\n",
        "!pip install spacy\n",
        "!python -m spacy download en_core_web_sm\n",
        "import spacy\n",
        "from collections import Counter"
      ]
    },
    {
      "cell_type": "markdown",
      "source": [
        "# Exploratory Data Analysis Data Cleaning"
      ],
      "metadata": {
        "id": "0Ry_XiW4Roja"
      }
    },
    {
      "cell_type": "markdown",
      "source": [
        "## Single Dataset Inspection and Cleaning"
      ],
      "metadata": {
        "id": "7toAyrz9SS1t"
      }
    },
    {
      "cell_type": "markdown",
      "source": [
        "Load Data Sets and Save it as a Pandas DataFrame"
      ],
      "metadata": {
        "id": "5LGSGDtDSEN5"
      }
    },
    {
      "cell_type": "code",
      "source": [
        "from google.colab import drive\n",
        "drive.mount('/content/drive')"
      ],
      "metadata": {
        "colab": {
          "base_uri": "https://localhost:8080/"
        },
        "id": "M9ggm4_aIjFP",
        "outputId": "817043fd-ef75-4342-b814-c64f576afb64"
      },
      "execution_count": 2,
      "outputs": [
        {
          "output_type": "stream",
          "name": "stdout",
          "text": [
            "Mounted at /content/drive\n"
          ]
        }
      ]
    },
    {
      "cell_type": "code",
      "source": [
        "folder_path = '/content/drive/My Drive/Break Through Tech/AI Studio/Google Colab/Data Set/'\n",
        "true_file = os.path.join(folder_path, 'True.csv')\n",
        "fake_file = os.path.join(folder_path, 'Fake.csv')\n",
        "true_df = pd.read_csv(true_file,header=0)\n",
        "fake_df = pd.read_csv(fake_file,header=0)"
      ],
      "metadata": {
        "id": "EyQKhtdUIyMK"
      },
      "execution_count": 3,
      "outputs": []
    },
    {
      "cell_type": "markdown",
      "source": [
        "Basic Inspection"
      ],
      "metadata": {
        "id": "CNwaG6WdYfSc"
      }
    },
    {
      "cell_type": "code",
      "source": [
        "# Check the data set size\n",
        "print(\"True news data set size: \", true_df.size)\n",
        "print(\"Fake news data set size: \", fake_df.size)"
      ],
      "metadata": {
        "id": "9-xr5OAvJllz",
        "colab": {
          "base_uri": "https://localhost:8080/"
        },
        "outputId": "8d1dd449-e9be-4595-dd4b-33829887be83"
      },
      "execution_count": 4,
      "outputs": [
        {
          "output_type": "stream",
          "name": "stdout",
          "text": [
            "True news data set size:  85668\n",
            "Fake news data set size:  93924\n"
          ]
        }
      ]
    },
    {
      "cell_type": "code",
      "source": [
        "# Check Columns of Data Set\n",
        "print(\"Columns of true news data set: \", list(true_df.columns))\n",
        "print(\"Columns of fake news data set: \", list(fake_df.columns))"
      ],
      "metadata": {
        "colab": {
          "base_uri": "https://localhost:8080/"
        },
        "id": "O5k5YTGgFRJM",
        "outputId": "0df0d47e-24f4-4436-f960-b0e07e9b6005"
      },
      "execution_count": 5,
      "outputs": [
        {
          "output_type": "stream",
          "name": "stdout",
          "text": [
            "Columns of true news data set:  ['title', 'text', 'subject', 'date']\n",
            "Columns of fake news data set:  ['title', 'text', 'subject', 'date']\n"
          ]
        }
      ]
    },
    {
      "cell_type": "code",
      "source": [
        "# Check Data Types\n",
        "print(\"Data types of true news data set: \")\n",
        "print(true_df.dtypes)\n",
        "print(\"Data types of fake news data set: \")\n",
        "print(fake_df.dtypes)"
      ],
      "metadata": {
        "id": "LAsfVe08F6Df",
        "colab": {
          "base_uri": "https://localhost:8080/"
        },
        "outputId": "31f41229-0513-47c0-9e88-8c31c905e1b9"
      },
      "execution_count": 6,
      "outputs": [
        {
          "output_type": "stream",
          "name": "stdout",
          "text": [
            "Data types of true news data set: \n",
            "title      object\n",
            "text       object\n",
            "subject    object\n",
            "date       object\n",
            "dtype: object\n",
            "Data types of fake news data set: \n",
            "title      object\n",
            "text       object\n",
            "subject    object\n",
            "date       object\n",
            "dtype: object\n"
          ]
        }
      ]
    },
    {
      "cell_type": "code",
      "source": [
        "print(\"First 10 rows of True News DataFrame: \")\n",
        "true_df.head(10)"
      ],
      "metadata": {
        "id": "7MTCRN5KLBBi",
        "outputId": "e5db6892-a287-48cc-c224-c6b05a42010d",
        "colab": {
          "base_uri": "https://localhost:8080/",
          "height": 380
        }
      },
      "execution_count": 7,
      "outputs": [
        {
          "output_type": "stream",
          "name": "stdout",
          "text": [
            "First 10 rows of True News DataFrame: \n"
          ]
        },
        {
          "output_type": "execute_result",
          "data": {
            "text/plain": [
              "                                               title  \\\n",
              "0  As U.S. budget fight looms, Republicans flip t...   \n",
              "1  U.S. military to accept transgender recruits o...   \n",
              "2  Senior U.S. Republican senator: 'Let Mr. Muell...   \n",
              "3  FBI Russia probe helped by Australian diplomat...   \n",
              "4  Trump wants Postal Service to charge 'much mor...   \n",
              "5  White House, Congress prepare for talks on spe...   \n",
              "6  Trump says Russia probe will be fair, but time...   \n",
              "7  Factbox: Trump on Twitter (Dec 29) - Approval ...   \n",
              "8         Trump on Twitter (Dec 28) - Global Warming   \n",
              "9  Alabama official to certify Senator-elect Jone...   \n",
              "\n",
              "                                                text       subject  \\\n",
              "0  WASHINGTON (Reuters) - The head of a conservat...  politicsNews   \n",
              "1  WASHINGTON (Reuters) - Transgender people will...  politicsNews   \n",
              "2  WASHINGTON (Reuters) - The special counsel inv...  politicsNews   \n",
              "3  WASHINGTON (Reuters) - Trump campaign adviser ...  politicsNews   \n",
              "4  SEATTLE/WASHINGTON (Reuters) - President Donal...  politicsNews   \n",
              "5  WEST PALM BEACH, Fla./WASHINGTON (Reuters) - T...  politicsNews   \n",
              "6  WEST PALM BEACH, Fla (Reuters) - President Don...  politicsNews   \n",
              "7  The following statements were posted to the ve...  politicsNews   \n",
              "8  The following statements were posted to the ve...  politicsNews   \n",
              "9  WASHINGTON (Reuters) - Alabama Secretary of St...  politicsNews   \n",
              "\n",
              "                 date  \n",
              "0  December 31, 2017   \n",
              "1  December 29, 2017   \n",
              "2  December 31, 2017   \n",
              "3  December 30, 2017   \n",
              "4  December 29, 2017   \n",
              "5  December 29, 2017   \n",
              "6  December 29, 2017   \n",
              "7  December 29, 2017   \n",
              "8  December 29, 2017   \n",
              "9  December 28, 2017   "
            ],
            "text/html": [
              "\n",
              "  <div id=\"df-b663f8de-b113-43d1-a860-129938a984ae\" class=\"colab-df-container\">\n",
              "    <div>\n",
              "<style scoped>\n",
              "    .dataframe tbody tr th:only-of-type {\n",
              "        vertical-align: middle;\n",
              "    }\n",
              "\n",
              "    .dataframe tbody tr th {\n",
              "        vertical-align: top;\n",
              "    }\n",
              "\n",
              "    .dataframe thead th {\n",
              "        text-align: right;\n",
              "    }\n",
              "</style>\n",
              "<table border=\"1\" class=\"dataframe\">\n",
              "  <thead>\n",
              "    <tr style=\"text-align: right;\">\n",
              "      <th></th>\n",
              "      <th>title</th>\n",
              "      <th>text</th>\n",
              "      <th>subject</th>\n",
              "      <th>date</th>\n",
              "    </tr>\n",
              "  </thead>\n",
              "  <tbody>\n",
              "    <tr>\n",
              "      <th>0</th>\n",
              "      <td>As U.S. budget fight looms, Republicans flip t...</td>\n",
              "      <td>WASHINGTON (Reuters) - The head of a conservat...</td>\n",
              "      <td>politicsNews</td>\n",
              "      <td>December 31, 2017</td>\n",
              "    </tr>\n",
              "    <tr>\n",
              "      <th>1</th>\n",
              "      <td>U.S. military to accept transgender recruits o...</td>\n",
              "      <td>WASHINGTON (Reuters) - Transgender people will...</td>\n",
              "      <td>politicsNews</td>\n",
              "      <td>December 29, 2017</td>\n",
              "    </tr>\n",
              "    <tr>\n",
              "      <th>2</th>\n",
              "      <td>Senior U.S. Republican senator: 'Let Mr. Muell...</td>\n",
              "      <td>WASHINGTON (Reuters) - The special counsel inv...</td>\n",
              "      <td>politicsNews</td>\n",
              "      <td>December 31, 2017</td>\n",
              "    </tr>\n",
              "    <tr>\n",
              "      <th>3</th>\n",
              "      <td>FBI Russia probe helped by Australian diplomat...</td>\n",
              "      <td>WASHINGTON (Reuters) - Trump campaign adviser ...</td>\n",
              "      <td>politicsNews</td>\n",
              "      <td>December 30, 2017</td>\n",
              "    </tr>\n",
              "    <tr>\n",
              "      <th>4</th>\n",
              "      <td>Trump wants Postal Service to charge 'much mor...</td>\n",
              "      <td>SEATTLE/WASHINGTON (Reuters) - President Donal...</td>\n",
              "      <td>politicsNews</td>\n",
              "      <td>December 29, 2017</td>\n",
              "    </tr>\n",
              "    <tr>\n",
              "      <th>5</th>\n",
              "      <td>White House, Congress prepare for talks on spe...</td>\n",
              "      <td>WEST PALM BEACH, Fla./WASHINGTON (Reuters) - T...</td>\n",
              "      <td>politicsNews</td>\n",
              "      <td>December 29, 2017</td>\n",
              "    </tr>\n",
              "    <tr>\n",
              "      <th>6</th>\n",
              "      <td>Trump says Russia probe will be fair, but time...</td>\n",
              "      <td>WEST PALM BEACH, Fla (Reuters) - President Don...</td>\n",
              "      <td>politicsNews</td>\n",
              "      <td>December 29, 2017</td>\n",
              "    </tr>\n",
              "    <tr>\n",
              "      <th>7</th>\n",
              "      <td>Factbox: Trump on Twitter (Dec 29) - Approval ...</td>\n",
              "      <td>The following statements were posted to the ve...</td>\n",
              "      <td>politicsNews</td>\n",
              "      <td>December 29, 2017</td>\n",
              "    </tr>\n",
              "    <tr>\n",
              "      <th>8</th>\n",
              "      <td>Trump on Twitter (Dec 28) - Global Warming</td>\n",
              "      <td>The following statements were posted to the ve...</td>\n",
              "      <td>politicsNews</td>\n",
              "      <td>December 29, 2017</td>\n",
              "    </tr>\n",
              "    <tr>\n",
              "      <th>9</th>\n",
              "      <td>Alabama official to certify Senator-elect Jone...</td>\n",
              "      <td>WASHINGTON (Reuters) - Alabama Secretary of St...</td>\n",
              "      <td>politicsNews</td>\n",
              "      <td>December 28, 2017</td>\n",
              "    </tr>\n",
              "  </tbody>\n",
              "</table>\n",
              "</div>\n",
              "    <div class=\"colab-df-buttons\">\n",
              "\n",
              "  <div class=\"colab-df-container\">\n",
              "    <button class=\"colab-df-convert\" onclick=\"convertToInteractive('df-b663f8de-b113-43d1-a860-129938a984ae')\"\n",
              "            title=\"Convert this dataframe to an interactive table.\"\n",
              "            style=\"display:none;\">\n",
              "\n",
              "  <svg xmlns=\"http://www.w3.org/2000/svg\" height=\"24px\" viewBox=\"0 -960 960 960\">\n",
              "    <path d=\"M120-120v-720h720v720H120Zm60-500h600v-160H180v160Zm220 220h160v-160H400v160Zm0 220h160v-160H400v160ZM180-400h160v-160H180v160Zm440 0h160v-160H620v160ZM180-180h160v-160H180v160Zm440 0h160v-160H620v160Z\"/>\n",
              "  </svg>\n",
              "    </button>\n",
              "\n",
              "  <style>\n",
              "    .colab-df-container {\n",
              "      display:flex;\n",
              "      gap: 12px;\n",
              "    }\n",
              "\n",
              "    .colab-df-convert {\n",
              "      background-color: #E8F0FE;\n",
              "      border: none;\n",
              "      border-radius: 50%;\n",
              "      cursor: pointer;\n",
              "      display: none;\n",
              "      fill: #1967D2;\n",
              "      height: 32px;\n",
              "      padding: 0 0 0 0;\n",
              "      width: 32px;\n",
              "    }\n",
              "\n",
              "    .colab-df-convert:hover {\n",
              "      background-color: #E2EBFA;\n",
              "      box-shadow: 0px 1px 2px rgba(60, 64, 67, 0.3), 0px 1px 3px 1px rgba(60, 64, 67, 0.15);\n",
              "      fill: #174EA6;\n",
              "    }\n",
              "\n",
              "    .colab-df-buttons div {\n",
              "      margin-bottom: 4px;\n",
              "    }\n",
              "\n",
              "    [theme=dark] .colab-df-convert {\n",
              "      background-color: #3B4455;\n",
              "      fill: #D2E3FC;\n",
              "    }\n",
              "\n",
              "    [theme=dark] .colab-df-convert:hover {\n",
              "      background-color: #434B5C;\n",
              "      box-shadow: 0px 1px 3px 1px rgba(0, 0, 0, 0.15);\n",
              "      filter: drop-shadow(0px 1px 2px rgba(0, 0, 0, 0.3));\n",
              "      fill: #FFFFFF;\n",
              "    }\n",
              "  </style>\n",
              "\n",
              "    <script>\n",
              "      const buttonEl =\n",
              "        document.querySelector('#df-b663f8de-b113-43d1-a860-129938a984ae button.colab-df-convert');\n",
              "      buttonEl.style.display =\n",
              "        google.colab.kernel.accessAllowed ? 'block' : 'none';\n",
              "\n",
              "      async function convertToInteractive(key) {\n",
              "        const element = document.querySelector('#df-b663f8de-b113-43d1-a860-129938a984ae');\n",
              "        const dataTable =\n",
              "          await google.colab.kernel.invokeFunction('convertToInteractive',\n",
              "                                                    [key], {});\n",
              "        if (!dataTable) return;\n",
              "\n",
              "        const docLinkHtml = 'Like what you see? Visit the ' +\n",
              "          '<a target=\"_blank\" href=https://colab.research.google.com/notebooks/data_table.ipynb>data table notebook</a>'\n",
              "          + ' to learn more about interactive tables.';\n",
              "        element.innerHTML = '';\n",
              "        dataTable['output_type'] = 'display_data';\n",
              "        await google.colab.output.renderOutput(dataTable, element);\n",
              "        const docLink = document.createElement('div');\n",
              "        docLink.innerHTML = docLinkHtml;\n",
              "        element.appendChild(docLink);\n",
              "      }\n",
              "    </script>\n",
              "  </div>\n",
              "\n",
              "\n",
              "    <div id=\"df-c5f3649e-e5a4-440b-b8d2-c104b4d52a91\">\n",
              "      <button class=\"colab-df-quickchart\" onclick=\"quickchart('df-c5f3649e-e5a4-440b-b8d2-c104b4d52a91')\"\n",
              "                title=\"Suggest charts\"\n",
              "                style=\"display:none;\">\n",
              "\n",
              "<svg xmlns=\"http://www.w3.org/2000/svg\" height=\"24px\"viewBox=\"0 0 24 24\"\n",
              "     width=\"24px\">\n",
              "    <g>\n",
              "        <path d=\"M19 3H5c-1.1 0-2 .9-2 2v14c0 1.1.9 2 2 2h14c1.1 0 2-.9 2-2V5c0-1.1-.9-2-2-2zM9 17H7v-7h2v7zm4 0h-2V7h2v10zm4 0h-2v-4h2v4z\"/>\n",
              "    </g>\n",
              "</svg>\n",
              "      </button>\n",
              "\n",
              "<style>\n",
              "  .colab-df-quickchart {\n",
              "      --bg-color: #E8F0FE;\n",
              "      --fill-color: #1967D2;\n",
              "      --hover-bg-color: #E2EBFA;\n",
              "      --hover-fill-color: #174EA6;\n",
              "      --disabled-fill-color: #AAA;\n",
              "      --disabled-bg-color: #DDD;\n",
              "  }\n",
              "\n",
              "  [theme=dark] .colab-df-quickchart {\n",
              "      --bg-color: #3B4455;\n",
              "      --fill-color: #D2E3FC;\n",
              "      --hover-bg-color: #434B5C;\n",
              "      --hover-fill-color: #FFFFFF;\n",
              "      --disabled-bg-color: #3B4455;\n",
              "      --disabled-fill-color: #666;\n",
              "  }\n",
              "\n",
              "  .colab-df-quickchart {\n",
              "    background-color: var(--bg-color);\n",
              "    border: none;\n",
              "    border-radius: 50%;\n",
              "    cursor: pointer;\n",
              "    display: none;\n",
              "    fill: var(--fill-color);\n",
              "    height: 32px;\n",
              "    padding: 0;\n",
              "    width: 32px;\n",
              "  }\n",
              "\n",
              "  .colab-df-quickchart:hover {\n",
              "    background-color: var(--hover-bg-color);\n",
              "    box-shadow: 0 1px 2px rgba(60, 64, 67, 0.3), 0 1px 3px 1px rgba(60, 64, 67, 0.15);\n",
              "    fill: var(--button-hover-fill-color);\n",
              "  }\n",
              "\n",
              "  .colab-df-quickchart-complete:disabled,\n",
              "  .colab-df-quickchart-complete:disabled:hover {\n",
              "    background-color: var(--disabled-bg-color);\n",
              "    fill: var(--disabled-fill-color);\n",
              "    box-shadow: none;\n",
              "  }\n",
              "\n",
              "  .colab-df-spinner {\n",
              "    border: 2px solid var(--fill-color);\n",
              "    border-color: transparent;\n",
              "    border-bottom-color: var(--fill-color);\n",
              "    animation:\n",
              "      spin 1s steps(1) infinite;\n",
              "  }\n",
              "\n",
              "  @keyframes spin {\n",
              "    0% {\n",
              "      border-color: transparent;\n",
              "      border-bottom-color: var(--fill-color);\n",
              "      border-left-color: var(--fill-color);\n",
              "    }\n",
              "    20% {\n",
              "      border-color: transparent;\n",
              "      border-left-color: var(--fill-color);\n",
              "      border-top-color: var(--fill-color);\n",
              "    }\n",
              "    30% {\n",
              "      border-color: transparent;\n",
              "      border-left-color: var(--fill-color);\n",
              "      border-top-color: var(--fill-color);\n",
              "      border-right-color: var(--fill-color);\n",
              "    }\n",
              "    40% {\n",
              "      border-color: transparent;\n",
              "      border-right-color: var(--fill-color);\n",
              "      border-top-color: var(--fill-color);\n",
              "    }\n",
              "    60% {\n",
              "      border-color: transparent;\n",
              "      border-right-color: var(--fill-color);\n",
              "    }\n",
              "    80% {\n",
              "      border-color: transparent;\n",
              "      border-right-color: var(--fill-color);\n",
              "      border-bottom-color: var(--fill-color);\n",
              "    }\n",
              "    90% {\n",
              "      border-color: transparent;\n",
              "      border-bottom-color: var(--fill-color);\n",
              "    }\n",
              "  }\n",
              "</style>\n",
              "\n",
              "      <script>\n",
              "        async function quickchart(key) {\n",
              "          const quickchartButtonEl =\n",
              "            document.querySelector('#' + key + ' button');\n",
              "          quickchartButtonEl.disabled = true;  // To prevent multiple clicks.\n",
              "          quickchartButtonEl.classList.add('colab-df-spinner');\n",
              "          try {\n",
              "            const charts = await google.colab.kernel.invokeFunction(\n",
              "                'suggestCharts', [key], {});\n",
              "          } catch (error) {\n",
              "            console.error('Error during call to suggestCharts:', error);\n",
              "          }\n",
              "          quickchartButtonEl.classList.remove('colab-df-spinner');\n",
              "          quickchartButtonEl.classList.add('colab-df-quickchart-complete');\n",
              "        }\n",
              "        (() => {\n",
              "          let quickchartButtonEl =\n",
              "            document.querySelector('#df-c5f3649e-e5a4-440b-b8d2-c104b4d52a91 button');\n",
              "          quickchartButtonEl.style.display =\n",
              "            google.colab.kernel.accessAllowed ? 'block' : 'none';\n",
              "        })();\n",
              "      </script>\n",
              "    </div>\n",
              "\n",
              "    </div>\n",
              "  </div>\n"
            ],
            "application/vnd.google.colaboratory.intrinsic+json": {
              "type": "dataframe",
              "variable_name": "true_df",
              "summary": "{\n  \"name\": \"true_df\",\n  \"rows\": 21417,\n  \"fields\": [\n    {\n      \"column\": \"title\",\n      \"properties\": {\n        \"dtype\": \"string\",\n        \"num_unique_values\": 20826,\n        \"samples\": [\n          \"German, Turkish foreign ministers meet after detainee released\",\n          \"Kremlin calls North Korea's latest missile launch another 'provocation'\",\n          \"Transgender soldiers, veterans shaken by Trump's ban on their service\"\n        ],\n        \"semantic_type\": \"\",\n        \"description\": \"\"\n      }\n    },\n    {\n      \"column\": \"text\",\n      \"properties\": {\n        \"dtype\": \"string\",\n        \"num_unique_values\": 21192,\n        \"samples\": [\n          \"WASHINGTON (Reuters) - A majority of the U.S. Senate on Tuesday backed a new round of disaster aid to help Puerto Rico and several states recover from damage from hurricanes and wildfires. The legislation would provide $36.5 billion in emergency relief as Puerto Rico in particular struggles to regain electricity and other basic services following destructive hurricanes. The House of Representatives approved the bill earlier this month. The Trump administration already has indicated it will seek another round of emergency relief from Congress. \",\n          \"BUDAPEST (Reuters) - About a thousand Hungarians protested on Friday against a crackdown on the main opposition party Jobbik which has been  threatened by a record political campaign fine that the party leader describes as a  death sentence  for democracy. Despite the gloomy rhetoric and Jobbik saying it was fighting for survival, support for the demonstration was well down on other similar rallies over the past year. Hungarians will vote for a new parliament in April and Prime Minister Viktor Orban s conservative, anti-migrant Fidesz party is far ahead in the polls, with Jobbik its nearest rival. Jobbik, once on the far right, has turned toward the center in a bid to attract more support and is now campaigning nationwide against Orban, depicting him as the leader of a criminal gang. Orban, rejecting the charges, says his financial standing is  an open book . Last week the state audit office (ASZ) ruled Jobbik had bought political posters far below market prices, breaching rules on political funding, then it slapped a 663 million forint ($2.5 million) penalty on the party. The protesters, waving Jobbik flags and posters deriding the ruling elite, gathered outside the headquarters of Orban s Fidesz party.  What we see unfolding is not an audit office investigation. It is not an official penalty. This is a death sentence with Jobbik s name on it. But in reality, it is a death sentence for Hungarian democracy,  Jobbiik leader Gabor Vona told the crowd. A government spokesman could not comment immediately on his remarks. ASZ chairman Laszlo Domokos is a former Fidesz lawmaker, whom Jobbik and other critics accuse of making decisions in favor of Orban. The audit office denies that. On Friday, ASZ again called on Jobbik to submit information that would challenge its findings, saying it acted fully within its rights throughout the probe. The ruling Fidesz party and the government have denied any involvement in the ASZ probe.  This case has nothing to do with the election campaign,  Orban aide Janos Lazar said on Thursday. For over a year Fidesz has targeted Jobbik, whose move to the center could upend the longstanding status quo of a dominant Fidesz with weaker opponents to its left and its right, said analyst Zoltan Novak at the Centre for Fair Political Analysis. Gyorgy Illes, a 67-year-old pensioner attending the rally, said he used to be a Socialist supporter but got disillusioned as the party struggled to overcome its internal divisions.  This ASZ probe is a clear sign that Orban is way past any remedy. It is a ruthless attack on everything we hold dear. Democracy, the rule of law, equality, you name it,  he said. \",\n          \"BEIJING/TAIPEI (Reuters) - China accused the United States on Thursday of interfering in its internal affairs and said it had lodged a complaint after U.S. President Donald Trump signed into law an act laying the groundwork for possible U.S. navy visits to self-ruled Taiwan. Tensions have risen in recent days after a senior Chinese diplomat threatened China would invade Taiwan if any U.S. warships made port visits to the island which China claims as its own territory. On Monday, Chinese jets carried out  island encirclement patrols  around Taiwan, with state media showing pictures of bombers with cruise missiles slung under their wings as they carried out the exercise. On Tuesday, Trump signed into law the National Defense Authorization Act for the 2018 fiscal year, which authorizes the possibility of mutual visits by navy vessels between Taiwan and the United States. Such visits would be the first since the United States ended formal diplomatic relations with Taiwan in 1979 and established ties with Beijing. Chinese Foreign Ministry spokesman Lu Kang said while the Taiwan sections of the law were not legally binding, they seriously violate the  One China  policy and  constitute an interference in China s internal affairs .   China is resolutely opposed to this, and we have already lodged stern representations with the U.S. government,  Lu told a daily news briefing. China is firmly opposed to any official exchanges, military contact, or arms sales between Taiwan and the United States, he added.  Proudly democratic Taiwan has become increasingly concerned with the ramped up Chinese military presence, that has included several rounds of Chinese air force drills around the island in recent months.  Taiwan is confident of its defenses and responded quickly to the Chinese air force drills this week, its government said, denouncing the rise in China s military deployments as irresponsible. Taiwan presidential spokesman Alex Huang, speaking to Taiwan media in comments reported late on Wednesday, said the defense ministry had kept a close watch on the patrols and responded immediately and properly. Taiwan  can ensure there are no concerns at all about national security, and people can rest assured , Huang said. Both sides of the narrow Taiwan Strait, which separates Taiwan from its giant neighbor, have a responsibility to protect peace and stability, he added.  Such a raised military posture that may impact upon and harm regional peace and stability and cross-strait ties does not give a feeling of responsibility, and the international community does not look favorably upon this,  Huang was quoted as saying. Relations have soured considerably since Tsai Ing-wen, who leads Taiwan s independence-leaning Democratic Progressive Party, won presidential elections last year. China suspects Tsai wants to declare the island s formal independence, a red line for Beijing. Tsai says she wants to maintain peace with China but will defend Taiwan s security. Taiwan is well equipped with mostly U.S. weapons but has been pressing for more advanced equipment to deal with what it sees as a rising threat from China. The United States is bound by law to provide the island with the means to defend itself. China has never renounced the use of force to bring Taiwan under its control. \"\n        ],\n        \"semantic_type\": \"\",\n        \"description\": \"\"\n      }\n    },\n    {\n      \"column\": \"subject\",\n      \"properties\": {\n        \"dtype\": \"category\",\n        \"num_unique_values\": 2,\n        \"samples\": [\n          \"worldnews\",\n          \"politicsNews\"\n        ],\n        \"semantic_type\": \"\",\n        \"description\": \"\"\n      }\n    },\n    {\n      \"column\": \"date\",\n      \"properties\": {\n        \"dtype\": \"object\",\n        \"num_unique_values\": 716,\n        \"samples\": [\n          \"September 2, 2017 \",\n          \"February 2, 2017 \"\n        ],\n        \"semantic_type\": \"\",\n        \"description\": \"\"\n      }\n    }\n  ]\n}"
            }
          },
          "metadata": {},
          "execution_count": 7
        }
      ]
    },
    {
      "cell_type": "code",
      "source": [
        "print(\"First 10 rows of Fake News DataFrame: \")\n",
        "fake_df.head(10)"
      ],
      "metadata": {
        "colab": {
          "base_uri": "https://localhost:8080/",
          "height": 380
        },
        "id": "wH8ibLP8TU0a",
        "outputId": "15c1c963-27bd-4ff9-eece-40f9f806b23c"
      },
      "execution_count": 8,
      "outputs": [
        {
          "output_type": "stream",
          "name": "stdout",
          "text": [
            "First 10 rows of Fake News DataFrame: \n"
          ]
        },
        {
          "output_type": "execute_result",
          "data": {
            "text/plain": [
              "                                               title  \\\n",
              "0   Donald Trump Sends Out Embarrassing New Year’...   \n",
              "1   Drunk Bragging Trump Staffer Started Russian ...   \n",
              "2   Sheriff David Clarke Becomes An Internet Joke...   \n",
              "3   Trump Is So Obsessed He Even Has Obama’s Name...   \n",
              "4   Pope Francis Just Called Out Donald Trump Dur...   \n",
              "5   Racist Alabama Cops Brutalize Black Boy While...   \n",
              "6   Fresh Off The Golf Course, Trump Lashes Out A...   \n",
              "7   Trump Said Some INSANELY Racist Stuff Inside ...   \n",
              "8   Former CIA Director Slams Trump Over UN Bully...   \n",
              "9   WATCH: Brand-New Pro-Trump Ad Features So Muc...   \n",
              "\n",
              "                                                text subject  \\\n",
              "0  Donald Trump just couldn t wish all Americans ...    News   \n",
              "1  House Intelligence Committee Chairman Devin Nu...    News   \n",
              "2  On Friday, it was revealed that former Milwauk...    News   \n",
              "3  On Christmas day, Donald Trump announced that ...    News   \n",
              "4  Pope Francis used his annual Christmas Day mes...    News   \n",
              "5  The number of cases of cops brutalizing and ki...    News   \n",
              "6  Donald Trump spent a good portion of his day a...    News   \n",
              "7  In the wake of yet another court decision that...    News   \n",
              "8  Many people have raised the alarm regarding th...    News   \n",
              "9  Just when you might have thought we d get a br...    News   \n",
              "\n",
              "                date  \n",
              "0  December 31, 2017  \n",
              "1  December 31, 2017  \n",
              "2  December 30, 2017  \n",
              "3  December 29, 2017  \n",
              "4  December 25, 2017  \n",
              "5  December 25, 2017  \n",
              "6  December 23, 2017  \n",
              "7  December 23, 2017  \n",
              "8  December 22, 2017  \n",
              "9  December 21, 2017  "
            ],
            "text/html": [
              "\n",
              "  <div id=\"df-874759bd-48cf-4543-a847-4eff2ad9b129\" class=\"colab-df-container\">\n",
              "    <div>\n",
              "<style scoped>\n",
              "    .dataframe tbody tr th:only-of-type {\n",
              "        vertical-align: middle;\n",
              "    }\n",
              "\n",
              "    .dataframe tbody tr th {\n",
              "        vertical-align: top;\n",
              "    }\n",
              "\n",
              "    .dataframe thead th {\n",
              "        text-align: right;\n",
              "    }\n",
              "</style>\n",
              "<table border=\"1\" class=\"dataframe\">\n",
              "  <thead>\n",
              "    <tr style=\"text-align: right;\">\n",
              "      <th></th>\n",
              "      <th>title</th>\n",
              "      <th>text</th>\n",
              "      <th>subject</th>\n",
              "      <th>date</th>\n",
              "    </tr>\n",
              "  </thead>\n",
              "  <tbody>\n",
              "    <tr>\n",
              "      <th>0</th>\n",
              "      <td>Donald Trump Sends Out Embarrassing New Year’...</td>\n",
              "      <td>Donald Trump just couldn t wish all Americans ...</td>\n",
              "      <td>News</td>\n",
              "      <td>December 31, 2017</td>\n",
              "    </tr>\n",
              "    <tr>\n",
              "      <th>1</th>\n",
              "      <td>Drunk Bragging Trump Staffer Started Russian ...</td>\n",
              "      <td>House Intelligence Committee Chairman Devin Nu...</td>\n",
              "      <td>News</td>\n",
              "      <td>December 31, 2017</td>\n",
              "    </tr>\n",
              "    <tr>\n",
              "      <th>2</th>\n",
              "      <td>Sheriff David Clarke Becomes An Internet Joke...</td>\n",
              "      <td>On Friday, it was revealed that former Milwauk...</td>\n",
              "      <td>News</td>\n",
              "      <td>December 30, 2017</td>\n",
              "    </tr>\n",
              "    <tr>\n",
              "      <th>3</th>\n",
              "      <td>Trump Is So Obsessed He Even Has Obama’s Name...</td>\n",
              "      <td>On Christmas day, Donald Trump announced that ...</td>\n",
              "      <td>News</td>\n",
              "      <td>December 29, 2017</td>\n",
              "    </tr>\n",
              "    <tr>\n",
              "      <th>4</th>\n",
              "      <td>Pope Francis Just Called Out Donald Trump Dur...</td>\n",
              "      <td>Pope Francis used his annual Christmas Day mes...</td>\n",
              "      <td>News</td>\n",
              "      <td>December 25, 2017</td>\n",
              "    </tr>\n",
              "    <tr>\n",
              "      <th>5</th>\n",
              "      <td>Racist Alabama Cops Brutalize Black Boy While...</td>\n",
              "      <td>The number of cases of cops brutalizing and ki...</td>\n",
              "      <td>News</td>\n",
              "      <td>December 25, 2017</td>\n",
              "    </tr>\n",
              "    <tr>\n",
              "      <th>6</th>\n",
              "      <td>Fresh Off The Golf Course, Trump Lashes Out A...</td>\n",
              "      <td>Donald Trump spent a good portion of his day a...</td>\n",
              "      <td>News</td>\n",
              "      <td>December 23, 2017</td>\n",
              "    </tr>\n",
              "    <tr>\n",
              "      <th>7</th>\n",
              "      <td>Trump Said Some INSANELY Racist Stuff Inside ...</td>\n",
              "      <td>In the wake of yet another court decision that...</td>\n",
              "      <td>News</td>\n",
              "      <td>December 23, 2017</td>\n",
              "    </tr>\n",
              "    <tr>\n",
              "      <th>8</th>\n",
              "      <td>Former CIA Director Slams Trump Over UN Bully...</td>\n",
              "      <td>Many people have raised the alarm regarding th...</td>\n",
              "      <td>News</td>\n",
              "      <td>December 22, 2017</td>\n",
              "    </tr>\n",
              "    <tr>\n",
              "      <th>9</th>\n",
              "      <td>WATCH: Brand-New Pro-Trump Ad Features So Muc...</td>\n",
              "      <td>Just when you might have thought we d get a br...</td>\n",
              "      <td>News</td>\n",
              "      <td>December 21, 2017</td>\n",
              "    </tr>\n",
              "  </tbody>\n",
              "</table>\n",
              "</div>\n",
              "    <div class=\"colab-df-buttons\">\n",
              "\n",
              "  <div class=\"colab-df-container\">\n",
              "    <button class=\"colab-df-convert\" onclick=\"convertToInteractive('df-874759bd-48cf-4543-a847-4eff2ad9b129')\"\n",
              "            title=\"Convert this dataframe to an interactive table.\"\n",
              "            style=\"display:none;\">\n",
              "\n",
              "  <svg xmlns=\"http://www.w3.org/2000/svg\" height=\"24px\" viewBox=\"0 -960 960 960\">\n",
              "    <path d=\"M120-120v-720h720v720H120Zm60-500h600v-160H180v160Zm220 220h160v-160H400v160Zm0 220h160v-160H400v160ZM180-400h160v-160H180v160Zm440 0h160v-160H620v160ZM180-180h160v-160H180v160Zm440 0h160v-160H620v160Z\"/>\n",
              "  </svg>\n",
              "    </button>\n",
              "\n",
              "  <style>\n",
              "    .colab-df-container {\n",
              "      display:flex;\n",
              "      gap: 12px;\n",
              "    }\n",
              "\n",
              "    .colab-df-convert {\n",
              "      background-color: #E8F0FE;\n",
              "      border: none;\n",
              "      border-radius: 50%;\n",
              "      cursor: pointer;\n",
              "      display: none;\n",
              "      fill: #1967D2;\n",
              "      height: 32px;\n",
              "      padding: 0 0 0 0;\n",
              "      width: 32px;\n",
              "    }\n",
              "\n",
              "    .colab-df-convert:hover {\n",
              "      background-color: #E2EBFA;\n",
              "      box-shadow: 0px 1px 2px rgba(60, 64, 67, 0.3), 0px 1px 3px 1px rgba(60, 64, 67, 0.15);\n",
              "      fill: #174EA6;\n",
              "    }\n",
              "\n",
              "    .colab-df-buttons div {\n",
              "      margin-bottom: 4px;\n",
              "    }\n",
              "\n",
              "    [theme=dark] .colab-df-convert {\n",
              "      background-color: #3B4455;\n",
              "      fill: #D2E3FC;\n",
              "    }\n",
              "\n",
              "    [theme=dark] .colab-df-convert:hover {\n",
              "      background-color: #434B5C;\n",
              "      box-shadow: 0px 1px 3px 1px rgba(0, 0, 0, 0.15);\n",
              "      filter: drop-shadow(0px 1px 2px rgba(0, 0, 0, 0.3));\n",
              "      fill: #FFFFFF;\n",
              "    }\n",
              "  </style>\n",
              "\n",
              "    <script>\n",
              "      const buttonEl =\n",
              "        document.querySelector('#df-874759bd-48cf-4543-a847-4eff2ad9b129 button.colab-df-convert');\n",
              "      buttonEl.style.display =\n",
              "        google.colab.kernel.accessAllowed ? 'block' : 'none';\n",
              "\n",
              "      async function convertToInteractive(key) {\n",
              "        const element = document.querySelector('#df-874759bd-48cf-4543-a847-4eff2ad9b129');\n",
              "        const dataTable =\n",
              "          await google.colab.kernel.invokeFunction('convertToInteractive',\n",
              "                                                    [key], {});\n",
              "        if (!dataTable) return;\n",
              "\n",
              "        const docLinkHtml = 'Like what you see? Visit the ' +\n",
              "          '<a target=\"_blank\" href=https://colab.research.google.com/notebooks/data_table.ipynb>data table notebook</a>'\n",
              "          + ' to learn more about interactive tables.';\n",
              "        element.innerHTML = '';\n",
              "        dataTable['output_type'] = 'display_data';\n",
              "        await google.colab.output.renderOutput(dataTable, element);\n",
              "        const docLink = document.createElement('div');\n",
              "        docLink.innerHTML = docLinkHtml;\n",
              "        element.appendChild(docLink);\n",
              "      }\n",
              "    </script>\n",
              "  </div>\n",
              "\n",
              "\n",
              "    <div id=\"df-19bcd340-4250-4e57-b132-1e90fd5c273d\">\n",
              "      <button class=\"colab-df-quickchart\" onclick=\"quickchart('df-19bcd340-4250-4e57-b132-1e90fd5c273d')\"\n",
              "                title=\"Suggest charts\"\n",
              "                style=\"display:none;\">\n",
              "\n",
              "<svg xmlns=\"http://www.w3.org/2000/svg\" height=\"24px\"viewBox=\"0 0 24 24\"\n",
              "     width=\"24px\">\n",
              "    <g>\n",
              "        <path d=\"M19 3H5c-1.1 0-2 .9-2 2v14c0 1.1.9 2 2 2h14c1.1 0 2-.9 2-2V5c0-1.1-.9-2-2-2zM9 17H7v-7h2v7zm4 0h-2V7h2v10zm4 0h-2v-4h2v4z\"/>\n",
              "    </g>\n",
              "</svg>\n",
              "      </button>\n",
              "\n",
              "<style>\n",
              "  .colab-df-quickchart {\n",
              "      --bg-color: #E8F0FE;\n",
              "      --fill-color: #1967D2;\n",
              "      --hover-bg-color: #E2EBFA;\n",
              "      --hover-fill-color: #174EA6;\n",
              "      --disabled-fill-color: #AAA;\n",
              "      --disabled-bg-color: #DDD;\n",
              "  }\n",
              "\n",
              "  [theme=dark] .colab-df-quickchart {\n",
              "      --bg-color: #3B4455;\n",
              "      --fill-color: #D2E3FC;\n",
              "      --hover-bg-color: #434B5C;\n",
              "      --hover-fill-color: #FFFFFF;\n",
              "      --disabled-bg-color: #3B4455;\n",
              "      --disabled-fill-color: #666;\n",
              "  }\n",
              "\n",
              "  .colab-df-quickchart {\n",
              "    background-color: var(--bg-color);\n",
              "    border: none;\n",
              "    border-radius: 50%;\n",
              "    cursor: pointer;\n",
              "    display: none;\n",
              "    fill: var(--fill-color);\n",
              "    height: 32px;\n",
              "    padding: 0;\n",
              "    width: 32px;\n",
              "  }\n",
              "\n",
              "  .colab-df-quickchart:hover {\n",
              "    background-color: var(--hover-bg-color);\n",
              "    box-shadow: 0 1px 2px rgba(60, 64, 67, 0.3), 0 1px 3px 1px rgba(60, 64, 67, 0.15);\n",
              "    fill: var(--button-hover-fill-color);\n",
              "  }\n",
              "\n",
              "  .colab-df-quickchart-complete:disabled,\n",
              "  .colab-df-quickchart-complete:disabled:hover {\n",
              "    background-color: var(--disabled-bg-color);\n",
              "    fill: var(--disabled-fill-color);\n",
              "    box-shadow: none;\n",
              "  }\n",
              "\n",
              "  .colab-df-spinner {\n",
              "    border: 2px solid var(--fill-color);\n",
              "    border-color: transparent;\n",
              "    border-bottom-color: var(--fill-color);\n",
              "    animation:\n",
              "      spin 1s steps(1) infinite;\n",
              "  }\n",
              "\n",
              "  @keyframes spin {\n",
              "    0% {\n",
              "      border-color: transparent;\n",
              "      border-bottom-color: var(--fill-color);\n",
              "      border-left-color: var(--fill-color);\n",
              "    }\n",
              "    20% {\n",
              "      border-color: transparent;\n",
              "      border-left-color: var(--fill-color);\n",
              "      border-top-color: var(--fill-color);\n",
              "    }\n",
              "    30% {\n",
              "      border-color: transparent;\n",
              "      border-left-color: var(--fill-color);\n",
              "      border-top-color: var(--fill-color);\n",
              "      border-right-color: var(--fill-color);\n",
              "    }\n",
              "    40% {\n",
              "      border-color: transparent;\n",
              "      border-right-color: var(--fill-color);\n",
              "      border-top-color: var(--fill-color);\n",
              "    }\n",
              "    60% {\n",
              "      border-color: transparent;\n",
              "      border-right-color: var(--fill-color);\n",
              "    }\n",
              "    80% {\n",
              "      border-color: transparent;\n",
              "      border-right-color: var(--fill-color);\n",
              "      border-bottom-color: var(--fill-color);\n",
              "    }\n",
              "    90% {\n",
              "      border-color: transparent;\n",
              "      border-bottom-color: var(--fill-color);\n",
              "    }\n",
              "  }\n",
              "</style>\n",
              "\n",
              "      <script>\n",
              "        async function quickchart(key) {\n",
              "          const quickchartButtonEl =\n",
              "            document.querySelector('#' + key + ' button');\n",
              "          quickchartButtonEl.disabled = true;  // To prevent multiple clicks.\n",
              "          quickchartButtonEl.classList.add('colab-df-spinner');\n",
              "          try {\n",
              "            const charts = await google.colab.kernel.invokeFunction(\n",
              "                'suggestCharts', [key], {});\n",
              "          } catch (error) {\n",
              "            console.error('Error during call to suggestCharts:', error);\n",
              "          }\n",
              "          quickchartButtonEl.classList.remove('colab-df-spinner');\n",
              "          quickchartButtonEl.classList.add('colab-df-quickchart-complete');\n",
              "        }\n",
              "        (() => {\n",
              "          let quickchartButtonEl =\n",
              "            document.querySelector('#df-19bcd340-4250-4e57-b132-1e90fd5c273d button');\n",
              "          quickchartButtonEl.style.display =\n",
              "            google.colab.kernel.accessAllowed ? 'block' : 'none';\n",
              "        })();\n",
              "      </script>\n",
              "    </div>\n",
              "\n",
              "    </div>\n",
              "  </div>\n"
            ],
            "application/vnd.google.colaboratory.intrinsic+json": {
              "type": "dataframe",
              "variable_name": "fake_df",
              "summary": "{\n  \"name\": \"fake_df\",\n  \"rows\": 23481,\n  \"fields\": [\n    {\n      \"column\": \"title\",\n      \"properties\": {\n        \"dtype\": \"string\",\n        \"num_unique_values\": 17903,\n        \"samples\": [\n          \" Fox News Mocked Into Oblivion After This F*cking STUPID Attempt To Make Steve Bannon Look Sane (TWEETS)\",\n          \"BREAKING: FL GOV RICK SCOTT Calls for FBI Director to Resign\",\n          \" WATCH: Mike Pence\\u2019s Photo Op With Puerto Rico Survivors Just Went TERRIBLY Wrong (VIDEO)\"\n        ],\n        \"semantic_type\": \"\",\n        \"description\": \"\"\n      }\n    },\n    {\n      \"column\": \"text\",\n      \"properties\": {\n        \"dtype\": \"string\",\n        \"num_unique_values\": 17455,\n        \"samples\": [\n          \"The moral decay continues The Kapiolani Medical Center for Women and Children at the University of Hawaii is currently recruiting pregnant girls and women to participate in second-trimester abortions to measure their bleeding during the operation, with and without antihemorrhagic drugs. According to the Clinical Trials website, run by the National Institutes of Health, participants must be at least 14 years old and 18-24 weeks pregnant.The controversial study, led by Bliss Kaneshiro, MD and Kate Whitehouse, DO, will monitor bleeding during D&E abortions to determine the effects of the drug oxytocin, commonly used to minimize blood loss and decrease the risk of hemorrhage.The clinical trial, called  Effects of Oxytocin on Bleeding Outcomes during Dilation and Evacuation  began in October 2014 and is a collaboration between UH, Society of Family Planning and the University of Washington.The Society of Family Planning funds a number of similar research projects, such as experimenting with the dosage of Misoprostol, a uterine contracting agent, prior to surgical abortions at 13-18 weeks and exploring umbilical cord injections to produce fetal death prior to late-term abortions.In the UH study, researchers will carry out a  randomized, double-blinded, placebo-controlled trials,  to determine the effect of oxytocin s use on uterine bleeding, meaning that they will either provide or deny intravenous oxytocin to the women.Reports suggest that some doctors are concerned that withholding oxytocin during surgery may put patients, especially teen girls, at risk. This study is reminiscent of Nazi concentration camp experiments. I pity the poor women who are being treated like lab rats, especially those who are denied the drug to reduce hemorrhaging,  said Troy Newman, President of Operation Rescue.Dilation and evacuation abortions are surgical procedures that involve dismembering the pre-born baby with forceps, scraping the inside of the uterus with a curette to remove any residuals and finally suctioning out the womb to make sure the contents are completely removed.After the abortion, the corpse of the fetus is reassembled and examined to ensure everything was successfully removed and that the abortion was complete.The study is hoping to attract up to 166 test subjects and is expected to conclude in July 2015.Via: Breitbart News\",\n          \"CNN was quick to scoop up Corey Lewandowski after Donald Trump kicked him out of his role as campaign manager, but his first week on the job is going pretty much exactly how you would expect it to go   terribly.Not only has Lewandowski proven himself to be pretty much like a paid spokesman for Trump, but his defense of the disgraced GOP candidate isn t being received well. Earlier this week, Lewandowski revealed that he was under contract and couldn t criticize The Donald, even after being fired from the campaign. Today, Lewandowski got called out by Hillary Clinton surrogate Christine Quinn for hyping Trump up to be an expert on the Brexit decision   a suggestion that was clearly false.On Monday s edition of CNN s New Day, Lewandowski made another pathetic defense of Trump by trying to reframe the candidate s disgusting reaction to Brexit, where he mostly spoke about how much the decision would be good for his Scotland golf resort. Lewandowski s defense was: Obviously the U.S. dollar has become much stronger now against the British pound. If you re going to spend money in Europe, now would actually be a good time to go with the fall of the pound.What you have is a world view, so what you have is someone who is saying,  Let s look at this from the U.S. perspective. If you want to go and travel overseas   just from a monetary perspective   now is the right time to do that because what you re getting is more for your dollar. Quinn wasn t having it. She ripped into Lewandowski, firing back, Donald Trump is not running to be travel agent of the world, he s running to be president of the United States.  She continued: What he said wasn t a commentary on international markets, it was,  When the pound goes down, more people will come to my golf course. Donald Trump s main concern isn t the international markets, it isn t the impact that Brexit will have on hard working Americans  401Ks, it s himself. How can he make more money, how can he put more money in his bank account? Lewandowski compared the Brexit decision to Trump s rise in the GOP, and Quinn once again called him out and put him back in his place. She said: Trump touted that he saw this coming. That s ridiculous because when he was first asked about Brexit by the press, he didn t appear to know what it was. Lewandowski tried to counter by insisting that People are too smart, they are tired of being told what to do.  He then tried to commend Trump for being a selfish moron: You know what Donald Trump said about Brexit? What he said was, you don t have to listen to me because it s not my decision. He didn t weigh in like Hillary Clinton did, like Barack Obama did, saying that you can t do this. Quinn fought back, Because he didn t know what it was. Lewandowski was fighting a losing battle. Trump s reaction to Brexit was just as terrifying as it was humorous   it truly proved that Trump knows nothing about foreign affairs, and hasn t spent any time educating himself since the beginning of his presidential candidacy. If only some of the hours he spent getting into fights on Twitter were being used for learning about how the world works. But instead, he once again exposed himself as an unfit choice for President. And when people like Lewandowski try to make sense of his idiocy, they only make themselves look equally foolish.You can watch the embarrassing video below:Featured image via screen capture\",\n          \"A Michigan woman decided to defend against tyranny? when she and another shopper couldn t agree over who got to buy the last notebook on the shelf at the Novi Towne Center store.According to ABC 13, the brawl   yes, brawl    involved two Farmington Hills residents, ages 46 and 32, and a mother and daughter from South Lyon, ages 51 and 20. In other words, these were all grown adults who should have known better but hey   there was only one notebook on the shelf, and we ve all seen what happens in those post-apocalyptic movies when a store is down to the last gallon of milk, right?Two of the women, one of whom was the unnamed 20-year-old, reached for the notebook at the same time. The 46 and 32-year-olds apparently decided that she wasn t getting their goddamn notebook and began pulling her hair.Then, because this had almost hit peak  trailer park,  the 20-year-old s mother decided to go for bonus points by pulling out her gun. Fortunately, someone pushed her aside before she could do any harm.This is one of the NRA s  responsible gun owners  (conservatives can t dismiss this one, as it is confirmed that she is a concealed carry permit holder)   ready to leap into action at the most minor sign of danger and make things worse by turning the situation potentially deadly.Watch it happen below:Featured image via screengrab\"\n        ],\n        \"semantic_type\": \"\",\n        \"description\": \"\"\n      }\n    },\n    {\n      \"column\": \"subject\",\n      \"properties\": {\n        \"dtype\": \"category\",\n        \"num_unique_values\": 6,\n        \"samples\": [\n          \"News\",\n          \"politics\",\n          \"Middle-east\"\n        ],\n        \"semantic_type\": \"\",\n        \"description\": \"\"\n      }\n    },\n    {\n      \"column\": \"date\",\n      \"properties\": {\n        \"dtype\": \"category\",\n        \"num_unique_values\": 1681,\n        \"samples\": [\n          \"Jun 5, 2015\",\n          \"August 28, 2016\",\n          \"June 3, 2017\"\n        ],\n        \"semantic_type\": \"\",\n        \"description\": \"\"\n      }\n    }\n  ]\n}"
            }
          },
          "metadata": {},
          "execution_count": 8
        }
      ]
    },
    {
      "cell_type": "markdown",
      "source": [
        "Check missing values in each dataset"
      ],
      "metadata": {
        "id": "qkPHnp--YjCt"
      }
    },
    {
      "cell_type": "code",
      "source": [
        "print(\"Null value on each data set: \")\n",
        "print(\"True news file:\\n\", true_df.isnull().sum())\n",
        "print(\"Fake news file:\\n\", fake_df.isnull().sum())\n",
        "# Siying Comment:\n",
        "# We know from the inspection that there is no null value on the data set so we don't need to worry about the null value.\n",
        "\n",
        "print(\"\\nEmpty strings check:\")\n",
        "print(\"True news empty text:\", (true_df['text'].str.strip() == '').sum())\n",
        "print(\"Fake news empty text:\", (fake_df['text'].str.strip() == '').sum())\n",
        "# Siying Comment:\n",
        "# However, there is no null value in the dataset does not means there is no empty string on the data set.\n",
        "# And here we did find some rows with empty string in the 'text' feature.\n",
        "# My suggestion is we can simply delete the rows with empty string since it will not provide any useful information for the model.\n",
        "\n",
        "print(\"\\nVery short text:\")\n",
        "print(\"True news < 10 chars:\", (true_df['text'].str.len() < 10).sum())\n",
        "print(\"Fake news < 10 chars:\", (fake_df['text'].str.len() < 10).sum())\n",
        "# Siying Comment:\n",
        "# Also, I found some data set with very short string length, I'm quite worried about if it will provide us sufficient information to train the model.\n",
        "# Since Chinyere will be focus on punctuation and sentence length, I think I will leave this question to her that how should we handle this, keep them or drop them.\n",
        "# # For now, I will remove texts with less than 10 characters since they cannot provide meaningful features for us\n",
        "\n",
        "# Siying Summary:\n",
        "# Fake news dataset has 630 empty strings and 651 very short texts. These numbers are very close, which indicates that the most of short texts are actually empty strings.\n",
        "# Also, notice the disparity in terms of empty strings and short texts:\n",
        "# - True news: 1 empty string, 1 very short text\n",
        "#             (can indicates that the very short text is the empty string, which means that true news does not has short text problems)\n",
        "# - Fake news: 630 empty string, 651 very short text, which means 21 very short texts\n",
        "# It indicates an important differences between real and fake news sources, which could be a distinguishing feature that we can pay attention to."
      ],
      "metadata": {
        "colab": {
          "base_uri": "https://localhost:8080/"
        },
        "id": "-Dc8ZB9nYjm2",
        "outputId": "5ed4e9b9-83c7-4d1f-eda9-07e2d657fe2c"
      },
      "execution_count": 9,
      "outputs": [
        {
          "output_type": "stream",
          "name": "stdout",
          "text": [
            "Null value on each data set: \n",
            "True news file:\n",
            " title      0\n",
            "text       0\n",
            "subject    0\n",
            "date       0\n",
            "dtype: int64\n",
            "Fake news file:\n",
            " title      0\n",
            "text       0\n",
            "subject    0\n",
            "date       0\n",
            "dtype: int64\n",
            "\n",
            "Empty strings check:\n",
            "True news empty text: 1\n",
            "Fake news empty text: 630\n",
            "\n",
            "Very short text:\n",
            "True news < 10 chars: 1\n",
            "Fake news < 10 chars: 651\n"
          ]
        }
      ]
    },
    {
      "cell_type": "markdown",
      "source": [
        "Remove empty string and very short text from each dataset"
      ],
      "metadata": {
        "id": "rV21u_SGtKK4"
      }
    },
    {
      "cell_type": "code",
      "source": [
        "# Remove empty string and very short text from true news data set\n",
        "true_nonempty_df = true_df[(true_df['text'].str.strip() != '') & (true_df['text'].str.len() >= 10)].copy()\n",
        "# Remove empty string and very short text from fake news data set\n",
        "fake_nonempty_df = fake_df[(fake_df['text'].str.strip() != '') & (fake_df['text'].str.len() >= 10)].copy()\n",
        "\n",
        "print(\"After removing empty string and very short text\")\n",
        "print(f\"Ture news size: {len(true_nonempty_df)}(removed {len(true_df) - len(true_nonempty_df)} rows)\")\n",
        "print(f\"Fake news size: {len(fake_nonempty_df)}(removed {len(fake_df) - len(fake_nonempty_df)} rows)\")"
      ],
      "metadata": {
        "colab": {
          "base_uri": "https://localhost:8080/"
        },
        "id": "8XZpCCN0tJQj",
        "outputId": "04d1461d-a035-44e1-b8ed-52ab9447b40c"
      },
      "execution_count": 10,
      "outputs": [
        {
          "output_type": "stream",
          "name": "stdout",
          "text": [
            "After removing empty string and very short text\n",
            "Ture news size: 21416(removed 1 rows)\n",
            "Fake news size: 22830(removed 651 rows)\n"
          ]
        }
      ]
    },
    {
      "cell_type": "markdown",
      "source": [
        "Check for completely duplicate rows in each dataset"
      ],
      "metadata": {
        "id": "nFYZhYgbYuNT"
      }
    },
    {
      "cell_type": "code",
      "source": [
        "# Check for completely duplicate articles (which means includes title, text, subject, and date)\n",
        "print(\"True Dataframe -- Number of duplicate rows:\")\n",
        "print(true_nonempty_df.duplicated().sum())\n",
        "print(\"Fake Dataframe -- Number of duplicate rows:\")\n",
        "print(fake_nonempty_df.duplicated().sum())\n",
        "\n",
        "# Siying Comment:\n",
        "# Found 206 duplicate rows in real news and 3 in fake news datasets. These are completely identical articles (same title, text, subject, and date).\n",
        "# Duplicate rows can lead to:\n",
        "# 1. overfitting,\n",
        "# 2. give undue weight to our model\n",
        "# 3. bias on our feature analysis\n",
        "# 4. more conputational cost\n",
        "# Thus, I suggest that we should remove the duplicate rows to ensure our data is clean and unbiasd."
      ],
      "metadata": {
        "colab": {
          "base_uri": "https://localhost:8080/"
        },
        "id": "v-tGZuIZrykZ",
        "outputId": "6e72cca6-1078-4730-e193-3a85477ce6d7"
      },
      "execution_count": 11,
      "outputs": [
        {
          "output_type": "stream",
          "name": "stdout",
          "text": [
            "True Dataframe -- Number of duplicate rows:\n",
            "206\n",
            "Fake Dataframe -- Number of duplicate rows:\n",
            "3\n"
          ]
        }
      ]
    },
    {
      "cell_type": "markdown",
      "source": [
        "Remove completely duplicate rows from each dataset"
      ],
      "metadata": {
        "id": "qjrXavhmYv52"
      }
    },
    {
      "cell_type": "code",
      "source": [
        "# Remove completely duplicate articles\n",
        "true_no_duplicates_df = true_nonempty_df.drop_duplicates().copy()\n",
        "print(f\"Remove {len(true_nonempty_df) - len(true_no_duplicates_df)} dulplicate rows\")\n",
        "fake_no_duplicates_df = fake_nonempty_df.drop_duplicates().copy()\n",
        "print(f\"Remove {len(fake_nonempty_df) - len(fake_no_duplicates_df)} dulplicate rows\")"
      ],
      "metadata": {
        "colab": {
          "base_uri": "https://localhost:8080/"
        },
        "id": "YMVaafxYs3Ro",
        "outputId": "aa33dba3-4e79-4fe0-fd4f-dbf725766e33"
      },
      "execution_count": 12,
      "outputs": [
        {
          "output_type": "stream",
          "name": "stdout",
          "text": [
            "Remove 206 dulplicate rows\n",
            "Remove 3 dulplicate rows\n"
          ]
        }
      ]
    },
    {
      "cell_type": "markdown",
      "source": [
        "## Merge and cross-check"
      ],
      "metadata": {
        "id": "ZiR7iTpW2fPZ"
      }
    },
    {
      "cell_type": "markdown",
      "source": [
        "Add labels to each cleaned dataset"
      ],
      "metadata": {
        "id": "3aYYbTfU3OMO"
      }
    },
    {
      "cell_type": "code",
      "source": [
        "# Add labels before merging\n",
        "true_no_duplicates_df['label'] = 'TRUE'\n",
        "fake_no_duplicates_df['label'] = 'FAKE'"
      ],
      "metadata": {
        "id": "fybj8Vnj2hcC"
      },
      "execution_count": 13,
      "outputs": []
    },
    {
      "cell_type": "markdown",
      "source": [
        "Merge datasets into combined dataframe"
      ],
      "metadata": {
        "id": "eVJ83kEr3RnJ"
      }
    },
    {
      "cell_type": "code",
      "source": [
        "# Merge the cleaned data sets\n",
        "merged_df = pd.concat([true_no_duplicates_df, fake_no_duplicates_df], ignore_index=True)"
      ],
      "metadata": {
        "id": "bkQDJhi03Uvl"
      },
      "execution_count": 14,
      "outputs": []
    },
    {
      "cell_type": "markdown",
      "source": [
        "Merged Data Set Inspection"
      ],
      "metadata": {
        "id": "UcPLUM0z3GVu"
      }
    },
    {
      "cell_type": "code",
      "source": [
        "# Check Merged Data Sets\n",
        "print(\"Combined dataset shape:\", merged_df.shape)\n",
        "print(\"Label counts:\")\n",
        "print(merged_df['label'].value_counts())\n",
        "\n",
        "print(\"\\nMerge Data Set Preview: \")\n",
        "merged_df.head(10)"
      ],
      "metadata": {
        "colab": {
          "base_uri": "https://localhost:8080/",
          "height": 501
        },
        "id": "cvTBi1343FzH",
        "outputId": "1630015d-3587-4fc2-824b-6fb83762ae50"
      },
      "execution_count": 15,
      "outputs": [
        {
          "output_type": "stream",
          "name": "stdout",
          "text": [
            "Combined dataset shape: (44037, 5)\n",
            "Label counts:\n",
            "label\n",
            "FAKE    22827\n",
            "TRUE    21210\n",
            "Name: count, dtype: int64\n",
            "\n",
            "Merge Data Set Preview: \n"
          ]
        },
        {
          "output_type": "execute_result",
          "data": {
            "text/plain": [
              "                                               title  \\\n",
              "0  As U.S. budget fight looms, Republicans flip t...   \n",
              "1  U.S. military to accept transgender recruits o...   \n",
              "2  Senior U.S. Republican senator: 'Let Mr. Muell...   \n",
              "3  FBI Russia probe helped by Australian diplomat...   \n",
              "4  Trump wants Postal Service to charge 'much mor...   \n",
              "5  White House, Congress prepare for talks on spe...   \n",
              "6  Trump says Russia probe will be fair, but time...   \n",
              "7  Factbox: Trump on Twitter (Dec 29) - Approval ...   \n",
              "8         Trump on Twitter (Dec 28) - Global Warming   \n",
              "9  Alabama official to certify Senator-elect Jone...   \n",
              "\n",
              "                                                text       subject  \\\n",
              "0  WASHINGTON (Reuters) - The head of a conservat...  politicsNews   \n",
              "1  WASHINGTON (Reuters) - Transgender people will...  politicsNews   \n",
              "2  WASHINGTON (Reuters) - The special counsel inv...  politicsNews   \n",
              "3  WASHINGTON (Reuters) - Trump campaign adviser ...  politicsNews   \n",
              "4  SEATTLE/WASHINGTON (Reuters) - President Donal...  politicsNews   \n",
              "5  WEST PALM BEACH, Fla./WASHINGTON (Reuters) - T...  politicsNews   \n",
              "6  WEST PALM BEACH, Fla (Reuters) - President Don...  politicsNews   \n",
              "7  The following statements were posted to the ve...  politicsNews   \n",
              "8  The following statements were posted to the ve...  politicsNews   \n",
              "9  WASHINGTON (Reuters) - Alabama Secretary of St...  politicsNews   \n",
              "\n",
              "                 date label  \n",
              "0  December 31, 2017   TRUE  \n",
              "1  December 29, 2017   TRUE  \n",
              "2  December 31, 2017   TRUE  \n",
              "3  December 30, 2017   TRUE  \n",
              "4  December 29, 2017   TRUE  \n",
              "5  December 29, 2017   TRUE  \n",
              "6  December 29, 2017   TRUE  \n",
              "7  December 29, 2017   TRUE  \n",
              "8  December 29, 2017   TRUE  \n",
              "9  December 28, 2017   TRUE  "
            ],
            "text/html": [
              "\n",
              "  <div id=\"df-2085412f-ced7-4fc3-a0e3-1cfcfb67d33f\" class=\"colab-df-container\">\n",
              "    <div>\n",
              "<style scoped>\n",
              "    .dataframe tbody tr th:only-of-type {\n",
              "        vertical-align: middle;\n",
              "    }\n",
              "\n",
              "    .dataframe tbody tr th {\n",
              "        vertical-align: top;\n",
              "    }\n",
              "\n",
              "    .dataframe thead th {\n",
              "        text-align: right;\n",
              "    }\n",
              "</style>\n",
              "<table border=\"1\" class=\"dataframe\">\n",
              "  <thead>\n",
              "    <tr style=\"text-align: right;\">\n",
              "      <th></th>\n",
              "      <th>title</th>\n",
              "      <th>text</th>\n",
              "      <th>subject</th>\n",
              "      <th>date</th>\n",
              "      <th>label</th>\n",
              "    </tr>\n",
              "  </thead>\n",
              "  <tbody>\n",
              "    <tr>\n",
              "      <th>0</th>\n",
              "      <td>As U.S. budget fight looms, Republicans flip t...</td>\n",
              "      <td>WASHINGTON (Reuters) - The head of a conservat...</td>\n",
              "      <td>politicsNews</td>\n",
              "      <td>December 31, 2017</td>\n",
              "      <td>TRUE</td>\n",
              "    </tr>\n",
              "    <tr>\n",
              "      <th>1</th>\n",
              "      <td>U.S. military to accept transgender recruits o...</td>\n",
              "      <td>WASHINGTON (Reuters) - Transgender people will...</td>\n",
              "      <td>politicsNews</td>\n",
              "      <td>December 29, 2017</td>\n",
              "      <td>TRUE</td>\n",
              "    </tr>\n",
              "    <tr>\n",
              "      <th>2</th>\n",
              "      <td>Senior U.S. Republican senator: 'Let Mr. Muell...</td>\n",
              "      <td>WASHINGTON (Reuters) - The special counsel inv...</td>\n",
              "      <td>politicsNews</td>\n",
              "      <td>December 31, 2017</td>\n",
              "      <td>TRUE</td>\n",
              "    </tr>\n",
              "    <tr>\n",
              "      <th>3</th>\n",
              "      <td>FBI Russia probe helped by Australian diplomat...</td>\n",
              "      <td>WASHINGTON (Reuters) - Trump campaign adviser ...</td>\n",
              "      <td>politicsNews</td>\n",
              "      <td>December 30, 2017</td>\n",
              "      <td>TRUE</td>\n",
              "    </tr>\n",
              "    <tr>\n",
              "      <th>4</th>\n",
              "      <td>Trump wants Postal Service to charge 'much mor...</td>\n",
              "      <td>SEATTLE/WASHINGTON (Reuters) - President Donal...</td>\n",
              "      <td>politicsNews</td>\n",
              "      <td>December 29, 2017</td>\n",
              "      <td>TRUE</td>\n",
              "    </tr>\n",
              "    <tr>\n",
              "      <th>5</th>\n",
              "      <td>White House, Congress prepare for talks on spe...</td>\n",
              "      <td>WEST PALM BEACH, Fla./WASHINGTON (Reuters) - T...</td>\n",
              "      <td>politicsNews</td>\n",
              "      <td>December 29, 2017</td>\n",
              "      <td>TRUE</td>\n",
              "    </tr>\n",
              "    <tr>\n",
              "      <th>6</th>\n",
              "      <td>Trump says Russia probe will be fair, but time...</td>\n",
              "      <td>WEST PALM BEACH, Fla (Reuters) - President Don...</td>\n",
              "      <td>politicsNews</td>\n",
              "      <td>December 29, 2017</td>\n",
              "      <td>TRUE</td>\n",
              "    </tr>\n",
              "    <tr>\n",
              "      <th>7</th>\n",
              "      <td>Factbox: Trump on Twitter (Dec 29) - Approval ...</td>\n",
              "      <td>The following statements were posted to the ve...</td>\n",
              "      <td>politicsNews</td>\n",
              "      <td>December 29, 2017</td>\n",
              "      <td>TRUE</td>\n",
              "    </tr>\n",
              "    <tr>\n",
              "      <th>8</th>\n",
              "      <td>Trump on Twitter (Dec 28) - Global Warming</td>\n",
              "      <td>The following statements were posted to the ve...</td>\n",
              "      <td>politicsNews</td>\n",
              "      <td>December 29, 2017</td>\n",
              "      <td>TRUE</td>\n",
              "    </tr>\n",
              "    <tr>\n",
              "      <th>9</th>\n",
              "      <td>Alabama official to certify Senator-elect Jone...</td>\n",
              "      <td>WASHINGTON (Reuters) - Alabama Secretary of St...</td>\n",
              "      <td>politicsNews</td>\n",
              "      <td>December 28, 2017</td>\n",
              "      <td>TRUE</td>\n",
              "    </tr>\n",
              "  </tbody>\n",
              "</table>\n",
              "</div>\n",
              "    <div class=\"colab-df-buttons\">\n",
              "\n",
              "  <div class=\"colab-df-container\">\n",
              "    <button class=\"colab-df-convert\" onclick=\"convertToInteractive('df-2085412f-ced7-4fc3-a0e3-1cfcfb67d33f')\"\n",
              "            title=\"Convert this dataframe to an interactive table.\"\n",
              "            style=\"display:none;\">\n",
              "\n",
              "  <svg xmlns=\"http://www.w3.org/2000/svg\" height=\"24px\" viewBox=\"0 -960 960 960\">\n",
              "    <path d=\"M120-120v-720h720v720H120Zm60-500h600v-160H180v160Zm220 220h160v-160H400v160Zm0 220h160v-160H400v160ZM180-400h160v-160H180v160Zm440 0h160v-160H620v160ZM180-180h160v-160H180v160Zm440 0h160v-160H620v160Z\"/>\n",
              "  </svg>\n",
              "    </button>\n",
              "\n",
              "  <style>\n",
              "    .colab-df-container {\n",
              "      display:flex;\n",
              "      gap: 12px;\n",
              "    }\n",
              "\n",
              "    .colab-df-convert {\n",
              "      background-color: #E8F0FE;\n",
              "      border: none;\n",
              "      border-radius: 50%;\n",
              "      cursor: pointer;\n",
              "      display: none;\n",
              "      fill: #1967D2;\n",
              "      height: 32px;\n",
              "      padding: 0 0 0 0;\n",
              "      width: 32px;\n",
              "    }\n",
              "\n",
              "    .colab-df-convert:hover {\n",
              "      background-color: #E2EBFA;\n",
              "      box-shadow: 0px 1px 2px rgba(60, 64, 67, 0.3), 0px 1px 3px 1px rgba(60, 64, 67, 0.15);\n",
              "      fill: #174EA6;\n",
              "    }\n",
              "\n",
              "    .colab-df-buttons div {\n",
              "      margin-bottom: 4px;\n",
              "    }\n",
              "\n",
              "    [theme=dark] .colab-df-convert {\n",
              "      background-color: #3B4455;\n",
              "      fill: #D2E3FC;\n",
              "    }\n",
              "\n",
              "    [theme=dark] .colab-df-convert:hover {\n",
              "      background-color: #434B5C;\n",
              "      box-shadow: 0px 1px 3px 1px rgba(0, 0, 0, 0.15);\n",
              "      filter: drop-shadow(0px 1px 2px rgba(0, 0, 0, 0.3));\n",
              "      fill: #FFFFFF;\n",
              "    }\n",
              "  </style>\n",
              "\n",
              "    <script>\n",
              "      const buttonEl =\n",
              "        document.querySelector('#df-2085412f-ced7-4fc3-a0e3-1cfcfb67d33f button.colab-df-convert');\n",
              "      buttonEl.style.display =\n",
              "        google.colab.kernel.accessAllowed ? 'block' : 'none';\n",
              "\n",
              "      async function convertToInteractive(key) {\n",
              "        const element = document.querySelector('#df-2085412f-ced7-4fc3-a0e3-1cfcfb67d33f');\n",
              "        const dataTable =\n",
              "          await google.colab.kernel.invokeFunction('convertToInteractive',\n",
              "                                                    [key], {});\n",
              "        if (!dataTable) return;\n",
              "\n",
              "        const docLinkHtml = 'Like what you see? Visit the ' +\n",
              "          '<a target=\"_blank\" href=https://colab.research.google.com/notebooks/data_table.ipynb>data table notebook</a>'\n",
              "          + ' to learn more about interactive tables.';\n",
              "        element.innerHTML = '';\n",
              "        dataTable['output_type'] = 'display_data';\n",
              "        await google.colab.output.renderOutput(dataTable, element);\n",
              "        const docLink = document.createElement('div');\n",
              "        docLink.innerHTML = docLinkHtml;\n",
              "        element.appendChild(docLink);\n",
              "      }\n",
              "    </script>\n",
              "  </div>\n",
              "\n",
              "\n",
              "    <div id=\"df-a9b56a9b-43e8-4dca-bbec-2d9b4637d580\">\n",
              "      <button class=\"colab-df-quickchart\" onclick=\"quickchart('df-a9b56a9b-43e8-4dca-bbec-2d9b4637d580')\"\n",
              "                title=\"Suggest charts\"\n",
              "                style=\"display:none;\">\n",
              "\n",
              "<svg xmlns=\"http://www.w3.org/2000/svg\" height=\"24px\"viewBox=\"0 0 24 24\"\n",
              "     width=\"24px\">\n",
              "    <g>\n",
              "        <path d=\"M19 3H5c-1.1 0-2 .9-2 2v14c0 1.1.9 2 2 2h14c1.1 0 2-.9 2-2V5c0-1.1-.9-2-2-2zM9 17H7v-7h2v7zm4 0h-2V7h2v10zm4 0h-2v-4h2v4z\"/>\n",
              "    </g>\n",
              "</svg>\n",
              "      </button>\n",
              "\n",
              "<style>\n",
              "  .colab-df-quickchart {\n",
              "      --bg-color: #E8F0FE;\n",
              "      --fill-color: #1967D2;\n",
              "      --hover-bg-color: #E2EBFA;\n",
              "      --hover-fill-color: #174EA6;\n",
              "      --disabled-fill-color: #AAA;\n",
              "      --disabled-bg-color: #DDD;\n",
              "  }\n",
              "\n",
              "  [theme=dark] .colab-df-quickchart {\n",
              "      --bg-color: #3B4455;\n",
              "      --fill-color: #D2E3FC;\n",
              "      --hover-bg-color: #434B5C;\n",
              "      --hover-fill-color: #FFFFFF;\n",
              "      --disabled-bg-color: #3B4455;\n",
              "      --disabled-fill-color: #666;\n",
              "  }\n",
              "\n",
              "  .colab-df-quickchart {\n",
              "    background-color: var(--bg-color);\n",
              "    border: none;\n",
              "    border-radius: 50%;\n",
              "    cursor: pointer;\n",
              "    display: none;\n",
              "    fill: var(--fill-color);\n",
              "    height: 32px;\n",
              "    padding: 0;\n",
              "    width: 32px;\n",
              "  }\n",
              "\n",
              "  .colab-df-quickchart:hover {\n",
              "    background-color: var(--hover-bg-color);\n",
              "    box-shadow: 0 1px 2px rgba(60, 64, 67, 0.3), 0 1px 3px 1px rgba(60, 64, 67, 0.15);\n",
              "    fill: var(--button-hover-fill-color);\n",
              "  }\n",
              "\n",
              "  .colab-df-quickchart-complete:disabled,\n",
              "  .colab-df-quickchart-complete:disabled:hover {\n",
              "    background-color: var(--disabled-bg-color);\n",
              "    fill: var(--disabled-fill-color);\n",
              "    box-shadow: none;\n",
              "  }\n",
              "\n",
              "  .colab-df-spinner {\n",
              "    border: 2px solid var(--fill-color);\n",
              "    border-color: transparent;\n",
              "    border-bottom-color: var(--fill-color);\n",
              "    animation:\n",
              "      spin 1s steps(1) infinite;\n",
              "  }\n",
              "\n",
              "  @keyframes spin {\n",
              "    0% {\n",
              "      border-color: transparent;\n",
              "      border-bottom-color: var(--fill-color);\n",
              "      border-left-color: var(--fill-color);\n",
              "    }\n",
              "    20% {\n",
              "      border-color: transparent;\n",
              "      border-left-color: var(--fill-color);\n",
              "      border-top-color: var(--fill-color);\n",
              "    }\n",
              "    30% {\n",
              "      border-color: transparent;\n",
              "      border-left-color: var(--fill-color);\n",
              "      border-top-color: var(--fill-color);\n",
              "      border-right-color: var(--fill-color);\n",
              "    }\n",
              "    40% {\n",
              "      border-color: transparent;\n",
              "      border-right-color: var(--fill-color);\n",
              "      border-top-color: var(--fill-color);\n",
              "    }\n",
              "    60% {\n",
              "      border-color: transparent;\n",
              "      border-right-color: var(--fill-color);\n",
              "    }\n",
              "    80% {\n",
              "      border-color: transparent;\n",
              "      border-right-color: var(--fill-color);\n",
              "      border-bottom-color: var(--fill-color);\n",
              "    }\n",
              "    90% {\n",
              "      border-color: transparent;\n",
              "      border-bottom-color: var(--fill-color);\n",
              "    }\n",
              "  }\n",
              "</style>\n",
              "\n",
              "      <script>\n",
              "        async function quickchart(key) {\n",
              "          const quickchartButtonEl =\n",
              "            document.querySelector('#' + key + ' button');\n",
              "          quickchartButtonEl.disabled = true;  // To prevent multiple clicks.\n",
              "          quickchartButtonEl.classList.add('colab-df-spinner');\n",
              "          try {\n",
              "            const charts = await google.colab.kernel.invokeFunction(\n",
              "                'suggestCharts', [key], {});\n",
              "          } catch (error) {\n",
              "            console.error('Error during call to suggestCharts:', error);\n",
              "          }\n",
              "          quickchartButtonEl.classList.remove('colab-df-spinner');\n",
              "          quickchartButtonEl.classList.add('colab-df-quickchart-complete');\n",
              "        }\n",
              "        (() => {\n",
              "          let quickchartButtonEl =\n",
              "            document.querySelector('#df-a9b56a9b-43e8-4dca-bbec-2d9b4637d580 button');\n",
              "          quickchartButtonEl.style.display =\n",
              "            google.colab.kernel.accessAllowed ? 'block' : 'none';\n",
              "        })();\n",
              "      </script>\n",
              "    </div>\n",
              "\n",
              "    </div>\n",
              "  </div>\n"
            ],
            "application/vnd.google.colaboratory.intrinsic+json": {
              "type": "dataframe",
              "variable_name": "merged_df",
              "summary": "{\n  \"name\": \"merged_df\",\n  \"rows\": 44037,\n  \"fields\": [\n    {\n      \"column\": \"title\",\n      \"properties\": {\n        \"dtype\": \"string\",\n        \"num_unique_values\": 38270,\n        \"samples\": [\n          \"Russia to amend law to classify U.S. media 'foreign agents'\",\n          \"Mali president wants U.S. to reverse Chad travel ban\",\n          \" Sorry, Donald Trump, Ted Cruz\\u2019s Dad Probably Didn\\u2019t Kill John F. Kennedy (VIDEO)\"\n        ],\n        \"semantic_type\": \"\",\n        \"description\": \"\"\n      }\n    },\n    {\n      \"column\": \"text\",\n      \"properties\": {\n        \"dtype\": \"string\",\n        \"num_unique_values\": 38635,\n        \"samples\": [\n          \"WASHINGTON (Reuters) - Republican presidential candidate Ted Cruz vowed to deport immigrants living illegally in the United States and build a wall to keep others out, sharpening his stance on the issue a week before presidential contests in several southern states. Cruz\\u2019s comments on the eve of Tuesday\\u2019s Nevada caucuses came hours after the public firing of his main spokesman over misleading social media postings involving rival Marco Rubio. Rubio won endorsements on Monday from prominent Republicans as he sought to become the party\\u2019s mainstream alternative to front-runner Donald Trump after Jeb Bush dropped out of the race for the 2016 Republican presidential nomination. Cruz was asked on Fox News\\u2019 \\u201cO\\u2019Reilly Factor\\u201d if he would round up the 12 million illegal aliens in the country, and how. \\u201cListen, we should enforce the law. How do we enforce the law?\\u00a0Yes, we should deport them.\\u00a0We should build a wall. We should triple the Border Patrol,\\u201d Cruz said. \\u201cAnd federal law requires that anyone here illegally that\\u2019s apprehended should be deported.\\u201d\\u00a0 Asked if he, like real estate tycoon Trump, would go out and look for them, Cruz replied, \\u201cOf course you would.\\u00a0That\\u2019s what ICE (Immigration and Customs Enforcement) exists for. We have law enforcement that looks for people who are violating the laws.\\u201d\\u00a0 The comments marked a shift from last month, when Cruz rejected sending authorities to find immigrants as \\u201cpolice state\\u201d tactics. \\u201cI don\\u2019t intend to send jackboots to knock on your door and every door in America. That\\u2019s not how we enforce the law for any crime,\\u201d Mr. Cruz told CNN in an interview on Jan. 10. Cruz has repeatedly criticized Rubio for having embraced a sweeping immigration reform bill he characterizes as amnesty.  Cruz and other Republican candidates vying to represent their party in the Nov. 8 presidential election have been under pressure to toughen their stance on immigration by Trump\\u2019s ferocious rhetoric on the issue. Trump responded to Cruz\\u2019s comments with a trademark Twitter taunt on Tuesday, referring the U.S. senator from Texas\\u2019 third-place finish in South Carolina\\u2019s primary on Saturday. \\u201cTed Cruz only talks tough on immigration now because he did so badly in S.C. He is in favor of amnesty and weak on illegal immigration,\\u201d Trump said. The New York billionaire has said he would deport all undocumented immigrants, build a wall and rescind U.S. President Barack Obama\\u2019s executive orders on immigration. \",\n          \"The following statements were posted to the verified Twitter accounts of U.S. President Donald Trump, @realDonaldTrump and @POTUS.  The opinions expressed are his own. Reuters has not edited the statements or confirmed their accuracy.  @realDonaldTrump : - Based on the fact that the very unfair and unpopular Individual Mandate has been terminated as part of our Tax Cut Bill, which essentially Repeals (over time) ObamaCare, the Democrats & Republicans will eventually come together and develop a great new HealthCare plan! [0658 EST] - WOW, @foxandfrlends  Dossier is bogus. Clinton Campaign, DNC funded Dossier. FBI CANNOT (after all of this time) VERIFY CLAIMS IN DOSSIER OF RUSSIA/TRUMP COLLUSION. FBI TAINTED.  And they used this Crooked Hillary pile of garbage as the basis for going after the Trump Campaign! [0824 EST] - All signs are that business is looking really good for next year, only to be helped further by our Tax Cut Bill. Will be a great year for Companies and JOBS! Stock Market is poised for another year of SUCCESS! [17:17 EST] -- Source link: (bit.ly/2jBh4LU) (bit.ly/2jpEXYR) \",\n          \"Tune in to the Alternate Current Radio Network (ACR) for another LIVE broadcast of  The Boiler Room tonight 6:00 PM PST | 8:00 PM CST | 9:00 PM EST for this special broadcast. Join us for uncensored, uninterruptible talk radio, custom-made for bar fly philosophers, misguided moralists, masochists, street corner evangelists, media-maniacs, savants, political animals and otherwise lovable rascals.Join ACR hosts Hesher and (Virtual) Spore along side Daniel Spaulding from Soul of the East, Andy Nowicki (the Alt Right Novelist) and FunkSoul & Randy J (21WIRE & ACR contributors), for the hundred and twenty first episode of BOILER ROOM. Turn it up, tune in and hang with the ACR Brain-Trust for this weeks boil downs and analysis and the usual gnashing of the teeth of the political animals in the social reject club.This week on the show the ACR Brain-Trust is back with another meeting of the Social Reject Club in the No Friends Left Zone and the gang is discussing a future dystopia full of sex robots that come complete with  shy  mode artificial intelligence aspects, Daniel Spaulding joins for an update on American swamp politics and to scoff away the  North Korea is a nuclear threat  propaganda. FunkSoul and Andy Nowicki bring their brands of analysis to the James Damore story and more.Direct Download Episode #121Please like and share the program and visit our donate page to get involved! Reference Links, for your consideration and research:\"\n        ],\n        \"semantic_type\": \"\",\n        \"description\": \"\"\n      }\n    },\n    {\n      \"column\": \"subject\",\n      \"properties\": {\n        \"dtype\": \"category\",\n        \"num_unique_values\": 8,\n        \"samples\": [\n          \"worldnews\",\n          \"left-news\",\n          \"politicsNews\"\n        ],\n        \"semantic_type\": \"\",\n        \"description\": \"\"\n      }\n    },\n    {\n      \"column\": \"date\",\n      \"properties\": {\n        \"dtype\": \"category\",\n        \"num_unique_values\": 2397,\n        \"samples\": [\n          \"October 12, 2016 \",\n          \"June 16, 2017 \",\n          \"Oct 30, 2017\"\n        ],\n        \"semantic_type\": \"\",\n        \"description\": \"\"\n      }\n    },\n    {\n      \"column\": \"label\",\n      \"properties\": {\n        \"dtype\": \"category\",\n        \"num_unique_values\": 2,\n        \"samples\": [\n          \"FAKE\",\n          \"TRUE\"\n        ],\n        \"semantic_type\": \"\",\n        \"description\": \"\"\n      }\n    }\n  ]\n}"
            }
          },
          "metadata": {},
          "execution_count": 15
        }
      ]
    },
    {
      "cell_type": "markdown",
      "source": [
        "Check for conflicting labels (same text, different labels)"
      ],
      "metadata": {
        "id": "i39DLQwi33V8"
      }
    },
    {
      "cell_type": "code",
      "source": [
        "# Check if same text has conflict labels\n",
        "# Groups all rows that have identical text content together, for each group, look at the 'label' column, count how many unique labels exist in each group\n",
        "text_label_counts = merged_df.groupby('text')['label'].nunique()\n",
        "# Only look at the groups that has more than 1 label\n",
        "conflicting_texts = text_label_counts[text_label_counts > 1]\n",
        "\n",
        "# If any conflict label found:\n",
        "if len(conflicting_texts) > 0:\n",
        "  for i, text in enumerate(conflicting_texts.index):\n",
        "    print(f\"\\n--- CONFLICT {i+1} ---\")\n",
        "    conflicting_rows = merged_df[merged_df['text'] == text]\n",
        "\n",
        "    print(\"Label counts for this article: \")\n",
        "    print(conflicting_rows['label'].value_counts())\n",
        "\n",
        "    print(f\"Text: {text}\")\n",
        "else:\n",
        "  print(\"No conflict labels found!\")\n",
        "\n",
        "# Siying Comment:\n",
        "# Found no conflicting labels, which means there are no articles with the same text but got different label. It's nice that we don't need to worry about it."
      ],
      "metadata": {
        "colab": {
          "base_uri": "https://localhost:8080/"
        },
        "id": "gS-7gPnk34UJ",
        "outputId": "6bb16336-b8f6-45b7-f467-e3f3195c32c8"
      },
      "execution_count": 16,
      "outputs": [
        {
          "output_type": "stream",
          "name": "stdout",
          "text": [
            "No conflict labels found!\n"
          ]
        }
      ]
    },
    {
      "cell_type": "markdown",
      "source": [
        "Check for duplicate text content (same text)"
      ],
      "metadata": {
        "id": "aBTPWVPM4kZx"
      }
    },
    {
      "cell_type": "code",
      "source": [
        "print(\"Number of articles with duplicate text content in data frame:\")\n",
        "print(merged_df['text'].duplicated().sum())\n",
        "\n",
        "# Siying Comment:\n",
        "# Found 5402 duplicated text on the data frame.\n",
        "# These are identical text but with different title, text, subject, and date. They might be the articles that reposted by other media.\n",
        "# Since keep these duplicated text might also cause bias and overfitting, Thus, I suggest remove these rows with duplicated text as well."
      ],
      "metadata": {
        "colab": {
          "base_uri": "https://localhost:8080/"
        },
        "id": "ZQV4sDR-4rEM",
        "outputId": "454e9648-0076-408f-9eb1-15510115c430"
      },
      "execution_count": 17,
      "outputs": [
        {
          "output_type": "stream",
          "name": "stdout",
          "text": [
            "Number of articles with duplicate text content in data frame:\n",
            "5402\n"
          ]
        }
      ]
    },
    {
      "cell_type": "markdown",
      "source": [
        "Remove duplicate text content"
      ],
      "metadata": {
        "id": "hT9i-NTeCipq"
      }
    },
    {
      "cell_type": "code",
      "source": [
        "#THE FINAL DF IS CALLED merged_no_duplicates\n",
        "merged_no_duplicates_df = merged_df.drop_duplicates(subset=['text'], keep='first').copy()\n",
        "print(f\"Remove {len(merged_df) - len(merged_no_duplicates_df)} dulplicate rows\")\n",
        "print(\"Clean data overview: \")\n",
        "print(f\"Total articles: {len(merged_no_duplicates_df)}\")"
      ],
      "metadata": {
        "colab": {
          "base_uri": "https://localhost:8080/"
        },
        "id": "MvkfvQTBCiG_",
        "outputId": "5a03fdfd-04f2-4ac6-b0b7-f7e7ef5a136b"
      },
      "execution_count": 46,
      "outputs": [
        {
          "output_type": "stream",
          "name": "stdout",
          "text": [
            "Remove 5402 dulplicate rows\n",
            "Clean data overview: \n",
            "Total articles: 38635\n"
          ]
        }
      ]
    },
    {
      "cell_type": "markdown",
      "source": [
        "\n",
        "**Check for Reuters Tag and Location Header in the Data Set.**\n",
        "\n",
        "\n"
      ],
      "metadata": {
        "id": "nCMTHQHgP-8r"
      }
    },
    {
      "cell_type": "code",
      "source": [
        "\n",
        "# Add a boolean column for if 'Reuters' appears in the text (case-insensitive)\n",
        "merged_no_duplicates_df['contains_reuters'] = merged_no_duplicates_df['text'].str.contains('reuters', case=False, na=False)\n",
        "\n",
        "# Count and percentage by label\n",
        "print(\"Number of articles containing 'Reuters':\")\n",
        "print(merged_no_duplicates_df.groupby('label')['contains_reuters'].sum())\n",
        "\n",
        "print(\"\\nPercentage with 'Reuters' in each label:\")\n",
        "print(merged_no_duplicates_df.groupby('label')['contains_reuters'].mean())\n",
        "\n",
        "print(\"\\nSample TRUE news with 'Reuters':\")\n",
        "print(merged_no_duplicates_df[(merged_no_duplicates_df['label'] == 'TRUE') & (merged_no_duplicates_df['contains_reuters'])].head(3)['text'].values)\n"
      ],
      "metadata": {
        "colab": {
          "base_uri": "https://localhost:8080/"
        },
        "id": "gW8tt428QAa9",
        "outputId": "8f0575c7-c475-4351-831c-75777e1b8ae6"
      },
      "execution_count": 47,
      "outputs": [
        {
          "output_type": "stream",
          "name": "stdout",
          "text": [
            "Number of articles containing 'Reuters':\n",
            "label\n",
            "FAKE      220\n",
            "TRUE    21154\n",
            "Name: contains_reuters, dtype: int64\n",
            "\n",
            "Percentage with 'Reuters' in each label:\n",
            "label\n",
            "FAKE    0.012612\n",
            "TRUE    0.998254\n",
            "Name: contains_reuters, dtype: float64\n",
            "\n",
            "Sample TRUE news with 'Reuters':\n",
            "['WASHINGTON (Reuters) - The head of a conservative Republican faction in the U.S. Congress, who voted this month for a huge expansion of the national debt to pay for tax cuts, called himself a “fiscal conservative” on Sunday and urged budget restraint in 2018. In keeping with a sharp pivot under way among Republicans, U.S. Representative Mark Meadows, speaking on CBS’ “Face the Nation,” drew a hard line on federal spending, which lawmakers are bracing to do battle over in January. When they return from the holidays on Wednesday, lawmakers will begin trying to pass a federal budget in a fight likely to be linked to other issues, such as immigration policy, even as the November congressional election campaigns approach in which Republicans will seek to keep control of Congress. President Donald Trump and his Republicans want a big budget increase in military spending, while Democrats also want proportional increases for non-defense “discretionary” spending on programs that support education, scientific research, infrastructure, public health and environmental protection. “The (Trump) administration has already been willing to say: ‘We’re going to increase non-defense discretionary spending ... by about 7 percent,’” Meadows, chairman of the small but influential House Freedom Caucus, said on the program. “Now, Democrats are saying that’s not enough, we need to give the government a pay raise of 10 to 11 percent. For a fiscal conservative, I don’t see where the rationale is. ... Eventually you run out of other people’s money,” he said. Meadows was among Republicans who voted in late December for their party’s debt-financed tax overhaul, which is expected to balloon the federal budget deficit and add about $1.5 trillion over 10 years to the $20 trillion national debt. “It’s interesting to hear Mark talk about fiscal responsibility,” Democratic U.S. Representative Joseph Crowley said on CBS. Crowley said the Republican tax bill would require the  United States to borrow $1.5 trillion, to be paid off by future generations, to finance tax cuts for corporations and the rich. “This is one of the least ... fiscally responsible bills we’ve ever seen passed in the history of the House of Representatives. I think we’re going to be paying for this for many, many years to come,” Crowley said. Republicans insist the tax package, the biggest U.S. tax overhaul in more than 30 years,  will boost the economy and job growth. House Speaker Paul Ryan, who also supported the tax bill, recently went further than Meadows, making clear in a radio interview that welfare or “entitlement reform,” as the party often calls it, would be a top Republican priority in 2018. In Republican parlance, “entitlement” programs mean food stamps, housing assistance, Medicare and Medicaid health insurance for the elderly, poor and disabled, as well as other programs created by Washington to assist the needy. Democrats seized on Ryan’s early December remarks, saying they showed Republicans would try to pay for their tax overhaul by seeking spending cuts for social programs. But the goals of House Republicans may have to take a back seat to the Senate, where the votes of some Democrats will be needed to approve a budget and prevent a government shutdown. Democrats will use their leverage in the Senate, which Republicans narrowly control, to defend both discretionary non-defense programs and social spending, while tackling the issue of the “Dreamers,” people brought illegally to the country as children. Trump in September put a March 2018 expiration date on the Deferred Action for Childhood Arrivals, or DACA, program, which protects the young immigrants from deportation and provides them with work permits. The president has said in recent Twitter messages he wants funding for his proposed Mexican border wall and other immigration law changes in exchange for agreeing to help the Dreamers. Representative Debbie Dingell told CBS she did not favor linking that issue to other policy objectives, such as wall funding. “We need to do DACA clean,” she said.  On Wednesday, Trump aides will meet with congressional leaders to discuss those issues. That will be followed by a weekend of strategy sessions for Trump and Republican leaders on Jan. 6 and 7, the White House said. Trump was also scheduled to meet on Sunday with Florida Republican Governor Rick Scott, who wants more emergency aid. The House has passed an $81 billion aid package after hurricanes in Florida, Texas and Puerto Rico, and wildfires in California. The package far exceeded the $44 billion requested by the Trump administration. The Senate has not yet voted on the aid. '\n",
            " 'WASHINGTON (Reuters) - Transgender people will be allowed for the first time to enlist in the U.S. military starting on Monday as ordered by federal courts, the Pentagon said on Friday, after President Donald Trump’s administration decided not to appeal rulings that blocked his transgender ban. Two federal appeals courts, one in Washington and one in Virginia, last week rejected the administration’s request to put on hold orders by lower court judges requiring the military to begin accepting transgender recruits on Jan. 1. A Justice Department official said the administration will not challenge those rulings. “The Department of Defense has announced that it will be releasing an independent study of these issues in the coming weeks. So rather than litigate this interim appeal before that occurs, the administration has decided to wait for DOD’s study and will continue to defend the president’s lawful authority in District Court in the meantime,” the official said, speaking on condition of anonymity. In September, the Pentagon said it had created a panel of senior officials to study how to implement a directive by Trump to prohibit transgender individuals from serving. The Defense Department has until Feb. 21 to submit a plan to Trump. Lawyers representing currently-serving transgender service members and aspiring recruits said they had expected the administration to appeal the rulings to the conservative-majority Supreme Court, but were hoping that would not happen. Pentagon spokeswoman Heather Babb said in a statement: “As mandated by court order, the Department of Defense is prepared to begin accessing transgender applicants for military service Jan. 1. All applicants must meet all accession standards.” Jennifer Levi, a lawyer with gay, lesbian and transgender advocacy group GLAD, called the decision not to appeal “great news.” “I’m hoping it means the government has come to see that there is no way to justify a ban and that it’s not good for the military or our country,” Levi said. Both GLAD and the American Civil Liberties Union represent plaintiffs in the lawsuits filed against the administration. In a move that appealed to his hard-line conservative supporters, Trump announced in July that he would prohibit transgender people from serving in the military, reversing Democratic President Barack Obama’s policy of accepting them. Trump said on Twitter at the time that the military “cannot be burdened with the tremendous medical costs and disruption that transgender in the military would entail.” Four federal judges - in Baltimore, Washington, D.C., Seattle and Riverside, California - have issued rulings blocking Trump’s ban while legal challenges to the Republican president’s policy proceed. The judges said the ban would likely violate the right under the U.S. Constitution to equal protection under the law. The Pentagon on Dec. 8 issued guidelines to recruitment personnel in order to enlist transgender applicants by Jan. 1. The memo outlined medical requirements and specified how the applicants’ sex would be identified and even which undergarments they would wear. The Trump administration previously said in legal papers that the armed forces were not prepared to train thousands of personnel on the medical standards needed to process transgender applicants and might have to accept “some individuals who are not medically fit for service.” The Obama administration had set a deadline of July 1, 2017, to begin accepting transgender recruits. But Trump’s defense secretary, James Mattis, postponed that date to Jan. 1, 2018, which the president’s ban then put off indefinitely. Trump has taken other steps aimed at rolling back transgender rights. In October, his administration said a federal law banning gender-based workplace discrimination does not protect transgender employees, reversing another Obama-era position. In February, Trump rescinded guidance issued by the Obama administration saying that public schools should allow transgender students to use the restroom that corresponds to their gender identity. '\n",
            " 'WASHINGTON (Reuters) - The special counsel investigation of links between Russia and President Trump’s 2016 election campaign should continue without interference in 2018, despite calls from some Trump administration allies and Republican lawmakers to shut it down, a prominent Republican senator said on Sunday. Lindsey Graham, who serves on the Senate armed forces and judiciary committees, said Department of Justice Special Counsel Robert Mueller needs to carry on with his Russia investigation without political interference. “This investigation will go forward. It will be an investigation conducted without political influence,” Graham said on CBS’s Face the Nation news program. “And we all need to let Mr. Mueller do his job. I think he’s the right guy at the right time.”  The question of how Russia may have interfered in the election, and how Trump’s campaign may have had links with or co-ordinated any such effort, has loomed over the White House since Trump took office in January. It shows no sign of receding as Trump prepares for his second year in power, despite intensified rhetoric from some Trump allies in recent weeks accusing Mueller’s team of bias against the Republican president. Trump himself seemed to undercut his supporters in an interview last week with the New York Times in which he said he expected Mueller was “going to be fair.”    Russia’s role in the election and the question of possible links to the Trump campaign are the focus of multiple inquiries in Washington. Three committees of the Senate and the House of Representatives are investigating, as well as Mueller, whose team in May took over an earlier probe launched by the U.S. Federal Bureau of Investigation (FBI). Several members of the Trump campaign and administration have been convicted or indicted in the investigation.  Trump and his allies deny any collusion with Russia during the campaign, and the Kremlin has denied meddling in the election. Graham said he still wants an examination of the FBI’s use of a dossier on links between Trump and Russia that was compiled by a former British spy, Christopher Steele, which prompted Trump allies and some Republicans to question Mueller’s inquiry.   On Saturday, the New York Times reported that it was not that dossier that triggered an early FBI probe, but a tip from former Trump campaign foreign policy adviser George Papadopoulos to an Australian diplomat that Russia had damaging information about former Trump rival Hillary Clinton.  “I want somebody to look at the way the Department of Justice used this dossier. It bothers me greatly the way they used it, and I want somebody to look at it,” Graham said. But he said the Russia investigation must continue. “As a matter of fact, it would hurt us if we ignored it,” he said. ']\n"
          ]
        }
      ]
    },
    {
      "cell_type": "markdown",
      "source": [
        "Nearly all of our TRUE news articles (99.8)% contain the word \"Reuters\" and 1.3% of Fake articles do. In other words, we could easily cheat just by picking anything with word \"Reuters\" as True News which makes it unfair and the\n",
        "model is not really detecting the fake news but instead looking at the source. Thus, we have decided to remove the Reuters word tag."
      ],
      "metadata": {
        "id": "aOreWb15QG8o"
      }
    },
    {
      "cell_type": "code",
      "source": [
        "merged_no_duplicates_df['text'] = merged_no_duplicates_df['text'].str.replace('reuters', '', case=False, regex=True)\n",
        "merged_no_duplicates_df['text'] = merged_no_duplicates_df['text'].str.replace(r'\\(\\s*\\)', '', regex=True)\n",
        "\n",
        "merged_no_duplicates_df['contains_reuters'] = merged_no_duplicates_df['text'].str.contains('reuters', case=False, na=False)\n",
        "print(\"Articles with 'Reuters' after removal:\")\n",
        "print(merged_no_duplicates_df['contains_reuters'].sum())"
      ],
      "metadata": {
        "colab": {
          "base_uri": "https://localhost:8080/"
        },
        "id": "DaEgoX4gQHwf",
        "outputId": "caaac981-bc75-40be-94a2-4926e2f6e388"
      },
      "execution_count": 48,
      "outputs": [
        {
          "output_type": "stream",
          "name": "stdout",
          "text": [
            "Articles with 'Reuters' after removal:\n",
            "0\n"
          ]
        }
      ]
    },
    {
      "cell_type": "code",
      "source": [
        "# Sample TRUE news after removing 'Reuters'\n",
        "print(\"Sample TRUE news after 'Reuters' removal:\")\n",
        "print(merged_no_duplicates_df[merged_no_duplicates_df['label'] == 'TRUE']['text'].head(10).values)\n",
        "\n",
        "# Sample FAKE news\n",
        "print(\"\\nSample FAKE news:\")\n",
        "print(merged_no_duplicates_df[merged_no_duplicates_df['label'] == 'FAKE']['text'].head(10).values)"
      ],
      "metadata": {
        "colab": {
          "base_uri": "https://localhost:8080/"
        },
        "id": "WMvLnBbTQMjc",
        "outputId": "34fc8b75-15c9-4812-cc9b-7ab4aaac225f"
      },
      "execution_count": 49,
      "outputs": [
        {
          "output_type": "stream",
          "name": "stdout",
          "text": [
            "Sample TRUE news after 'Reuters' removal:\n",
            "['WASHINGTON  - The head of a conservative Republican faction in the U.S. Congress, who voted this month for a huge expansion of the national debt to pay for tax cuts, called himself a “fiscal conservative” on Sunday and urged budget restraint in 2018. In keeping with a sharp pivot under way among Republicans, U.S. Representative Mark Meadows, speaking on CBS’ “Face the Nation,” drew a hard line on federal spending, which lawmakers are bracing to do battle over in January. When they return from the holidays on Wednesday, lawmakers will begin trying to pass a federal budget in a fight likely to be linked to other issues, such as immigration policy, even as the November congressional election campaigns approach in which Republicans will seek to keep control of Congress. President Donald Trump and his Republicans want a big budget increase in military spending, while Democrats also want proportional increases for non-defense “discretionary” spending on programs that support education, scientific research, infrastructure, public health and environmental protection. “The (Trump) administration has already been willing to say: ‘We’re going to increase non-defense discretionary spending ... by about 7 percent,’” Meadows, chairman of the small but influential House Freedom Caucus, said on the program. “Now, Democrats are saying that’s not enough, we need to give the government a pay raise of 10 to 11 percent. For a fiscal conservative, I don’t see where the rationale is. ... Eventually you run out of other people’s money,” he said. Meadows was among Republicans who voted in late December for their party’s debt-financed tax overhaul, which is expected to balloon the federal budget deficit and add about $1.5 trillion over 10 years to the $20 trillion national debt. “It’s interesting to hear Mark talk about fiscal responsibility,” Democratic U.S. Representative Joseph Crowley said on CBS. Crowley said the Republican tax bill would require the  United States to borrow $1.5 trillion, to be paid off by future generations, to finance tax cuts for corporations and the rich. “This is one of the least ... fiscally responsible bills we’ve ever seen passed in the history of the House of Representatives. I think we’re going to be paying for this for many, many years to come,” Crowley said. Republicans insist the tax package, the biggest U.S. tax overhaul in more than 30 years,  will boost the economy and job growth. House Speaker Paul Ryan, who also supported the tax bill, recently went further than Meadows, making clear in a radio interview that welfare or “entitlement reform,” as the party often calls it, would be a top Republican priority in 2018. In Republican parlance, “entitlement” programs mean food stamps, housing assistance, Medicare and Medicaid health insurance for the elderly, poor and disabled, as well as other programs created by Washington to assist the needy. Democrats seized on Ryan’s early December remarks, saying they showed Republicans would try to pay for their tax overhaul by seeking spending cuts for social programs. But the goals of House Republicans may have to take a back seat to the Senate, where the votes of some Democrats will be needed to approve a budget and prevent a government shutdown. Democrats will use their leverage in the Senate, which Republicans narrowly control, to defend both discretionary non-defense programs and social spending, while tackling the issue of the “Dreamers,” people brought illegally to the country as children. Trump in September put a March 2018 expiration date on the Deferred Action for Childhood Arrivals, or DACA, program, which protects the young immigrants from deportation and provides them with work permits. The president has said in recent Twitter messages he wants funding for his proposed Mexican border wall and other immigration law changes in exchange for agreeing to help the Dreamers. Representative Debbie Dingell told CBS she did not favor linking that issue to other policy objectives, such as wall funding. “We need to do DACA clean,” she said.  On Wednesday, Trump aides will meet with congressional leaders to discuss those issues. That will be followed by a weekend of strategy sessions for Trump and Republican leaders on Jan. 6 and 7, the White House said. Trump was also scheduled to meet on Sunday with Florida Republican Governor Rick Scott, who wants more emergency aid. The House has passed an $81 billion aid package after hurricanes in Florida, Texas and Puerto Rico, and wildfires in California. The package far exceeded the $44 billion requested by the Trump administration. The Senate has not yet voted on the aid. '\n",
            " 'WASHINGTON  - Transgender people will be allowed for the first time to enlist in the U.S. military starting on Monday as ordered by federal courts, the Pentagon said on Friday, after President Donald Trump’s administration decided not to appeal rulings that blocked his transgender ban. Two federal appeals courts, one in Washington and one in Virginia, last week rejected the administration’s request to put on hold orders by lower court judges requiring the military to begin accepting transgender recruits on Jan. 1. A Justice Department official said the administration will not challenge those rulings. “The Department of Defense has announced that it will be releasing an independent study of these issues in the coming weeks. So rather than litigate this interim appeal before that occurs, the administration has decided to wait for DOD’s study and will continue to defend the president’s lawful authority in District Court in the meantime,” the official said, speaking on condition of anonymity. In September, the Pentagon said it had created a panel of senior officials to study how to implement a directive by Trump to prohibit transgender individuals from serving. The Defense Department has until Feb. 21 to submit a plan to Trump. Lawyers representing currently-serving transgender service members and aspiring recruits said they had expected the administration to appeal the rulings to the conservative-majority Supreme Court, but were hoping that would not happen. Pentagon spokeswoman Heather Babb said in a statement: “As mandated by court order, the Department of Defense is prepared to begin accessing transgender applicants for military service Jan. 1. All applicants must meet all accession standards.” Jennifer Levi, a lawyer with gay, lesbian and transgender advocacy group GLAD, called the decision not to appeal “great news.” “I’m hoping it means the government has come to see that there is no way to justify a ban and that it’s not good for the military or our country,” Levi said. Both GLAD and the American Civil Liberties Union represent plaintiffs in the lawsuits filed against the administration. In a move that appealed to his hard-line conservative supporters, Trump announced in July that he would prohibit transgender people from serving in the military, reversing Democratic President Barack Obama’s policy of accepting them. Trump said on Twitter at the time that the military “cannot be burdened with the tremendous medical costs and disruption that transgender in the military would entail.” Four federal judges - in Baltimore, Washington, D.C., Seattle and Riverside, California - have issued rulings blocking Trump’s ban while legal challenges to the Republican president’s policy proceed. The judges said the ban would likely violate the right under the U.S. Constitution to equal protection under the law. The Pentagon on Dec. 8 issued guidelines to recruitment personnel in order to enlist transgender applicants by Jan. 1. The memo outlined medical requirements and specified how the applicants’ sex would be identified and even which undergarments they would wear. The Trump administration previously said in legal papers that the armed forces were not prepared to train thousands of personnel on the medical standards needed to process transgender applicants and might have to accept “some individuals who are not medically fit for service.” The Obama administration had set a deadline of July 1, 2017, to begin accepting transgender recruits. But Trump’s defense secretary, James Mattis, postponed that date to Jan. 1, 2018, which the president’s ban then put off indefinitely. Trump has taken other steps aimed at rolling back transgender rights. In October, his administration said a federal law banning gender-based workplace discrimination does not protect transgender employees, reversing another Obama-era position. In February, Trump rescinded guidance issued by the Obama administration saying that public schools should allow transgender students to use the restroom that corresponds to their gender identity. '\n",
            " 'WASHINGTON  - The special counsel investigation of links between Russia and President Trump’s 2016 election campaign should continue without interference in 2018, despite calls from some Trump administration allies and Republican lawmakers to shut it down, a prominent Republican senator said on Sunday. Lindsey Graham, who serves on the Senate armed forces and judiciary committees, said Department of Justice Special Counsel Robert Mueller needs to carry on with his Russia investigation without political interference. “This investigation will go forward. It will be an investigation conducted without political influence,” Graham said on CBS’s Face the Nation news program. “And we all need to let Mr. Mueller do his job. I think he’s the right guy at the right time.”  The question of how Russia may have interfered in the election, and how Trump’s campaign may have had links with or co-ordinated any such effort, has loomed over the White House since Trump took office in January. It shows no sign of receding as Trump prepares for his second year in power, despite intensified rhetoric from some Trump allies in recent weeks accusing Mueller’s team of bias against the Republican president. Trump himself seemed to undercut his supporters in an interview last week with the New York Times in which he said he expected Mueller was “going to be fair.”    Russia’s role in the election and the question of possible links to the Trump campaign are the focus of multiple inquiries in Washington. Three committees of the Senate and the House of Representatives are investigating, as well as Mueller, whose team in May took over an earlier probe launched by the U.S. Federal Bureau of Investigation (FBI). Several members of the Trump campaign and administration have been convicted or indicted in the investigation.  Trump and his allies deny any collusion with Russia during the campaign, and the Kremlin has denied meddling in the election. Graham said he still wants an examination of the FBI’s use of a dossier on links between Trump and Russia that was compiled by a former British spy, Christopher Steele, which prompted Trump allies and some Republicans to question Mueller’s inquiry.   On Saturday, the New York Times reported that it was not that dossier that triggered an early FBI probe, but a tip from former Trump campaign foreign policy adviser George Papadopoulos to an Australian diplomat that Russia had damaging information about former Trump rival Hillary Clinton.  “I want somebody to look at the way the Department of Justice used this dossier. It bothers me greatly the way they used it, and I want somebody to look at it,” Graham said. But he said the Russia investigation must continue. “As a matter of fact, it would hurt us if we ignored it,” he said. '\n",
            " 'WASHINGTON  - Trump campaign adviser George Papadopoulos told an Australian diplomat in May 2016 that Russia had political dirt on Democratic presidential candidate Hillary Clinton, the New York Times reported on Saturday. The conversation between Papadopoulos and the diplomat, Alexander Downer, in London was a driving factor behind the FBI’s decision to open a counter-intelligence investigation of Moscow’s contacts with the Trump campaign, the Times reported. Two months after the meeting, Australian officials passed the information that came from Papadopoulos to their American counterparts when leaked Democratic emails began appearing online, according to the newspaper, which cited four current and former U.S. and foreign officials. Besides the information from the Australians, the probe by the Federal Bureau of Investigation was also propelled by intelligence from other friendly governments, including the British and Dutch, the Times said. Papadopoulos, a Chicago-based international energy lawyer, pleaded guilty on Oct. 30 to lying to FBI agents about contacts with people who claimed to have ties to top Russian officials. It was the first criminal charge alleging links between the Trump campaign and Russia. The White House has played down the former aide’s campaign role, saying it was “extremely limited” and that any actions he took would have been on his own. The New York Times, however, reported that Papadopoulos helped set up a meeting between then-candidate Donald Trump and Egyptian President Abdel Fattah al-Sisi and edited the outline of Trump’s first major foreign policy speech in April 2016. The federal investigation, which is now being led by Special Counsel Robert Mueller, has hung over Trump’s White House since he took office almost a year ago. Some Trump allies have recently accused Mueller’s team of being biased against the Republican president. Lawyers for Papadopoulos did not immediately respond to requests by  for comment. Mueller’s office declined to comment. Trump’s White House attorney, Ty Cobb, declined to comment on the New York Times report. “Out of respect for the special counsel and his process, we are not commenting on matters such as this,” he said in a statement. Mueller has charged four Trump associates, including Papadopoulos, in his investigation. Russia has denied interfering in the U.S. election and Trump has said there was no collusion between his campaign and Moscow. '\n",
            " 'SEATTLE/WASHINGTON  - President Donald Trump called on the U.S. Postal Service on Friday to charge “much more” to ship packages for Amazon (AMZN.O), picking another fight with an online retail giant he has criticized in the past.     “Why is the United States Post Office, which is losing many billions of dollars a year, while charging Amazon and others so little to deliver their packages, making Amazon richer and the Post Office dumber and poorer? Should be charging MUCH MORE!” Trump wrote on Twitter.  The president’s tweet drew fresh attention to the fragile finances of the Postal Service at a time when tens of millions of parcels have just been shipped all over the country for the holiday season.  The U.S. Postal Service, which runs at a big loss, is an independent agency within the federal government and does not receive tax dollars for operating expenses, according to its website.  Package delivery has become an increasingly important part of its business as the Internet has led to a sharp decline in the amount of first-class letters. The president does not determine postal rates. They are set by the Postal Regulatory Commission, an independent government agency with commissioners selected by the president from both political parties. That panel raised prices on packages by almost 2 percent in November.  Amazon was founded by Jeff Bezos, who remains the chief executive officer of the retail company and is the richest person in the world, according to Bloomberg News. Bezos also owns The Washington Post, a newspaper Trump has repeatedly railed against in his criticisms of the news media. In tweets over the past year, Trump has said the “Amazon Washington Post” fabricated stories. He has said Amazon does not pay sales tax, which is not true, and so hurts other retailers, part of a pattern by the former businessman and reality television host of periodically turning his ire on big American companies since he took office in January. Daniel Ives, a research analyst at GBH Insights, said Trump’s comment could be taken as a warning to the retail giant. However, he said he was not concerned for Amazon. “We do not see any price hikes in the future. However, that is a risk that Amazon is clearly aware of and (it) is building out its distribution (system) aggressively,” he said. Amazon has shown interest in the past in shifting into its own delivery service, including testing drones for deliveries. In 2015, the company spent $11.5 billion on shipping, 46 percent of its total operating expenses that year.  Amazon shares were down 0.86 percent to $1,175.90 by early afternoon. Overall, U.S. stock prices were down slightly on Friday.  Satish Jindel, president of ShipMatrix Inc, which analyzes shipping data, disputed the idea that the Postal Service charges less than United Parcel Service Inc (UPS.N) and FedEx Corp (FDX.N), the other biggest players in the parcel delivery business in the United States. Many customers get lower rates from UPS and FedEx than they would get from the post office for comparable services, he said. The Postal Service delivers about 62 percent of Amazon packages, for about 3.5 to 4 million a day during the current peak year-end holiday shipping season, Jindel said. The Seattle-based company and the post office have an agreement in which mail carriers take Amazon packages on the last leg of their journeys, from post offices to customers’ doorsteps. Amazon’s No. 2 carrier is UPS, at 21 percent, and FedEx is third, with 8 percent or so, according to Jindel. Trump’s comment tapped into a debate over whether Postal Service pricing has kept pace with the rise of e-commerce, which has flooded the mail with small packages.Private companies like UPS have long claimed the current system unfairly undercuts their business. Steve Gaut, a spokesman for UPS, noted that the company values its “productive relationship” with the postal service, but that it has filed with the Postal Regulatory Commission its concerns about the postal service’s methods for covering costs. Representatives for Amazon, the White House, the U.S. Postal Service and FedEx declined comment or were not immediately available for comment on Trump’s tweet. According to its annual report, the Postal Service lost $2.74 billion this year, and its deficit has ballooned to $61.86 billion.  While the Postal Service’s revenue for first class mail, marketing mail and periodicals is flat or declining, revenue from package delivery is up 44 percent since 2014 to $19.5 billion in the fiscal year ended Sept. 30, 2017. But it also lost about $2 billion in revenue when a temporary surcharge expired in April 2016. According to a Government Accountability Office report in February, the service is facing growing personnel expenses, particularly $73.4 billion in unfunded pension and benefits liabilities. The Postal Service has not announced any plans to cut costs. By law, the Postal Service has to set prices for package delivery to cover the costs attributable to that service. But the postal service allocates only 5.5 percent of its total costs to its business of shipping packages even though that line of business is 28 percent of its total revenue. '\n",
            " 'WEST PALM BEACH, Fla./WASHINGTON  - The White House said on Friday it was set to kick off talks next week with Republican and Democratic congressional leaders on immigration policy, government spending and other issues that need to be wrapped up early in the new year. The expected flurry of legislative activity comes as Republicans and Democrats begin to set the stage for midterm congressional elections in November. President Donald Trump’s Republican Party is eager to maintain control of Congress while Democrats look for openings to wrest seats away in the Senate and the House of Representatives. On Wednesday, Trump’s budget chief Mick Mulvaney and legislative affairs director Marc Short will meet with Senate Majority Leader Mitch McConnell and House Speaker Paul Ryan - both Republicans - and their Democratic counterparts, Senator Chuck Schumer and Representative Nancy Pelosi, the White House said. That will be followed up with a weekend of strategy sessions for Trump, McConnell and Ryan on Jan. 6 and 7 at the Camp David presidential retreat in Maryland, according to the White House. The Senate returns to work on Jan. 3 and the House on Jan. 8. Congress passed a short-term government funding bill last week before taking its Christmas break, but needs to come to an agreement on defense spending and various domestic programs by Jan. 19, or the government will shut down. Also on the agenda for lawmakers is disaster aid for people hit by hurricanes in Puerto Rico, Texas and Florida, and by wildfires in California. The House passed an $81 billion package in December, which the Senate did not take up. The White House has asked for a smaller figure, $44 billion. Deadlines also loom for soon-to-expire protections for young adult immigrants who entered the country illegally as children, known as “Dreamers.” In September, Trump ended Democratic former President Barack Obama’s Deferred Action for Childhood Arrivals (DACA) program, which protected Dreamers from deportation and provided work permits, effective in March, giving Congress until then to devise a long-term solution. Democrats, some Republicans and a number of large companies have pushed for DACA protections to continue. Trump and other Republicans have said that will not happen without Congress approving broader immigration policy changes and tougher border security. Democrats oppose funding for a wall promised by Trump along the U.S.-Mexican border.  “The Democrats have been told, and fully understand, that there can be no DACA without the desperately needed WALL at the Southern Border and an END to the horrible Chain Migration & ridiculous Lottery System of Immigration etc,” Trump said in a Twitter post on Friday. Trump wants to overhaul immigration rules for extended families and others seeking to live in the United States. Republican U.S. Senator Jeff Flake, a frequent critic of the president, said he would work with Trump to protect Dreamers. “We can fix DACA in a way that beefs up border security, stops chain migration for the DREAMers, and addresses the unfairness of the diversity lottery. If POTUS (Trump) wants to protect these kids, we want to help him keep that promise,” Flake wrote on Twitter. Congress in early 2018 also must raise the U.S. debt ceiling to avoid a government default. The U.S. Treasury would exhaust all of its borrowing options and run dry of cash to pay its bills by late March or early April if Congress does not raise the debt ceiling before then, according to the nonpartisan Congressional Budget Office. Trump, who won his first major legislative victory with the passage of a major tax overhaul this month, has also promised a major infrastructure plan. '\n",
            " 'WEST PALM BEACH, Fla  - President Donald Trump said on Thursday he believes he will be fairly treated in a special counsel investigation into Russian meddling in the U.S. presidential election, but said he did not know how long the probe would last. The federal investigation has hung over Trump’s White House since he took office almost a year ago, and some Trump allies have in recent weeks accused the team of Justice Department Special Counsel Robert Mueller of being biased against the Republican president. But in an interview with the New York Times, Trump appeared to shrug off concerns about the investigation, which was prompted by U.S. intelligence agencies’ conclusion that Russia tried to help Trump defeat Democrat Hillary Clinton by hacking and releasing embarrassing emails and disseminating propaganda. “There’s been no collusion. But I think he’s going to be fair,” Trump said in what the Times described as a 30-minute impromptu interview at his golf club in West Palm Beach, Florida. Mueller has charged four Trump associates in his investigation. Russia has denied interfering in the U.S. election. U.S. Deputy Attorney General Rod Rosenstein said this month that he was not aware of any impropriety by Mueller’s team. Trump’s lawyers have been saying for weeks that they had expected the Mueller investigation to wrap up quickly, possibly by the end of 2017. Mueller has not commented on how long it will last. Trump told the Times that he did not know how long the investigation would take. “Timing-wise, I can’t tell you. I just don’t know,” he said. Trump said he thought a prolonged probe “makes the country look bad” but said it has energized his core supporters. “What it’s done is, it’s really angered the base and made the base stronger. My base is strong than it’s ever been,” he said. The interview was a rare break in Trump’s Christmas vacation in Florida. He has golfed each day aside from Christmas Day, and mainly kept a low profile, apart from the occasional flurry of tweets. He spent one day golfing with Republican Senator David Perdue from Georgia, who has pushed legislation to cap immigration numbers, and had dinner on Thursday with Commerce Secretary Wilbur Ross, an international trade hawk. Trump told the Times he hoped to work with Democrats in the U.S. Congress on a spending plan to fix roads and other infrastructure, and on protections for a group of undocumented immigrants who were brought to the United States as children. Trump spoke about trade issues, saying he had backed off his hard line on Chinese trade practices in the hope that Beijing would do more to pressure North Korea to end its nuclear and missile testing program. He said he had been disappointed in the results. He also complained about the North American Free Trade Agreement (NAFTA), which his administration is attempting to renegotiate in talks with Mexico and Canada. Trump said Canadian Prime Minister Justin Trudeau had played down the importance of Canadian oil and lumber exports to the United States when looking at the balance of trade between the two countries. “If I don’t make the right deal, I’ll terminate NAFTA in two seconds. But we’re doing pretty good,” Trump said. '\n",
            " 'The following statements\\xa0were posted to the verified Twitter accounts of U.S. President Donald Trump, @realDonaldTrump and @POTUS.  The opinions expressed are his own.\\xa0 has not edited the statements or confirmed their accuracy.  @realDonaldTrump : - While the Fake News loves to talk about my so-called low approval rating, @foxandfriends just showed that my rating on Dec. 28, 2017, was approximately the same as President Obama on Dec. 28, 2009, which was 47%...and this despite massive negative Trump coverage & Russia hoax! [0746 EST] - Why is the United States Post Office, which is losing many billions of dollars a year, while charging Amazon and others so little to deliver their packages, making Amazon richer and the Post Office dumber and poorer? Should be charging MUCH MORE! [0804 EST] -- Source link: (bit.ly/2jBh4LU) (bit.ly/2jpEXYR) '\n",
            " 'The following statements\\xa0were posted to the verified Twitter accounts of U.S. President Donald Trump, @realDonaldTrump and @POTUS.  The opinions expressed are his own.\\xa0 has not edited the statements or confirmed their accuracy.  @realDonaldTrump : - Together, we are MAKING AMERICA GREAT AGAIN! bit.ly/2lnpKaq [1814 EST] - In the East, it could be the COLDEST New Year’s Eve on record. Perhaps we could use a little bit of that good old Global Warming that our Country, but not other countries, was going to pay TRILLIONS OF DOLLARS to protect against. Bundle up! [1901 EST] -- Source link: (bit.ly/2jBh4LU) (bit.ly/2jpEXYR) '\n",
            " 'WASHINGTON  - Alabama Secretary of State John Merrill said he will certify Democratic Senator-elect Doug Jones as winner on Thursday despite opponent Roy Moore’s challenge, in a phone call on CNN. Moore, a conservative who had faced allegations of groping teenage girls when he was in his 30s, filed a court challenge late on Wednesday to the outcome of a U.S. Senate election he unexpectedly lost. ']\n",
            "\n",
            "Sample FAKE news:\n",
            "['Donald Trump just couldn t wish all Americans a Happy New Year and leave it at that. Instead, he had to give a shout out to his enemies, haters and  the very dishonest fake news media.  The former reality show star had just one job to do and he couldn t do it. As our Country rapidly grows stronger and smarter, I want to wish all of my friends, supporters, enemies, haters, and even the very dishonest Fake News Media, a Happy and Healthy New Year,  President Angry Pants tweeted.  2018 will be a great year for America! As our Country rapidly grows stronger and smarter, I want to wish all of my friends, supporters, enemies, haters, and even the very dishonest Fake News Media, a Happy and Healthy New Year. 2018 will be a great year for America!  Donald J. Trump (@realDonaldTrump) December 31, 2017Trump s tweet went down about as welll as you d expect.What kind of president sends a New Year s greeting like this despicable, petty, infantile gibberish? Only Trump! His lack of decency won t even allow him to rise above the gutter long enough to wish the American citizens a happy new year!  Bishop Talbert Swan (@TalbertSwan) December 31, 2017no one likes you  Calvin (@calvinstowell) December 31, 2017Your impeachment would make 2018 a great year for America, but I ll also accept regaining control of Congress.  Miranda Yaver (@mirandayaver) December 31, 2017Do you hear yourself talk? When you have to include that many people that hate you you have to wonder? Why do the they all hate me?  Alan Sandoval (@AlanSandoval13) December 31, 2017Who uses the word Haters in a New Years wish??  Marlene (@marlene399) December 31, 2017You can t just say happy new year?  Koren pollitt (@Korencarpenter) December 31, 2017Here s Trump s New Year s Eve tweet from 2016.Happy New Year to all, including to my many enemies and those who have fought me and lost so badly they just don t know what to do. Love!  Donald J. Trump (@realDonaldTrump) December 31, 2016This is nothing new for Trump. He s been doing this for years.Trump has directed messages to his  enemies  and  haters  for New Year s, Easter, Thanksgiving, and the anniversary of 9/11. pic.twitter.com/4FPAe2KypA  Daniel Dale (@ddale8) December 31, 2017Trump s holiday tweets are clearly not presidential.How long did he work at Hallmark before becoming President?  Steven Goodine (@SGoodine) December 31, 2017He s always been like this . . . the only difference is that in the last few years, his filter has been breaking down.  Roy Schulze (@thbthttt) December 31, 2017Who, apart from a teenager uses the term haters?  Wendy (@WendyWhistles) December 31, 2017he s a fucking 5 year old  Who Knows (@rainyday80) December 31, 2017So, to all the people who voted for this a hole thinking he would change once he got into power, you were wrong! 70-year-old men don t change and now he s a year older.Photo by Andrew Burton/Getty Images.'\n",
            " 'House Intelligence Committee Chairman Devin Nunes is going to have a bad day. He s been under the assumption, like many of us, that the Christopher Steele-dossier was what prompted the Russia investigation so he s been lashing out at the Department of Justice and the FBI in order to protect Trump. As it happens, the dossier is not what started the investigation, according to documents obtained by the New York Times.Former Trump campaign adviser George Papadopoulos was drunk in a wine bar when he revealed knowledge of Russian opposition research on Hillary Clinton.On top of that, Papadopoulos wasn t just a covfefe boy for Trump, as his administration has alleged. He had a much larger role, but none so damning as being a drunken fool in a wine bar. Coffee boys  don t help to arrange a New York meeting between Trump and President Abdel Fattah el-Sisi of Egypt two months before the election. It was known before that the former aide set up meetings with world leaders for Trump, but team Trump ran with him being merely a coffee boy.In May 2016, Papadopoulos revealed to Australian diplomat Alexander Downer that Russian officials were shopping around possible dirt on then-Democratic presidential nominee Hillary Clinton. Exactly how much Mr. Papadopoulos said that night at the Kensington Wine Rooms with the Australian, Alexander Downer, is unclear,  the report states.  But two months later, when leaked Democratic emails began appearing online, Australian officials passed the information about Mr. Papadopoulos to their American counterparts, according to four current and former American and foreign officials with direct knowledge of the Australians  role. Papadopoulos pleaded guilty to lying to the F.B.I. and is now a cooperating witness with Special Counsel Robert Mueller s team.This isn t a presidency. It s a badly scripted reality TV show.Photo by Win McNamee/Getty Images.'\n",
            " 'On Friday, it was revealed that former Milwaukee Sheriff David Clarke, who was being considered for Homeland Security Secretary in Donald Trump s administration, has an email scandal of his own.In January, there was a brief run-in on a plane between Clarke and fellow passenger Dan Black, who he later had detained by the police for no reason whatsoever, except that maybe his feelings were hurt. Clarke messaged the police to stop Black after he deplaned, and now, a search warrant has been executed by the FBI to see the exchanges.Clarke is calling it fake news even though copies of the search warrant are on the Internet. I am UNINTIMIDATED by lib media attempts to smear and discredit me with their FAKE NEWS reports designed to silence me,  the former sheriff tweeted.  I will continue to poke them in the eye with a sharp stick and bitch slap these scum bags til they get it. I have been attacked by better people than them #MAGA I am UNINTIMIDATED by lib media attempts to smear and discredit me with their FAKE NEWS reports designed to silence me. I will continue to poke them in the eye with a sharp stick and bitch slap these scum bags til they get it. I have been attacked by better people than them #MAGA pic.twitter.com/XtZW5PdU2b  David A. Clarke, Jr. (@SheriffClarke) December 30, 2017He didn t stop there.BREAKING NEWS! When LYING LIB MEDIA makes up FAKE NEWS to smear me, the ANTIDOTE is go right at them. Punch them in the nose & MAKE THEM TASTE THEIR OWN BLOOD. Nothing gets a bully like LYING LIB MEDIA S attention better than to give them a taste of their own blood #neverbackdown pic.twitter.com/T2NY2psHCR  David A. Clarke, Jr. (@SheriffClarke) December 30, 2017The internet called him out.This is your local newspaper and that search warrant isn t fake, and just because the chose not to file charges at the time doesn t mean they won t! Especially if you continue to lie. Months after decision not to charge Clarke, email search warrant filed https://t.co/zcbyc4Wp5b  KeithLeBlanc (@KeithLeBlanc63) December 30, 2017I just hope the rest of the Village People aren t implicated.  Kirk Ketchum (@kirkketchum) December 30, 2017Slaw, baked potatoes, or French fries? pic.twitter.com/fWfXsZupxy  ALT- Immigration   (@ALT_uscis) December 30, 2017pic.twitter.com/ymsOBLjfxU  Pendulum Swinger (@PendulumSwngr) December 30, 2017you called your police friends to stand up for you when someone made fun of your hat  Chris Jackson (@ChrisCJackson) December 30, 2017Is it me, with this masterful pshop of your hat, which I seem to never tire of. I think it s the steely resolve in your one visible eye pic.twitter.com/dWr5k8ZEZV  Chris Mohney (@chrismohney) December 30, 2017Are you indicating with your fingers how many people died in your jail? I think you re a few fingers short, dipshit  Ike Barinholtz (@ikebarinholtz) December 30, 2017ROFL. Internet tough guy with fake flair. pic.twitter.com/ulCFddhkdy  KellMeCrazy (@Kel_MoonFace) December 30, 2017You re so edgy, buddy.  Mrs. SMH (@MRSSMH2) December 30, 2017Is his break over at Applebees?  Aaron (@feltrrr2) December 30, 2017Are you trying to earn your  still relevant  badge?  CircusRebel (@CircusDrew) December 30, 2017make sure to hydrate, drink lots of water. It s rumored that prisoners can be denied water by prison officials.  Robert Klinc (@RobertKlinc1) December 30, 2017Terrill Thomas, the 38-year-old black man who died of thirst in Clarke s Milwaukee County Jail cell this April, was a victim of homicide. We just thought we should point that out. It can t be repeated enough.Photo by Spencer Platt/Getty Images.'\n",
            " 'On Christmas day, Donald Trump announced that he would  be back to work  the following day, but he is golfing for the fourth day in a row. The former reality show star blasted former President Barack Obama for playing golf and now Trump is on track to outpace the number of golf games his predecessor played.Updated my tracker of Trump s appearances at Trump properties.71 rounds of golf including today s. At this pace, he ll pass Obama s first-term total by July 24 next year. https://t.co/Fg7VacxRtJ pic.twitter.com/5gEMcjQTbH  Philip Bump (@pbump) December 29, 2017 That makes what a Washington Post reporter discovered on Trump s website really weird, but everything about this administration is bizarre AF. The coding contained a reference to Obama and golf:  Unlike Obama, we are working to fix the problem   and not on the golf course.  However, the coding wasn t done correctly.The website of Donald Trump, who has spent several days in a row at the golf course, is coded to serve up the following message in the event of an internal server error: https://t.co/zrWpyMXRcz pic.twitter.com/wiQSQNNzw0  Christopher Ingraham (@_cingraham) December 28, 2017That snippet of code appears to be on all https://t.co/dkhw0AlHB4 pages, which the footer says is paid for by the RNC? pic.twitter.com/oaZDT126B3  Christopher Ingraham (@_cingraham) December 28, 2017It s also all over https://t.co/ayBlGmk65Z. As others have noted in this thread, this is weird code and it s not clear it would ever actually display, but who knows.  Christopher Ingraham (@_cingraham) December 28, 2017After the coding was called out, the reference to Obama was deleted.UPDATE: The golf error message has been removed from the Trump and GOP websites. They also fixed the javascript  =  vs  ==  problem. Still not clear when these messages would actually display, since the actual 404 (and presumably 500) page displays a different message pic.twitter.com/Z7dmyQ5smy  Christopher Ingraham (@_cingraham) December 29, 2017That suggests someone at either RNC or the Trump admin is sensitive enough to Trump s golf problem to make this issue go away quickly once people noticed. You have no idea how much I d love to see the email exchange that led us here.  Christopher Ingraham (@_cingraham) December 29, 2017 The code was f-cked up.The best part about this is that they are using the  =  (assignment) operator which means that bit of code will never get run. If you look a few lines up  errorCode  will always be  404          (@tw1trsux) December 28, 2017trump s coders can t code. Nobody is surprised.  Tim Peterson (@timrpeterson) December 28, 2017Donald Trump is obsessed with Obama that his name was even in the coding of his website while he played golf again.Photo by Joe Raedle/Getty Images.'\n",
            " 'Pope Francis used his annual Christmas Day message to rebuke Donald Trump without even mentioning his name. The Pope delivered his message just days after members of the United Nations condemned Trump s move to recognize Jerusalem as the capital of Israel. The Pontiff prayed on Monday for the  peaceful coexistence of two states within mutually agreed and internationally recognized borders. We see Jesus in the children of the Middle East who continue to suffer because of growing tensions between Israelis and Palestinians,  Francis said.  On this festive day, let us ask the Lord for peace for Jerusalem and for all the Holy Land. Let us pray that the will to resume dialogue may prevail between the parties and that a negotiated solution can finally be reached. The Pope went on to plead for acceptance of refugees who have been forced from their homes, and that is an issue Trump continues to fight against. Francis used Jesus for which there was  no place in the inn  as an analogy. Today, as the winds of war are blowing in our world and an outdated model of development continues to produce human, societal and environmental decline, Christmas invites us to focus on the sign of the Child and to recognize him in the faces of little children, especially those for whom, like Jesus,  there is no place in the inn,  he said. Jesus knows well the pain of not being welcomed and how hard it is not to have a place to lay one s head,  he added.  May our hearts not be closed as they were in the homes of Bethlehem. The Pope said that Mary and Joseph were immigrants who struggled to find a safe place to stay in Bethlehem. They had to leave their people, their home, and their land,  Francis said.  This was no comfortable or easy journey for a young couple about to have a child.   At heart, they were full of hope and expectation because of the child about to be born; yet their steps were weighed down by the uncertainties and dangers that attend those who have to leave their home behind. So many other footsteps are hidden in the footsteps of Joseph and Mary,  Francis said Sunday. We see the tracks of entire families forced to set out in our own day. We see the tracks of millions of persons who do not choose to go away, but driven from their land, leave behind their dear ones. Amen to that.Photo by Christopher Furlong/Getty Images.'\n",
            " 'The number of cases of cops brutalizing and killing people of color seems to see no end. Now, we have another case that needs to be shared far and wide. An Alabama woman by the name of Angela Williams shared a graphic photo of her son, lying in a hospital bed with a beaten and fractured face, on Facebook. It needs to be shared far and wide, because this is unacceptable.It is unclear why Williams  son was in police custody or what sort of altercation resulted in his arrest, but when you see the photo you will realize that these details matter not. Cops are not supposed to beat and brutalize those in their custody. In the post you are about to see, Ms. Williams expresses her hope that the cops had their body cameras on while they were beating her son, but I think we all know that there will be some kind of convenient  malfunction  to explain away the lack of existence of dash or body camera footage of what was clearly a brutal beating. Hell, it could even be described as attempted murder. Something tells me that this young man will never be the same. Without further ado, here is what Troy, Alabama s finest decided was appropriate treatment of Angela Williams  son:No matter what the perceived crime of this young man might be, this is completely unacceptable. The cops who did this need to rot in jail for a long, long time   but what you wanna bet they get a paid vacation while the force  investigates  itself, only to have the officers returned to duty posthaste?This, folks, is why we say BLACK LIVES MATTER. No way in hell would this have happened if Angela Williams  son had been white. Please share far and wide, and stay tuned to Addicting Info for further updates.Featured image via David McNew/Stringer/Getty Images'\n",
            " 'Donald Trump spent a good portion of his day at his golf club, marking the 84th day he s done so since taking the oath of office. It must have been a bad game because just after that, Trump lashed out at FBI Deputy Director Andrew McCabe on Twitter following a report saying McCabe plans to retire in a few months. The report follows McCabe s testimony in front of congressional committees this week, as well as mounting criticism from Republicans regarding the Russia probe.So, naturally, Trump attacked McCabe with a lie. How can FBI Deputy Director Andrew McCabe, the man in charge, along with leakin  James Comey, of the Phony Hillary Clinton investigation (including her 33,000 illegally deleted emails) be given $700,000 for wife s campaign by Clinton Puppets during investigation?  Trump tweeted.How can FBI Deputy Director Andrew McCabe, the man in charge, along with leakin  James Comey, of the Phony Hillary Clinton investigation (including her 33,000 illegally deleted emails) be given $700,000 for wife s campaign by Clinton Puppets during investigation?  Donald J. Trump (@realDonaldTrump) December 23, 2017He didn t stop there.FBI Deputy Director Andrew McCabe is racing the clock to retire with full benefits. 90 days to go?!!!  Donald J. Trump (@realDonaldTrump) December 23, 2017Wow,  FBI lawyer James Baker reassigned,  according to @FoxNews.  Donald J. Trump (@realDonaldTrump) December 23, 2017With all of the Intel at Trump s disposal, he s getting his information from Fox News. McCabe spent most of his career in the fight against terrorism and now he s being attacked by the so-called president. Trump has been fact-checked before on his claim of his wife receiving $700,000 for her campaign.Politifact noted in late July that Trump s  tweet about Andrew McCabe is a significant distortion of the facts. And the implication that McCabe got Clinton off as a political favor doesn t make much sense when we look at the evidence. His July tweet was rated  mostly false.  But Trump repeats these lies because he knows his supporters will believe them without bothering to Google. It s still a lie, though.Photo by Zach Gibson   Pool/Getty Images.'\n",
            " 'In the wake of yet another court decision that derailed Donald Trump s plan to bar Muslims from entering the United States, the New York Times published a report on Saturday morning detailing the president s frustration at not getting his way   and how far back that frustration goes.According to the article, back in June, Trump stomped into the Oval Office, furious about the state of the travel ban, which he thought would be implemented and fully in place by then. Instead, he fumed, visas had already been issued to immigrants at such a rate that his  friends were calling to say he looked like a fool  after making his broad pronouncements.It was then that Trump began reading from a document that a top advisor, noted white supremacist Stephen Miller, had handed him just before the meeting with his Cabinet. The page listed how many visas had been issued this year, and included 2,500 from Afghanistan (a country not on the travel ban), 15,000 from Haiti (also not included), and 40,000 from Nigeria (sensing a pattern yet?), and Trump expressed his dismay at each.According to witnesses in the room who spoke to the Times on condition of anonymity, and who were interviewed along with three dozen others for the article, Trump called out each country for its faults as he read: Afghanistan was a  terrorist haven,  the people of Nigeria would  never go back to their huts once they saw the glory of America, and immigrants from Haiti  all have AIDS. Despite the extensive research done by the newspaper, the White House of course denies that any such language was used.But given Trump s racist history and his advisor Stephen Miller s blatant white nationalism, it would be no surprise if a Freedom of Information Act request turned up that the document in question had the statements printed inline as commentary for the president to punctuate his anger with. It was Miller, after all, who was responsible for the  American Carnage  speech that Trump delivered at his inauguration.This racist is a menace to America, and he doesn t represent anything that this country stands for. Let s hope that more indictments from Robert Mueller are on their way as we speak.Featured image via Chris Kleponis/Pool/Getty Images'\n",
            " 'Many people have raised the alarm regarding the fact that Donald Trump is dangerously close to becoming an autocrat. The thing is, democracies become autocracies right under the people s noses, because they can often look like democracies in the beginning phases. This was explained by Republican David Frum just a couple of months into Donald Trump s presidency, in a piece in The Atlantic called  How to Build an Autocracy. In fact, if you really look critically at what is happening right now   the systematic discrediting of vital institutions such as the free press and the Federal Bureau of Investigation as well the direct weaponization of the Department of Justice in order to go after Trump s former political opponent, 2016 Democratic nominee Hillary Clinton, and you have the makings of an autocracy. We are more than well on our way. Further, one chamber of Congress, the House of Representatives, already has a rogue band of Republicans who are running a parallel investigation to the official Russian collusion investigation, with the explicit intent of undermining and discrediting the idea that Trump could have possibly done anything wrong with the Russians in order to swing the 2016 election in his favor.All of that is just for starters, too. Now, we have Trump making United Nations Ambassador Nikki Haley bully and threaten other countries in the United Nations who voted against Trump s decision to change U.S. policy when it comes to recognition of Jerusalem as the capital of the Jewish State. Well, one expert, who is usually quite measured, has had enough of Trump s autocratic antics: Former CIA Director John O. Brennan. The seasoned spy took to Trump s favorite platform, Twitter, and blasted the decision:Trump Admin threat to retaliate against nations that exercise sovereign right in UN to oppose US position on Jerusalem is beyond outrageous. Shows @realDonaldTrump expects blind loyalty and subservience from everyone qualities usually found in narcissistic, vengeful autocrats.  John O. Brennan (@JohnBrennan) December 21, 2017Director Brennan is correct, of course. Trump is behaving just like an autocrat, and so many people in the nation are asleep when it comes to this dangerous age, in which the greatest threat to democracy and the very fabric of the republic itself is the American president. Fellow Americans, we know the GOP-led Congress will not be the check on Trump that they are supposed to be. It s time to get out and flip the House and possibly the Senate in 2018, and resist in the meantime, if we want to save our country from devolving into something that looks more like Russia or North Korea than the America we have always know. We re already well on our way.Featured image via BRENDAN SMIALOWSKI/AFP/Getty Images'\n",
            " 'Just when you might have thought we d get a break from watching people kiss Donald Trump s ass and stroke his ego ad nauseam, a pro-Trump group creates an ad that s nothing but people doing even more of those exact things. America First Policies is set to release this ad, called  Thank You, President Trump,  on Christmas Day and, well, we threw up a little in our mouths trying to watch this.Basically, the spot is nothing but people fawning all over Trump for all the stuff he hasn t actually done. The ad includes a scene with a little girl thanking Trump for bringing back  Merry Christmas,  which never went away (there are even videos of President Obama saying  Merry Christmas  himself). A man thanks him for cutting his taxes. And America First says that everyday Americans everywhere are thanking Trump for being such a great and awesome president.The best president.Nobody s ever done what he s done. He s breaking all kinds of records every day.Believe us.Anyway, the word  propaganda  comes to mind when watching this. That s what it is   literal propaganda promoting someone who shouldn t need this kind of promotion anymore. Watch this ad bullshit below:The way the MAGAs are kowtowing to Orange Hitler is both disgusting and frightening. The man has done nothing, and his policies will harm the very same Americans who are thanking him. Unfortunately, it will take an obscene amount of pain before they ll open their eyes and see they ve been duped by a con man with a bad hairdo.And his ongoing need for this kind of adoration is, at best, unbecoming of his office. This ad is vile.Featured image via Al Drago-Pool/Getty Images']\n"
          ]
        }
      ]
    },
    {
      "cell_type": "markdown",
      "source": [
        "Checking for Location Headers in the Data Set"
      ],
      "metadata": {
        "id": "iFAe1QhnQPKI"
      }
    },
    {
      "cell_type": "code",
      "source": [
        "location_pattern = re.compile(r'^[A-Z][A-Z\\s,\\/\\.]*\\s-\\s')\n",
        "\n",
        "def has_location_header(text):\n",
        "    if pd.isnull(text):\n",
        "        return False\n",
        "    return bool(location_pattern.match(text.strip()))\n",
        "\n",
        "# Add column to mark 'has_location_header'\n",
        "merged_no_duplicates_df['has_location_header'] = merged_no_duplicates_df['text'].apply(has_location_header)\n",
        "\n",
        "# Check proportion in each class\n",
        "print(\"Proportion of articles starting with a location header:\")\n",
        "print(merged_no_duplicates_df.groupby('label')['has_location_header'].mean())\n",
        "\n",
        "# Count total in each class\n",
        "print(\"\\nCount of articles starting with a location header:\")\n",
        "print(merged_no_duplicates_df.groupby('label')['has_location_header'].sum())\n"
      ],
      "metadata": {
        "colab": {
          "base_uri": "https://localhost:8080/"
        },
        "id": "gR2YNTc8QMaG",
        "outputId": "89df0c1a-699e-447b-dd7d-23e804d64415"
      },
      "execution_count": 50,
      "outputs": [
        {
          "output_type": "stream",
          "name": "stdout",
          "text": [
            "Proportion of articles starting with a location header:\n",
            "label\n",
            "FAKE    0.000000\n",
            "TRUE    0.846586\n",
            "Name: has_location_header, dtype: float64\n",
            "\n",
            "Count of articles starting with a location header:\n",
            "label\n",
            "FAKE        0\n",
            "TRUE    17940\n",
            "Name: has_location_header, dtype: int64\n"
          ]
        }
      ]
    },
    {
      "cell_type": "markdown",
      "source": [
        "Again, we have seen that the location header also creates a shortcut to identify the TRUE News as we see from the percentage that Fake news do not contain any location header. If we feed this information our model will rely on this particular location format than to genuinely learn how to detect the fake news. So we have decided to strip the location header."
      ],
      "metadata": {
        "id": "m7V_vxKQQVgP"
      }
    },
    {
      "cell_type": "code",
      "source": [
        "def clean_location_header_with_audit(text):\n",
        "    if not isinstance(text, str):\n",
        "        return text, None\n",
        "\n",
        "    m = re.match(r'^(.{3,100}?)\\s*-\\s+', text)\n",
        "    if not m:\n",
        "        return text, None\n",
        "\n",
        "    header = m.group(1).strip()\n",
        "    letters = [c for c in header if c.isalpha()]\n",
        "    letters_str = ''.join(letters)\n",
        "\n",
        "    # CASE A: All letters uppercase\n",
        "    if letters and letters_str.isupper():\n",
        "        return text[m.end():].lstrip(), header\n",
        "\n",
        "    # CASE B: ALLCAPS city, TitleCase country/state\n",
        "    if re.match(r'^[A-Z0-9\\s\\.\\'()\\/-]+,\\s+[A-Z][a-z]+(?:\\s+[A-Z][a-z]+)*$', header):\n",
        "        return text[m.end():].lstrip(), header\n",
        "\n",
        "    # CASE C: TitleCase city, ALLCAPS country/state\n",
        "    if (re.match(r'^[A-Z][a-z]+(?:\\s+[A-Z][a-z]+)*,\\s+[A-Z0-9\\s\\.\\'()\\/-]+$', header)\n",
        "        and re.search(r',[^,]*[A-Z]{2,}', header)):\n",
        "        return text[m.end():].lstrip(), header\n",
        "\n",
        "    # CASE D: Abbreviations\n",
        "    if re.match(r'^[A-Z]{2,5},\\s*[A-Z\\.]{2,6}$', header.replace(' ', '')):\n",
        "        return text[m.end():].lstrip(), header\n",
        "\n",
        "    # CASE E: City, State/Country (like McAllen, Texas or Orlando, Fla.)\n",
        "    if re.match(\n",
        "        r'^[A-Z][a-z]+(?:\\s+[A-Z][a-z]+)*,\\s+[A-Z][a-z]+(?:\\.[A-Za-z]*)?(?:\\s+[A-Z][a-z]+)*$',\n",
        "        header\n",
        "    ):\n",
        "        return text[m.end():].lstrip(), header\n",
        "\n",
        "    # DEFAULT\n",
        "    return text, None\n",
        "\n",
        "\n",
        "results = merged_no_duplicates_df['text'].apply(clean_location_header_with_audit)\n",
        "merged_no_duplicates_df['text'] = results.apply(lambda x: x[0])\n",
        "merged_no_duplicates_df['removed_header'] = results.apply(lambda x: x[1])\n",
        "\n",
        "# check if any are left\n",
        "remaining_headers = merged_no_duplicates_df['text'].str.match(r'^[A-Z][A-Za-z\\s\\.,/()-]{2,30}-\\s')\n",
        "print(\"Articles with location header left:\", remaining_headers.sum())\n",
        "\n",
        "num_loc_headers = remaining_headers.sum()\n",
        "total_articles = len(merged_no_duplicates_df)\n",
        "percentage = (num_loc_headers / total_articles) * 100\n",
        "print(f\"Percentage of articles with location headers: {percentage:.2f}%\")\n"
      ],
      "metadata": {
        "colab": {
          "base_uri": "https://localhost:8080/"
        },
        "id": "euh6py7bQTuT",
        "outputId": "95c286e9-4a91-40dc-e8cd-a73851f07de3"
      },
      "execution_count": 75,
      "outputs": [
        {
          "output_type": "stream",
          "name": "stdout",
          "text": [
            "Articles with location header left: 12\n",
            "Percentage of articles with location headers: 0.03%\n"
          ]
        }
      ]
    },
    {
      "cell_type": "code",
      "source": [
        "remaining_headers_mask = merged_no_duplicates_df['text'].str.match(\n",
        "    r'^[A-Z][A-Za-z\\s\\.,/()-]{2,30}-\\s'\n",
        ")\n",
        "remaining_articles = merged_no_duplicates_df[remaining_headers_mask]\n",
        "\n",
        "print(remaining_articles['text'].head(30).values)\n"
      ],
      "metadata": {
        "colab": {
          "base_uri": "https://localhost:8080/"
        },
        "id": "b8hLYb6tTOoa",
        "outputId": "27395a42-83dd-45cd-e729-51f3fa67ab96"
      },
      "execution_count": 76,
      "outputs": [
        {
          "output_type": "stream",
          "name": "stdout",
          "text": [
            "['McAllen, Texas  - Standing on the bluffs of Roma, Texas on a May afternoon two border patrol agents look out over the meandering Rio Grande River that separates Mexico from the United States and recall a time when the scene was far less tranquil.  \\xa0\\xa0\\xa0\\xa0Last fall, during the waning months of the Obama administration, hundreds of immigrants crossed the river on rafts at this point each day, many willingly handing themselves over to immigration authorities in hopes of being released into the United States to await court proceedings that would decide their fate.  \\xa0\\xa0\\xa0Now, the agents look out on an empty landscape. Foot paths up from the water have started to disappear under growing brush, with only the stray baby shoe or toothbrush serving as reminders of that migrant flood. \\xa0\\xa0\\xa0 The reason for the change, the agents say, is a perception in Mexico and Central America that President Donald Trump has ended the practice known as “catch-and-release,” in which immigrants caught in the United States without proper documents were released to live free, often for years, as their cases ran through the court system. Now, would-be border violators know “they’ll be detained and then turned right back around,” said one of the two agents, Marlene Castro. “It’s not worth it anymore,” she said.  Castro was simply echoing her boss, Homeland Security Secretary John Kelly, who said on a visit to El Paso, Texas in April, “We have ended dangerous catch-and-release enforcement policies.” But immigration attorneys, government statistics and even some officials from U.S. Immigration and Customs Enforcement, which falls under Kelly, suggest that despite the DHS chief’s statement, there has been no clear change to the catch-and-release policy. That’s in large part because there are legal constraints on who can be detained and for how long, due to a shortage of beds and a court ruling limiting the stay of women and children in custody to 21 days.  \\xa0\\xa0\\xa0\\xa0A separate court ruling limits detention time for immigrants whose countries refuse to repatriate them. And Kelly noted in a February memorandum that asylum seekers that have proven they have a “credible fear” of returning home could be candidates for release if they present “neither a security risk nor a risk of absconding.” Daniel Bible, ICE field office director for Southern Texas, told  he and his colleagues have not been issued new directions, and so continue to release illegal immigrants deemed to be low security risks, usually with notices to appear in court. “We look at each case the same way we always have,” Bible said.  DHS spokeswoman Jenny Burke confirmed to  that the agency has not issued new guidance for releasing migrants caught at the border.  Asked to explain why there had been no new guidance, given Kelly’s statement in April, Burke said, “ICE officers make custody determinations on a case-by-case basis, prioritizing detention resources.” In a memo made public in February, Kelly defined catch and release as any policy that allows immigrants to be released from detention while they await their court hearings, making it easy to abscond. Ending catch and release was one of Trump’s central promises during the 2016 presidential campaign. Some advocates who work with migrants say they have seen little change since Trump came into office. “Sure, people are still being released,” said Kevin Appleby, senior director of international migration policy at the Center for Migration Studies. “Not because they believe in releasing them, but because there are not enough beds at the moment.”  ICE declined to provide data on the number of migrants being released into the United States. But other ICE data not previously published and reviewed by  shows the pool of people not in custody and awaiting court appearances is growing.  Since Trump took office in late January, the number of immigrants awaiting court proceedings while living freely in the United States has grown by nearly 30,000, rising by an average of about 7,500 per month, according to the ICE data. During the last seven months of President Barack Obama’s presidency, the rolls of those awaiting legal proceedings outside of custody grew more rapidly, at an average of about 20,600 people per month. Part of the slower rate under Trump can be traced to a 58 percent drop in apprehensions of people crossing the border. Still, the numbers suggest the Trump administration is a long way from ending catch-and-release.  NumbersUSA, a Washington-based organization that supports limited immigration, praised the Trump administration’s tough talk and its chilling effect on illegal immigration. “That impact will be temporary, though, unless the administration follows through by ending ‘catch and release’ for good,” it said. The Trump administration though has come up against the reality that there simply is not enough space in detention centers.  Congress has funded about 34,000 beds to detain immigration violators, and the average daily population of detainees has been near or above capacity since before Trump took office.       One way the administration hopes to free up detention space is to decrease the time it takes to resolve cases.  The Justice Department has requested funding to hire an additional 125 immigration judges over the next two years, an increase of 50 percent.  In the meantime, some border officials hope would-be migrants remain nervous. When told that ICE detention centers are still releasing many immigrants to live in the United States, Castro and her border agent colleague, who declined to be named, exchanged a look and then shrugged. “Don’t tell them that,” her colleague said. -See a related photo essay here reut.rs/2qZcutn '\n",
            " 'NEW YORK (Thomson  Foundation) - U.S. President Donald Trump on Monday reinstated a global gag rule that bans U.S.-funded groups around the world from discussing abortion, a move that was widely expected but nonetheless dismayed women’s rights advocates. The rule, which affects American non-governmental organizations working abroad, is one that incoming presidents have used to signal their positions on abortion rights. It was created under U.S. President Ronald Reagan in 1984. Trump, an abortion opponent, signed the reinstatement directive at a ceremony in the White House on his fourth day in office. Former President Barack Obama had lifted the gag rule in 2009 when he took office. “Women’s health and rights are now one of the first casualties of the Trump administration,” said Serra Sippel, president of the Center for Health and Gender Equity in Washington. “The global gag rule has been associated with an increase in unsafe abortions and we expect that Trump’s global gag rule will cost women their lives,” she said. Reinstatement of the gag rule, formally the Mexico City policy, comes just two days after crowds of people marched in cities around the world in a show of unity for women’s rights, among them abortion access. While no official estimates were available, organizers said nearly five million people participated. The far-reaching gag rule affects groups getting funding from the U.S. Agency for International Development, even if they use separate money for abortion services, counseling or referrals, advocates note. “It is appalling to dictate to civil society groups and health care providers how they can spend their own money and force them to withhold from women critical information about and access to the full range of reproductive health care,” said Nancy Northup, president of the U.S.-based Center for Reproductive Rights. The policy puts groups that provide women’s health care in an “untenable position,” said Brian Dixon of Population Connection Action Fund. They can either accept the restriction to keep their funding or they can reject the restriction and lose their funding, Dixon said. “Either choice hurts the women that rely on them.”  Following the rule’s inception in 1984, former President Bill Clinton revoked it when he took office in 1993 and former President George W. Bush reinstated it in 2001. “Life-saving global health funding should not be a political football,” said Ann Starrs, head of the Guttmacher Institute, a leading reproductive rights group.  There is no evidence the rule reduces abortion, she said. “In fact, by targeting funding for overseas family planning programs, it may well have the opposite effect by making it harder for many women to avoid unintended pregnancy, which in turn would increase recourse to unsafe procedures by women who cannot access safe abortion care,” she said. '\n",
            " 'NEW YORK (Thomson  Foundation) - Thousands of people have made donations to Planned Parenthood in the name of Vice President-elect Mike Pence, an abortion opponent, so that he will receive official acknowledgements from the women’s health care provider, the group said on Tuesday. The idea of making donations in Pence’s name arose and spread on social media as a protest after Republican Donald Trump won his bid for the U.S. presidency in a surprise victory last week. Both Trump and Pence, his running mate, have pledged to curtail women’s rights to abortion. Trump said the U.S. Supreme Court ruling Roe v Wade legalizing abortion should be overturned and that he would appoint an anti-abortion justice to the nation’s highest court.  Trump also said women who had abortions should be punished but later said it was doctors who perform abortions who should be punished. Pence, whose home state of Indiana has restrictive laws regulating access to abortion, has pushed for Congress to defund the nonprofit Planned Parenthood, which performs some abortions. A number of celebrities have publicized the donation campaign in Pence’s name with posts on social media, including Emmy Award-winning comedian Amy Schumer and actresses Ashley Hinshaw, Jaime Perry and Amber Tamblyn. They said their donations to Planned Parenthood included the address of Pence’s office in Indiana so it would get the acknowledgement that Planned Parenthood mails to donors. At least 20,000 people who have donated money since the U.S. election on Nov. 8 named Pence as donor, out of 160,000 people overall, a Planned Parenthood spokesman told the Thomson  Foundation. Planned Parenthood has reported a surge in donations and demand for long-acting contraceptives since Trump’s election. Pence signed a law this year that would have banned abortions due to genetic abnormality, criminalized collection of fetal tissue for research, required fetal tissue be buried or cremated and made women look at their fetal ultrasounds before getting an abortion. A federal judge blocked the law in June. Pence’s office did not respond to a request for comment. Planned Parenthood, which has more than 650 health centers nationwide, relies on public funding for about 40 percent of its funding. Private donations comprise about one quarter of its revenue, it said in its 2016 annual report. '\n",
            " 'NEW YORK (Thomson  Foundation) - The election of Republican Donald Trump to be the next U.S. president raises questions about the impact his administration  could have upon immigrants in the United States and the nation’s immigration and refugee policies. During his campaign Trump took a hardline position, proposing to build a wall along the United States’ border with Mexico and deport millions of undocumented immigrants. He also said he opposes accepting refugees fleeing violence in Syria and that Muslims should be banned from entering the United States, a proposal he later reworded as a call for a limit on immigration from “terror-prone regions”. Here are some experts’ views: Jennifer Gordon, professor at Fordham Law School in New York and an expert on immigration policy: “Trump campaigned on a promise to deport over 10 million undocumented immigrants. To carry this out would require staggering resources.\\xa0But given his attacks on undocumented people, one thing seems near-certain: he will exercise his authority to cancel the Deferred Action for Childhood Arrivals program that President Obama put in place to protect young undocumented immigrants.\\xa0This will leave many hard-working undocumented teachers, housekeepers, lawyers, construction workers, students, health aides and doctors in a tremendously vulnerable position.\\xa0Our country is richer in every way for their presence.\\xa0We must fight with every tool at our disposal to defend the core American value of inclusion.” Lavinia Limon, president, U.S. Committee for Refugees and Immigrants, Washington: “We encourage our new president to continue the tradition of the best of American values including equal protection and respect for every member of society. Worldwide, millions are denied basic human rights and we are strengthened as a country when all of humanity is recognized. America has always been the beacon of hope for the oppressed and this must continue. “Throughout our history refugees and immigrants have been welcomed to America by presidents from both parties in war and in peace and the current global refugee crisis is no time to shrink from this leadership.” Gal Adam Spinrad, economic empowerment program coordinator, Refugee Women’s Network Inc., Decatur, Georgia:  “The words immigrant, refugee, Muslim, walls and terrorism have ignited fear, hostility and division throughout the 2016 presidential election cycle. “Refugees are scared right now. Their safety and future here feels more tenuous, and the messages they have heard throughout this election have in many cases revictimized and retraumatized them. They are concerned their missing family members won’t be allowed to join them in America. They fear they will lose their green cards or be deported. Like their American counterparts, they worry about how they will get health insurance, whether they will be able to go to college, if their food stamps will be lowered, if they will lose the Social Security disability coverage they began receiving after an injury at one of the local chicken factories where many of them work. “Our hope is that the incoming presidential administration - supported by the legislature on both sides of the aisle - will retain a spirit of inclusion that makes refugees feel not only welcome, but safe.” Doris Meissner, director of U.S. immigration policy program, Migration Policy Institute, Washington: “The Trump administration can be expected to chart a very different course on immigration and refugee policy, as the candidate’s views of immigration as a security and economic threat were central to his campaign. The most immediate changes are likely to be over refugee resettlement and the Deferred Action for Childhood Arrivals (DACA) program. “Mr. Trump has made clear his intent to end the resettlement of Syrian refugees, and it will be within the president’s authority to set refugee allocations by country and overall. He also pledged to terminate the DACA program, which provides relief from deportation to more than 700,000 unauthorized immigrants whose parents brought them here as children. He has also pledged to increase deportations of unauthorized immigrants.” Stephen Yale-Loehr, professor of immigration law practice,  Cornell Law School, Ithaca, New York: “Donald Trump made immigration restrictions a big part of his campaign. Now we will see if he follows through on his immigration plans. Some actions, like reversing President Obama’s executive actions that protect millions of young immigrants from deportation, can be done unilaterally. Others, like building a wall along the U.S.-Mexico border, will require Congress to change current law or spend billions of dollars. “Although Republicans will control Congress for the next two years, it is always difficult to enact significant immigration changes because immigration is so complex and controversial. Moreover, some of his immigration changes could be challenged in court. President-elect Trump stated in his victory speech that he will be fair to everyone. Let’s hope he keeps that promise to immigrants.”   Jim DeMint, president, Heritage Foundation, and former U.S. Senator from South Carolina: “Donald Trump campaigned on the promise to reverse the liberal policies of the Obama administration and pursue a largely conservative agenda, and securing our borders was his signature campaign issue. While pundits focused on ‘the wall’ and who would pay for it, his proposals were more comprehensive. For instance, people overstaying their visas account for 40 percent of the nation’s illegal immigrant population. Trump pledged to address that problem by fixing the nation’s entry-exit tracking system. “As for refugees, President Obama announced plans to admit 110,000 refugees - 40,000 from the Middle East and South Asia regions - in fiscal year 2017. Trump’s preferred plan is to establish ‘safe havens’ in Syria.\\xa0He argues that this approach would safeguard ten times as many refugees as could be accommodated in this country.” Mark Krikorian, executive director, Center for Immigration Studies, Washington: “A Trump administration will restart routine immigration enforcement. This is a major change from the Obama policy of ignoring most non-violent immigration offenders. This means more border fencing, penalizing crooked businesses and implementing a check-out system for foreign visitors to prevent overstays (the main source of new illegal immigration). “Regarding legal immigration, refugee resettlement from the Middle East is likely to be suspended, pending a bottom-up review of the system.\\xa0Foreign-worker programs will be modified so they can’t be used to replace American workers, as now. And over the longer term, our legal immigration system is likely to be shifted from its emphasis on family ties to one that focuses on skills.” Marielena Hincapie, executive director, National Immigration Law Center, Los Angeles: “The election of a candidate who staked his presidential bid on racist, xenophobic and misogynistic rhetoric has left our country more polarized than ever. President-elect Trump touted draconian changes to our immigration system, which should gravely concern everyone who cares about our values of fairness and equality.  “Many of Trump’s immigration proposals don’t square with our Constitution. Our communities have successfully beaten back similar ill-conceived proposals in states like Arizona and Alabama, and we will continue [to] fight - in the courtroom, if necessary - to ensure that the rights of immigrant and refugee communities are protected across the country.” David Bier, immigration policy analyst, Cato Institute, Washington: “Donald Trump promised to limit the flow of Muslim refugees. Current law leaves refugee admissions up to presidential discretion, and he could accomplish this on Day One. Compared to a religious test, barring refugees from countries with large Muslim populations would be easy to enforce and, assuming no reallocation, could reduce refugee flows by 40 percent. This would exclude Christians, however, whom he promised to save, and that could lead to pushback from Congress. “Trump may adopt one solution to which some Republicans have expressed openness: allowing Americans to sponsor their refugee family members. This could help Christian refugees while overcoming Trump’s security objections for certain Muslims, since DNA could verify their U.S. connections and sponsors could receive thorough vetting.” '\n",
            " 'NEW YORK (Thomson  Foundation) - Abortion rights advocates on Monday cheered a decision by the U.S. Supreme Court that struck down restrictions to abortion access in Texas, calling it a major victory for women and predicting similar laws are now endangered nationwide. The high court ruled 5-3 that a Texas law imposing strict regulations on abortion doctors and facilities put an undue burden on women exercising their right to abortion, which has been legal in the United States since 1973. Laws such as the Texas regulations are seen by critics as a backdoor way of restricting abortion access. Hardest hit are rural, poor women for whom distance and cost put abortions out of reach, they say. The Texas law required abortion doctors to have admitting privileges, a formal affiliation that can be hard to obtain, at a hospital within 30 miles (50 km), and required clinics to have costly, hospital-grade facilities such as specified corridor width, floor tiles, parking spaces and elevator size. “With today’s Supreme Court ruling, I let out a big exhale,” said Tracy Droz Tragos, director of “Abortion: Stories Women Tell,” to be released in August by HBO Documentary Films. “At least for a moment, I am optimistic about the future of women in America.” Women have had their constitutional rights vindicated, said Nancy Northup, president of the Center for Reproductive Rights which represented the Texas clinics, in a statement. “The Supreme Court sent a loud and clear message that politicians cannot use deceptive means to shut down abortion clinics,” she said. Texas claimed its law protected women’s health, but critics said the regulations were medically unnecessary and intended to shut down clinics. Writing the Supreme Court decision, Justice Stephen Breyer wrote: “We conclude that neither of these provisions offers medical benefits sufficient to justify the burdens upon access that each imposes.” “Each places a substantial obstacle in the path of women,” he wrote. Decrying the decision, anti-abortion groups such as the Susan B. Anthony List said Texas women will be unprotected from dangerous and unsanitary conditions. “The abortion industry cannot be trusted to regulate itself and they know it,” said Marjorie Dannenfelser, president of the List, which supports anti-abortion political candidates. Making a similar argument, Kristan Hawkins, president of Students for Life of America, in a statement said abortion providers “prey on the vulnerabilities of women who are in desperate situations, placing their bottom line over the health and safety of the patients.” “And the U.S. Supreme Court, in efforts to put the so-called ‘right to abortion’ above everything else, just let them get away with it,” she said. Since the restrictive law was passed in 2013, the number of abortion clinics in Texas, a state of 27 million people, dropped to 19 from 41. “Today is a great day for women,” said Ilyse Hogue, president of NARAL Pro-Choice America, in a statement. “The Supreme Court has powerfully reaffirmed a woman’s constitutional right to make her own decisions about her health, family, and future, no matter her zip code,” she said. Similar laws are likely to be struck down, experts said, in states with restrictions such as requiring women to make repeated visits or requiring ultrasounds for women seeking abortions and that the images be shown to them. “We’ve known for a long time that the purpose of these laws is to prevent women from having abortions,” said reproductive rights attorney Kathryn Kolbert, who argued a major abortion case before the high court in 1992. “It may not be the death blow, but it certainly makes it more difficult to put forward these types of laws with a straight face,” she said. Documentary filmmaker Dawn Porter, who made a film about abortion providers in Texas and elsewhere in “Trapped” that was released this year, said she was “elated.” “If there’s any silver lining in Texas making such an egregiously unconstitutional law, it’s that I think people have woken up and people are thinking you can’t taking any rights for granted,” she said. “You cannot sleep on your rights.” '\n",
            " 'NEW YORK (Thomson  Foundation) - As a Supreme Court decision on abortion rights is highly anticipated in the United States, few are as uniquely positioned to assess its impact as reproductive rights attorney Kathryn Kolbert, who argued the last major abortion case before the high court. In that 1992 challenge, the landmark Roe v. Wade ruling legalizing abortion survived, but the Supreme Court allowed for such state regulations as waiting periods. The decision was written by Justices Sandra Day O’Connor and David Souter, who have retired, and Justice Anthony Kennedy. Kennedy is seen as pivotal in the current case which picks up, in a sense, where the earlier case, Planned Parenthood v. Casey, left off. This time, the court is deciding if Texas has created an undue burden for women by imposing stiff regulations on abortion clinics and doctors. Critics say the rules are a backdoor means to restrict access to abortion, known as TRAP laws. More than half of Texas’ clinics have closed, leaving fewer than 20, advocates say, to serve the state of 27 million people. Hardest hit have been rural, poor women for whom distance and cost have put abortions out of reach, they say. Supporters of the laws say they protect women’s health, however. The regulations require clinics to upgrade to hospital standards and doctors performing abortions to have formal agreements to admit patients to local hospitals.  Kolbert, who heads the Athena Center for Leadership Studies at New York’s Barnard College, talked with the Thomson  Foundation about the Supreme Court and abortion rights. She co-founded the Center for Reproductive Law and Policy, which is representing Whole Women’s Health, the chain of clinics challenging the Texas regulations. THOMSON  FOUNDATION: It seems the issues being addressed in the Texas case come out of the Casey case, that the regulations are an undue burden. KOLBERT: The main issue in the case is how the undue burden standard will be interpreted going forward. The whole question comes down to Justice Kennedy and how he sees that standard, and he frankly is much more in the middle. Does he come back to what he articulated in Casey, or is he pushed a little bit to the right with the influence of the other justices? For me, the biggest concern is Justice O’Connor, who he clearly listened to, is no longer on the court. TRF: What do you think in essence underlies the abortion issue? KOLBERT: It’s an issue that ties together the coalitions on the right, the fundamentalists, the Catholics, the people who basically are business conservatives. It’s about power. It’s about equality. There’s a lot of pushback in America still about giving women the ability to go beyond what they are, their life as a wife and mother, which is the culturally dominant view.  TRF: TRAP laws are often hard to explain because they seem so benign. KOLBERT: That’s a strategy. Those who are writing these restrictions are looking for things that sound reasonable but in practice are incredibly problematic for women, particularly those who have less political power. So young women and poor women are the first that are going to be affected negatively. If you look at every restriction that’s been introduced since 1973, they are all under the guise of reasonableness. TRF: Texas is the case being tested. Is it safe to say there are similar situations in other states? KOLBERT: All over the country, yes. Frankly, if this is upheld the same statute will be enacted in 25 states within three years. That’s what makes it so dangerous. TRF: What are the possibilities of what the Supreme Court could do? KOLBERT: Remember the court has got only eight justices right now, so the option is really one of three. We win five to three, which means that we have (Justice Elena) Kagan, (Justice Stephen) Breyer, (Justice Sonia) Sotomayor, (Justice Ruth) Ginsberg and Kennedy.... Kennedy wrote Casey, so that’s a reasonable assumption. The second possibility is that the court would not make a decision right now and would send the case back for taking of additional evidence ... which is what I think of as looking for an out. They could remand the case for a determination of whether or not there are a sufficient number of clinics within the state to handle the excess capacity of women needing abortions that would happen when you close so many clinics. So we could win, there could be an ‘out’ or we could lose. If the court divided four-four..., then the lower court decision would be upheld. That would be interpreted as a major win for the anti-abortion groups, and we would see laws like this in every state in the country. TRF: If you had to put your money on any of those three options, which one do you see more likely? KOLBERT: I certainly hope that we can keep Justice Kennedy. If not, then I think they’ll send it back for more evidence. TRF: What’s it like to argue a case before the Supreme Court?  KOLBERT: It’s pretty awesome, it’s scary. For me though it was all about the women we were representing. It’s the doctors and the clinics, the providers who do the hard work, who meet with women facing unintended pregnancies every single day. It was being able to be a spokesperson for them and to explain their plight and explain what they’re going through that was the most gratifying part of the job. '\n",
            " 'LONDON (Thomson  Foundation) - Self-designed homes based on traditional Iraqi architecture could be the solution to the drastic housing crisis facing Mosul, where hundreds of thousands are expected to return following the end of three years of Islamic State occupation. An award-winning design would see returning residents create their own neighborhoods in modules that can grow and evolve to suit their needs.   The shape of the housing is completely up to the inhabitants,  said Ania Otlik, the winner of inaugural Rifat Chadirji Prize, which challenged architects to find a practical and sustainable solution to the Iraqi city s housing needs.  Having one measure that fits all is almost impossible, especially when it comes to such a diverse society ... which varies in religion, culture, background (and) family size.  Nearly 1 million civilians fled in the three years since Islamic State militants took the city, which Iraq declared liberated in July, according to the United Nations. Iraqi government officials have estimated it will take at least five years and billions of dollars to rebuild Mosul. Otlik, a graduate of Wroclaw University of Science and Technology in Poland, researched traditional Iraqi architectural designs, poring over sketches and schemes to create her housing plan. Each dwelling is constructed around a central patio, providing outside space around which rooms and spaces can be arranged.  The plan of the house can be a little more open when the family decides it this way, or maybe another family is strictly Islamic so they will build it in their own traditional way,  she told the Thomson  Foundation. Building materials that are easy to source in the battle-scarred city - such as rubble and mud - could be used for construction until more permanent replacements become available, she said. Otlik drew inspiration from her native Poland, whose capital Warsaw was entirely rebuilt after it was razed by Nazi troops during the Second World War. Other finalist designs featured garden bridges over the Tigris river to provide housing and urban farms, and homes connected via a metro repurposed from a system of subterranean tunnels constructed by Islamic State to aid its fighters.  It was not a problem finding a winner,  said Ahmed Al-Mallak, founding director of the independent Tamayouz Excellence Award, which oversaw the competition. Mallak hopes the winning designs will influence Iraq s construction and housing minister Anne Nafi Aussi and a number of planning officials who are scheduled to attend the formal prize-giving ceremony in Jordan s capital Amman in December. '\n",
            " 'NUSA DUA, Indonesia,  - When students at Indonesia s prestigious Institute of Agricultural Studies swore an oath to support a caliphate in the world s largest Muslim-majority country last year, a video of the event went viral and the government grew alarmed.  Months later, Indonesian President Joko Widodo banned the decades-old hardline group Hizb ut-Tahrir Indonesia (HTI), which organized the student pledge, and declared its goal to set up a caliphate was incompatible with the constitution and could threaten security. Last month, under prodding from the government, thousands of students across the nation made an anti-radicalism pledge. It followed an unprecedented gathering in late September of some 3,000 academics in Bali, who also pledged to fight extremism and defend the secular constitution.  The campaign against extremism in education comes amid a rise of a hardline, politicized Islam in Indonesia, which until recently had occupied the fringe of the nation s politics.    Radical organizations can spread like a virus in universities,  said Professor Muhammad Sirozi, rector of the State Islamic University Raden Fatah in Palembang on Sumatra.   These are not the organizations that students form themselves, but they are from outside,  he said at a briefing that outlined ways to help universities tackle radicalism following the Bali conference. The campaign to root out boosters of the caliphate is not just confined to schools.  A document collated by Indonesia s intelligence agency lists 1,300 HTI members in senior posts in the civil service, universities, the military and police. An intelligence source confirmed the authenticity of the document, which was reviewed by . Some of those on it  declined to comment after being contacted, but HTI s former spokesman Ismail Yusanto said it did include some of its members. Illustrating how a politicized brand of Islam has gained traction, nearly 20 percent of high school and university students in Indonesia support the establishment of a caliphate, a survey showed last week. Moreover, around one in four of the 4,200 Muslim students in the survey by pollster Alvara said they were, to varying degrees, ready to wage jihad to achieve this.  Hizb ut-Tahrir, an international organization, established by a Palestinian Islamic scholar in 1953, has been banned in some Arab, Asian and European countries. One of its former members in Indonesia is Bahrun Naim, who went to fight for Islamic State in Syria and is accused of masterminding a series of attacks in Indonesia since early last year. An officially registered organization in Indonesia since 2000, HTI has sought a judicial review in the constitutional court over its disbanding.  They never gave us a chance to defend ourselves. Is it not an authoritarian and repressive action?  said HTI spokesman Yusanto, who likened the crackdown to the tactics used against opponents under former strongman President Suharto.   Asked whether HTI was still operating, Yusanto said no one could ban members from their duty to do  Dakwah  (missionary work) and those activities would continue. Higher Education Minister Muhammad Nasir told reporters in July that HTI members were lecturers  in many universities  - Indonesia has 394 state universities and about 3,000 private ones. He warned they could be sacked unless they proffer loyalty to Indonesia s secular ideology Pancasila, or  five principles . Yusanto said, however, no lecturers who were HTI members had been sacked. A Home Ministry spokesman said a task force set up to find members in the civil service had not found any so far. One former HTI member, Ayik Heriansyah, said the group tries to enlist support from influential members of society and sympathizers in the security forces to overthrow governments, or what it terms  the handing over of power .  Universities have been a key recruiting ground. Heriansyah, who was once chairman of HTI at the University of Indonesia, said potential recruits were usuallyinvited to an Islamic study group. After about three months, they might be asked to participate in intensive Hiz b-ut-Tahrir study, said Heriansyah, who said left the group after a falling out with its central board. Heriansyah said the ban on the group would simply push it underground.     They are still running the movement as usual, but with a new structure and stewardship,  he said. HTI has not disclosed its membership. Raymond Arifianto, a research fellow at Singapore s S. Rajaratnam School of International Studies, said his sources say HTI had about one million members, including an estimated 10-15 percent of junior army officers as members or sympathizers. A spokesman for Indonesia s military denied this. The group has also gained a strong presence in state universities that train public school teachers, meaning new teachers could spread HTI ideology to high school pupils.  A survey published last December by the Institute for the Study of Islam and Society, showed that 78 percent of 505 religious teachers in public schools supported implementing sharia law in Indonesia. The survey also found that 77 percent backed Islamist groups advocating this goal. Muhammad Abdullah Darraz, director of the Maarif Institute, which promotes religious and cultural harmony, said HTI had targeted religious lessons at state high schools to spread its ideology. Clerics offered their services for free, often with school principals and teachers being unaware of their affiliation, he told .HTI s spokesman denied this was a strategy but said members were obliged to do missionary work without charge.        Indonesia s biggest Islamic groups, the moderate Nahdlatul Ulama (NU) and Muhammadiyah, which claim to have about 120 million members between them, back the crackdown on HTI. Yaqut Cholil Qoumas, chairman of NU s GP Ansor youth wing, said that Indonesia had been built by many religions and cultures, but  HTI came and wanted to change this diversity into one nation called an Islamic country.  '\n",
            " 'Deir al Zor, SYRIA  - U.S.-allied militias in northern Syria announced on Saturday the formation of a civilian council to govern the oil rich eastern province of Deir al Zor where they are racing with the Syrian army to capture territory held by Islamic State.  The Syrian Democratic Forces (SDF), which includes Arab militias but is dominated by the powerful Kurdish YPG militia, launched an operation in Deir Zor province which borders Iraq earlier this month which captured its northern countryside and advanced east of the Euphrates River.  On Saturday they seized a major gas field in Deir al-Zor province from Islamic State militants in rapid advances that preempted the Syrian government that was also heading in that direction. In a separate offensive, Syrian army and Iranian backed militias with Russian air power had also this month broke a years-long Islamic State siege of government-held parts of Deir al-Zor on the other side of the Euphrates river. The advances against Islamic State have brought U.S.-backed forces and the Syrian government side, backed by Russia and Iran, into close proximity. The assaults by the Russian-backed Syrian army and the U.S.-backed SDF have at times raised fears of clashes that could stoke tensions between the competing world powers. The SDF appointed one hundred tribal figures to meet and elect a council to run the province on Sunday. In a final communique the council said its priority was the return of tens of thousands of displaced residents of the province who fled during the conflict and restoring basic utilities. It urged the U.S. led coalition to provide aid to the war-torn province.  We want to cement ties among the people of the province,  the statement of the newly formed Deir al-Zor civil council said. The extent of Kurdish control in the eastern province that lies at the heart of Arab tribal area is sensitive both for residents and for Ankara, which has fought a three-decade Kurdish insurgency inside Turkey and fears growing YPG ascendancy just over the border in northern Syria. Many local Arab tribes from the region also complain they are marginalized in decision making and blame the YPG for discrimination against them, including the forced conscription of their youths. The YPG denies these allegations. The establishment of a local council effectively run by the SDF expands a sphere of Kurdish influence that has grown in northern Syria during the multi-sided conflict. It would mirror governing arrangements put in place in other towns after the SDF repelled Islamic State. '\n",
            " 'Fort Lauderdale and New York  - When more than 7.4 million homes and businesses are without power after a hurricane, utility workers tend to get noticed a bit more than usual. That s what Gus Beyersdorf, 40, and his colleague Nick Jensen, 32, utility workers from Wisconsin, found out while inspecting power lines in Florida on Monday. The two - among the thousands of power-line workers brought in from out-of-state by major utilities - spent about five minutes outside a house in Fort Lauderdale, when two cars with women who said they lived in the neighborhood stopped to inquire about the return of power to their homes - obviously trying to get their attention.  I think you guys are sexy. Men in hard hats are attractive!  said one of the women, obviously just joking with the Wisconsin men, but also making it clear that she would like it if they would get the power turned back on at her house.  Major utilities in the state - including Florida Power & Light Co, Duke Energy Corp  and Tampa Electric - have mobilized tens of thousands of workers to deal with the enormous power outages, which by Monday evening numbered more than 7.4 million homes and businesses after Hurricane Irma landed as a Category 4 storm early Sunday.  While the numbers in Florida were declining slightly, more outages were being reported in Georgia and other states as Irma, now a tropical storm, moved north. Beyersdorf and Jensen left northern Wisconsin on Friday morning and raced to southern Florida to be in place ahead of Irma s impact. Between 2,000 and 3,000 utility workers from out-of-state are staying at BB&T Stadium in Broward County, which is home to the National Hockey League s Florida Panthers, said Beyersdorf.  Power losses in Georgia, which were nearing 900,000 as of 3 p.m. EDT, were expected to increase as the storm moved north.  In Florida, the state s biggest electric company said its outages dipped to 3.3 million from a peak of 3.6 million earlier on Monday. A total of almost 4.5 million Florida Power & Light customers have been affected by the storm, with about 1 million getting service restored, mostly by automated devices.  We ve never had that many outages, and I don t think any utility in the country ever has,  FPL Chief Executive Eric Silagy said at a news conference on Monday.  It is by far and away the largest in the history of our company.  FPL said it was still assessing the damage and could not yet say when it would restore service to most customers. Some homes and businesses could be without power for weeks, especially in the hardest-hit areas like southwest Florida, the NextEra Energy Inc unit said.  It took a week for Matthew,  Jensen said, referring to a hurricane that last year did not make landfall in Florida but caused power outages.  This one is going to take a lot longer.  As Irma pushed north, outage figures were increasing at other large utilities, including units of Duke Energy, Southern Co and Emera Inc.  Duke s outages held around 1.2 million on Monday evening, while Emera s Tampa Electric utility said outages eased to about 320,000 from a peak earlier on Monday of over 330,000. FPL said its two nuclear plants were safe. Both units at its Turkey Point facility, about 30 miles (48 km) south of Miami, were shut by early Monday. At its St. Lucie nuclear plant about 120 miles (190 km) north of Miami, FPL reduced power at Unit 1 because of salt buildup from Irma in the switchyard, NRC spokesman Roger Hannah said. The plant s other reactor, Unit 2, continued to operate at full power. Irma is expected to sap demand for fuel for a time, Goldman Sachs analysts said in a note on Monday, but they cautioned that supply could remain strained because of refining capacity offline after Hurricane Harvey, which hit Texas two weeks ago. '\n",
            " 'Senator Chuck Schumer ( D- NY) is furious with Ted Cruz, and with good reason. Like many Republicans, Cruz has helped circle the wagons in the wake of the death of Supreme Court Justice Antonin Scalia, and has promised to block anyone President Obama might appoint. Of course, all of those extremist windbags on the right want another far-right nut like Antonin Scalia on the Court   but there s a catch. President Obama has every right to nominate a person of his choosing, which will ensure a Supreme Court with liberal leanings. The GOP-controlled Senate, however, will do all they can to make sure that doesn t happen, though, and they have said so openly, thus leading to Sen. Schumer s fury.Appearing on This Week on Sunday morning, the Senator laid into Cruz s plans: Well, the job, first and foremost, is for the president to nominate and for the Senate to hold hearings and go through the process. You know, the Constitution, Ted Cruz holds the Constitution when he walks through the halls of Congress. Let him show me the clause that says president s only president for three years. After making his point about Cruz, Schumer then turned his attentions to Mitch McConnell s obstructionism. You know, the kind of obstructionism that Mitch McConnell s talking about, he s harking back to his old days, you know, he recently he said, well,  I want regular order.  But in 2010, right after the election or right during the election, he said,  My number one job is to defeat Barack Obama,  without even knowing what Barack Obama was going to propose. Here, he doesn t even know who the president s going to propose and he said,  no, we re not having hearings, we re not going to go forward to lead the Supreme Court vacant at 300 days in a divided time. This kind of obstructionism isn t going to last. And you know, we Democrats didn t do this. We voted 97-0 for Justice Kennedy in the last year of Reagan s term. I think first the American people don t like this obstruction. When you go right off the bat and say,  I don t care who he nominates, I am going to oppose him,  that s not going to fly. Indeed it s not going to fly. These people hate the sitting President so much that they are willing to leave a vacant seat on the court before they let anyone he might nominate through. Senator Schumer is right   no reasonable American would go for this. Let Cruz and the rest of the GOP hang themselves with this one, though. It will only be a matter of time.Watch the clip below, as posted to Twitter by ABC:WATCH: @SenSchumer to @tedcruz:  Show me the clause that says the president is only president for three years.  https://t.co/YJdZr3ZDTM  This Week (@ThisWeekABC) February 14, 2016Featured image from video screen capture via Raw Story'\n",
            " 'Got News-  New York Times Mexican telecom mogul Carlos Slim s blogger Michael Schmidt told professional liar Brian Williams that he hadn t seen the memos that James Comey allegedly wrote.  Someone that had seen them recounted details to me,  Schmidt said in what is a breach of journalistic protocol.Schmidt has been called out for getting a story wildly wrong before thanks to his anonymous sources. Schmidt, citing his anonymous federal law enforcement sources, claimed that one of the San Bernardino terrorists had talked about jihad openly. She didn t.His boss even reprimanded him and called for  systematic changes  to the way Schmidt and Carlos Slim s blog use anonymous sources.We guess our anonymous sources are better than the Times.Schmidt s open admissions on MSNBC confirm GotNews reporting Wednesday that Schmidt hasn t in fact seen the relevant Comey documents. ']\n"
          ]
        }
      ]
    },
    {
      "cell_type": "markdown",
      "source": [
        "Koshish - I will remove these specific city manually"
      ],
      "metadata": {
        "id": "ZzfguT70b-4a"
      }
    },
    {
      "cell_type": "code",
      "source": [
        "manual_headers = [\n",
        "    \"San Diego\", \"Washington\", \"McAllen, Texas\", \"NEW YORK\", \"NEW YORK\", \"Kuala Lumpur\",\n",
        "    \"Ankara\", \"Juba\", \"Aden\", \"LONDON\", \"NUSA DUA, Indonesia,\", \"Seoul\", \"Buenos Aires\",\n",
        "    \"Deir al Zor, SYRIA\", \"Sydney\", \"Berlin\", \"Fort Lauderdale\",\"Fort Lauderdale and New York\", \"Beijing\", \"Melbourne\",\n",
        "    \"Orlando\", \"Orlando, Fla.\", \"McAllen, Texas\", \"Washington, D.C.\"\n",
        "]\n",
        "\n",
        "def remove_manual_headers(text):\n",
        "    for h in manual_headers:\n",
        "        pattern = re.compile(r'^' + re.escape(h) + r'(?:\\s*\\([^\\)]*\\))?\\s*-\\s*')\n",
        "        text = pattern.sub('', text, count=1).lstrip()  # remove header and dash\n",
        "    return text\n",
        "\n",
        "\n",
        "merged_no_duplicates_df['text'] = merged_no_duplicates_df['text'].apply(remove_manual_headers)\n",
        "\n",
        "remaining_headers_mask = merged_no_duplicates_df['text'].str.match(\n",
        "    r'^[A-Z][A-Za-z\\s\\.,/()-]{2,30}-\\s'\n",
        ")\n",
        "remaining_articles = merged_no_duplicates_df[remaining_headers_mask]\n",
        "\n",
        "print(\"Articles with location header left:\", remaining_headers_mask.sum())\n",
        "print(\"Percentage:\", (remaining_headers_mask.sum() / len(merged_no_duplicates_df)) * 100)\n",
        "print(\"Remaining headers sample:\", remaining_articles['text'].head(50).values)"
      ],
      "metadata": {
        "colab": {
          "base_uri": "https://localhost:8080/"
        },
        "id": "R2-j7CuZaPEm",
        "outputId": "e74bfd50-aca8-42d9-92b4-9888b2203419"
      },
      "execution_count": 87,
      "outputs": [
        {
          "output_type": "stream",
          "name": "stdout",
          "text": [
            "Articles with location header left: 2\n",
            "Percentage: 0.005176653293645658\n",
            "Remaining headers sample: ['Senator Chuck Schumer ( D- NY) is furious with Ted Cruz, and with good reason. Like many Republicans, Cruz has helped circle the wagons in the wake of the death of Supreme Court Justice Antonin Scalia, and has promised to block anyone President Obama might appoint. Of course, all of those extremist windbags on the right want another far-right nut like Antonin Scalia on the Court   but there s a catch. President Obama has every right to nominate a person of his choosing, which will ensure a Supreme Court with liberal leanings. The GOP-controlled Senate, however, will do all they can to make sure that doesn t happen, though, and they have said so openly, thus leading to Sen. Schumer s fury.Appearing on This Week on Sunday morning, the Senator laid into Cruz s plans: Well, the job, first and foremost, is for the president to nominate and for the Senate to hold hearings and go through the process. You know, the Constitution, Ted Cruz holds the Constitution when he walks through the halls of Congress. Let him show me the clause that says president s only president for three years. After making his point about Cruz, Schumer then turned his attentions to Mitch McConnell s obstructionism. You know, the kind of obstructionism that Mitch McConnell s talking about, he s harking back to his old days, you know, he recently he said, well,  I want regular order.  But in 2010, right after the election or right during the election, he said,  My number one job is to defeat Barack Obama,  without even knowing what Barack Obama was going to propose. Here, he doesn t even know who the president s going to propose and he said,  no, we re not having hearings, we re not going to go forward to lead the Supreme Court vacant at 300 days in a divided time. This kind of obstructionism isn t going to last. And you know, we Democrats didn t do this. We voted 97-0 for Justice Kennedy in the last year of Reagan s term. I think first the American people don t like this obstruction. When you go right off the bat and say,  I don t care who he nominates, I am going to oppose him,  that s not going to fly. Indeed it s not going to fly. These people hate the sitting President so much that they are willing to leave a vacant seat on the court before they let anyone he might nominate through. Senator Schumer is right   no reasonable American would go for this. Let Cruz and the rest of the GOP hang themselves with this one, though. It will only be a matter of time.Watch the clip below, as posted to Twitter by ABC:WATCH: @SenSchumer to @tedcruz:  Show me the clause that says the president is only president for three years.  https://t.co/YJdZr3ZDTM  This Week (@ThisWeekABC) February 14, 2016Featured image from video screen capture via Raw Story'\n",
            " 'Got News-  New York Times Mexican telecom mogul Carlos Slim s blogger Michael Schmidt told professional liar Brian Williams that he hadn t seen the memos that James Comey allegedly wrote.  Someone that had seen them recounted details to me,  Schmidt said in what is a breach of journalistic protocol.Schmidt has been called out for getting a story wildly wrong before thanks to his anonymous sources. Schmidt, citing his anonymous federal law enforcement sources, claimed that one of the San Bernardino terrorists had talked about jihad openly. She didn t.His boss even reprimanded him and called for  systematic changes  to the way Schmidt and Carlos Slim s blog use anonymous sources.We guess our anonymous sources are better than the Times.Schmidt s open admissions on MSNBC confirm GotNews reporting Wednesday that Schmidt hasn t in fact seen the relevant Comey documents. ']\n"
          ]
        }
      ]
    },
    {
      "cell_type": "code",
      "source": [
        "print(\"Sample TRUE news after improved location header removal:\")\n",
        "print(merged_no_duplicates_df[merged_no_duplicates_df['label'] == 'TRUE']['text'].head(10).values)\n",
        "\n",
        "print(\"\\nSample FAKE news:\")\n",
        "print(merged_no_duplicates_df[merged_no_duplicates_df['label'] == 'FAKE']['text'].head(10).values)"
      ],
      "metadata": {
        "colab": {
          "base_uri": "https://localhost:8080/"
        },
        "id": "_UNVUfrYQav0",
        "outputId": "7b76f4f5-2387-4dee-bd63-6e3d1effd2fe"
      },
      "execution_count": 88,
      "outputs": [
        {
          "output_type": "stream",
          "name": "stdout",
          "text": [
            "Sample TRUE news after improved location header removal:\n",
            "['The head of a conservative Republican faction in the U.S. Congress, who voted this month for a huge expansion of the national debt to pay for tax cuts, called himself a “fiscal conservative” on Sunday and urged budget restraint in 2018. In keeping with a sharp pivot under way among Republicans, U.S. Representative Mark Meadows, speaking on CBS’ “Face the Nation,” drew a hard line on federal spending, which lawmakers are bracing to do battle over in January. When they return from the holidays on Wednesday, lawmakers will begin trying to pass a federal budget in a fight likely to be linked to other issues, such as immigration policy, even as the November congressional election campaigns approach in which Republicans will seek to keep control of Congress. President Donald Trump and his Republicans want a big budget increase in military spending, while Democrats also want proportional increases for non-defense “discretionary” spending on programs that support education, scientific research, infrastructure, public health and environmental protection. “The (Trump) administration has already been willing to say: ‘We’re going to increase non-defense discretionary spending ... by about 7 percent,’” Meadows, chairman of the small but influential House Freedom Caucus, said on the program. “Now, Democrats are saying that’s not enough, we need to give the government a pay raise of 10 to 11 percent. For a fiscal conservative, I don’t see where the rationale is. ... Eventually you run out of other people’s money,” he said. Meadows was among Republicans who voted in late December for their party’s debt-financed tax overhaul, which is expected to balloon the federal budget deficit and add about $1.5 trillion over 10 years to the $20 trillion national debt. “It’s interesting to hear Mark talk about fiscal responsibility,” Democratic U.S. Representative Joseph Crowley said on CBS. Crowley said the Republican tax bill would require the  United States to borrow $1.5 trillion, to be paid off by future generations, to finance tax cuts for corporations and the rich. “This is one of the least ... fiscally responsible bills we’ve ever seen passed in the history of the House of Representatives. I think we’re going to be paying for this for many, many years to come,” Crowley said. Republicans insist the tax package, the biggest U.S. tax overhaul in more than 30 years,  will boost the economy and job growth. House Speaker Paul Ryan, who also supported the tax bill, recently went further than Meadows, making clear in a radio interview that welfare or “entitlement reform,” as the party often calls it, would be a top Republican priority in 2018. In Republican parlance, “entitlement” programs mean food stamps, housing assistance, Medicare and Medicaid health insurance for the elderly, poor and disabled, as well as other programs created by Washington to assist the needy. Democrats seized on Ryan’s early December remarks, saying they showed Republicans would try to pay for their tax overhaul by seeking spending cuts for social programs. But the goals of House Republicans may have to take a back seat to the Senate, where the votes of some Democrats will be needed to approve a budget and prevent a government shutdown. Democrats will use their leverage in the Senate, which Republicans narrowly control, to defend both discretionary non-defense programs and social spending, while tackling the issue of the “Dreamers,” people brought illegally to the country as children. Trump in September put a March 2018 expiration date on the Deferred Action for Childhood Arrivals, or DACA, program, which protects the young immigrants from deportation and provides them with work permits. The president has said in recent Twitter messages he wants funding for his proposed Mexican border wall and other immigration law changes in exchange for agreeing to help the Dreamers. Representative Debbie Dingell told CBS she did not favor linking that issue to other policy objectives, such as wall funding. “We need to do DACA clean,” she said.  On Wednesday, Trump aides will meet with congressional leaders to discuss those issues. That will be followed by a weekend of strategy sessions for Trump and Republican leaders on Jan. 6 and 7, the White House said. Trump was also scheduled to meet on Sunday with Florida Republican Governor Rick Scott, who wants more emergency aid. The House has passed an $81 billion aid package after hurricanes in Florida, Texas and Puerto Rico, and wildfires in California. The package far exceeded the $44 billion requested by the Trump administration. The Senate has not yet voted on the aid. '\n",
            " 'Transgender people will be allowed for the first time to enlist in the U.S. military starting on Monday as ordered by federal courts, the Pentagon said on Friday, after President Donald Trump’s administration decided not to appeal rulings that blocked his transgender ban. Two federal appeals courts, one in Washington and one in Virginia, last week rejected the administration’s request to put on hold orders by lower court judges requiring the military to begin accepting transgender recruits on Jan. 1. A Justice Department official said the administration will not challenge those rulings. “The Department of Defense has announced that it will be releasing an independent study of these issues in the coming weeks. So rather than litigate this interim appeal before that occurs, the administration has decided to wait for DOD’s study and will continue to defend the president’s lawful authority in District Court in the meantime,” the official said, speaking on condition of anonymity. In September, the Pentagon said it had created a panel of senior officials to study how to implement a directive by Trump to prohibit transgender individuals from serving. The Defense Department has until Feb. 21 to submit a plan to Trump. Lawyers representing currently-serving transgender service members and aspiring recruits said they had expected the administration to appeal the rulings to the conservative-majority Supreme Court, but were hoping that would not happen. Pentagon spokeswoman Heather Babb said in a statement: “As mandated by court order, the Department of Defense is prepared to begin accessing transgender applicants for military service Jan. 1. All applicants must meet all accession standards.” Jennifer Levi, a lawyer with gay, lesbian and transgender advocacy group GLAD, called the decision not to appeal “great news.” “I’m hoping it means the government has come to see that there is no way to justify a ban and that it’s not good for the military or our country,” Levi said. Both GLAD and the American Civil Liberties Union represent plaintiffs in the lawsuits filed against the administration. In a move that appealed to his hard-line conservative supporters, Trump announced in July that he would prohibit transgender people from serving in the military, reversing Democratic President Barack Obama’s policy of accepting them. Trump said on Twitter at the time that the military “cannot be burdened with the tremendous medical costs and disruption that transgender in the military would entail.” Four federal judges - in Baltimore, Washington, D.C., Seattle and Riverside, California - have issued rulings blocking Trump’s ban while legal challenges to the Republican president’s policy proceed. The judges said the ban would likely violate the right under the U.S. Constitution to equal protection under the law. The Pentagon on Dec. 8 issued guidelines to recruitment personnel in order to enlist transgender applicants by Jan. 1. The memo outlined medical requirements and specified how the applicants’ sex would be identified and even which undergarments they would wear. The Trump administration previously said in legal papers that the armed forces were not prepared to train thousands of personnel on the medical standards needed to process transgender applicants and might have to accept “some individuals who are not medically fit for service.” The Obama administration had set a deadline of July 1, 2017, to begin accepting transgender recruits. But Trump’s defense secretary, James Mattis, postponed that date to Jan. 1, 2018, which the president’s ban then put off indefinitely. Trump has taken other steps aimed at rolling back transgender rights. In October, his administration said a federal law banning gender-based workplace discrimination does not protect transgender employees, reversing another Obama-era position. In February, Trump rescinded guidance issued by the Obama administration saying that public schools should allow transgender students to use the restroom that corresponds to their gender identity. '\n",
            " 'The special counsel investigation of links between Russia and President Trump’s 2016 election campaign should continue without interference in 2018, despite calls from some Trump administration allies and Republican lawmakers to shut it down, a prominent Republican senator said on Sunday. Lindsey Graham, who serves on the Senate armed forces and judiciary committees, said Department of Justice Special Counsel Robert Mueller needs to carry on with his Russia investigation without political interference. “This investigation will go forward. It will be an investigation conducted without political influence,” Graham said on CBS’s Face the Nation news program. “And we all need to let Mr. Mueller do his job. I think he’s the right guy at the right time.”  The question of how Russia may have interfered in the election, and how Trump’s campaign may have had links with or co-ordinated any such effort, has loomed over the White House since Trump took office in January. It shows no sign of receding as Trump prepares for his second year in power, despite intensified rhetoric from some Trump allies in recent weeks accusing Mueller’s team of bias against the Republican president. Trump himself seemed to undercut his supporters in an interview last week with the New York Times in which he said he expected Mueller was “going to be fair.”    Russia’s role in the election and the question of possible links to the Trump campaign are the focus of multiple inquiries in Washington. Three committees of the Senate and the House of Representatives are investigating, as well as Mueller, whose team in May took over an earlier probe launched by the U.S. Federal Bureau of Investigation (FBI). Several members of the Trump campaign and administration have been convicted or indicted in the investigation.  Trump and his allies deny any collusion with Russia during the campaign, and the Kremlin has denied meddling in the election. Graham said he still wants an examination of the FBI’s use of a dossier on links between Trump and Russia that was compiled by a former British spy, Christopher Steele, which prompted Trump allies and some Republicans to question Mueller’s inquiry.   On Saturday, the New York Times reported that it was not that dossier that triggered an early FBI probe, but a tip from former Trump campaign foreign policy adviser George Papadopoulos to an Australian diplomat that Russia had damaging information about former Trump rival Hillary Clinton.  “I want somebody to look at the way the Department of Justice used this dossier. It bothers me greatly the way they used it, and I want somebody to look at it,” Graham said. But he said the Russia investigation must continue. “As a matter of fact, it would hurt us if we ignored it,” he said. '\n",
            " 'Trump campaign adviser George Papadopoulos told an Australian diplomat in May 2016 that Russia had political dirt on Democratic presidential candidate Hillary Clinton, the New York Times reported on Saturday. The conversation between Papadopoulos and the diplomat, Alexander Downer, in London was a driving factor behind the FBI’s decision to open a counter-intelligence investigation of Moscow’s contacts with the Trump campaign, the Times reported. Two months after the meeting, Australian officials passed the information that came from Papadopoulos to their American counterparts when leaked Democratic emails began appearing online, according to the newspaper, which cited four current and former U.S. and foreign officials. Besides the information from the Australians, the probe by the Federal Bureau of Investigation was also propelled by intelligence from other friendly governments, including the British and Dutch, the Times said. Papadopoulos, a Chicago-based international energy lawyer, pleaded guilty on Oct. 30 to lying to FBI agents about contacts with people who claimed to have ties to top Russian officials. It was the first criminal charge alleging links between the Trump campaign and Russia. The White House has played down the former aide’s campaign role, saying it was “extremely limited” and that any actions he took would have been on his own. The New York Times, however, reported that Papadopoulos helped set up a meeting between then-candidate Donald Trump and Egyptian President Abdel Fattah al-Sisi and edited the outline of Trump’s first major foreign policy speech in April 2016. The federal investigation, which is now being led by Special Counsel Robert Mueller, has hung over Trump’s White House since he took office almost a year ago. Some Trump allies have recently accused Mueller’s team of being biased against the Republican president. Lawyers for Papadopoulos did not immediately respond to requests by  for comment. Mueller’s office declined to comment. Trump’s White House attorney, Ty Cobb, declined to comment on the New York Times report. “Out of respect for the special counsel and his process, we are not commenting on matters such as this,” he said in a statement. Mueller has charged four Trump associates, including Papadopoulos, in his investigation. Russia has denied interfering in the U.S. election and Trump has said there was no collusion between his campaign and Moscow. '\n",
            " 'President Donald Trump called on the U.S. Postal Service on Friday to charge “much more” to ship packages for Amazon (AMZN.O), picking another fight with an online retail giant he has criticized in the past.     “Why is the United States Post Office, which is losing many billions of dollars a year, while charging Amazon and others so little to deliver their packages, making Amazon richer and the Post Office dumber and poorer? Should be charging MUCH MORE!” Trump wrote on Twitter.  The president’s tweet drew fresh attention to the fragile finances of the Postal Service at a time when tens of millions of parcels have just been shipped all over the country for the holiday season.  The U.S. Postal Service, which runs at a big loss, is an independent agency within the federal government and does not receive tax dollars for operating expenses, according to its website.  Package delivery has become an increasingly important part of its business as the Internet has led to a sharp decline in the amount of first-class letters. The president does not determine postal rates. They are set by the Postal Regulatory Commission, an independent government agency with commissioners selected by the president from both political parties. That panel raised prices on packages by almost 2 percent in November.  Amazon was founded by Jeff Bezos, who remains the chief executive officer of the retail company and is the richest person in the world, according to Bloomberg News. Bezos also owns The Washington Post, a newspaper Trump has repeatedly railed against in his criticisms of the news media. In tweets over the past year, Trump has said the “Amazon Washington Post” fabricated stories. He has said Amazon does not pay sales tax, which is not true, and so hurts other retailers, part of a pattern by the former businessman and reality television host of periodically turning his ire on big American companies since he took office in January. Daniel Ives, a research analyst at GBH Insights, said Trump’s comment could be taken as a warning to the retail giant. However, he said he was not concerned for Amazon. “We do not see any price hikes in the future. However, that is a risk that Amazon is clearly aware of and (it) is building out its distribution (system) aggressively,” he said. Amazon has shown interest in the past in shifting into its own delivery service, including testing drones for deliveries. In 2015, the company spent $11.5 billion on shipping, 46 percent of its total operating expenses that year.  Amazon shares were down 0.86 percent to $1,175.90 by early afternoon. Overall, U.S. stock prices were down slightly on Friday.  Satish Jindel, president of ShipMatrix Inc, which analyzes shipping data, disputed the idea that the Postal Service charges less than United Parcel Service Inc (UPS.N) and FedEx Corp (FDX.N), the other biggest players in the parcel delivery business in the United States. Many customers get lower rates from UPS and FedEx than they would get from the post office for comparable services, he said. The Postal Service delivers about 62 percent of Amazon packages, for about 3.5 to 4 million a day during the current peak year-end holiday shipping season, Jindel said. The Seattle-based company and the post office have an agreement in which mail carriers take Amazon packages on the last leg of their journeys, from post offices to customers’ doorsteps. Amazon’s No. 2 carrier is UPS, at 21 percent, and FedEx is third, with 8 percent or so, according to Jindel. Trump’s comment tapped into a debate over whether Postal Service pricing has kept pace with the rise of e-commerce, which has flooded the mail with small packages.Private companies like UPS have long claimed the current system unfairly undercuts their business. Steve Gaut, a spokesman for UPS, noted that the company values its “productive relationship” with the postal service, but that it has filed with the Postal Regulatory Commission its concerns about the postal service’s methods for covering costs. Representatives for Amazon, the White House, the U.S. Postal Service and FedEx declined comment or were not immediately available for comment on Trump’s tweet. According to its annual report, the Postal Service lost $2.74 billion this year, and its deficit has ballooned to $61.86 billion.  While the Postal Service’s revenue for first class mail, marketing mail and periodicals is flat or declining, revenue from package delivery is up 44 percent since 2014 to $19.5 billion in the fiscal year ended Sept. 30, 2017. But it also lost about $2 billion in revenue when a temporary surcharge expired in April 2016. According to a Government Accountability Office report in February, the service is facing growing personnel expenses, particularly $73.4 billion in unfunded pension and benefits liabilities. The Postal Service has not announced any plans to cut costs. By law, the Postal Service has to set prices for package delivery to cover the costs attributable to that service. But the postal service allocates only 5.5 percent of its total costs to its business of shipping packages even though that line of business is 28 percent of its total revenue. '\n",
            " 'The White House said on Friday it was set to kick off talks next week with Republican and Democratic congressional leaders on immigration policy, government spending and other issues that need to be wrapped up early in the new year. The expected flurry of legislative activity comes as Republicans and Democrats begin to set the stage for midterm congressional elections in November. President Donald Trump’s Republican Party is eager to maintain control of Congress while Democrats look for openings to wrest seats away in the Senate and the House of Representatives. On Wednesday, Trump’s budget chief Mick Mulvaney and legislative affairs director Marc Short will meet with Senate Majority Leader Mitch McConnell and House Speaker Paul Ryan - both Republicans - and their Democratic counterparts, Senator Chuck Schumer and Representative Nancy Pelosi, the White House said. That will be followed up with a weekend of strategy sessions for Trump, McConnell and Ryan on Jan. 6 and 7 at the Camp David presidential retreat in Maryland, according to the White House. The Senate returns to work on Jan. 3 and the House on Jan. 8. Congress passed a short-term government funding bill last week before taking its Christmas break, but needs to come to an agreement on defense spending and various domestic programs by Jan. 19, or the government will shut down. Also on the agenda for lawmakers is disaster aid for people hit by hurricanes in Puerto Rico, Texas and Florida, and by wildfires in California. The House passed an $81 billion package in December, which the Senate did not take up. The White House has asked for a smaller figure, $44 billion. Deadlines also loom for soon-to-expire protections for young adult immigrants who entered the country illegally as children, known as “Dreamers.” In September, Trump ended Democratic former President Barack Obama’s Deferred Action for Childhood Arrivals (DACA) program, which protected Dreamers from deportation and provided work permits, effective in March, giving Congress until then to devise a long-term solution. Democrats, some Republicans and a number of large companies have pushed for DACA protections to continue. Trump and other Republicans have said that will not happen without Congress approving broader immigration policy changes and tougher border security. Democrats oppose funding for a wall promised by Trump along the U.S.-Mexican border.  “The Democrats have been told, and fully understand, that there can be no DACA without the desperately needed WALL at the Southern Border and an END to the horrible Chain Migration & ridiculous Lottery System of Immigration etc,” Trump said in a Twitter post on Friday. Trump wants to overhaul immigration rules for extended families and others seeking to live in the United States. Republican U.S. Senator Jeff Flake, a frequent critic of the president, said he would work with Trump to protect Dreamers. “We can fix DACA in a way that beefs up border security, stops chain migration for the DREAMers, and addresses the unfairness of the diversity lottery. If POTUS (Trump) wants to protect these kids, we want to help him keep that promise,” Flake wrote on Twitter. Congress in early 2018 also must raise the U.S. debt ceiling to avoid a government default. The U.S. Treasury would exhaust all of its borrowing options and run dry of cash to pay its bills by late March or early April if Congress does not raise the debt ceiling before then, according to the nonpartisan Congressional Budget Office. Trump, who won his first major legislative victory with the passage of a major tax overhaul this month, has also promised a major infrastructure plan. '\n",
            " 'President Donald Trump said on Thursday he believes he will be fairly treated in a special counsel investigation into Russian meddling in the U.S. presidential election, but said he did not know how long the probe would last. The federal investigation has hung over Trump’s White House since he took office almost a year ago, and some Trump allies have in recent weeks accused the team of Justice Department Special Counsel Robert Mueller of being biased against the Republican president. But in an interview with the New York Times, Trump appeared to shrug off concerns about the investigation, which was prompted by U.S. intelligence agencies’ conclusion that Russia tried to help Trump defeat Democrat Hillary Clinton by hacking and releasing embarrassing emails and disseminating propaganda. “There’s been no collusion. But I think he’s going to be fair,” Trump said in what the Times described as a 30-minute impromptu interview at his golf club in West Palm Beach, Florida. Mueller has charged four Trump associates in his investigation. Russia has denied interfering in the U.S. election. U.S. Deputy Attorney General Rod Rosenstein said this month that he was not aware of any impropriety by Mueller’s team. Trump’s lawyers have been saying for weeks that they had expected the Mueller investigation to wrap up quickly, possibly by the end of 2017. Mueller has not commented on how long it will last. Trump told the Times that he did not know how long the investigation would take. “Timing-wise, I can’t tell you. I just don’t know,” he said. Trump said he thought a prolonged probe “makes the country look bad” but said it has energized his core supporters. “What it’s done is, it’s really angered the base and made the base stronger. My base is strong than it’s ever been,” he said. The interview was a rare break in Trump’s Christmas vacation in Florida. He has golfed each day aside from Christmas Day, and mainly kept a low profile, apart from the occasional flurry of tweets. He spent one day golfing with Republican Senator David Perdue from Georgia, who has pushed legislation to cap immigration numbers, and had dinner on Thursday with Commerce Secretary Wilbur Ross, an international trade hawk. Trump told the Times he hoped to work with Democrats in the U.S. Congress on a spending plan to fix roads and other infrastructure, and on protections for a group of undocumented immigrants who were brought to the United States as children. Trump spoke about trade issues, saying he had backed off his hard line on Chinese trade practices in the hope that Beijing would do more to pressure North Korea to end its nuclear and missile testing program. He said he had been disappointed in the results. He also complained about the North American Free Trade Agreement (NAFTA), which his administration is attempting to renegotiate in talks with Mexico and Canada. Trump said Canadian Prime Minister Justin Trudeau had played down the importance of Canadian oil and lumber exports to the United States when looking at the balance of trade between the two countries. “If I don’t make the right deal, I’ll terminate NAFTA in two seconds. But we’re doing pretty good,” Trump said. '\n",
            " 'The following statements\\xa0were posted to the verified Twitter accounts of U.S. President Donald Trump, @realDonaldTrump and @POTUS.  The opinions expressed are his own.\\xa0 has not edited the statements or confirmed their accuracy.  @realDonaldTrump : - While the Fake News loves to talk about my so-called low approval rating, @foxandfriends just showed that my rating on Dec. 28, 2017, was approximately the same as President Obama on Dec. 28, 2009, which was 47%...and this despite massive negative Trump coverage & Russia hoax! [0746 EST] - Why is the United States Post Office, which is losing many billions of dollars a year, while charging Amazon and others so little to deliver their packages, making Amazon richer and the Post Office dumber and poorer? Should be charging MUCH MORE! [0804 EST] -- Source link: (bit.ly/2jBh4LU) (bit.ly/2jpEXYR) '\n",
            " 'The following statements\\xa0were posted to the verified Twitter accounts of U.S. President Donald Trump, @realDonaldTrump and @POTUS.  The opinions expressed are his own.\\xa0 has not edited the statements or confirmed their accuracy.  @realDonaldTrump : - Together, we are MAKING AMERICA GREAT AGAIN! bit.ly/2lnpKaq [1814 EST] - In the East, it could be the COLDEST New Year’s Eve on record. Perhaps we could use a little bit of that good old Global Warming that our Country, but not other countries, was going to pay TRILLIONS OF DOLLARS to protect against. Bundle up! [1901 EST] -- Source link: (bit.ly/2jBh4LU) (bit.ly/2jpEXYR) '\n",
            " 'Alabama Secretary of State John Merrill said he will certify Democratic Senator-elect Doug Jones as winner on Thursday despite opponent Roy Moore’s challenge, in a phone call on CNN. Moore, a conservative who had faced allegations of groping teenage girls when he was in his 30s, filed a court challenge late on Wednesday to the outcome of a U.S. Senate election he unexpectedly lost. ']\n",
            "\n",
            "Sample FAKE news:\n",
            "['Donald Trump just couldn t wish all Americans a Happy New Year and leave it at that. Instead, he had to give a shout out to his enemies, haters and  the very dishonest fake news media.  The former reality show star had just one job to do and he couldn t do it. As our Country rapidly grows stronger and smarter, I want to wish all of my friends, supporters, enemies, haters, and even the very dishonest Fake News Media, a Happy and Healthy New Year,  President Angry Pants tweeted.  2018 will be a great year for America! As our Country rapidly grows stronger and smarter, I want to wish all of my friends, supporters, enemies, haters, and even the very dishonest Fake News Media, a Happy and Healthy New Year. 2018 will be a great year for America!  Donald J. Trump (@realDonaldTrump) December 31, 2017Trump s tweet went down about as welll as you d expect.What kind of president sends a New Year s greeting like this despicable, petty, infantile gibberish? Only Trump! His lack of decency won t even allow him to rise above the gutter long enough to wish the American citizens a happy new year!  Bishop Talbert Swan (@TalbertSwan) December 31, 2017no one likes you  Calvin (@calvinstowell) December 31, 2017Your impeachment would make 2018 a great year for America, but I ll also accept regaining control of Congress.  Miranda Yaver (@mirandayaver) December 31, 2017Do you hear yourself talk? When you have to include that many people that hate you you have to wonder? Why do the they all hate me?  Alan Sandoval (@AlanSandoval13) December 31, 2017Who uses the word Haters in a New Years wish??  Marlene (@marlene399) December 31, 2017You can t just say happy new year?  Koren pollitt (@Korencarpenter) December 31, 2017Here s Trump s New Year s Eve tweet from 2016.Happy New Year to all, including to my many enemies and those who have fought me and lost so badly they just don t know what to do. Love!  Donald J. Trump (@realDonaldTrump) December 31, 2016This is nothing new for Trump. He s been doing this for years.Trump has directed messages to his  enemies  and  haters  for New Year s, Easter, Thanksgiving, and the anniversary of 9/11. pic.twitter.com/4FPAe2KypA  Daniel Dale (@ddale8) December 31, 2017Trump s holiday tweets are clearly not presidential.How long did he work at Hallmark before becoming President?  Steven Goodine (@SGoodine) December 31, 2017He s always been like this . . . the only difference is that in the last few years, his filter has been breaking down.  Roy Schulze (@thbthttt) December 31, 2017Who, apart from a teenager uses the term haters?  Wendy (@WendyWhistles) December 31, 2017he s a fucking 5 year old  Who Knows (@rainyday80) December 31, 2017So, to all the people who voted for this a hole thinking he would change once he got into power, you were wrong! 70-year-old men don t change and now he s a year older.Photo by Andrew Burton/Getty Images.'\n",
            " 'House Intelligence Committee Chairman Devin Nunes is going to have a bad day. He s been under the assumption, like many of us, that the Christopher Steele-dossier was what prompted the Russia investigation so he s been lashing out at the Department of Justice and the FBI in order to protect Trump. As it happens, the dossier is not what started the investigation, according to documents obtained by the New York Times.Former Trump campaign adviser George Papadopoulos was drunk in a wine bar when he revealed knowledge of Russian opposition research on Hillary Clinton.On top of that, Papadopoulos wasn t just a covfefe boy for Trump, as his administration has alleged. He had a much larger role, but none so damning as being a drunken fool in a wine bar. Coffee boys  don t help to arrange a New York meeting between Trump and President Abdel Fattah el-Sisi of Egypt two months before the election. It was known before that the former aide set up meetings with world leaders for Trump, but team Trump ran with him being merely a coffee boy.In May 2016, Papadopoulos revealed to Australian diplomat Alexander Downer that Russian officials were shopping around possible dirt on then-Democratic presidential nominee Hillary Clinton. Exactly how much Mr. Papadopoulos said that night at the Kensington Wine Rooms with the Australian, Alexander Downer, is unclear,  the report states.  But two months later, when leaked Democratic emails began appearing online, Australian officials passed the information about Mr. Papadopoulos to their American counterparts, according to four current and former American and foreign officials with direct knowledge of the Australians  role. Papadopoulos pleaded guilty to lying to the F.B.I. and is now a cooperating witness with Special Counsel Robert Mueller s team.This isn t a presidency. It s a badly scripted reality TV show.Photo by Win McNamee/Getty Images.'\n",
            " 'On Friday, it was revealed that former Milwaukee Sheriff David Clarke, who was being considered for Homeland Security Secretary in Donald Trump s administration, has an email scandal of his own.In January, there was a brief run-in on a plane between Clarke and fellow passenger Dan Black, who he later had detained by the police for no reason whatsoever, except that maybe his feelings were hurt. Clarke messaged the police to stop Black after he deplaned, and now, a search warrant has been executed by the FBI to see the exchanges.Clarke is calling it fake news even though copies of the search warrant are on the Internet. I am UNINTIMIDATED by lib media attempts to smear and discredit me with their FAKE NEWS reports designed to silence me,  the former sheriff tweeted.  I will continue to poke them in the eye with a sharp stick and bitch slap these scum bags til they get it. I have been attacked by better people than them #MAGA I am UNINTIMIDATED by lib media attempts to smear and discredit me with their FAKE NEWS reports designed to silence me. I will continue to poke them in the eye with a sharp stick and bitch slap these scum bags til they get it. I have been attacked by better people than them #MAGA pic.twitter.com/XtZW5PdU2b  David A. Clarke, Jr. (@SheriffClarke) December 30, 2017He didn t stop there.BREAKING NEWS! When LYING LIB MEDIA makes up FAKE NEWS to smear me, the ANTIDOTE is go right at them. Punch them in the nose & MAKE THEM TASTE THEIR OWN BLOOD. Nothing gets a bully like LYING LIB MEDIA S attention better than to give them a taste of their own blood #neverbackdown pic.twitter.com/T2NY2psHCR  David A. Clarke, Jr. (@SheriffClarke) December 30, 2017The internet called him out.This is your local newspaper and that search warrant isn t fake, and just because the chose not to file charges at the time doesn t mean they won t! Especially if you continue to lie. Months after decision not to charge Clarke, email search warrant filed https://t.co/zcbyc4Wp5b  KeithLeBlanc (@KeithLeBlanc63) December 30, 2017I just hope the rest of the Village People aren t implicated.  Kirk Ketchum (@kirkketchum) December 30, 2017Slaw, baked potatoes, or French fries? pic.twitter.com/fWfXsZupxy  ALT- Immigration   (@ALT_uscis) December 30, 2017pic.twitter.com/ymsOBLjfxU  Pendulum Swinger (@PendulumSwngr) December 30, 2017you called your police friends to stand up for you when someone made fun of your hat  Chris Jackson (@ChrisCJackson) December 30, 2017Is it me, with this masterful pshop of your hat, which I seem to never tire of. I think it s the steely resolve in your one visible eye pic.twitter.com/dWr5k8ZEZV  Chris Mohney (@chrismohney) December 30, 2017Are you indicating with your fingers how many people died in your jail? I think you re a few fingers short, dipshit  Ike Barinholtz (@ikebarinholtz) December 30, 2017ROFL. Internet tough guy with fake flair. pic.twitter.com/ulCFddhkdy  KellMeCrazy (@Kel_MoonFace) December 30, 2017You re so edgy, buddy.  Mrs. SMH (@MRSSMH2) December 30, 2017Is his break over at Applebees?  Aaron (@feltrrr2) December 30, 2017Are you trying to earn your  still relevant  badge?  CircusRebel (@CircusDrew) December 30, 2017make sure to hydrate, drink lots of water. It s rumored that prisoners can be denied water by prison officials.  Robert Klinc (@RobertKlinc1) December 30, 2017Terrill Thomas, the 38-year-old black man who died of thirst in Clarke s Milwaukee County Jail cell this April, was a victim of homicide. We just thought we should point that out. It can t be repeated enough.Photo by Spencer Platt/Getty Images.'\n",
            " 'On Christmas day, Donald Trump announced that he would  be back to work  the following day, but he is golfing for the fourth day in a row. The former reality show star blasted former President Barack Obama for playing golf and now Trump is on track to outpace the number of golf games his predecessor played.Updated my tracker of Trump s appearances at Trump properties.71 rounds of golf including today s. At this pace, he ll pass Obama s first-term total by July 24 next year. https://t.co/Fg7VacxRtJ pic.twitter.com/5gEMcjQTbH  Philip Bump (@pbump) December 29, 2017 That makes what a Washington Post reporter discovered on Trump s website really weird, but everything about this administration is bizarre AF. The coding contained a reference to Obama and golf:  Unlike Obama, we are working to fix the problem   and not on the golf course.  However, the coding wasn t done correctly.The website of Donald Trump, who has spent several days in a row at the golf course, is coded to serve up the following message in the event of an internal server error: https://t.co/zrWpyMXRcz pic.twitter.com/wiQSQNNzw0  Christopher Ingraham (@_cingraham) December 28, 2017That snippet of code appears to be on all https://t.co/dkhw0AlHB4 pages, which the footer says is paid for by the RNC? pic.twitter.com/oaZDT126B3  Christopher Ingraham (@_cingraham) December 28, 2017It s also all over https://t.co/ayBlGmk65Z. As others have noted in this thread, this is weird code and it s not clear it would ever actually display, but who knows.  Christopher Ingraham (@_cingraham) December 28, 2017After the coding was called out, the reference to Obama was deleted.UPDATE: The golf error message has been removed from the Trump and GOP websites. They also fixed the javascript  =  vs  ==  problem. Still not clear when these messages would actually display, since the actual 404 (and presumably 500) page displays a different message pic.twitter.com/Z7dmyQ5smy  Christopher Ingraham (@_cingraham) December 29, 2017That suggests someone at either RNC or the Trump admin is sensitive enough to Trump s golf problem to make this issue go away quickly once people noticed. You have no idea how much I d love to see the email exchange that led us here.  Christopher Ingraham (@_cingraham) December 29, 2017 The code was f-cked up.The best part about this is that they are using the  =  (assignment) operator which means that bit of code will never get run. If you look a few lines up  errorCode  will always be  404          (@tw1trsux) December 28, 2017trump s coders can t code. Nobody is surprised.  Tim Peterson (@timrpeterson) December 28, 2017Donald Trump is obsessed with Obama that his name was even in the coding of his website while he played golf again.Photo by Joe Raedle/Getty Images.'\n",
            " 'Pope Francis used his annual Christmas Day message to rebuke Donald Trump without even mentioning his name. The Pope delivered his message just days after members of the United Nations condemned Trump s move to recognize Jerusalem as the capital of Israel. The Pontiff prayed on Monday for the  peaceful coexistence of two states within mutually agreed and internationally recognized borders. We see Jesus in the children of the Middle East who continue to suffer because of growing tensions between Israelis and Palestinians,  Francis said.  On this festive day, let us ask the Lord for peace for Jerusalem and for all the Holy Land. Let us pray that the will to resume dialogue may prevail between the parties and that a negotiated solution can finally be reached. The Pope went on to plead for acceptance of refugees who have been forced from their homes, and that is an issue Trump continues to fight against. Francis used Jesus for which there was  no place in the inn  as an analogy. Today, as the winds of war are blowing in our world and an outdated model of development continues to produce human, societal and environmental decline, Christmas invites us to focus on the sign of the Child and to recognize him in the faces of little children, especially those for whom, like Jesus,  there is no place in the inn,  he said. Jesus knows well the pain of not being welcomed and how hard it is not to have a place to lay one s head,  he added.  May our hearts not be closed as they were in the homes of Bethlehem. The Pope said that Mary and Joseph were immigrants who struggled to find a safe place to stay in Bethlehem. They had to leave their people, their home, and their land,  Francis said.  This was no comfortable or easy journey for a young couple about to have a child.   At heart, they were full of hope and expectation because of the child about to be born; yet their steps were weighed down by the uncertainties and dangers that attend those who have to leave their home behind. So many other footsteps are hidden in the footsteps of Joseph and Mary,  Francis said Sunday. We see the tracks of entire families forced to set out in our own day. We see the tracks of millions of persons who do not choose to go away, but driven from their land, leave behind their dear ones. Amen to that.Photo by Christopher Furlong/Getty Images.'\n",
            " 'The number of cases of cops brutalizing and killing people of color seems to see no end. Now, we have another case that needs to be shared far and wide. An Alabama woman by the name of Angela Williams shared a graphic photo of her son, lying in a hospital bed with a beaten and fractured face, on Facebook. It needs to be shared far and wide, because this is unacceptable.It is unclear why Williams  son was in police custody or what sort of altercation resulted in his arrest, but when you see the photo you will realize that these details matter not. Cops are not supposed to beat and brutalize those in their custody. In the post you are about to see, Ms. Williams expresses her hope that the cops had their body cameras on while they were beating her son, but I think we all know that there will be some kind of convenient  malfunction  to explain away the lack of existence of dash or body camera footage of what was clearly a brutal beating. Hell, it could even be described as attempted murder. Something tells me that this young man will never be the same. Without further ado, here is what Troy, Alabama s finest decided was appropriate treatment of Angela Williams  son:No matter what the perceived crime of this young man might be, this is completely unacceptable. The cops who did this need to rot in jail for a long, long time   but what you wanna bet they get a paid vacation while the force  investigates  itself, only to have the officers returned to duty posthaste?This, folks, is why we say BLACK LIVES MATTER. No way in hell would this have happened if Angela Williams  son had been white. Please share far and wide, and stay tuned to Addicting Info for further updates.Featured image via David McNew/Stringer/Getty Images'\n",
            " 'Donald Trump spent a good portion of his day at his golf club, marking the 84th day he s done so since taking the oath of office. It must have been a bad game because just after that, Trump lashed out at FBI Deputy Director Andrew McCabe on Twitter following a report saying McCabe plans to retire in a few months. The report follows McCabe s testimony in front of congressional committees this week, as well as mounting criticism from Republicans regarding the Russia probe.So, naturally, Trump attacked McCabe with a lie. How can FBI Deputy Director Andrew McCabe, the man in charge, along with leakin  James Comey, of the Phony Hillary Clinton investigation (including her 33,000 illegally deleted emails) be given $700,000 for wife s campaign by Clinton Puppets during investigation?  Trump tweeted.How can FBI Deputy Director Andrew McCabe, the man in charge, along with leakin  James Comey, of the Phony Hillary Clinton investigation (including her 33,000 illegally deleted emails) be given $700,000 for wife s campaign by Clinton Puppets during investigation?  Donald J. Trump (@realDonaldTrump) December 23, 2017He didn t stop there.FBI Deputy Director Andrew McCabe is racing the clock to retire with full benefits. 90 days to go?!!!  Donald J. Trump (@realDonaldTrump) December 23, 2017Wow,  FBI lawyer James Baker reassigned,  according to @FoxNews.  Donald J. Trump (@realDonaldTrump) December 23, 2017With all of the Intel at Trump s disposal, he s getting his information from Fox News. McCabe spent most of his career in the fight against terrorism and now he s being attacked by the so-called president. Trump has been fact-checked before on his claim of his wife receiving $700,000 for her campaign.Politifact noted in late July that Trump s  tweet about Andrew McCabe is a significant distortion of the facts. And the implication that McCabe got Clinton off as a political favor doesn t make much sense when we look at the evidence. His July tweet was rated  mostly false.  But Trump repeats these lies because he knows his supporters will believe them without bothering to Google. It s still a lie, though.Photo by Zach Gibson   Pool/Getty Images.'\n",
            " 'In the wake of yet another court decision that derailed Donald Trump s plan to bar Muslims from entering the United States, the New York Times published a report on Saturday morning detailing the president s frustration at not getting his way   and how far back that frustration goes.According to the article, back in June, Trump stomped into the Oval Office, furious about the state of the travel ban, which he thought would be implemented and fully in place by then. Instead, he fumed, visas had already been issued to immigrants at such a rate that his  friends were calling to say he looked like a fool  after making his broad pronouncements.It was then that Trump began reading from a document that a top advisor, noted white supremacist Stephen Miller, had handed him just before the meeting with his Cabinet. The page listed how many visas had been issued this year, and included 2,500 from Afghanistan (a country not on the travel ban), 15,000 from Haiti (also not included), and 40,000 from Nigeria (sensing a pattern yet?), and Trump expressed his dismay at each.According to witnesses in the room who spoke to the Times on condition of anonymity, and who were interviewed along with three dozen others for the article, Trump called out each country for its faults as he read: Afghanistan was a  terrorist haven,  the people of Nigeria would  never go back to their huts once they saw the glory of America, and immigrants from Haiti  all have AIDS. Despite the extensive research done by the newspaper, the White House of course denies that any such language was used.But given Trump s racist history and his advisor Stephen Miller s blatant white nationalism, it would be no surprise if a Freedom of Information Act request turned up that the document in question had the statements printed inline as commentary for the president to punctuate his anger with. It was Miller, after all, who was responsible for the  American Carnage  speech that Trump delivered at his inauguration.This racist is a menace to America, and he doesn t represent anything that this country stands for. Let s hope that more indictments from Robert Mueller are on their way as we speak.Featured image via Chris Kleponis/Pool/Getty Images'\n",
            " 'Many people have raised the alarm regarding the fact that Donald Trump is dangerously close to becoming an autocrat. The thing is, democracies become autocracies right under the people s noses, because they can often look like democracies in the beginning phases. This was explained by Republican David Frum just a couple of months into Donald Trump s presidency, in a piece in The Atlantic called  How to Build an Autocracy. In fact, if you really look critically at what is happening right now   the systematic discrediting of vital institutions such as the free press and the Federal Bureau of Investigation as well the direct weaponization of the Department of Justice in order to go after Trump s former political opponent, 2016 Democratic nominee Hillary Clinton, and you have the makings of an autocracy. We are more than well on our way. Further, one chamber of Congress, the House of Representatives, already has a rogue band of Republicans who are running a parallel investigation to the official Russian collusion investigation, with the explicit intent of undermining and discrediting the idea that Trump could have possibly done anything wrong with the Russians in order to swing the 2016 election in his favor.All of that is just for starters, too. Now, we have Trump making United Nations Ambassador Nikki Haley bully and threaten other countries in the United Nations who voted against Trump s decision to change U.S. policy when it comes to recognition of Jerusalem as the capital of the Jewish State. Well, one expert, who is usually quite measured, has had enough of Trump s autocratic antics: Former CIA Director John O. Brennan. The seasoned spy took to Trump s favorite platform, Twitter, and blasted the decision:Trump Admin threat to retaliate against nations that exercise sovereign right in UN to oppose US position on Jerusalem is beyond outrageous. Shows @realDonaldTrump expects blind loyalty and subservience from everyone qualities usually found in narcissistic, vengeful autocrats.  John O. Brennan (@JohnBrennan) December 21, 2017Director Brennan is correct, of course. Trump is behaving just like an autocrat, and so many people in the nation are asleep when it comes to this dangerous age, in which the greatest threat to democracy and the very fabric of the republic itself is the American president. Fellow Americans, we know the GOP-led Congress will not be the check on Trump that they are supposed to be. It s time to get out and flip the House and possibly the Senate in 2018, and resist in the meantime, if we want to save our country from devolving into something that looks more like Russia or North Korea than the America we have always know. We re already well on our way.Featured image via BRENDAN SMIALOWSKI/AFP/Getty Images'\n",
            " 'Just when you might have thought we d get a break from watching people kiss Donald Trump s ass and stroke his ego ad nauseam, a pro-Trump group creates an ad that s nothing but people doing even more of those exact things. America First Policies is set to release this ad, called  Thank You, President Trump,  on Christmas Day and, well, we threw up a little in our mouths trying to watch this.Basically, the spot is nothing but people fawning all over Trump for all the stuff he hasn t actually done. The ad includes a scene with a little girl thanking Trump for bringing back  Merry Christmas,  which never went away (there are even videos of President Obama saying  Merry Christmas  himself). A man thanks him for cutting his taxes. And America First says that everyday Americans everywhere are thanking Trump for being such a great and awesome president.The best president.Nobody s ever done what he s done. He s breaking all kinds of records every day.Believe us.Anyway, the word  propaganda  comes to mind when watching this. That s what it is   literal propaganda promoting someone who shouldn t need this kind of promotion anymore. Watch this ad bullshit below:The way the MAGAs are kowtowing to Orange Hitler is both disgusting and frightening. The man has done nothing, and his policies will harm the very same Americans who are thanking him. Unfortunately, it will take an obscene amount of pain before they ll open their eyes and see they ve been duped by a con man with a bad hairdo.And his ongoing need for this kind of adoration is, at best, unbecoming of his office. This ad is vile.Featured image via Al Drago-Pool/Getty Images']\n"
          ]
        }
      ]
    },
    {
      "cell_type": "code",
      "source": [
        "df_true = merged_no_duplicates_df[merged_no_duplicates_df['label'] == 'TRUE']\n",
        "df_fake = merged_no_duplicates_df[merged_no_duplicates_df['label'] == 'FAKE']\n",
        "\n",
        "#Note: This is only for download purpose, you are free to use this dataset as I have cleaned them.\n",
        "\n",
        "df_true.to_csv('final_cleaned_true.csv', index=False)\n",
        "df_fake.to_csv('final_cleaned_fake.csv', index=False)\n"
      ],
      "metadata": {
        "id": "3BYsafAfdNDy"
      },
      "execution_count": 93,
      "outputs": []
    },
    {
      "cell_type": "markdown",
      "source": [
        "Class Imbalance Visualization"
      ],
      "metadata": {
        "id": "C5rmm8VSKfgI"
      }
    },
    {
      "cell_type": "code",
      "source": [
        "print(\"Class counts:\")\n",
        "print(merged_no_duplicates_df['label'].value_counts())\n",
        "\n",
        "print(\"\\nClass percentage:\")\n",
        "print(merged_no_duplicates_df['label'].value_counts(normalize=True) * 100)\n",
        "\n",
        "sns.countplot(x='label', hue='label', data=merged_no_duplicates_df, legend= False, palette={'TRUE':\"blue\",'FAKE':\"red\"})\n",
        "plt.title(\"Class Distribution (True, False)\")\n",
        "plt.xlabel(\"Label\")\n",
        "plt.ylabel(\"Count\")\n",
        "plt.show()\n",
        "#Xio: Even after removal of duplicates there is no major class imbalance in the data set that has to be fixed"
      ],
      "metadata": {
        "id": "aFsFTcTcN8qk",
        "colab": {
          "base_uri": "https://localhost:8080/",
          "height": 663
        },
        "outputId": "03d9b23a-48e5-4a59-e07e-11d10f7b04f0"
      },
      "execution_count": 89,
      "outputs": [
        {
          "output_type": "stream",
          "name": "stdout",
          "text": [
            "Class counts:\n",
            "label\n",
            "TRUE    21191\n",
            "FAKE    17444\n",
            "Name: count, dtype: int64\n",
            "\n",
            "Class percentage:\n",
            "label\n",
            "TRUE    54.84923\n",
            "FAKE    45.15077\n",
            "Name: proportion, dtype: float64\n"
          ]
        },
        {
          "output_type": "display_data",
          "data": {
            "text/plain": [
              "<Figure size 640x480 with 1 Axes>"
            ],
            "image/png": "[encoded data removed]"
          },
          "metadata": {}
        }
      ]
    },
    {
      "cell_type": "markdown",
      "source": [
        "### Try checking for duplicates in fake vs true dataset separately to avoid deduplicating across (i.e. don't remove rows that are similar if one belongs to the true dataset and the other belongs to the fake dataset)"
      ],
      "metadata": {
        "id": "TRBlnsBzLIb4"
      }
    },
    {
      "cell_type": "markdown",
      "source": [
        "### Separate Fake and True DataFrames"
      ],
      "metadata": {
        "id": "HNp6GRbMLQXa"
      }
    },
    {
      "cell_type": "code",
      "source": [
        "#separate the cleaned DataFrame into fake and true based on the 'label' column\n",
        "df_fake = df_cleaned[df_cleaned['label'] == 0].copy()\n",
        "df_true = df_cleaned[df_cleaned['label'] == 1].copy()\n",
        "\n",
        "print(\"Shape of fake DataFrame:\", df_fake.shape)\n",
        "print(\"Shape of true DataFrame:\", df_true.shape)"
      ],
      "metadata": {
        "id": "hNFnoS0FLTeL",
        "colab": {
          "base_uri": "https://localhost:8080/",
          "height": 211
        },
        "outputId": "86f87fc2-fffd-42f0-f8ed-5f28851b4e65"
      },
      "execution_count": 91,
      "outputs": [
        {
          "output_type": "error",
          "ename": "NameError",
          "evalue": "name 'df_cleaned' is not defined",
          "traceback": [
            "\u001b[0;31m---------------------------------------------------------------------------\u001b[0m",
            "\u001b[0;31mNameError\u001b[0m                                 Traceback (most recent call last)",
            "\u001b[0;32m/tmp/ipython-input-2956472543.py\u001b[0m in \u001b[0;36m<cell line: 0>\u001b[0;34m()\u001b[0m\n\u001b[1;32m      1\u001b[0m \u001b[0;31m#separate the cleaned DataFrame into fake and true based on the 'label' column\u001b[0m\u001b[0;34m\u001b[0m\u001b[0;34m\u001b[0m\u001b[0m\n\u001b[0;32m----> 2\u001b[0;31m \u001b[0mdf_fake\u001b[0m \u001b[0;34m=\u001b[0m \u001b[0mdf_cleaned\u001b[0m\u001b[0;34m[\u001b[0m\u001b[0mdf_cleaned\u001b[0m\u001b[0;34m[\u001b[0m\u001b[0;34m'label'\u001b[0m\u001b[0;34m]\u001b[0m \u001b[0;34m==\u001b[0m \u001b[0;36m0\u001b[0m\u001b[0;34m]\u001b[0m\u001b[0;34m.\u001b[0m\u001b[0mcopy\u001b[0m\u001b[0;34m(\u001b[0m\u001b[0;34m)\u001b[0m\u001b[0;34m\u001b[0m\u001b[0;34m\u001b[0m\u001b[0m\n\u001b[0m\u001b[1;32m      3\u001b[0m \u001b[0mdf_true\u001b[0m \u001b[0;34m=\u001b[0m \u001b[0mdf_cleaned\u001b[0m\u001b[0;34m[\u001b[0m\u001b[0mdf_cleaned\u001b[0m\u001b[0;34m[\u001b[0m\u001b[0;34m'label'\u001b[0m\u001b[0;34m]\u001b[0m \u001b[0;34m==\u001b[0m \u001b[0;36m1\u001b[0m\u001b[0;34m]\u001b[0m\u001b[0;34m.\u001b[0m\u001b[0mcopy\u001b[0m\u001b[0;34m(\u001b[0m\u001b[0;34m)\u001b[0m\u001b[0;34m\u001b[0m\u001b[0;34m\u001b[0m\u001b[0m\n\u001b[1;32m      4\u001b[0m \u001b[0;34m\u001b[0m\u001b[0m\n\u001b[1;32m      5\u001b[0m \u001b[0mprint\u001b[0m\u001b[0;34m(\u001b[0m\u001b[0;34m\"Shape of fake DataFrame:\"\u001b[0m\u001b[0;34m,\u001b[0m \u001b[0mdf_fake\u001b[0m\u001b[0;34m.\u001b[0m\u001b[0mshape\u001b[0m\u001b[0;34m)\u001b[0m\u001b[0;34m\u001b[0m\u001b[0;34m\u001b[0m\u001b[0m\n",
            "\u001b[0;31mNameError\u001b[0m: name 'df_cleaned' is not defined"
          ]
        }
      ]
    },
    {
      "cell_type": "markdown",
      "source": [
        "### Identify Near Duplicates within Fake Data"
      ],
      "metadata": {
        "id": "8vswQrmwLWcN"
      }
    },
    {
      "cell_type": "code",
      "source": [
        "from sklearn.neighbors import NearestNeighbors\n",
        "\n",
        "#use NearestNeighbors to find similar documents for each document based on their TF-IDF vectors...\n",
        "#...from the original combined dataframe, but filtered for fake news\n",
        "\n",
        "#find the top 5 nearest neighbors for each document\n",
        "n_neighbors = 5\n",
        "nn_fake = NearestNeighbors(n_neighbors=n_neighbors, algorithm='auto', metric='cosine')\n",
        "\n",
        "#fit on the TF-IDF matrix for titles of fake news\n",
        "#we need to re-vectorize or ensure the indices align with the original tfidf_matrix_title...\n",
        "#...safer approach is to re-vectorize the subsets\n",
        "tfidf_vectorizer_title_fake = TfidfVectorizer(stop_words='english')\n",
        "tfidf_matrix_title_fake = tfidf_vectorizer_title_fake.fit_transform(df_fake['title_cleaned'])\n",
        "\n",
        "nn_fake.fit(tfidf_matrix_title_fake)\n",
        "\n",
        "#find the nearest neighbors and their distances for fake news titles\n",
        "distances_title_fake, indices_title_fake = nn_fake.kneighbors(tfidf_matrix_title_fake)\n",
        "\n",
        "#fit on the TF-IDF matrix for text of fake news\n",
        "tfidf_vectorizer_text_fake = TfidfVectorizer(stop_words='english')\n",
        "tfidf_matrix_text_fake = tfidf_vectorizer_text_fake.fit_transform(df_fake['text_cleaned'])\n",
        "\n",
        "nn_fake.fit(tfidf_matrix_text_fake)\n",
        "\n",
        "#find the nearest neighbors and their distances for fake news text\n",
        "distances_text_fake, indices_text_fake = nn_fake.kneighbors(tfidf_matrix_text_fake)\n",
        "\n",
        "print(\"Shape of distances matrix for fake titles:\", distances_title_fake.shape)\n",
        "print(\"Shape of indices matrix for fake titles:\", indices_title_fake.shape)\n",
        "print(\"Shape of distances matrix for fake text:\", distances_text_fake.shape)\n",
        "print(\"Shape of indices matrix for fake text:\", indices_text_fake.shape)"
      ],
      "metadata": {
        "id": "QksFJWfALZZI"
      },
      "execution_count": null,
      "outputs": []
    },
    {
      "cell_type": "code",
      "source": [
        "#identify potential near duplicates in the fake dataset\n",
        "near_duplicates_fake = set()\n",
        "distance_threshold = 0.05 #can adjust this threshold\n",
        "\n",
        "#check for near duplicates based on title similarity within fake data\n",
        "for i in range(len(df_fake)):\n",
        "    for j in range(1, n_neighbors):\n",
        "        if distances_title_fake[i, j] < distance_threshold:\n",
        "            pair = tuple(sorted((i, indices_title_fake[i, j])))\n",
        "            if pair[0] != pair[1]:\n",
        "                near_duplicates_fake.add(pair)\n",
        "\n",
        "#check for near duplicates based on text similarity within fake data\n",
        "for i in range(len(df_fake)):\n",
        "    for j in range(1, n_neighbors):\n",
        "        if distances_text_fake[i, j] < distance_threshold:\n",
        "            pair = tuple(sorted((i, indices_text_fake[i, j])))\n",
        "            if pair[0] != pair[1]:\n",
        "                near_duplicates_fake.add(pair)\n",
        "\n",
        "print(f\"Number of potential near-duplicate pairs found within fake data: {len(near_duplicates_fake)}\")\n",
        "\n",
        "#view some of the identified near duplicates in the fake data\n",
        "print(\"\\nExample near-duplicate pairs within fake data:\")\n",
        "for pair in list(near_duplicates_fake)[:5]:\n",
        "   print(f\"Pair of indices (within fake_df): {pair}\")\n",
        "   display(df_fake.iloc[list(pair)][['title', 'text']])"
      ],
      "metadata": {
        "id": "ks76rZmHLbpK"
      },
      "execution_count": null,
      "outputs": []
    },
    {
      "cell_type": "markdown",
      "source": [
        "### Identify Near Duplicates within True Data"
      ],
      "metadata": {
        "id": "RQtGcEiLLeuQ"
      }
    },
    {
      "cell_type": "code",
      "source": [
        "#use NearestNeighbors to find similar documents for each document based on their TF-IDF vectors...\n",
        "#...from the original combined dataframe, but filtered for true news\n",
        "\n",
        "#find the top 5 nearest neighbors for each document\n",
        "n_neighbors = 5\n",
        "nn_true = NearestNeighbors(n_neighbors=n_neighbors, algorithm='auto', metric='cosine')\n",
        "\n",
        "#fit on the TF-IDF matrix for titles of true news\n",
        "#re-vectorize the true subset\n",
        "tfidf_vectorizer_title_true = TfidfVectorizer(stop_words='english')\n",
        "tfidf_matrix_title_true = tfidf_vectorizer_title_true.fit_transform(df_true['title_cleaned'])\n",
        "\n",
        "nn_true.fit(tfidf_matrix_title_true)\n",
        "\n",
        "#find the nearest neighbors and their distances for true news titles\n",
        "distances_title_true, indices_title_true = nn_true.kneighbors(tfidf_matrix_title_true)\n",
        "\n",
        "#fit on the TF-IDF matrix for text of true news\n",
        "tfidf_vectorizer_text_true = TfidfVectorizer(stop_words='english')\n",
        "tfidf_matrix_text_true = tfidf_vectorizer_text_true.fit_transform(df_true['text_cleaned'])\n",
        "\n",
        "nn_true.fit(tfidf_matrix_text_true)\n",
        "\n",
        "#find the nearest neighbors and their distances for true news text\n",
        "distances_text_true, indices_text_true = nn_true.kneighbors(tfidf_matrix_text_true)\n",
        "\n",
        "print(\"Shape of distances matrix for true titles:\", distances_title_true.shape)\n",
        "print(\"Shape of indices matrix for true titles:\", indices_title_true.shape)\n",
        "print(\"Shape of distances matrix for true text:\", distances_text_true.shape)\n",
        "print(\"Shape of indices matrix for true text:\", indices_text_true.shape)"
      ],
      "metadata": {
        "id": "mKAXsXVwLgmY"
      },
      "execution_count": null,
      "outputs": []
    },
    {
      "cell_type": "code",
      "source": [
        "#identify potential near duplicates in the true dataset\n",
        "near_duplicates_true = set()\n",
        "distance_threshold = 0.05 #try different thresholds and see the outcome. -- can adjust this threshold\n",
        "\n",
        "#check for near duplicates based on title similarity within true data\n",
        "for i in range(len(df_true)):\n",
        "    for j in range(1, n_neighbors):\n",
        "        if distances_title_true[i, j] < distance_threshold:\n",
        "            pair = tuple(sorted((i, indices_title_true[i, j])))\n",
        "            if pair[0] != pair[1]:\n",
        "                near_duplicates_true.add(pair)\n",
        "\n",
        "#check for near duplicates based on text similarity within true data\n",
        "for i in range(len(df_true)):\n",
        "    for j in range(1, n_neighbors):\n",
        "        if distances_text_true[i, j] < distance_threshold:\n",
        "            pair = tuple(sorted((i, indices_text_true[i, j])))\n",
        "            if pair[0] != pair[1]:\n",
        "                near_duplicates_true.add(pair)\n",
        "\n",
        "print(f\"Number of potential near-duplicate pairs found within true data: {len(near_duplicates_true)}\")\n",
        "\n",
        "#view some of the identified near duplicates within true data\n",
        "print(\"\\nExample near-duplicate pairs within true data:\")\n",
        "for pair in list(near_duplicates_true)[:5]:\n",
        "   print(f\"Pair of indices (within true_df): {pair}\")\n",
        "   display(df_true.iloc[list(pair)][['title', 'text']])"
      ],
      "metadata": {
        "id": "xEMsBxBJLiO7"
      },
      "execution_count": null,
      "outputs": []
    },
    {
      "cell_type": "markdown",
      "source": [
        "### Remove Near Duplicates within Fake Data"
      ],
      "metadata": {
        "id": "t9S-EZ9WLk1l"
      }
    },
    {
      "cell_type": "code",
      "source": [
        "#function to identify the indices to drop from near-duplicate pairs\n",
        "def get_indices_to_drop(near_duplicate_pairs):\n",
        "    indices_to_drop = set()\n",
        "    for pair in near_duplicate_pairs:\n",
        "        #for each pair, drop the second index in the sorted tuple\n",
        "        indices_to_drop.add(pair[1])\n",
        "    return list(indices_to_drop)\n",
        "\n",
        "#get the indices to drop from the fake dataframe based on near duplicates\n",
        "indices_to_drop_fake = get_indices_to_drop(near_duplicates_fake)\n",
        "\n",
        "#create a new dataframe for fake data with near duplicates removed\n",
        "df_fake_cleaned = df_fake.drop(df_fake.iloc[indices_to_drop_fake].index)\n",
        "\n",
        "print(f\"Shape of fake DataFrame after removing near duplicates: {df_fake_cleaned.shape}\")"
      ],
      "metadata": {
        "id": "CXrc6x8ILmm0"
      },
      "execution_count": null,
      "outputs": []
    },
    {
      "cell_type": "markdown",
      "source": [
        "### Remove Near Duplicates within True Data"
      ],
      "metadata": {
        "id": "_Bj_5uqeLquV"
      }
    },
    {
      "cell_type": "code",
      "source": [
        "#identify what indices to drop from the true dataframe based on near duplicates\n",
        "indices_to_drop_true = get_indices_to_drop(near_duplicates_true)\n",
        "\n",
        "#create a new dataframe for true data with near duplicates removed\n",
        "df_true_cleaned = df_true.drop(df_true.iloc[indices_to_drop_true].index)\n",
        "\n",
        "print(f\"Shape of true DataFrame after removing near duplicates: {df_true_cleaned.shape}\")"
      ],
      "metadata": {
        "id": "d6KxduCcLtlA"
      },
      "execution_count": null,
      "outputs": []
    },
    {
      "cell_type": "markdown",
      "source": [
        "### Combine Cleaned Fake and True DataFrames"
      ],
      "metadata": {
        "id": "Az6XCZUkLv6j"
      }
    },
    {
      "cell_type": "code",
      "source": [
        "#combine the cleaned fake and true dataframes to get the final cleaned dataframe\n",
        "df_final_cleaned = pd.concat([df_fake_cleaned, df_true_cleaned], ignore_index=True)\n",
        "\n",
        "print(f\"Shape of final cleaned DataFrame: {df_final_cleaned.shape}\")\n",
        "display(df_final_cleaned.head())"
      ],
      "metadata": {
        "id": "GbX60nVCLxlV"
      },
      "execution_count": null,
      "outputs": []
    },
    {
      "cell_type": "code",
      "source": [
        "df_final_cleaned.shape"
      ],
      "metadata": {
        "id": "IxvCf1u5LziQ"
      },
      "execution_count": null,
      "outputs": []
    },
    {
      "cell_type": "markdown",
      "source": [
        "### Feature Extraction: Linguistic Features"
      ],
      "metadata": {
        "id": "-bx8WRcWL1YC"
      }
    },
    {
      "cell_type": "code",
      "source": [
        "import re\n",
        "import string\n",
        "\n",
        "#function to extract linguistic features\n",
        "def extract_linguistic_features(text):\n",
        "    if isinstance(text, str):\n",
        "        #number of sentences\n",
        "        sentences = re.split(r'[.!?]+', text)\n",
        "        num_sentences = len(sentences) if sentences and sentences[0] != '' else 0\n",
        "\n",
        "        #number of words\n",
        "        words = text.split()\n",
        "        num_words = len(words)\n",
        "\n",
        "        #average sentence length (in words)\n",
        "        avg_sentence_length = num_words / num_sentences if num_sentences > 0 else 0\n",
        "\n",
        "        #number of punctuation marks\n",
        "        num_punctuation = sum([1 for char in text if char in string.punctuation])\n",
        "\n",
        "        #average word length\n",
        "        avg_word_length = sum(len(word) for word in words) / num_words if num_words > 0 else 0\n",
        "\n",
        "        return pd.Series([num_sentences, num_words, avg_sentence_length, num_punctuation, avg_word_length])\n",
        "    else:\n",
        "        return pd.Series([0, 0, 0, 0, 0]) # Return 0 for non-string inputs\n",
        "\n",
        "\n",
        "#apply the function to extract features for 'title' and 'text'\n",
        "#create new columns for title features\n",
        "df_final_cleaned[['title_num_sentences', 'title_num_words', 'title_avg_sentence_length', 'title_num_punctuation', 'title_avg_word_length']] = df_final_cleaned['title'].apply(extract_linguistic_features)\n",
        "\n",
        "#create new columns for text features\n",
        "df_final_cleaned[['text_num_sentences', 'text_num_words', 'text_avg_sentence_length', 'text_num_punctuation', 'text_avg_word_length']] = df_final_cleaned['text'].apply(extract_linguistic_features)\n",
        "\n",
        "print(\"DataFrame shape after adding linguistic features:\", df_final_cleaned.shape)\n",
        "display(df_final_cleaned.head())"
      ],
      "metadata": {
        "id": "4UVDH7H1L15q"
      },
      "execution_count": null,
      "outputs": []
    },
    {
      "cell_type": "markdown",
      "source": [
        "### Feature Analysis: Visualizing Linguistic Features"
      ],
      "metadata": {
        "id": "1YZZ1e0OL62o"
      }
    },
    {
      "cell_type": "code",
      "source": [
        "#visualize distributions of linguistic features for 'text'\n",
        "features_to_visualize = ['text_num_sentences', 'text_num_words', 'text_avg_sentence_length',\n",
        "                         'text_num_punctuation', 'text_avg_word_length',\n",
        "                         'text_num_exclamation_points', 'text_num_question_marks', 'text_num_quotes',\n",
        "                         'text_num_all_caps_words', 'text_percentage_capitalized_words', 'text_flesch_reading_ease',\n",
        "                         'text_dale_chall_readability_score', 'text_avg_sentence_length_chars']\n",
        "\n",
        "#filter features_to_visualize to only include columns present in df_final_cleaned\n",
        "available_text_features = [feature for feature in features_to_visualize if feature in df_final_cleaned.columns]\n",
        "\n",
        "plt.figure(figsize=(15, 20)) #figure height to accommodate more plots\n",
        "\n",
        "for i, feature in enumerate(available_text_features):\n",
        "    plt.subplot(5, 3, i + 1) #subplot grid 5x3\n",
        "    sns.histplot(data=df_final_cleaned, x=feature, hue='label', kde=True, palette='tab10')\n",
        "    plt.title(f'Distribution of {feature} by Label')\n",
        "    plt.xlabel(feature)\n",
        "    plt.ylabel('Number of Articles')\n",
        "\n",
        "plt.tight_layout()\n",
        "plt.show()\n",
        "\n",
        "#visualize features for 'title'\n",
        "features_to_visualize_title = ['title_num_sentences', 'title_num_words', 'title_avg_sentence_length',\n",
        "                               'title_num_punctuation', 'title_avg_word_length',\n",
        "                               'title_num_exclamation_points', 'title_num_question_marks', 'title_num_quotes',\n",
        "                               'title_num_all_caps_words', 'title_percentage_capitalized_words', 'title_flesch_reading_ease',\n",
        "                               'title_dale_chall_readability_score', 'title_avg_sentence_length_chars']\n",
        "\n",
        "#filter features_to_visualize_title to only include columns present in df_final_cleaned\n",
        "available_title_features = [feature for feature in features_to_visualize_title if feature in df_final_cleaned.columns]\n",
        "\n",
        "\n",
        "plt.figure(figsize=(15, 20)) #figure height\n",
        "\n",
        "for i, feature in enumerate(available_title_features):\n",
        "    plt.subplot(5, 3, i + 1) #subplot grid 5x3\n",
        "    sns.histplot(data=df_final_cleaned, x=feature, hue='label', kde=True, palette='tab10')\n",
        "    plt.title(f'Distribution of {feature} by Label')\n",
        "    plt.xlabel(feature)\n",
        "    plt.ylabel('Number of Articles')\n",
        "\n",
        "plt.tight_layout()\n",
        "plt.show()"
      ],
      "metadata": {
        "id": "YNpy3virL8Uq"
      },
      "execution_count": null,
      "outputs": []
    },
    {
      "cell_type": "markdown",
      "source": [
        "### Feature Analysis: Descriptive Statistics"
      ],
      "metadata": {
        "id": "ul24GjjDMCBk"
      }
    },
    {
      "cell_type": "code",
      "source": [
        "#get descriptive statistics for linguistic features grouped by label\n",
        "linguistic_features = [\n",
        "    'title_num_sentences', 'title_num_words', 'title_avg_sentence_length', 'title_num_punctuation', 'title_avg_word_length',\n",
        "    'text_num_sentences', 'text_num_words', 'text_avg_sentence_length', 'text_num_punctuation', 'text_avg_word_length'\n",
        "]\n",
        "\n",
        "descriptive_stats = df_final_cleaned.groupby('label')[linguistic_features].describe()\n",
        "\n",
        "print(\"Descriptive statistics of linguistic features by label (0: Fake, 1: True):\")\n",
        "display(descriptive_stats)"
      ],
      "metadata": {
        "id": "fMI7rxdvMDSz"
      },
      "execution_count": null,
      "outputs": []
    },
    {
      "cell_type": "markdown",
      "source": [
        "#NER Analysis"
      ],
      "metadata": {
        "id": "oePT-2iRPreX"
      }
    },
    {
      "cell_type": "code",
      "source": [
        "#Loading small. Overall this cell takes 2-3min to load\n",
        "nlp = spacy.load(\"en_core_web_sm\")\n",
        "\n",
        "#Creating a sample size of the entire dataset\n",
        "df_sample = merged_no_duplicates_df.sample(2000, random_state=42)\n",
        "texts = df_sample[\"text\"].tolist()\n",
        "\n",
        "#Using pipelines to process batches of articles faster\n",
        "docs = list(nlp.pipe(texts, batch_size=100))\n",
        "\n",
        "#Extracting the person and organizations entities\n",
        "df_sample[\"persons\"] = [[ent.text for ent in doc.ents if ent.label_==\"PERSON\"] for doc in docs]\n",
        "df_sample[\"orgs\"] = [[ent.text for ent in doc.ents if ent.label_==\"ORG\"] for doc in docs]\n",
        "\n",
        "#Creating lists of just the person and organizations that appear in each fake and true article\n",
        "fake_persons = [p for persons in df_sample[df_sample[\"label\"]=='FAKE'][\"persons\"] for p in persons]\n",
        "true_persons = [p for persons in df_sample[df_sample[\"label\"]=='TRUE'][\"persons\"] for p in persons]\n",
        "fake_orgs = [o for orgs in df_sample[df_sample[\"label\"]=='FAKE'][\"orgs\"] for o in orgs]\n",
        "true_orgs = [o for orgs in df_sample[df_sample[\"label\"]=='TRUE'][\"orgs\"] for o in orgs]\n",
        "\n",
        "#Getting and Counting the top entities\n",
        "fake_counts = Counter(fake_persons).most_common(10)\n",
        "true_counts = Counter(true_persons).most_common(10)\n",
        "fake_org_counts = Counter(fake_orgs).most_common(10)\n",
        "true_org_counts = Counter(true_orgs).most_common(10)\n",
        "\n",
        "print(\"Fake News Top PERSONs:\", fake_counts)\n",
        "print(\"True News Top PERSONs:\", true_counts)\n",
        "print(\"Fake News Top ORGs:\", fake_org_counts)\n",
        "print(\"True News Top ORGs:\", true_org_counts)"
      ],
      "metadata": {
        "colab": {
          "base_uri": "https://localhost:8080/"
        },
        "id": "4XX8jegzP3OM",
        "outputId": "2a90f5ea-7417-4027-d08a-3a37154a2bd7"
      },
      "execution_count": null,
      "outputs": [
        {
          "output_type": "stream",
          "name": "stdout",
          "text": [
            "Fake News Top PERSONs: [('Trump', 1006), ('Donald Trump', 547), ('Obama', 496), ('Clinton', 284), ('Hillary Clinton', 263), ('Hillary', 205), ('doesn', 130), ('Twitter', 116), ('Donald J. Trump', 78), ('Barack Obama', 72)]\n",
            "True News Top PERSONs: [('Trump', 666), ('Donald Trump', 441), ('Clinton', 337), ('Obama', 273), ('Barack Obama', 162), ('Hillary Clinton', 94), ('Twitter', 91), ('Comey', 73), ('Putin', 71), ('Tillerson', 55)]\n",
            "Fake News Top ORGs: [('Trump', 1341), ('GOP', 209), ('CNN', 176), ('FBI', 173), ('Senate', 136), ('Congress', 122), ('the White House', 109), ('Fox News', 109), ('White House', 91), ('House', 87)]\n",
            "True News Top ORGs: [('Reuters', 1444), ('Trump', 1233), ('Senate', 351), ('Congress', 239), ('EU', 195), ('White House', 168), ('the White House', 167), ('House', 148), ('U.N.', 113), ('State', 80)]\n"
          ]
        }
      ]
    },
    {
      "cell_type": "markdown",
      "source": [
        "NER Visualization"
      ],
      "metadata": {
        "id": "2XA-FJQ9R0Lu"
      }
    },
    {
      "cell_type": "code",
      "source": [
        "#Converting from lists to DF\n",
        "fake_person_df = pd.DataFrame(fake_counts, columns=[\"Entity\", \"Count\"])\n",
        "true_person_df = pd.DataFrame(true_counts, columns=[\"Entity\", \"Count\"])\n",
        "fake_org_df = pd.DataFrame(fake_org_counts, columns=[\"Entity\", \"Count\"])\n",
        "true_org_df = pd.DataFrame(true_org_counts, columns=[\"Entity\", \"Count\"])\n",
        "\n",
        "#Creating bar charts\n",
        "fig, axes = plt.subplots(2, 2, figsize=(14,10))\n",
        "fake_person_df.plot(kind=\"barh\", x=\"Entity\", y=\"Count\", ax=axes[0,0], title=\"Fake News: Top PERSONs\", legend=False)\n",
        "true_person_df.plot(kind=\"barh\", x=\"Entity\", y=\"Count\", ax=axes[0,1], title=\"True News: Top PERSONs\", legend=False)\n",
        "fake_org_df.plot(kind=\"barh\", x=\"Entity\", y=\"Count\", ax=axes[1,0], title=\"Fake News: Top ORGs\", legend=False)\n",
        "true_org_df.plot(kind=\"barh\", x=\"Entity\", y=\"Count\", ax=axes[1,1], title=\"True News: Top ORGs\", legend=False)\n",
        "\n",
        "plt.tight_layout()\n",
        "plt.show()\n",
        "#Shows that an organization feature is really important in telling the difference between fake and true as the entities and the frequency\n",
        "#of this entites are different but with the people entity both fake and true articles contain similar entities and similar counts.\n",
        "#Next steps: Now that article have numeric fetures on entity we can do TF-IDF and then combine that with these features to create our matrix"
      ],
      "metadata": {
        "colab": {
          "base_uri": "https://localhost:8080/",
          "height": 808
        },
        "id": "3qRa3_YGR3Zy",
        "outputId": "7d00e14a-58de-4a77-e34b-2b195e81ffb3"
      },
      "execution_count": null,
      "outputs": [
        {
          "output_type": "display_data",
          "data": {
            "text/plain": [
              "<Figure size 1400x1000 with 4 Axes>"
            ],
            "image/png": "[encoded data removed]"
          },
          "metadata": {}
        }
      ]
    },
    {
      "cell_type": "markdown",
      "source": [
        "# Emotional Words EDA"
      ],
      "metadata": {
        "id": "bpUBsoijmG7R"
      }
    },
    {
      "cell_type": "markdown",
      "source": [
        "Sentiment Analysis Setup"
      ],
      "metadata": {
        "id": "BQ6xU9RSmZ2b"
      }
    },
    {
      "cell_type": "code",
      "source": [
        "# Install and import required libraries\n",
        "!pip install textblob\n",
        "\n",
        "import nltk\n",
        "from textblob import TextBlob\n",
        "\n",
        "# Download required NLTK data\n",
        "nltk.download('vader_lexicon')\n",
        "from nltk.sentiment import SentimentIntensityAnalyzer"
      ],
      "metadata": {
        "colab": {
          "base_uri": "https://localhost:8080/"
        },
        "id": "2LtKRfppmYrL",
        "outputId": "4dfe24c6-b904-4d60-d5fa-332781bdbb23"
      },
      "execution_count": null,
      "outputs": [
        {
          "output_type": "stream",
          "name": "stdout",
          "text": [
            "Requirement already satisfied: textblob in /usr/local/lib/python3.12/dist-packages (0.19.0)\n",
            "Requirement already satisfied: nltk>=3.9 in /usr/local/lib/python3.12/dist-packages (from textblob) (3.9.1)\n",
            "Requirement already satisfied: click in /usr/local/lib/python3.12/dist-packages (from nltk>=3.9->textblob) (8.2.1)\n",
            "Requirement already satisfied: joblib in /usr/local/lib/python3.12/dist-packages (from nltk>=3.9->textblob) (1.5.2)\n",
            "Requirement already satisfied: regex>=2021.8.3 in /usr/local/lib/python3.12/dist-packages (from nltk>=3.9->textblob) (2024.11.6)\n",
            "Requirement already satisfied: tqdm in /usr/local/lib/python3.12/dist-packages (from nltk>=3.9->textblob) (4.67.1)\n"
          ]
        },
        {
          "output_type": "stream",
          "name": "stderr",
          "text": [
            "[nltk_data] Downloading package vader_lexicon to /root/nltk_data...\n",
            "[nltk_data]   Package vader_lexicon is already up-to-date!\n"
          ]
        }
      ]
    },
    {
      "cell_type": "markdown",
      "source": [
        "Create Emotional Features"
      ],
      "metadata": {
        "id": "M3LCzM5mme-y"
      }
    },
    {
      "cell_type": "code",
      "source": [
        "# The SentimentIntensityAnalyzer in NLTK is a powerful tool for performing sentiment analysis,\n",
        "# specifically utilizing the VADER (Valence Aware Dictionary and sEntiment Reasoner) lexicon and rule-based sentiment analysis model.\n",
        "\n",
        "# Initialize sentiment analyzers\n",
        "sia = SentimentIntensityAnalyzer()\n",
        "\n",
        "def analysis_emotions(text):\n",
        "  vader_score = sia.polarity_scores(text)\n",
        "  blob = TextBlob(text)\n",
        "\n",
        "  return{\n",
        "      'vader_compound': vader_score['compound'],            # A standardized score combining all emotions\n",
        "      'vader_positive': vader_score['pos'],                 # the percentage of positive sentiment words in the text\n",
        "      'vader_negative': vader_score['neg'],                 # the percentage of negative sentiment words in the text\n",
        "      'vader_neutral': vader_score['neu'],                  # the percentage of neutral words in the text\n",
        "      'textblob_polarity': blob.sentiment.polarity,         # shows if the text is positive, negative or neutral\n",
        "      'textblob_subjectivity': blob.sentiment.subjectivity  # shows whether the text is more opinion-based or factual\n",
        "  }"
      ],
      "metadata": {
        "id": "p1NuIAw-med_"
      },
      "execution_count": null,
      "outputs": []
    },
    {
      "cell_type": "markdown",
      "source": [
        "Apply to Data Set"
      ],
      "metadata": {
        "id": "XLjXWYKsmkBz"
      }
    },
    {
      "cell_type": "code",
      "source": [
        "# Create emotional features for clean dataset\n",
        "emotion_feature = []\n",
        "\n",
        "for text in merged_no_duplicates_df['text']:\n",
        "  emotion_feature.append(analysis_emotions(text))\n",
        "\n",
        "emotion_df = pd.DataFrame(emotion_feature)\n",
        "emotion_analysis_df = pd.concat([merged_no_duplicates_df.reset_index(drop=True), emotion_df],axis=1)"
      ],
      "metadata": {
        "id": "dEDWu-2emXJB",
        "colab": {
          "base_uri": "https://localhost:8080/",
          "height": 356
        },
        "outputId": "3adce0d4-cfc5-4939-ac31-5ccd6ae096c8"
      },
      "execution_count": null,
      "outputs": [
        {
          "output_type": "error",
          "ename": "KeyboardInterrupt",
          "evalue": "",
          "traceback": [
            "\u001b[0;31m---------------------------------------------------------------------------\u001b[0m",
            "\u001b[0;31mKeyboardInterrupt\u001b[0m                         Traceback (most recent call last)",
            "\u001b[0;32m/tmp/ipython-input-2646076675.py\u001b[0m in \u001b[0;36m<cell line: 0>\u001b[0;34m()\u001b[0m\n\u001b[1;32m      3\u001b[0m \u001b[0;34m\u001b[0m\u001b[0m\n\u001b[1;32m      4\u001b[0m \u001b[0;32mfor\u001b[0m \u001b[0mtext\u001b[0m \u001b[0;32min\u001b[0m \u001b[0mmerged_no_duplicates_df\u001b[0m\u001b[0;34m[\u001b[0m\u001b[0;34m'text'\u001b[0m\u001b[0;34m]\u001b[0m\u001b[0;34m:\u001b[0m\u001b[0;34m\u001b[0m\u001b[0;34m\u001b[0m\u001b[0m\n\u001b[0;32m----> 5\u001b[0;31m   \u001b[0memotion_feature\u001b[0m\u001b[0;34m.\u001b[0m\u001b[0mappend\u001b[0m\u001b[0;34m(\u001b[0m\u001b[0manalysis_emotions\u001b[0m\u001b[0;34m(\u001b[0m\u001b[0mtext\u001b[0m\u001b[0;34m)\u001b[0m\u001b[0;34m)\u001b[0m\u001b[0;34m\u001b[0m\u001b[0;34m\u001b[0m\u001b[0m\n\u001b[0m\u001b[1;32m      6\u001b[0m \u001b[0;34m\u001b[0m\u001b[0m\n\u001b[1;32m      7\u001b[0m \u001b[0memotion_df\u001b[0m \u001b[0;34m=\u001b[0m \u001b[0mpd\u001b[0m\u001b[0;34m.\u001b[0m\u001b[0mDataFrame\u001b[0m\u001b[0;34m(\u001b[0m\u001b[0memotion_feature\u001b[0m\u001b[0;34m)\u001b[0m\u001b[0;34m\u001b[0m\u001b[0;34m\u001b[0m\u001b[0m\n",
            "\u001b[0;32m/tmp/ipython-input-2255116049.py\u001b[0m in \u001b[0;36manalysis_emotions\u001b[0;34m(text)\u001b[0m\n\u001b[1;32m      6\u001b[0m \u001b[0;34m\u001b[0m\u001b[0m\n\u001b[1;32m      7\u001b[0m \u001b[0;32mdef\u001b[0m \u001b[0manalysis_emotions\u001b[0m\u001b[0;34m(\u001b[0m\u001b[0mtext\u001b[0m\u001b[0;34m)\u001b[0m\u001b[0;34m:\u001b[0m\u001b[0;34m\u001b[0m\u001b[0;34m\u001b[0m\u001b[0m\n\u001b[0;32m----> 8\u001b[0;31m   \u001b[0mvader_score\u001b[0m \u001b[0;34m=\u001b[0m \u001b[0msia\u001b[0m\u001b[0;34m.\u001b[0m\u001b[0mpolarity_scores\u001b[0m\u001b[0;34m(\u001b[0m\u001b[0mtext\u001b[0m\u001b[0;34m)\u001b[0m\u001b[0;34m\u001b[0m\u001b[0;34m\u001b[0m\u001b[0m\n\u001b[0m\u001b[1;32m      9\u001b[0m   \u001b[0mblob\u001b[0m \u001b[0;34m=\u001b[0m \u001b[0mTextBlob\u001b[0m\u001b[0;34m(\u001b[0m\u001b[0mtext\u001b[0m\u001b[0;34m)\u001b[0m\u001b[0;34m\u001b[0m\u001b[0;34m\u001b[0m\u001b[0m\n\u001b[1;32m     10\u001b[0m \u001b[0;34m\u001b[0m\u001b[0m\n",
            "\u001b[0;32m/usr/local/lib/python3.12/dist-packages/nltk/sentiment/vader.py\u001b[0m in \u001b[0;36mpolarity_scores\u001b[0;34m(self, text)\u001b[0m\n\u001b[1;32m    364\u001b[0m         \"\"\"\n\u001b[1;32m    365\u001b[0m         \u001b[0;31m# text, words_and_emoticons, is_cap_diff = self.preprocess(text)\u001b[0m\u001b[0;34m\u001b[0m\u001b[0;34m\u001b[0m\u001b[0m\n\u001b[0;32m--> 366\u001b[0;31m         sentitext = SentiText(\n\u001b[0m\u001b[1;32m    367\u001b[0m             \u001b[0mtext\u001b[0m\u001b[0;34m,\u001b[0m \u001b[0mself\u001b[0m\u001b[0;34m.\u001b[0m\u001b[0mconstants\u001b[0m\u001b[0;34m.\u001b[0m\u001b[0mPUNC_LIST\u001b[0m\u001b[0;34m,\u001b[0m \u001b[0mself\u001b[0m\u001b[0;34m.\u001b[0m\u001b[0mconstants\u001b[0m\u001b[0;34m.\u001b[0m\u001b[0mREGEX_REMOVE_PUNCTUATION\u001b[0m\u001b[0;34m\u001b[0m\u001b[0;34m\u001b[0m\u001b[0m\n\u001b[1;32m    368\u001b[0m         )\n",
            "\u001b[0;32m/usr/local/lib/python3.12/dist-packages/nltk/sentiment/vader.py\u001b[0m in \u001b[0;36m__init__\u001b[0;34m(self, text, punc_list, regex_remove_punctuation)\u001b[0m\n\u001b[1;32m    272\u001b[0m         \u001b[0mself\u001b[0m\u001b[0;34m.\u001b[0m\u001b[0mPUNC_LIST\u001b[0m \u001b[0;34m=\u001b[0m \u001b[0mpunc_list\u001b[0m\u001b[0;34m\u001b[0m\u001b[0;34m\u001b[0m\u001b[0m\n\u001b[1;32m    273\u001b[0m         \u001b[0mself\u001b[0m\u001b[0;34m.\u001b[0m\u001b[0mREGEX_REMOVE_PUNCTUATION\u001b[0m \u001b[0;34m=\u001b[0m \u001b[0mregex_remove_punctuation\u001b[0m\u001b[0;34m\u001b[0m\u001b[0;34m\u001b[0m\u001b[0m\n\u001b[0;32m--> 274\u001b[0;31m         \u001b[0mself\u001b[0m\u001b[0;34m.\u001b[0m\u001b[0mwords_and_emoticons\u001b[0m \u001b[0;34m=\u001b[0m \u001b[0mself\u001b[0m\u001b[0;34m.\u001b[0m\u001b[0m_words_and_emoticons\u001b[0m\u001b[0;34m(\u001b[0m\u001b[0;34m)\u001b[0m\u001b[0;34m\u001b[0m\u001b[0;34m\u001b[0m\u001b[0m\n\u001b[0m\u001b[1;32m    275\u001b[0m         \u001b[0;31m# doesn't separate words from\u001b[0m\u001b[0;34m\u001b[0m\u001b[0;34m\u001b[0m\u001b[0m\n\u001b[1;32m    276\u001b[0m         \u001b[0;31m# adjacent punctuation (keeps emoticons & contractions)\u001b[0m\u001b[0;34m\u001b[0m\u001b[0;34m\u001b[0m\u001b[0m\n",
            "\u001b[0;32m/usr/local/lib/python3.12/dist-packages/nltk/sentiment/vader.py\u001b[0m in \u001b[0;36m_words_and_emoticons\u001b[0;34m(self)\u001b[0m\n\u001b[1;32m    304\u001b[0m         \"\"\"\n\u001b[1;32m    305\u001b[0m         \u001b[0mwes\u001b[0m \u001b[0;34m=\u001b[0m \u001b[0mself\u001b[0m\u001b[0;34m.\u001b[0m\u001b[0mtext\u001b[0m\u001b[0;34m.\u001b[0m\u001b[0msplit\u001b[0m\u001b[0;34m(\u001b[0m\u001b[0;34m)\u001b[0m\u001b[0;34m\u001b[0m\u001b[0;34m\u001b[0m\u001b[0m\n\u001b[0;32m--> 306\u001b[0;31m         \u001b[0mwords_punc_dict\u001b[0m \u001b[0;34m=\u001b[0m \u001b[0mself\u001b[0m\u001b[0;34m.\u001b[0m\u001b[0m_words_plus_punc\u001b[0m\u001b[0;34m(\u001b[0m\u001b[0;34m)\u001b[0m\u001b[0;34m\u001b[0m\u001b[0;34m\u001b[0m\u001b[0m\n\u001b[0m\u001b[1;32m    307\u001b[0m         \u001b[0mwes\u001b[0m \u001b[0;34m=\u001b[0m \u001b[0;34m[\u001b[0m\u001b[0mwe\u001b[0m \u001b[0;32mfor\u001b[0m \u001b[0mwe\u001b[0m \u001b[0;32min\u001b[0m \u001b[0mwes\u001b[0m \u001b[0;32mif\u001b[0m \u001b[0mlen\u001b[0m\u001b[0;34m(\u001b[0m\u001b[0mwe\u001b[0m\u001b[0;34m)\u001b[0m \u001b[0;34m>\u001b[0m \u001b[0;36m1\u001b[0m\u001b[0;34m]\u001b[0m\u001b[0;34m\u001b[0m\u001b[0;34m\u001b[0m\u001b[0m\n\u001b[1;32m    308\u001b[0m         \u001b[0;32mfor\u001b[0m \u001b[0mi\u001b[0m\u001b[0;34m,\u001b[0m \u001b[0mwe\u001b[0m \u001b[0;32min\u001b[0m \u001b[0menumerate\u001b[0m\u001b[0;34m(\u001b[0m\u001b[0mwes\u001b[0m\u001b[0;34m)\u001b[0m\u001b[0;34m:\u001b[0m\u001b[0;34m\u001b[0m\u001b[0;34m\u001b[0m\u001b[0m\n",
            "\u001b[0;32m/usr/local/lib/python3.12/dist-packages/nltk/sentiment/vader.py\u001b[0m in \u001b[0;36m_words_plus_punc\u001b[0;34m(self)\u001b[0m\n\u001b[1;32m    292\u001b[0m         \u001b[0;31m# the product gives ('cat', ',') and (',', 'cat')\u001b[0m\u001b[0;34m\u001b[0m\u001b[0;34m\u001b[0m\u001b[0m\n\u001b[1;32m    293\u001b[0m         \u001b[0mpunc_before\u001b[0m \u001b[0;34m=\u001b[0m \u001b[0;34m{\u001b[0m\u001b[0;34m\"\"\u001b[0m\u001b[0;34m.\u001b[0m\u001b[0mjoin\u001b[0m\u001b[0;34m(\u001b[0m\u001b[0mp\u001b[0m\u001b[0;34m)\u001b[0m\u001b[0;34m:\u001b[0m \u001b[0mp\u001b[0m\u001b[0;34m[\u001b[0m\u001b[0;36m1\u001b[0m\u001b[0;34m]\u001b[0m \u001b[0;32mfor\u001b[0m \u001b[0mp\u001b[0m \u001b[0;32min\u001b[0m \u001b[0mproduct\u001b[0m\u001b[0;34m(\u001b[0m\u001b[0mself\u001b[0m\u001b[0;34m.\u001b[0m\u001b[0mPUNC_LIST\u001b[0m\u001b[0;34m,\u001b[0m \u001b[0mwords_only\u001b[0m\u001b[0;34m)\u001b[0m\u001b[0;34m}\u001b[0m\u001b[0;34m\u001b[0m\u001b[0;34m\u001b[0m\u001b[0m\n\u001b[0;32m--> 294\u001b[0;31m         \u001b[0mpunc_after\u001b[0m \u001b[0;34m=\u001b[0m \u001b[0;34m{\u001b[0m\u001b[0;34m\"\"\u001b[0m\u001b[0;34m.\u001b[0m\u001b[0mjoin\u001b[0m\u001b[0;34m(\u001b[0m\u001b[0mp\u001b[0m\u001b[0;34m)\u001b[0m\u001b[0;34m:\u001b[0m \u001b[0mp\u001b[0m\u001b[0;34m[\u001b[0m\u001b[0;36m0\u001b[0m\u001b[0;34m]\u001b[0m \u001b[0;32mfor\u001b[0m \u001b[0mp\u001b[0m \u001b[0;32min\u001b[0m \u001b[0mproduct\u001b[0m\u001b[0;34m(\u001b[0m\u001b[0mwords_only\u001b[0m\u001b[0;34m,\u001b[0m \u001b[0mself\u001b[0m\u001b[0;34m.\u001b[0m\u001b[0mPUNC_LIST\u001b[0m\u001b[0;34m)\u001b[0m\u001b[0;34m}\u001b[0m\u001b[0;34m\u001b[0m\u001b[0;34m\u001b[0m\u001b[0m\n\u001b[0m\u001b[1;32m    295\u001b[0m         \u001b[0mwords_punc_dict\u001b[0m \u001b[0;34m=\u001b[0m \u001b[0mpunc_before\u001b[0m\u001b[0;34m\u001b[0m\u001b[0;34m\u001b[0m\u001b[0m\n\u001b[1;32m    296\u001b[0m         \u001b[0mwords_punc_dict\u001b[0m\u001b[0;34m.\u001b[0m\u001b[0mupdate\u001b[0m\u001b[0;34m(\u001b[0m\u001b[0mpunc_after\u001b[0m\u001b[0;34m)\u001b[0m\u001b[0;34m\u001b[0m\u001b[0;34m\u001b[0m\u001b[0m\n",
            "\u001b[0;31mKeyboardInterrupt\u001b[0m: "
          ]
        }
      ]
    },
    {
      "cell_type": "markdown",
      "source": [
        "Emotional Words Exploratory Analysis"
      ],
      "metadata": {
        "id": "dt_OZVN2moMQ"
      }
    },
    {
      "cell_type": "code",
      "source": [
        "# # Compare emotional patterns between real and fake news\n",
        "print(\"Emotion analysis: \")\n",
        "for feature in ['vader_compound', 'vader_positive', 'vader_negative','vader_neutral', 'textblob_polarity', 'textblob_subjectivity']:\n",
        "  print(f\"\\n{feature}: \")\n",
        "  print(f\"True news mean: {emotion_analysis_df[emotion_analysis_df['label'] == 'TRUE'][feature].mean():.2f}\")\n",
        "  print(f\"Fake news mean: {emotion_analysis_df[emotion_analysis_df['label'] == 'FAKE'][feature].mean():.2f}\")\n",
        "\n",
        "#Emotion analysis:\n",
        "\n",
        "#vader_compound:\n",
        "#True news mean: 0.06\n",
        "#Fake news mean: -0.09\n",
        "#Siying Comment: Fake news tends to be more negative, but True news tend to be more in a positive tone.\n",
        "\n",
        "#vader_positive:\n",
        "#True news mean: 0.08\n",
        "#Fake news mean: 0.09\n",
        "#Siying Comment: Seems like not much disparity in terms of percentage of positive sentiment words\n",
        "\n",
        "#vader_negative:\n",
        "#True news mean: 0.08\n",
        "#Fake news mean: 0.10\n",
        "#Siying Comment: Slight difference in terms of percentage of negative sentiment words, seems like fake news have a higher percentage of negative sentiment words.\n",
        "\n",
        "#vader_neutral:\n",
        "#True news mean: 0.84\n",
        "#Fake news mean: 0.81\n",
        "#Siying Comment: Slight difference in terms of the percentage of neutral words in the text, seems like ture news have a higher percentage of neutral words.\n",
        "\n",
        "#textbolb_polarity:\n",
        "#True news mean: 0.05\n",
        "#Fake news mean: 0.06\n",
        "#Siying Comment: Seems like not much disparity in terms of polarity\n",
        "\n",
        "#textbolb_subjectivity:\n",
        "#True news mean: 0.36\n",
        "#Fake news mean: 0.45\n",
        "#Siying Comment: True news tend to be more objective, while fake news tend to be more subjective."
      ],
      "metadata": {
        "id": "5AVise9imqaz"
      },
      "execution_count": null,
      "outputs": []
    },
    {
      "cell_type": "markdown",
      "source": [
        "Emotion words correlation analysis"
      ],
      "metadata": {
        "id": "UGxmyhosrxBl"
      }
    },
    {
      "cell_type": "code",
      "source": [
        "# Label Ture News as 1, Fake news as 0\n",
        "emotion_analysis_df['label_num'] = (emotion_analysis_df['label'] == 'TRUE').astype(int)\n",
        "\n",
        "correlation = {}\n",
        "emotion_feature = ['vader_compound', 'vader_positive', 'vader_negative', 'vader_neutral', 'textblob_polarity', 'textblob_subjectivity']\n",
        "\n",
        "# Calculate the correlation of each feature\n",
        "for feature in emotion_feature:\n",
        "  corr = emotion_analysis_df[feature].corr(emotion_analysis_df['label_num'])\n",
        "  correlation[feature] = corr\n",
        "  print(f\"{feature}: {corr:.2f}\")\n",
        "\n",
        "# get the list of features that has a correlation > 0.3\n",
        "strong_features = {feature: corr for feature, corr in correlation.items() if abs(corr) > 0.3}\n",
        "print(f\"Strong correlation features(> 0.3 ): {strong_features}\")\n",
        "\n",
        "# Siying Comment:\n",
        "# This emotional EDA turn out to be that instead of being more \"emotional\", fake news tend to be more \"subjective\".\n",
        "# Real news tends to report facts objectively, while fake news contains more opinions and speculations."
      ],
      "metadata": {
        "id": "rdpibnKDryii"
      },
      "execution_count": null,
      "outputs": []
    },
    {
      "cell_type": "markdown",
      "source": [
        "Visual Analysis"
      ],
      "metadata": {
        "id": "8ILzelFfr1TJ"
      }
    },
    {
      "cell_type": "code",
      "source": [
        "# Set up the subplot grid, creates a 2x3 (6 features in total) grid of plots\n",
        "fig, axes = plt.subplots(nrows=2, ncols=3)\n",
        "fig.suptitle('Emotional Features: Real vs Fake News Comparison')\n",
        "\n",
        "# Create individual plots\n",
        "features_plot = emotion_feature\n",
        "for i, feature in enumerate(features_plot):\n",
        "  row = i // 3    # Set rows\n",
        "  col = i % 3     # Set cols\n",
        "\n",
        "  # Create boxplot each feature\n",
        "  sns.boxplot(data=emotion_analysis_df, x ='label', y=feature, ax=axes[row,col])\n",
        "  axes[row,col].set_title(f'{feature}')\n",
        "  axes[row,col].set_xlabel('News Type')\n",
        "\n",
        "plt.tight_layout()\n",
        "plt.show()"
      ],
      "metadata": {
        "id": "22cYMtzYr2TT"
      },
      "execution_count": null,
      "outputs": []
    },
    {
      "cell_type": "markdown",
      "source": [
        "# Source Attribution EDA"
      ],
      "metadata": {
        "id": "Dv5_l0XnPuG_"
      }
    },
    {
      "cell_type": "markdown",
      "source": [
        "Source Attribution Data exploration and understanding"
      ],
      "metadata": {
        "id": "fKUkIUfmPynd"
      }
    },
    {
      "cell_type": "code",
      "source": [
        "print(\"====== Real News Patterns =======\")\n",
        "for i in range(10):\n",
        "  print(f\"Sample {i + 1}: \")\n",
        "  print(merged_no_duplicates_df[merged_no_duplicates_df['label'] == 'TRUE']['text'].iloc[i])\n",
        "  print(\"-\" * 1000)\n",
        "\n",
        "print(\"\\n\\n====== Fake News Patterns ======\")\n",
        "for i in range(10):\n",
        "  print(f\"Sample {i + 1}: \")\n",
        "  print(merged_no_duplicates_df[merged_no_duplicates_df['label'] == 'FAKE']['text'].iloc[i])\n",
        "  print(\"-\" * 1000)\n",
        "\n",
        "# Siying Comment:\n",
        "# According to the observation to the data below, we can see a pattern of true/fake news below:\n",
        "# True News:\n",
        "# - Begins with a standard journalistic dateline (e.g., LOCATION (Reuters), WASHINGTON (Reuters), WEST PALM BEACH, Fla./WASHINGTON (Reuters), etc).\n",
        "# - Features authoritative citations from official bodies (e.g., \"The White House\"(example 6)), named officials with their titles, or references to formal reports.\n",
        "\n",
        "# Fake News:\n",
        "# - Often starts narrating immediately without a location or source tag\n",
        "# - Uses vague language (\"it was revealed\"), cites informal platforms like Twitter(example of source : 3, 4), or uses photos as sources (example of photo: 2,3,7) instead of named, official contacts or documents."
      ],
      "metadata": {
        "id": "4XhKiKdiP0Zw"
      },
      "execution_count": null,
      "outputs": []
    },
    {
      "cell_type": "markdown",
      "source": [
        "Source Attribution Features Explore"
      ],
      "metadata": {
        "id": "Qjf40oPYP674"
      }
    },
    {
      "cell_type": "code",
      "source": [
        "# Authority Media Label Detection\n",
        "authority_patterns = ['(Reuters)', '(CNN)','ABC', '(BBC)', '(FOX)','(Associated Press)' , '(AP)', 'Source link']\n",
        "\n",
        "# Official Citation Patterns\n",
        "official_source_keywords = ['according', 'statement', 'confirm', 'confirmed', 'report', 'reported', 'source', 'sources', 'document', 'documents',\n",
        "                            'record', 'records', 'data', 'study', 'officials', 'spokesman', 'spokesperson']\n",
        "\n",
        "# Social Media Citation Patterns\n",
        "social_media_patterns = ['Twitter', 'tweet', 'Facebook', 'social media', '@', 'pic.twitter.com']"
      ],
      "metadata": {
        "id": "Z65qJ4E7P7Zt"
      },
      "execution_count": null,
      "outputs": []
    },
    {
      "cell_type": "markdown",
      "source": [
        "Source Attribution Feature Extraction"
      ],
      "metadata": {
        "id": "yMcrg9BVP_HP"
      }
    },
    {
      "cell_type": "code",
      "source": [
        "import re\n",
        "\n",
        "def extract_source_attribution_features(text):\n",
        "  text_lower = text.lower()\n",
        "\n",
        "  # Authority Media Label Detection\n",
        "  authority_count = sum(1 for pattern in authority_patterns if pattern in text_lower)\n",
        "\n",
        "  # Official Citation Patterns\n",
        "  official_count = 0\n",
        "  for keyword in official_source_keywords:\n",
        "    # Using \\b ensures that we perform a whole-word match, rather than a partial match.\n",
        "    official_count += len(re.findall(r'\\b' + keyword + r'\\b', text_lower))\n",
        "\n",
        "  # Social Media Citation Patterns\n",
        "  social_count = sum(1 for pattern in social_media_patterns if pattern in text)\n",
        "\n",
        "  word_count = len(text.split())\n",
        "\n",
        "  return {\n",
        "      'Authority media label count': authority_count,\n",
        "      'Official source keywords count': official_count,\n",
        "      'Social media citation count': social_count,\n",
        "      'Authority media label ratio': authority_count / word_count if word_count > 0 else 0,\n",
        "      'Official source keywords ratio': official_count / word_count if word_count > 0 else 0,\n",
        "      'Social media citation ratio': social_count / word_count\n",
        "      #'Attribution score': 'professional_ratio': (authority_count + official_count) / (authority_count + official_count + social_count + 1)\n",
        "  }\n",
        "\n",
        "# Apply extract_source_attribution_features to dataset\n",
        "print(\" ======= Extracting source attribution =======\")\n",
        "source_feature_list = []\n",
        "\n",
        "for text in merged_no_duplicates_df['text']:\n",
        "  features = extract_source_attribution_features(text)\n",
        "  source_feature_list.append(features)\n",
        "\n",
        "source_feature_df = pd.DataFrame(source_feature_list)\n",
        "source_feature_analysis_df = pd.concat([merged_no_duplicates_df.reset_index(drop=True), source_feature_df],axis=1)\n",
        "\n",
        "print(\"Source attribution features extracted!\")\n",
        "print(f\"New dataset shape: {source_feature_analysis_df.shape}\")"
      ],
      "metadata": {
        "id": "2LgFHTjuQAy3"
      },
      "execution_count": null,
      "outputs": []
    },
    {
      "cell_type": "code",
      "source": [
        "num_preview = 10\n",
        "\n",
        "true_news_sample = source_feature_analysis_df[source_feature_analysis_df['label'] == 'TRUE'].sample(n=num_preview)\n",
        "fake_news_sample = source_feature_analysis_df[source_feature_analysis_df['label'] == 'FAKE'].sample(n=num_preview)\n",
        "\n",
        "print(\"====== TRUE NEWS SAMPLE ======\")\n",
        "true_news_sample.head(10)"
      ],
      "metadata": {
        "id": "KfHYNnWVQH6M"
      },
      "execution_count": null,
      "outputs": []
    },
    {
      "cell_type": "code",
      "source": [
        "print(\"====== FAKE NEWS SAMPLE ======\")\n",
        "fake_news_sample.head(10)"
      ],
      "metadata": {
        "id": "M6g8buyVQK5j"
      },
      "execution_count": null,
      "outputs": []
    },
    {
      "cell_type": "code",
      "source": [
        "sns.set(style=\"whitegrid\")\n",
        "plt.figure(figsize=(15, 10))\n",
        "\n",
        "features_to_compare = ['Authority media label count', 'Official source keywords count', 'Social media citation count', 'Authority media label ratio', 'Official source keywords ratio', 'Social media citation ratio']\n",
        "\n",
        "for i, feature in enumerate(features_to_compare, 1):\n",
        "    plt.subplot(2, 3, i)\n",
        "    sns.boxplot(x='label', y=feature, data=source_feature_analysis_df)\n",
        "    plt.title(f'Distribution of {feature} by News Type')\n",
        "    plt.ylabel(feature)\n",
        "    plt.xlabel('News Type')\n",
        "\n",
        "plt.tight_layout()\n",
        "plt.show()"
      ],
      "metadata": {
        "id": "h_pxQwrOQLZ7"
      },
      "execution_count": null,
      "outputs": []
    },
    {
      "cell_type": "markdown",
      "source": [
        "# EDA"
      ],
      "metadata": {
        "id": "Ni9gkAILLllO"
      }
    },
    {
      "cell_type": "code",
      "source": [],
      "metadata": {
        "id": "YZsRocGcLoLm"
      },
      "execution_count": null,
      "outputs": []
    }
  ]
}