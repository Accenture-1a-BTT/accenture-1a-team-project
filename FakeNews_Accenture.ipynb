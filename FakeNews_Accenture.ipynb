{
  "nbformat": 4,
  "nbformat_minor": 0,
  "metadata": {
    "colab": {
      "provenance": [],
      "authorship_tag": "ABX9TyPSnwK1ySeDca3wvVXIJ6HA",
      "include_colab_link": true
    },
    "kernelspec": {
      "name": "python3",
      "display_name": "Python 3"
    },
    "language_info": {
      "name": "python"
    }
  },
  "cells": [
    {
      "cell_type": "markdown",
      "metadata": {
        "id": "view-in-github",
        "colab_type": "text"
      },
      "source": [
        "<a href=\"https://colab.research.google.com/github/Accenture-1a-BTT/accenture-1a-team-project/blob/main/FakeNews_Accenture.ipynb\" target=\"_parent\"><img src=\"https://colab.research.google.com/assets/colab-badge.svg\" alt=\"Open In Colab\"/></a>"
      ]
    },
    {
      "cell_type": "code",
      "execution_count": 1,
      "metadata": {
        "id": "NEivgZd_D95d",
        "colab": {
          "base_uri": "https://localhost:8080/"
        },
        "outputId": "b5cc146f-7d6a-4e21-c94d-56328ff9e75a"
      },
      "outputs": [
        {
          "output_type": "stream",
          "name": "stdout",
          "text": [
            "Hello World! This is Workspace Test!\n"
          ]
        }
      ],
      "source": [
        "print(\"Hello World! This is Workspace Test!\")"
      ]
    },
    {
      "cell_type": "code",
      "source": [],
      "metadata": {
        "id": "O5k5YTGgFRJM"
      },
      "execution_count": null,
      "outputs": []
    }
  ]
}